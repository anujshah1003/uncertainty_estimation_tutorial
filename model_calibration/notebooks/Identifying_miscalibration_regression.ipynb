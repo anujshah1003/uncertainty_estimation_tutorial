{
 "cells": [
  {
   "cell_type": "markdown",
   "id": "4f2fa38b",
   "metadata": {},
   "source": [
    "## calibration Metrics\n",
    "- Reliability Plot\n",
    "- Calibration error\n",
    "    - Expected Calibration Error\n",
    "    - Maximum Calibration Error"
   ]
  },
  {
   "cell_type": "markdown",
   "id": "2c1201ec",
   "metadata": {},
   "source": [
    "## Regression Problems"
   ]
  },
  {
   "cell_type": "code",
   "execution_count": 5,
   "id": "d1b30622",
   "metadata": {},
   "outputs": [],
   "source": [
    "import plotly\n",
    "import plotly.express as px\n",
    "import plotly.graph_objs as go\n",
    "import plotly.figure_factory as ff"
   ]
  },
  {
   "cell_type": "code",
   "execution_count": 4,
   "id": "e93d63f4",
   "metadata": {},
   "outputs": [],
   "source": [
    "import tensorflow as tf\n",
    "import tensorflow.keras.layers as tfkl\n",
    "import numpy as np\n",
    "import matplotlib.pyplot as plt\n",
    "import os"
   ]
  },
  {
   "cell_type": "code",
   "execution_count": null,
   "id": "30208200",
   "metadata": {},
   "outputs": [],
   "source": []
  },
  {
   "cell_type": "code",
   "execution_count": null,
   "id": "1e1b9ffe",
   "metadata": {},
   "outputs": [],
   "source": []
  },
  {
   "cell_type": "code",
   "execution_count": null,
   "id": "6a9545ba",
   "metadata": {},
   "outputs": [],
   "source": []
  },
  {
   "cell_type": "code",
   "execution_count": null,
   "id": "6640fd65",
   "metadata": {},
   "outputs": [],
   "source": [
    "#quantile_mark = lambda x: df.quantile(x, interpolation=\"higher\")\n",
    "quantile_mark = lambda x: df.quantile(x)\n",
    "\n",
    "for m in [0.25,0.5,0.75,1]:\n",
    "    print(quantile_mark(m).values[0])"
   ]
  },
  {
   "cell_type": "code",
   "execution_count": 3,
   "id": "d08bef7d",
   "metadata": {},
   "outputs": [],
   "source": [
    "config={\"num_hidden_layers\":1,\n",
    "        \"hidden_dim\":[100],\n",
    "        \"lr\":0.01\n",
    "    \n",
    "}"
   ]
  },
  {
   "cell_type": "code",
   "execution_count": 4,
   "id": "11adbd51",
   "metadata": {},
   "outputs": [],
   "source": [
    "def MLP():\n",
    "    # define the model\n",
    "    x_input = tfkl.Input(shape=[1,])\n",
    "    dense1 = tfkl.Dense(100, tf.nn.relu)(x_input)\n",
    "    #dense2 = tfkl.Dense(50, activation=tf.nn.relu)(dense1)\n",
    "    # remeber the outout will have two valueeo ne for mean and another for variance\n",
    "    out = tfkl.Dense(1)(dense1)\n",
    "\n",
    "    model = tf.keras.Model(inputs=x_input, outputs=out)\n",
    "    return model"
   ]
  },
  {
   "cell_type": "code",
   "execution_count": 5,
   "id": "b37f2210",
   "metadata": {},
   "outputs": [],
   "source": [
    "def GaussianMLP():\n",
    "    # define the model\n",
    "    x_input = tfkl.Input(shape=[1,])\n",
    "    dense1 = tfkl.Dense(100, tf.nn.relu)(x_input)\n",
    "    #dense2 = tfkl.Dense(50, activation=tf.nn.relu)(dense1)\n",
    "    # remeber the outout will have two valueeo ne for mean and another for variance\n",
    "    out = tfkl.Dense(2)(dense1)\n",
    "\n",
    "    mean, raw_var = tf.split(out, num_or_size_splits=2, axis=1)\n",
    "\n",
    "    #softplus to ensure variance is positive and 1e-6 to ensure variance is not 0\n",
    "    var = tf.math.log(1.0 + tf.exp(raw_var)) + 1e-6\n",
    "\n",
    "    model = tf.keras.Model(inputs=x_input, outputs=[mean, var])\n",
    "    return model"
   ]
  },
  {
   "cell_type": "code",
   "execution_count": 6,
   "id": "50eb1940",
   "metadata": {},
   "outputs": [
    {
     "name": "stdout",
     "output_type": "stream",
     "text": [
      "Model: \"model\"\n",
      "_________________________________________________________________\n",
      " Layer (type)                Output Shape              Param #   \n",
      "=================================================================\n",
      " input_1 (InputLayer)        [(None, 1)]               0         \n",
      "                                                                 \n",
      " dense (Dense)               (None, 100)               200       \n",
      "                                                                 \n",
      " dense_1 (Dense)             (None, 2)                 202       \n",
      "                                                                 \n",
      " tf.split (TFOpLambda)       [(None, 1),               0         \n",
      "                              (None, 1)]                         \n",
      "                                                                 \n",
      " tf.math.exp (TFOpLambda)    (None, 1)                 0         \n",
      "                                                                 \n",
      " tf.__operators__.add (TFOpL  (None, 1)                0         \n",
      " ambda)                                                          \n",
      "                                                                 \n",
      " tf.math.log (TFOpLambda)    (None, 1)                 0         \n",
      "                                                                 \n",
      " tf.__operators__.add_1 (TFO  (None, 1)                0         \n",
      " pLambda)                                                        \n",
      "                                                                 \n",
      "=================================================================\n",
      "Total params: 402\n",
      "Trainable params: 402\n",
      "Non-trainable params: 0\n",
      "_________________________________________________________________\n"
     ]
    }
   ],
   "source": [
    "model = GaussianMLP()\n",
    "model.summary()"
   ]
  },
  {
   "cell_type": "code",
   "execution_count": 14,
   "id": "553a08d2",
   "metadata": {},
   "outputs": [],
   "source": [
    "def get_data(num_data_points=100):\n",
    "    #np.random.seed(7)\n",
    "    sig = 3\n",
    "\n",
    "    n = num_data_points\n",
    "    #np.random.random(size=n) Return random floats in the half-open interval [0.0, 1.0).\n",
    "    x_data = 8 * np.random.random(size=n) - 6\n",
    "    #e = sig * np.random.randn(n)\n",
    "\n",
    "    yfun = lambda x: x**3 + sig * np.random.randn()  #np.random.randn() Return a sample (or samples) from the “standard normal” distribution.\n",
    "    y_data = np.array(list(map(yfun, x_data)))\n",
    "    \n",
    "    return x_data, y_data"
   ]
  },
  {
   "cell_type": "code",
   "execution_count": 15,
   "id": "4a774a59",
   "metadata": {},
   "outputs": [],
   "source": [
    "def plot_data(x_data,y_data):\n",
    "    _x = np.arange(-8, 8, 0.1)\n",
    "    _y = list(map(lambda x: x*x*x, _x))\n",
    "    plt.plot(_x, _y, 'b-', label='true: $y=x^3$')\n",
    "    plt.plot(x_data, y_data, 'ro', label='data points')\n",
    "    plt.xlabel('x')\n",
    "    plt.ylabel('y')\n",
    "    plt.legend()\n",
    "    plt.show()"
   ]
  },
  {
   "cell_type": "code",
   "execution_count": 16,
   "id": "434dafe8",
   "metadata": {},
   "outputs": [
    {
     "data": {
      "text/plain": [
       "((100,), (100,))"
      ]
     },
     "execution_count": 16,
     "metadata": {},
     "output_type": "execute_result"
    }
   ],
   "source": [
    "x_tr, y_tr = get_data(100)\n",
    "x_val, y_val = get_data(30)\n",
    "x_test, y_test = get_data(30)\n",
    "\n",
    "x_tr.shape, y_tr.shape"
   ]
  },
  {
   "cell_type": "code",
   "execution_count": 17,
   "id": "7440aaf4",
   "metadata": {},
   "outputs": [
    {
     "data": {
      "image/png": "[encoded data removed]",
      "text/plain": [
       "<Figure size 640x480 with 1 Axes>"
      ]
     },
     "metadata": {},
     "output_type": "display_data"
    }
   ],
   "source": [
    "plot_data(x_tr,y_tr)"
   ]
  },
  {
   "cell_type": "code",
   "execution_count": 11,
   "id": "fe1538ef",
   "metadata": {},
   "outputs": [
    {
     "data": {
      "image/png": "[encoded data removed]",
      "text/plain": [
       "<Figure size 640x480 with 1 Axes>"
      ]
     },
     "metadata": {},
     "output_type": "display_data"
    }
   ],
   "source": [
    "plot_data(x_val,y_val)"
   ]
  },
  {
   "cell_type": "code",
   "execution_count": 169,
   "id": "ebfa2832",
   "metadata": {},
   "outputs": [],
   "source": [
    "np.random.seed(7)\n",
    "sig = 3\n",
    "\n",
    "n = 100\n",
    "#np.random.random(size=n) Return random floats in the half-open interval [0.0, 1.0).\n",
    "x_data = 8 * np.random.random(size=n) - 6\n",
    "#e = sig * np.random.randn(n)\n",
    "\n",
    "yfun = lambda x: x**3 + sig * np.random.randn()  #np.random.randn() Return a sample (or samples) from the “standard normal” distribution.\n",
    "y_data = np.array(list(map(yfun, x_data)))"
   ]
  },
  {
   "cell_type": "code",
   "execution_count": 19,
   "id": "18446e1a",
   "metadata": {},
   "outputs": [
    {
     "data": {
      "image/png": "[encoded data removed]",
      "text/plain": [
       "<Figure size 640x480 with 1 Axes>"
      ]
     },
     "metadata": {},
     "output_type": "display_data"
    }
   ],
   "source": [
    "# _x and -y are true measure without the noise  e\n",
    "# x_data and y_data are 20 mesuremnets sample that may have certain noise\n",
    "_x = np.arange(-8, 8, 0.1)\n",
    "_y = list(map(lambda x: x*x*x, _x))\n",
    "plt.plot(_x, _y, 'b-', label='true: $y=x^3$')\n",
    "plt.plot(x_tr, y_tr, 'ro', label='data points')\n",
    "#plt.plot(x_val, y_val, 'go', label='data points')\n",
    "plt.plot(x_test, y_test, 'bo', label='data points')\n",
    "\n",
    "plt.xlabel('x')\n",
    "plt.ylabel('y')\n",
    "plt.legend()\n",
    "plt.show()"
   ]
  },
  {
   "cell_type": "code",
   "execution_count": 172,
   "id": "08b14036",
   "metadata": {},
   "outputs": [],
   "source": [
    "def normalize_data(x):\n",
    "    mu = np.mean(x)\n",
    "    std = np.std(x)\n",
    "    return (x-mu)/std, mu, std"
   ]
  },
  {
   "cell_type": "code",
   "execution_count": 173,
   "id": "835bd7b3",
   "metadata": {},
   "outputs": [],
   "source": [
    "x_data_norm, x_mu, x_std = normalize_data(x_data)\n",
    "y_data_norm, y_mu, y_std = normalize_data(y_data)"
   ]
  },
  {
   "cell_type": "code",
   "execution_count": 174,
   "id": "fdeac273",
   "metadata": {},
   "outputs": [],
   "source": [
    "dataset = tf.data.Dataset.from_tensor_slices({\n",
    "    'x': np.array(x_data_norm).astype(np.float32),\n",
    "    'y': np.array(y_data_norm).astype(np.float32)\n",
    "})"
   ]
  },
  {
   "cell_type": "code",
   "execution_count": 175,
   "id": "141f7fe7",
   "metadata": {},
   "outputs": [],
   "source": [
    "dataset = dataset.shuffle(20).batch(5)"
   ]
  },
  {
   "cell_type": "code",
   "execution_count": 176,
   "id": "eed3513d",
   "metadata": {},
   "outputs": [
    {
     "name": "stdout",
     "output_type": "stream",
     "text": [
      "(5,) (5,)\n"
     ]
    }
   ],
   "source": [
    "sample=next(iter(dataset))\n",
    "print(sample['x'].shape,sample['y'].shape)"
   ]
  },
  {
   "cell_type": "code",
   "execution_count": 177,
   "id": "63bf71da",
   "metadata": {},
   "outputs": [],
   "source": [
    "# gradient function\n",
    "def grad_mse(model, inputs, outputs,loss_func):\n",
    "    with tf.GradientTape() as t:\n",
    "        out = model(inputs)\n",
    "        current_loss = loss_func(out, outputs)\n",
    "    grads = t.gradient(current_loss, model.trainable_variables)\n",
    "    \n",
    "    return current_loss, grads"
   ]
  },
  {
   "cell_type": "code",
   "execution_count": 178,
   "id": "33e6c7e7",
   "metadata": {},
   "outputs": [],
   "source": [
    "def train(model,optimizer,loss_func,grad_func,metrics,epochs=10):\n",
    "    #adv_grad tells how to combine the gradient. \"loss_comb\" means add the loss for x and x` and compute gradinet\n",
    "    # \"grad_comb\" means compute the gradient for x and x` and then add the gradients\n",
    "    loss_epoch=[]\n",
    "    for epoch in range(1, epochs+1):\n",
    "        for data in dataset:\n",
    "            x, y = data['x'], data['y']\n",
    "            x = tf.expand_dims(x, 1)\n",
    "            y = tf.expand_dims(y, 1)\n",
    "            with tf.GradientTape() as t:\n",
    "                t.watch(x)\n",
    "                loss_val, grads = grad_func(model, x, y,loss_func)\n",
    "                \n",
    "            optimizer.apply_gradients(zip(grads, model.trainable_variables))\n",
    "            metrics['train/loss'].update_state(loss_val)\n",
    "        loss_epoch.append(metrics['train/loss'].result())\n",
    "        if epoch % 10 == 0:\n",
    "            print('[{}/{}] loss = {:5f}'.format(epoch, epochs, loss_epoch[-1]))\n",
    "    return loss_epoch"
   ]
  },
  {
   "cell_type": "code",
   "execution_count": 179,
   "id": "47467478",
   "metadata": {},
   "outputs": [
    {
     "name": "stdout",
     "output_type": "stream",
     "text": [
      "[10/100] loss = 0.069658\n",
      "[20/100] loss = 0.038698\n",
      "[30/100] loss = 0.027716\n",
      "[40/100] loss = 0.022780\n",
      "[50/100] loss = 0.019483\n",
      "[60/100] loss = 0.017214\n",
      "[70/100] loss = 0.015492\n",
      "[80/100] loss = 0.014208\n",
      "[90/100] loss = 0.013539\n",
      "[100/100] loss = 0.012778\n"
     ]
    }
   ],
   "source": [
    "mlp_mse = MLP() # standard MLP\n",
    "mlp_optimizer = tf.keras.optimizers.Adam(learning_rate=config[\"lr\"])\n",
    "loss_mse = tf.keras.losses.MeanSquaredError()\n",
    "\n",
    "metrics = {'train/loss': tf.keras.metrics.Mean()}\n",
    "\n",
    "#mlp.compile(optimizer=mlp_optimizer,loss=loss_mse)\n",
    "#hist=mlp.fit(np.float(x_data),np.float(y_data),epochs=100)\n",
    "losses=train(mlp_mse,mlp_optimizer,loss_mse,grad_mse,metrics,epochs=100)\n",
    "#return mlp_mse,losses"
   ]
  },
  {
   "cell_type": "code",
   "execution_count": 182,
   "id": "e4f26c2a",
   "metadata": {},
   "outputs": [],
   "source": [
    "def plot_single(model,plot_name='MLP (MSE)'):\n",
    "    _x = np.arange(-8, 8, 0.1)\n",
    "    _y = list(map(lambda x: x*x*x, _x))\n",
    "    plt.plot(_x, _y, 'b-', label='true: $y=x^3$')\n",
    "    plt.plot(x_data, y_data, 'ro', label=\"data points\")\n",
    "    out = model.predict((_x - x_mu)/x_std)\n",
    "    plt.plot(_x, out*y_std+y_mu, label=plot_name, color='grey')\n",
    "\n",
    "    plt.xlabel('x')\n",
    "    plt.ylabel('y')\n",
    "    plt.legend()\n",
    "    plt.show()"
   ]
  },
  {
   "cell_type": "code",
   "execution_count": 183,
   "id": "76c13714",
   "metadata": {},
   "outputs": [
    {
     "name": "stdout",
     "output_type": "stream",
     "text": [
      "5/5 [==============================] - 0s 2ms/step\n"
     ]
    },
    {
     "data": {
      "image/png": "[encoded data removed]",
      "text/plain": [
       "<Figure size 640x480 with 1 Axes>"
      ]
     },
     "metadata": {},
     "output_type": "display_data"
    }
   ],
   "source": [
    "plot_single(mlp_mse,'MLP (MSE)')"
   ]
  },
  {
   "cell_type": "code",
   "execution_count": 184,
   "id": "05807740",
   "metadata": {},
   "outputs": [],
   "source": [
    "y_pred = mlp_mse(x_data)"
   ]
  },
  {
   "cell_type": "code",
   "execution_count": 185,
   "id": "f2a6158c",
   "metadata": {},
   "outputs": [],
   "source": [
    "import pandas as pd\n",
    "df = pd.DataFrame(y_data)\n"
   ]
  },
  {
   "cell_type": "code",
   "execution_count": 186,
   "id": "ae2aa55c",
   "metadata": {},
   "outputs": [
    {
     "data": {
      "text/html": [
       "<div>\n",
       "<style scoped>\n",
       "    .dataframe tbody tr th:only-of-type {\n",
       "        vertical-align: middle;\n",
       "    }\n",
       "\n",
       "    .dataframe tbody tr th {\n",
       "        vertical-align: top;\n",
       "    }\n",
       "\n",
       "    .dataframe thead th {\n",
       "        text-align: right;\n",
       "    }\n",
       "</style>\n",
       "<table border=\"1\" class=\"dataframe\">\n",
       "  <thead>\n",
       "    <tr style=\"text-align: right;\">\n",
       "      <th></th>\n",
       "      <th>0</th>\n",
       "    </tr>\n",
       "  </thead>\n",
       "  <tbody>\n",
       "    <tr>\n",
       "      <th>0</th>\n",
       "      <td>-157.138262</td>\n",
       "    </tr>\n",
       "    <tr>\n",
       "      <th>1</th>\n",
       "      <td>-1.758597</td>\n",
       "    </tr>\n",
       "    <tr>\n",
       "      <th>2</th>\n",
       "      <td>-16.388145</td>\n",
       "    </tr>\n",
       "    <tr>\n",
       "      <th>3</th>\n",
       "      <td>3.881090</td>\n",
       "    </tr>\n",
       "    <tr>\n",
       "      <th>4</th>\n",
       "      <td>10.656306</td>\n",
       "    </tr>\n",
       "    <tr>\n",
       "      <th>...</th>\n",
       "      <td>...</td>\n",
       "    </tr>\n",
       "    <tr>\n",
       "      <th>95</th>\n",
       "      <td>-8.563831</td>\n",
       "    </tr>\n",
       "    <tr>\n",
       "      <th>96</th>\n",
       "      <td>-1.382903</td>\n",
       "    </tr>\n",
       "    <tr>\n",
       "      <th>97</th>\n",
       "      <td>1.138162</td>\n",
       "    </tr>\n",
       "    <tr>\n",
       "      <th>98</th>\n",
       "      <td>-111.274748</td>\n",
       "    </tr>\n",
       "    <tr>\n",
       "      <th>99</th>\n",
       "      <td>3.268917</td>\n",
       "    </tr>\n",
       "  </tbody>\n",
       "</table>\n",
       "<p>100 rows × 1 columns</p>\n",
       "</div>"
      ],
      "text/plain": [
       "             0\n",
       "0  -157.138262\n",
       "1    -1.758597\n",
       "2   -16.388145\n",
       "3     3.881090\n",
       "4    10.656306\n",
       "..         ...\n",
       "95   -8.563831\n",
       "96   -1.382903\n",
       "97    1.138162\n",
       "98 -111.274748\n",
       "99    3.268917\n",
       "\n",
       "[100 rows x 1 columns]"
      ]
     },
     "execution_count": 186,
     "metadata": {},
     "output_type": "execute_result"
    }
   ],
   "source": [
    "df"
   ]
  },
  {
   "cell_type": "code",
   "execution_count": 187,
   "id": "b6016d9b",
   "metadata": {},
   "outputs": [
    {
     "name": "stdout",
     "output_type": "stream",
     "text": [
      "-45.33778811668212\n",
      "-8.518881931207947\n",
      "0.5985181633987153\n",
      "10.656305722646952\n"
     ]
    }
   ],
   "source": [
    "#quantile_mark = lambda x: df.quantile(x, interpolation=\"higher\")\n",
    "quantile_mark = lambda x: df.quantile(x)\n",
    "\n",
    "for m in [0.25,0.5,0.75,1]:\n",
    "    print(quantile_mark(m).values[0])"
   ]
  },
  {
   "cell_type": "code",
   "execution_count": 188,
   "id": "13159f34",
   "metadata": {},
   "outputs": [
    {
     "data": {
      "text/plain": [
       "array([0. , 0.1, 0.2, 0.3, 0.4, 0.5, 0.6, 0.7, 0.8, 0.9, 1. ])"
      ]
     },
     "execution_count": 188,
     "metadata": {},
     "output_type": "execute_result"
    }
   ],
   "source": [
    "num_bins=10\n",
    "\n",
    "bin_size = 1.0 / num_bins\n",
    "bins = np.linspace(0.0, 1.0, num_bins + 1)\n",
    "#indices = np.digitize(pred, bins, right=True)\n",
    "bins"
   ]
  },
  {
   "cell_type": "code",
   "execution_count": 189,
   "id": "e8cd503a",
   "metadata": {},
   "outputs": [],
   "source": [
    "bin_accuracies = np.zeros(num_bins, dtype=float)\n",
    "bin_confidences = np.zeros(num_bins, dtype=float)\n",
    "bin_counts_pred = np.zeros(num_bins, dtype=int)\n",
    "bin_counts_gt = np.zeros(num_bins, dtype=int)"
   ]
  },
  {
   "cell_type": "code",
   "execution_count": 190,
   "id": "f121717f",
   "metadata": {},
   "outputs": [
    {
     "name": "stdout",
     "output_type": "stream",
     "text": [
      "0.0 -213.65\n",
      "0.1 -116.683\n",
      "0.2 -54.737\n",
      "0.3 -28.161\n",
      "0.4 -15.286\n",
      "0.5 -8.519\n",
      "0.6 -3.033\n",
      "0.7 -0.82\n",
      "0.8 0.878\n",
      "0.9 2.913\n",
      "1.0 10.656\n"
     ]
    }
   ],
   "source": [
    "percentile_dict = {}\n",
    "for conf in bins:\n",
    "    key=np.round(conf,1)\n",
    "    val=np.round(quantile_mark(conf).values[0],3)\n",
    "    print(key,val)\n",
    "    percentile_dict[key]=val"
   ]
  },
  {
   "cell_type": "code",
   "execution_count": 191,
   "id": "6ff5fc9a",
   "metadata": {},
   "outputs": [],
   "source": [
    "for b in range(num_bins):\n",
    "    key=np.round(bins[b+1],1)\n",
    "    percentile_val_high = percentile_dict[key]\n",
    "    if b==0:\n",
    "        selected_gt = [x for x in y_data if x <=percentile_val_high]\n",
    "        selected_pred = [x for x in y_pred if x <=percentile_val_high]\n",
    "\n",
    "    else:\n",
    "        key=np.round(bins[b],1)\n",
    "        percentile_val_low = percentile_dict[key]\n",
    "        selected_gt = [x for x in y_data if x <=percentile_val_high and x>percentile_val_low]\n",
    "        selected_pred = [x for x in y_pred if x <=percentile_val_high and x>percentile_val_low]\n",
    "\n",
    "    #selected = np.where(indices == b + 1)[0]\n",
    "    if len(selected_pred) > 0:\n",
    "        bin_accuracies[b] = len(selected_gt)/len(y_pred)\n",
    "        bin_confidences[b] =  len(selected_pred)/len(y_pred)\n",
    "        bin_counts_pred[b] = len(selected_pred)\n",
    "    if len(selected_gt) > 0:\n",
    "        bin_counts_gt[b] = len(selected_gt)"
   ]
  },
  {
   "cell_type": "code",
   "execution_count": 192,
   "id": "f4b47a03",
   "metadata": {},
   "outputs": [
    {
     "data": {
      "text/plain": [
       "array([0. , 0. , 0. , 0.1, 0.1, 0.1, 0.1, 0.1, 0. , 0. ])"
      ]
     },
     "execution_count": 192,
     "metadata": {},
     "output_type": "execute_result"
    }
   ],
   "source": [
    "bin_accuracies"
   ]
  },
  {
   "cell_type": "code",
   "execution_count": 193,
   "id": "95e0edb2",
   "metadata": {},
   "outputs": [
    {
     "data": {
      "text/plain": [
       "array([0.  , 0.  , 0.  , 0.06, 0.2 , 0.27, 0.09, 0.38, 0.  , 0.  ])"
      ]
     },
     "execution_count": 193,
     "metadata": {},
     "output_type": "execute_result"
    }
   ],
   "source": [
    "bin_confidences"
   ]
  },
  {
   "cell_type": "code",
   "execution_count": 194,
   "id": "77b5a128",
   "metadata": {},
   "outputs": [
    {
     "data": {
      "text/plain": [
       "array([10, 10, 10, 10, 10, 10, 10, 10, 10,  9])"
      ]
     },
     "execution_count": 194,
     "metadata": {},
     "output_type": "execute_result"
    }
   ],
   "source": [
    "bin_counts_gt"
   ]
  },
  {
   "cell_type": "code",
   "execution_count": 195,
   "id": "58cbadea",
   "metadata": {},
   "outputs": [
    {
     "data": {
      "text/plain": [
       "array([ 0,  0,  0,  6, 20, 27,  9, 38,  0,  0])"
      ]
     },
     "execution_count": 195,
     "metadata": {},
     "output_type": "execute_result"
    }
   ],
   "source": [
    "bin_counts_pred"
   ]
  },
  {
   "cell_type": "code",
   "execution_count": 196,
   "id": "c5f35e67",
   "metadata": {},
   "outputs": [],
   "source": [
    "#bin_counts_cdf = [bin_counts_gt[0]]\n",
    "for i in range(1,len(bin_counts_gt)):\n",
    "    bin_counts_gt[i] = bin_counts_gt[i]+bin_counts_gt[i-1]"
   ]
  },
  {
   "cell_type": "code",
   "execution_count": 198,
   "id": "36beee41",
   "metadata": {},
   "outputs": [],
   "source": [
    "for i in range(1,len(bin_counts_pred)):\n",
    "    bin_counts_pred[i] = bin_counts_pred[i]+bin_counts_pred[i-1]"
   ]
  },
  {
   "cell_type": "code",
   "execution_count": 199,
   "id": "4e8ad001",
   "metadata": {},
   "outputs": [
    {
     "data": {
      "text/plain": [
       "(array([10, 20, 30, 40, 50, 60, 70, 80, 90, 99]),\n",
       " array([  0,   0,   0,   6,  26,  53,  62, 100, 100, 100]))"
      ]
     },
     "execution_count": 199,
     "metadata": {},
     "output_type": "execute_result"
    }
   ],
   "source": [
    "bin_counts_gt, bin_counts_pred"
   ]
  },
  {
   "cell_type": "code",
   "execution_count": 31,
   "id": "c38d7a00",
   "metadata": {},
   "outputs": [],
   "source": [
    "#bin_counts_gt = np.array([2,4,6,8,10,12,14,16,18,20])\n",
    "#bin_counts_pred = np.array([0,0,1,6,13,13,14,19,20,20])"
   ]
  },
  {
   "cell_type": "code",
   "execution_count": 32,
   "id": "96082cc3",
   "metadata": {},
   "outputs": [],
   "source": [
    "# avg_acc = np.sum(bin_accuracies * bin_counts) / np.sum(bin_counts)\n",
    "# avg_conf = np.sum(bin_confidences * bin_counts) / np.sum(bin_counts)\n",
    "\n",
    "# gaps = np.abs(bin_accuracies - bin_confidences)\n",
    "# ece = np.sum(gaps * bin_counts) / np.sum(bin_counts)\n",
    "# mce = np.max(gaps)"
   ]
  },
  {
   "cell_type": "code",
   "execution_count": 200,
   "id": "a161b4cd",
   "metadata": {},
   "outputs": [
    {
     "data": {
      "image/png": "[encoded data removed]",
      "text/plain": [
       "<Figure size 640x480 with 1 Axes>"
      ]
     },
     "metadata": {},
     "output_type": "display_data"
    }
   ],
   "source": [
    "plt.figure()\n",
    "plt.plot([0,1], [0,1], '--', color='tab:gray', label = 'ideal')\n",
    "plt.plot(bin_counts_pred/n,bin_counts_gt/n, '-o', color='tab:purple', label='aleatoric')\n",
    "plt.xlabel('Predicted Cumulative Distribution')\n",
    "plt.ylabel('Empirical cumulative distribution')\n",
    "plt.legend()\n",
    "plt.title('Calibration Plot')\n",
    "plt.show()"
   ]
  },
  {
   "cell_type": "code",
   "execution_count": null,
   "id": "3c06878d",
   "metadata": {},
   "outputs": [],
   "source": []
  },
  {
   "cell_type": "code",
   "execution_count": 201,
   "id": "7c0f4d7d",
   "metadata": {},
   "outputs": [],
   "source": [
    "def nll(mean_values, var_values, y):\n",
    "    y_diff = tf.math.subtract(y, mean_values)\n",
    "    return 0.5*tf.reduce_mean(tf.math.log(var_values)) \\\n",
    "            + 0.5*tf.reduce_mean(tf.divide(tf.square(y_diff), var_values)) \\\n",
    "            + 0.5*tf.math.log(2*np.pi)"
   ]
  },
  {
   "cell_type": "code",
   "execution_count": 202,
   "id": "53f01d91",
   "metadata": {},
   "outputs": [],
   "source": [
    "# gradient function\n",
    "def grad_gaussian(model, inputs, outputs,loss_func):\n",
    "    with tf.GradientTape() as t:\n",
    "        mean_values, var_values = model(inputs)\n",
    "        current_loss = loss_func(mean_values, var_values, outputs)\n",
    "    grads = t.gradient(current_loss, model.trainable_variables)\n",
    "    \n",
    "    return current_loss, grads"
   ]
  },
  {
   "cell_type": "code",
   "execution_count": 204,
   "id": "aed9deca",
   "metadata": {},
   "outputs": [
    {
     "name": "stdout",
     "output_type": "stream",
     "text": [
      "[10/200] loss = -0.208038\n",
      "[20/200] loss = -0.592325\n",
      "[30/200] loss = -0.762800\n",
      "[40/200] loss = -0.870904\n",
      "[50/200] loss = -0.921540\n",
      "[60/200] loss = -0.958566\n",
      "[70/200] loss = -0.977992\n",
      "[80/200] loss = -1.014454\n",
      "[90/200] loss = -1.035290\n",
      "[100/200] loss = -1.039755\n",
      "[110/200] loss = -1.003808\n",
      "[120/200] loss = -1.022498\n",
      "[130/200] loss = -1.033631\n",
      "[140/200] loss = -1.050126\n",
      "[150/200] loss = -1.068960\n",
      "[160/200] loss = -1.079483\n",
      "[170/200] loss = -1.090407\n",
      "[180/200] loss = -1.102754\n",
      "[190/200] loss = -1.114003\n",
      "[200/200] loss = -1.124671\n"
     ]
    }
   ],
   "source": [
    "#def train_mlp_gaussian(config,adv_train=False,total_grads=\"loss_comb\",epochs=200):\n",
    "\n",
    "mlp_gauss = GaussianMLP() # standard MLP\n",
    "mlp_optimizer = tf.keras.optimizers.Adam(learning_rate=config[\"lr\"])\n",
    "\n",
    "metrics = {'train/loss': tf.keras.metrics.Mean()}\n",
    "\n",
    "#mlp.compile(optimizer=mlp_optimizer,loss=loss_mse)\n",
    "#hist=mlp.fit(np.float(x_data),np.float(y_data),epochs=100)\n",
    "#losses=train(mlp,e_adv_xnorm,mlp_optimizer,nll,grad_gaussian,metrics,adv_train=adv_train,total_grads=total_grads,epochs=epochs)\n",
    "losses=train(mlp_gauss,mlp_optimizer,nll,grad_gaussian,metrics,epochs=200)\n",
    "\n",
    "#return mlp,losses"
   ]
  },
  {
   "cell_type": "code",
   "execution_count": 205,
   "id": "1aedbbff",
   "metadata": {},
   "outputs": [],
   "source": [
    "def plot_single(mlp_gauss,plot_name=\"'MLP_Gauss (NLL)'\"):\n",
    "    _x = np.arange(-8, 8, 0.1)\n",
    "    _y = list(map(lambda x: x*x*x, _x))\n",
    "    plt.plot(_x, _y, 'b-', label='true')\n",
    "    plt.plot(x_data, y_data, 'ro', label='measure')\n",
    "\n",
    "\n",
    "    mu,var = mlp_gauss.predict((_x - x_mu)/x_std)\n",
    "\n",
    "    upper_y = np.squeeze((mu + 3*np.sqrt(var))*y_std + y_mu)\n",
    "    lower_y = np.squeeze((mu - 3*np.sqrt(var))*y_std + y_mu)\n",
    "\n",
    "    plt.plot(_x, mu*y_std+y_mu, label='mean: '+plot_name, color='grey')\n",
    "    plt.fill_between(_x, lower_y, upper_y, color='gray', alpha=0.3, label='3*std: '+plot_name)\n",
    "    \n",
    "    plt.xlabel('x')\n",
    "    plt.ylabel('y')\n",
    "    plt.legend()\n",
    "    plt.show()"
   ]
  },
  {
   "cell_type": "code",
   "execution_count": 206,
   "id": "32e24e00",
   "metadata": {},
   "outputs": [
    {
     "name": "stdout",
     "output_type": "stream",
     "text": [
      "5/5 [==============================] - 0s 0s/step\n"
     ]
    },
    {
     "data": {
      "image/png": "[encoded data removed]",
      "text/plain": [
       "<Figure size 640x480 with 1 Axes>"
      ]
     },
     "metadata": {},
     "output_type": "display_data"
    }
   ],
   "source": [
    "plot_single(mlp_gauss,plot_name=\"'MLP_Gauss (NLL)'\")"
   ]
  },
  {
   "cell_type": "code",
   "execution_count": 110,
   "id": "80dbf818",
   "metadata": {},
   "outputs": [
    {
     "name": "stdout",
     "output_type": "stream",
     "text": [
      "4/4 [==============================] - 0s 1ms/step\n"
     ]
    },
    {
     "data": {
      "image/png": "[encoded data removed]",
      "text/plain": [
       "<Figure size 640x480 with 1 Axes>"
      ]
     },
     "metadata": {},
     "output_type": "display_data"
    }
   ],
   "source": [
    "plot_single(mlp_gauss,plot_name=\"'MLP_Gauss (NLL)'\")"
   ]
  },
  {
   "cell_type": "code",
   "execution_count": 207,
   "id": "446399c9",
   "metadata": {},
   "outputs": [],
   "source": [
    "y_pred_mu,y_pred_var = mlp_gauss(x_data)\n",
    "y_pred_sigma = np.sqrt(y_pred_var)"
   ]
  },
  {
   "cell_type": "code",
   "execution_count": 208,
   "id": "4d9f872f",
   "metadata": {},
   "outputs": [],
   "source": [
    "n_intervals = 100\n",
    "p_m = np.linspace(0,1,n_intervals)\n",
    "emp_conf = [0]*n_intervals\n",
    "for i in range(n_intervals):\n",
    "    interval_fit = np.less_equal(np.abs(y_pred_mu[:,0]-y_data), np.abs(y_pred_sigma[:,0]*stats.norm.ppf((1-p_m[i])/2)))\n",
    "    emp_conf[i] = np.mean(interval_fit,axis=0)"
   ]
  },
  {
   "cell_type": "code",
   "execution_count": 209,
   "id": "ac05cfe3",
   "metadata": {},
   "outputs": [
    {
     "data": {
      "text/plain": [
       "[0.0,\n",
       " 0.0,\n",
       " 0.0,\n",
       " 0.0,\n",
       " 0.0,\n",
       " 0.0,\n",
       " 0.0,\n",
       " 0.0,\n",
       " 0.0,\n",
       " 0.0,\n",
       " 0.0,\n",
       " 0.0,\n",
       " 0.01,\n",
       " 0.01,\n",
       " 0.01,\n",
       " 0.01,\n",
       " 0.01,\n",
       " 0.01,\n",
       " 0.01,\n",
       " 0.01,\n",
       " 0.01,\n",
       " 0.01,\n",
       " 0.01,\n",
       " 0.02,\n",
       " 0.02,\n",
       " 0.02,\n",
       " 0.02,\n",
       " 0.02,\n",
       " 0.03,\n",
       " 0.03,\n",
       " 0.03,\n",
       " 0.03,\n",
       " 0.03,\n",
       " 0.03,\n",
       " 0.03,\n",
       " 0.03,\n",
       " 0.03,\n",
       " 0.03,\n",
       " 0.03,\n",
       " 0.03,\n",
       " 0.03,\n",
       " 0.03,\n",
       " 0.03,\n",
       " 0.03,\n",
       " 0.03,\n",
       " 0.03,\n",
       " 0.03,\n",
       " 0.03,\n",
       " 0.03,\n",
       " 0.03,\n",
       " 0.03,\n",
       " 0.03,\n",
       " 0.03,\n",
       " 0.03,\n",
       " 0.03,\n",
       " 0.03,\n",
       " 0.03,\n",
       " 0.03,\n",
       " 0.03,\n",
       " 0.03,\n",
       " 0.03,\n",
       " 0.03,\n",
       " 0.03,\n",
       " 0.03,\n",
       " 0.03,\n",
       " 0.03,\n",
       " 0.03,\n",
       " 0.03,\n",
       " 0.03,\n",
       " 0.03,\n",
       " 0.03,\n",
       " 0.03,\n",
       " 0.03,\n",
       " 0.03,\n",
       " 0.03,\n",
       " 0.04,\n",
       " 0.04,\n",
       " 0.04,\n",
       " 0.04,\n",
       " 0.04,\n",
       " 0.04,\n",
       " 0.04,\n",
       " 0.04,\n",
       " 0.04,\n",
       " 0.04,\n",
       " 0.04,\n",
       " 0.04,\n",
       " 0.04,\n",
       " 0.04,\n",
       " 0.04,\n",
       " 0.04,\n",
       " 0.04,\n",
       " 0.04,\n",
       " 0.04,\n",
       " 0.04,\n",
       " 0.04,\n",
       " 0.04,\n",
       " 0.04,\n",
       " 0.04,\n",
       " 1.0]"
      ]
     },
     "execution_count": 209,
     "metadata": {},
     "output_type": "execute_result"
    }
   ],
   "source": [
    "emp_conf"
   ]
  },
  {
   "cell_type": "code",
   "execution_count": 210,
   "id": "5bf363cf",
   "metadata": {},
   "outputs": [
    {
     "data": {
      "image/png": "[encoded data removed]",
      "text/plain": [
       "<Figure size 640x480 with 1 Axes>"
      ]
     },
     "metadata": {},
     "output_type": "display_data"
    }
   ],
   "source": [
    "plt.figure()\n",
    "plt.plot([0,1], [0,1], '--', color='tab:gray', label = 'ideal')\n",
    "plt.plot(p_m, emp_conf, '-o', color='tab:purple', label='aleatoric')\n",
    "plt.xlabel('Predicted confidence')\n",
    "plt.ylabel('Empirical confidence')\n",
    "plt.legend()\n",
    "plt.title('Calibration Plot')\n",
    "plt.show()"
   ]
  },
  {
   "cell_type": "code",
   "execution_count": 211,
   "id": "c9dcedf0",
   "metadata": {},
   "outputs": [
    {
     "data": {
      "text/html": [
       "<style>#sk-container-id-1 {color: black;background-color: white;}#sk-container-id-1 pre{padding: 0;}#sk-container-id-1 div.sk-toggleable {background-color: white;}#sk-container-id-1 label.sk-toggleable__label {cursor: pointer;display: block;width: 100%;margin-bottom: 0;padding: 0.3em;box-sizing: border-box;text-align: center;}#sk-container-id-1 label.sk-toggleable__label-arrow:before {content: \"▸\";float: left;margin-right: 0.25em;color: #696969;}#sk-container-id-1 label.sk-toggleable__label-arrow:hover:before {color: black;}#sk-container-id-1 div.sk-estimator:hover label.sk-toggleable__label-arrow:before {color: black;}#sk-container-id-1 div.sk-toggleable__content {max-height: 0;max-width: 0;overflow: hidden;text-align: left;background-color: #f0f8ff;}#sk-container-id-1 div.sk-toggleable__content pre {margin: 0.2em;color: black;border-radius: 0.25em;background-color: #f0f8ff;}#sk-container-id-1 input.sk-toggleable__control:checked~div.sk-toggleable__content {max-height: 200px;max-width: 100%;overflow: auto;}#sk-container-id-1 input.sk-toggleable__control:checked~label.sk-toggleable__label-arrow:before {content: \"▾\";}#sk-container-id-1 div.sk-estimator input.sk-toggleable__control:checked~label.sk-toggleable__label {background-color: #d4ebff;}#sk-container-id-1 div.sk-label input.sk-toggleable__control:checked~label.sk-toggleable__label {background-color: #d4ebff;}#sk-container-id-1 input.sk-hidden--visually {border: 0;clip: rect(1px 1px 1px 1px);clip: rect(1px, 1px, 1px, 1px);height: 1px;margin: -1px;overflow: hidden;padding: 0;position: absolute;width: 1px;}#sk-container-id-1 div.sk-estimator {font-family: monospace;background-color: #f0f8ff;border: 1px dotted black;border-radius: 0.25em;box-sizing: border-box;margin-bottom: 0.5em;}#sk-container-id-1 div.sk-estimator:hover {background-color: #d4ebff;}#sk-container-id-1 div.sk-parallel-item::after {content: \"\";width: 100%;border-bottom: 1px solid gray;flex-grow: 1;}#sk-container-id-1 div.sk-label:hover label.sk-toggleable__label {background-color: #d4ebff;}#sk-container-id-1 div.sk-serial::before {content: \"\";position: absolute;border-left: 1px solid gray;box-sizing: border-box;top: 0;bottom: 0;left: 50%;z-index: 0;}#sk-container-id-1 div.sk-serial {display: flex;flex-direction: column;align-items: center;background-color: white;padding-right: 0.2em;padding-left: 0.2em;position: relative;}#sk-container-id-1 div.sk-item {position: relative;z-index: 1;}#sk-container-id-1 div.sk-parallel {display: flex;align-items: stretch;justify-content: center;background-color: white;position: relative;}#sk-container-id-1 div.sk-item::before, #sk-container-id-1 div.sk-parallel-item::before {content: \"\";position: absolute;border-left: 1px solid gray;box-sizing: border-box;top: 0;bottom: 0;left: 50%;z-index: -1;}#sk-container-id-1 div.sk-parallel-item {display: flex;flex-direction: column;z-index: 1;position: relative;background-color: white;}#sk-container-id-1 div.sk-parallel-item:first-child::after {align-self: flex-end;width: 50%;}#sk-container-id-1 div.sk-parallel-item:last-child::after {align-self: flex-start;width: 50%;}#sk-container-id-1 div.sk-parallel-item:only-child::after {width: 0;}#sk-container-id-1 div.sk-dashed-wrapped {border: 1px dashed gray;margin: 0 0.4em 0.5em 0.4em;box-sizing: border-box;padding-bottom: 0.4em;background-color: white;}#sk-container-id-1 div.sk-label label {font-family: monospace;font-weight: bold;display: inline-block;line-height: 1.2em;}#sk-container-id-1 div.sk-label-container {text-align: center;}#sk-container-id-1 div.sk-container {/* jupyter's `normalize.less` sets `[hidden] { display: none; }` but bootstrap.min.css set `[hidden] { display: none !important; }` so we also need the `!important` here to be able to override the default hidden behavior on the sphinx rendered scikit-learn.org. See: https://github.com/scikit-learn/scikit-learn/issues/21755 */display: inline-block !important;position: relative;}#sk-container-id-1 div.sk-text-repr-fallback {display: none;}</style><div id=\"sk-container-id-1\" class=\"sk-top-container\"><div class=\"sk-text-repr-fallback\"><pre>IsotonicRegression(out_of_bounds=&#x27;clip&#x27;)</pre><b>In a Jupyter environment, please rerun this cell to show the HTML representation or trust the notebook. <br />On GitHub, the HTML representation is unable to render, please try loading this page with nbviewer.org.</b></div><div class=\"sk-container\" hidden><div class=\"sk-item\"><div class=\"sk-estimator sk-toggleable\"><input class=\"sk-toggleable__control sk-hidden--visually\" id=\"sk-estimator-id-1\" type=\"checkbox\" checked><label for=\"sk-estimator-id-1\" class=\"sk-toggleable__label sk-toggleable__label-arrow\">IsotonicRegression</label><div class=\"sk-toggleable__content\"><pre>IsotonicRegression(out_of_bounds=&#x27;clip&#x27;)</pre></div></div></div></div></div>"
      ],
      "text/plain": [
       "IsotonicRegression(out_of_bounds='clip')"
      ]
     },
     "execution_count": 211,
     "metadata": {},
     "output_type": "execute_result"
    }
   ],
   "source": [
    "from sklearn.isotonic import IsotonicRegression\n",
    "\n",
    "isotonic = IsotonicRegression(out_of_bounds='clip')\n",
    "isotonic.fit(emp_conf,p_m)"
   ]
  },
  {
   "cell_type": "code",
   "execution_count": 220,
   "id": "bb14762d",
   "metadata": {},
   "outputs": [],
   "source": [
    "y_pred_sigma_cal = isotonic.predict(y_pred_sigma)"
   ]
  },
  {
   "cell_type": "code",
   "execution_count": 222,
   "id": "80e810e8",
   "metadata": {},
   "outputs": [],
   "source": [
    "emp_conf_cl = [0]*n_intervals\n",
    "for i in range(n_intervals):\n",
    "    interval_fit = np.less_equal(np.abs(y_pred_mu[:,0]-y_data), np.abs(y_pred_sigma_cal*stats.norm.ppf((1-p_m[i])/2)))\n",
    "    emp_conf_cl[i] = np.mean(interval_fit,axis=0)"
   ]
  },
  {
   "cell_type": "code",
   "execution_count": 223,
   "id": "210d81e1",
   "metadata": {},
   "outputs": [
    {
     "data": {
      "image/png": "[encoded data removed]",
      "text/plain": [
       "<Figure size 640x480 with 1 Axes>"
      ]
     },
     "metadata": {},
     "output_type": "display_data"
    }
   ],
   "source": [
    "plt.figure()\n",
    "plt.plot([0,1], [0,1], '--', color='tab:gray', label = 'ideal')\n",
    "plt.plot(p_m, emp_conf, '-o', color='tab:purple', label='aleatoric')\n",
    "plt.plot(p_m, emp_conf_cl, '-o', color='tab:red', label='aleatoric_cl')\n",
    "\n",
    "plt.xlabel('Predicted confidence')\n",
    "plt.ylabel('Empirical confidence')\n",
    "plt.legend()\n",
    "plt.title('Calibration Plot')\n",
    "plt.show()"
   ]
  },
  {
   "cell_type": "code",
   "execution_count": 213,
   "id": "9e43c8f8",
   "metadata": {},
   "outputs": [
    {
     "name": "stdout",
     "output_type": "stream",
     "text": [
      "[0.025, 0.975]\n",
      "-16.007872581481934 0.6372580662369728\n",
      "-5.1683120727539045 0.6479546860791743\n",
      "[0.05, 0.95]\n",
      "-15.315887117385865 0.6303443878889083\n",
      "0.5813466397424539 0.6457624109461905\n",
      "[0.07500000000000001, 0.925]\n",
      "-14.297887444496155 0.6146729528903961\n",
      "0.5825336879740158 0.6435701358132064\n",
      "[0.1, 0.9]\n",
      "-13.535694885253907 0.6040859997272492\n",
      "0.5867162104696035 0.641944820061326\n",
      "[0.125, 0.875]\n",
      "-12.585138320922852 0.5813276469707489\n",
      "0.5913702428030471 0.6403634925372899\n",
      "[0.15, 0.85]\n",
      "-11.458673095703125 0.5568992733955381\n",
      "0.5960242751364905 0.6387821650132537\n",
      "[0.17500000000000002, 0.825]\n",
      "-10.528541088104246 0.5485899955034256\n",
      "0.5985625265166163 0.6377939633093774\n",
      "[0.2, 0.8]\n",
      "-9.6892822265625 0.5302718997001648\n",
      "0.6005451182524363 0.6369055397808552\n",
      "[0.225, 0.775]\n",
      "-8.965086984634398 0.49833537787199056\n",
      "0.6025277099882563 0.6360171162523329\n",
      "[0.25, 0.75]\n",
      "-8.68904995918274 0.45054303109645844\n",
      "0.6054340014234185 0.6351622951527436\n",
      "[0.275, 0.725]\n",
      "-7.774955928325653 0.32471114993095385\n",
      "0.608699509408325 0.6343167318652073\n",
      "[0.30000000000000004, 0.7]\n",
      "-7.121354722976684 0.19913302361965154\n",
      "0.6119650173932313 0.633471168577671\n",
      "[0.32500000000000007, 0.6749999999999999]\n",
      "-6.628011584281918 0.05390467084944215\n",
      "0.6134136347100139 0.6325242198072374\n",
      "[0.35000000000000003, 0.6499999999999999]\n",
      "-5.830031490325927 -0.09471520707011294\n",
      "0.6138752990712723 0.6315362611785531\n",
      "[0.37500000000000006, 0.625]\n",
      "-5.462718844413755 -0.5624830648303032\n",
      "0.6143369634325305 0.6305483025498688\n",
      "[0.4, 0.6]\n",
      "-4.827409076690674 -1.3879285097122198\n",
      "0.614578440785408 0.6293415948748589\n",
      "[0.42500000000000004, 0.575]\n",
      "-4.582972574234009 -2.384906601905824\n",
      "0.614657836034894 0.6280118408612907\n",
      "[0.45000000000000007, 0.5499999999999999]\n",
      "-4.402769827842712 -2.786667728424072\n",
      "0.61473723128438 0.6266820868477225\n",
      "[0.47500000000000003, 0.5249999999999999]\n",
      "-4.116325998306274 -3.405990827083588\n",
      "0.6166356070898473 0.6240125743982693\n"
     ]
    }
   ],
   "source": [
    "conf_level_lower_bounds = np.arange(start=0.025, stop=0.5, step=0.025)\n",
    "conf_levels = 1-2*conf_level_lower_bounds\n",
    "\n",
    "unc_pcts = []\n",
    "cal_pcts = []\n",
    "for cl_lower in conf_level_lower_bounds:\n",
    "    quants = [cl_lower, 1-cl_lower]\n",
    "    print(quants)\n",
    "    #post_pred_test, new_quantiles = self.predict(X_test, y_test, quants)\n",
    "    new_quantiles = isotonic.transform(quants)\n",
    "    cal_lower, cal_upper = np.quantile(y_pred, new_quantiles) #, axis=1)\n",
    "    unc_lower, unc_upper = np.quantile(y_pred, quants)\n",
    "    print(unc_lower, unc_upper)\n",
    "    print(cal_lower, cal_upper)\n",
    "    perc_within_unc = np.mean((y_data <= unc_upper)&(y_data >= unc_lower))\n",
    "    perc_within_cal = np.mean((y_data <= cal_upper)&(y_data >= cal_lower))\n",
    "\n",
    "    unc_pcts.append(perc_within_unc)\n",
    "    cal_pcts.append(perc_within_cal)"
   ]
  },
  {
   "cell_type": "code",
   "execution_count": 214,
   "id": "57e5d77c",
   "metadata": {},
   "outputs": [
    {
     "data": {
      "text/plain": [
       "(<tf.Tensor: shape=(100, 1), dtype=float32, numpy=\n",
       " array([[-1.5190415e+01],\n",
       "        [ 5.3319138e-01],\n",
       "        [-5.1683121e+00],\n",
       "        [ 3.5562429e-01],\n",
       "        [ 6.5014696e-01],\n",
       "        [-2.3550911e+00],\n",
       "        [-3.4051213e+00],\n",
       "        [-1.5307480e+01],\n",
       "        [-9.9101610e+00],\n",
       "        [-3.4399014e+00],\n",
       "        [ 5.8964431e-02],\n",
       "        [ 5.5341494e-01],\n",
       "        [-6.7859116e+00],\n",
       "        [-1.5475625e+01],\n",
       "        [-9.3668442e+00],\n",
       "        [ 6.1477661e-01],\n",
       "        [-1.1423491e+01],\n",
       "        [-4.7823434e+00],\n",
       "        [ 6.2610763e-01],\n",
       "        [-1.6604061e+01],\n",
       "        [-1.0144422e+00],\n",
       "        [ 6.3582522e-01],\n",
       "        [-1.0958651e+01],\n",
       "        [-2.0757601e+00],\n",
       "        [ 6.1453271e-01],\n",
       "        [-1.3627335e+01],\n",
       "        [-2.7788429e+00],\n",
       "        [ 4.7003758e-01],\n",
       "        [-1.2524575e-02],\n",
       "        [-4.3425555e+00],\n",
       "        [-1.1658041e+01],\n",
       "        [-3.6960244e+00],\n",
       "        [-7.0265923e+00],\n",
       "        [-4.0714951e+00],\n",
       "        [-7.2089939e+00],\n",
       "        [ 5.7664382e-01],\n",
       "        [ 5.0906903e-01],\n",
       "        [-8.6535788e+00],\n",
       "        [-1.5384365e+00],\n",
       "        [-9.7006302e+00],\n",
       "        [-4.7621102e+00],\n",
       "        [-7.5703349e+00],\n",
       "        [-1.5883945e-01],\n",
       "        [-7.0837951e+00],\n",
       "        [-4.5862174e+00],\n",
       "        [ 3.2785261e-01],\n",
       "        [-5.8836260e+00],\n",
       "        [ 6.1311448e-01],\n",
       "        [-1.2328404e+01],\n",
       "        [ 4.5015335e-01],\n",
       "        [-5.6195855e+00],\n",
       "        [-5.5047770e+00],\n",
       "        [-4.9791747e-01],\n",
       "        [-2.7930698e+00],\n",
       "        [-5.8303204e+00],\n",
       "        [-1.7249500e+01],\n",
       "        [-1.4751713e+01],\n",
       "        [ 2.6125968e-01],\n",
       "        [-2.7526312e+00],\n",
       "        [ 1.7250732e-01],\n",
       "        [ 6.3855445e-01],\n",
       "        [ 8.3669916e-02],\n",
       "        [-1.5827808e+01],\n",
       "        [-8.7954636e+00],\n",
       "        [-1.1621665e+00],\n",
       "        [-1.0826280e+01],\n",
       "        [ 6.4341229e-01],\n",
       "        [ 6.3322765e-01],\n",
       "        [ 5.8269513e-01],\n",
       "        [-4.2141342e+00],\n",
       "        [ 5.7904851e-01],\n",
       "        [-1.3683888e+01],\n",
       "        [-8.7987480e+00],\n",
       "        [-4.4763651e+00],\n",
       "        [ 4.5171207e-01],\n",
       "        [-3.8348274e+00],\n",
       "        [-1.3525513e+01],\n",
       "        [-7.8343620e+00],\n",
       "        [-8.3651867e+00],\n",
       "        [-9.0281811e+00],\n",
       "        [-1.2739179e+01],\n",
       "        [-5.8298759e+00],\n",
       "        [-4.8950076e+00],\n",
       "        [ 5.2245116e-01],\n",
       "        [ 5.4842013e-01],\n",
       "        [-2.8075681e+00],\n",
       "        [-4.5429530e+00],\n",
       "        [ 5.2954203e-01],\n",
       "        [ 6.0308284e-01],\n",
       "        [ 3.0051515e-02],\n",
       "        [ 5.5119902e-01],\n",
       "        [ 6.3019264e-01],\n",
       "        [-1.6170788e+01],\n",
       "        [ 5.9699231e-01],\n",
       "        [-9.6864452e+00],\n",
       "        [-4.1174755e+00],\n",
       "        [ 5.4867178e-01],\n",
       "        [ 3.1389058e-01],\n",
       "        [-1.3243357e+01],\n",
       "        [-1.3897170e-01]], dtype=float32)>,\n",
       " array([0.05555556, 0.93860366, 0.05555556, 0.91524941, 0.95398608,\n",
       "        0.05555556, 0.05555556, 0.05555556, 0.05555556, 0.05555556,\n",
       "        0.87623164, 0.94126354, 0.05555556, 0.05555556, 0.05555556,\n",
       "        0.94933405, 0.05555556, 0.05555556, 0.95082434, 0.05555556,\n",
       "        0.05555556, 0.95210243, 0.05555556, 0.05555556, 0.94930197,\n",
       "        0.05555556, 0.05555556, 0.93029745, 0.05555556, 0.05555556,\n",
       "        0.05555556, 0.05555556, 0.05555556, 0.05555556, 0.05555556,\n",
       "        0.94431868, 0.93543101, 0.05555556, 0.05555556, 0.05555556,\n",
       "        0.05555556, 0.05555556, 0.05555556, 0.05555556, 0.05555556,\n",
       "        0.91159678, 0.05555556, 0.94911544, 0.05555556, 0.92768221,\n",
       "        0.05555556, 0.05555556, 0.05555556, 0.05555556, 0.05555556,\n",
       "        0.05555556, 0.05555556, 0.90283824, 0.05555556, 0.89116521,\n",
       "        0.95246139, 0.879481  , 0.05555556, 0.05555556, 0.05555556,\n",
       "        0.05555556, 0.95310031, 0.95176079, 0.94511457, 0.05555556,\n",
       "        0.94463496, 0.05555556, 0.05555556, 0.05555556, 0.92788721,\n",
       "        0.05555556, 0.05555556, 0.05555556, 0.05555556, 0.05555556,\n",
       "        0.05555556, 0.05555556, 0.05555556, 0.93719107, 0.9406066 ,\n",
       "        0.05555556, 0.05555556, 0.93812369, 0.94779604, 0.51699875,\n",
       "        0.94097209, 0.95136162, 0.05555556, 0.94699499, 0.05555556,\n",
       "        0.05555556, 0.9406397 , 0.90976044, 0.05555556, 0.05555556]))"
      ]
     },
     "execution_count": 214,
     "metadata": {},
     "output_type": "execute_result"
    }
   ],
   "source": [
    "y_pred,isotonic.predict(y_pred)"
   ]
  },
  {
   "cell_type": "code",
   "execution_count": 215,
   "id": "227e5caa",
   "metadata": {},
   "outputs": [
    {
     "name": "stdout",
     "output_type": "stream",
     "text": [
      "Expected Calibration Error ece uncalibrated=-0.27894736842105256\n",
      "Expected Calibration Error ece calibrated=-0.48052631578947363\n"
     ]
    },
    {
     "data": {
      "image/png": "[encoded data removed]",
      "text/plain": [
       "<Figure size 640x480 with 1 Axes>"
      ]
     },
     "metadata": {},
     "output_type": "display_data"
    }
   ],
   "source": [
    "fig,ax=plt.subplots(1,1)\n",
    "ax.plot([0,1],[0,1],'--', color='grey')\n",
    "ax.plot(conf_levels, unc_pcts, '-o', color='purple', label='uncalibrated')\n",
    "ax.plot(conf_levels, cal_pcts, '-o', color='red', label='calibrated')\n",
    "ax.legend(fontsize=14)\n",
    "ax.set_title('Diagnostic Plot', fontsize=17)\n",
    "ax.set_xlabel('Predicted Confidence Level', fontsize=17)\n",
    "ax.set_ylabel('Observed Confidence Level', fontsize=17)\n",
    "ece_unc = np.mean((unc_pcts-conf_levels))\n",
    "ece_cal = np.mean((cal_pcts-conf_levels))\n",
    "\n",
    "print(\"Expected Calibration Error ece uncalibrated={}\".format(ece_unc))\n",
    "print(\"Expected Calibration Error ece calibrated={}\".format(ece_cal))"
   ]
  },
  {
   "cell_type": "code",
   "execution_count": 107,
   "id": "e9d9ceea",
   "metadata": {},
   "outputs": [
    {
     "data": {
      "image/png": "[encoded data removed]",
      "text/plain": [
       "<Figure size 640x480 with 1 Axes>"
      ]
     },
     "metadata": {},
     "output_type": "display_data"
    }
   ],
   "source": [
    "plt.figure()\n",
    "plt.plot([0,1], [0,1], '--', color='tab:gray', label = 'ideal')\n",
    "plt.plot(p_m, emp_conf, '-o', color='tab:purple', label='aleatoric')\n",
    "plt.xlabel('Predicted confidence')\n",
    "plt.ylabel('Empirical confidence')\n",
    "plt.legend()\n",
    "plt.title('Calibration Plot')\n",
    "plt.show()"
   ]
  },
  {
   "cell_type": "code",
   "execution_count": 90,
   "id": "99f3d2ba",
   "metadata": {},
   "outputs": [
    {
     "data": {
      "text/plain": [
       "array([[0.2264003 ],\n",
       "       [0.07866342],\n",
       "       [0.00790476],\n",
       "       [0.04316002],\n",
       "       [0.25249693],\n",
       "       [0.00939026],\n",
       "       [0.00856578],\n",
       "       [0.23022306],\n",
       "       [0.04629514],\n",
       "       [0.00854332],\n",
       "       [0.02605207],\n",
       "       [0.09840957],\n",
       "       [0.01124794],\n",
       "       [0.23563232],\n",
       "       [0.03620959],\n",
       "       [0.19715643],\n",
       "       [0.08766346],\n",
       "       [0.00781627],\n",
       "       [0.21574299],\n",
       "       [0.2696192 ]], dtype=float32)"
      ]
     },
     "execution_count": 90,
     "metadata": {},
     "output_type": "execute_result"
    }
   ],
   "source": [
    " np.abs(y_pred_sigma*stats.norm.ppf((1-p_m[10])/2))"
   ]
  },
  {
   "cell_type": "code",
   "execution_count": 153,
   "id": "88a78552",
   "metadata": {},
   "outputs": [],
   "source": [
    "std_normal = tfp.distributions.Normal(loc=0, scale=1)\n",
    "alpha = np.arange(start=1, stop=0, step=-0.01)\n",
    "confidence_level = 1-alpha\n",
    "std_quantile_multiplier = std_normal.quantile(alpha/2)*(-1)"
   ]
  },
  {
   "cell_type": "code",
   "execution_count": 152,
   "id": "3b9e05e5",
   "metadata": {},
   "outputs": [],
   "source": [
    "#confidence_level"
   ]
  },
  {
   "cell_type": "code",
   "execution_count": 154,
   "id": "cf77ff31",
   "metadata": {},
   "outputs": [],
   "source": [
    "#p_m"
   ]
  },
  {
   "cell_type": "code",
   "execution_count": 155,
   "id": "5406bca4",
   "metadata": {},
   "outputs": [],
   "source": [
    "#std_quantile_multiplier"
   ]
  },
  {
   "cell_type": "code",
   "execution_count": 156,
   "id": "67f3df7c",
   "metadata": {},
   "outputs": [],
   "source": [
    "conf=[]\n",
    "for a in alpha:\n",
    "    std_quantile_multiplier = std_normal.quantile(a/2)*(-1)\n",
    "    t_predicted_residual = y_pred_sigma[:,0]*std_quantile_multiplier\n",
    "    t_residual = tf.math.abs(y_pred_mu[:,0]-y_data)\n",
    "    t_interval_fit = tf.math.less_equal(t_residual, t_predicted_residual)\n",
    "    conf.append(np.mean(t_interval_fit))\n",
    "\n"
   ]
  },
  {
   "cell_type": "code",
   "execution_count": 157,
   "id": "285b670f",
   "metadata": {},
   "outputs": [
    {
     "data": {
      "text/plain": [
       "[0.0,\n",
       " 0.0,\n",
       " 0.0,\n",
       " 0.0,\n",
       " 0.0,\n",
       " 0.0,\n",
       " 0.0,\n",
       " 0.0,\n",
       " 0.0,\n",
       " 0.0,\n",
       " 0.0,\n",
       " 0.0,\n",
       " 0.0,\n",
       " 0.0,\n",
       " 0.0,\n",
       " 0.0,\n",
       " 0.0,\n",
       " 0.0,\n",
       " 0.0,\n",
       " 0.0,\n",
       " 0.0,\n",
       " 0.0,\n",
       " 0.0,\n",
       " 0.0,\n",
       " 0.0,\n",
       " 0.0,\n",
       " 0.0,\n",
       " 0.0,\n",
       " 0.0,\n",
       " 0.0,\n",
       " 0.0,\n",
       " 0.0,\n",
       " 0.0,\n",
       " 0.0,\n",
       " 0.0,\n",
       " 0.0,\n",
       " 0.0,\n",
       " 0.0,\n",
       " 0.0,\n",
       " 0.0,\n",
       " 0.0,\n",
       " 0.0,\n",
       " 0.0,\n",
       " 0.0,\n",
       " 0.0,\n",
       " 0.0,\n",
       " 0.0,\n",
       " 0.0,\n",
       " 0.0,\n",
       " 0.0,\n",
       " 0.0,\n",
       " 0.0,\n",
       " 0.0,\n",
       " 0.0,\n",
       " 0.0,\n",
       " 0.0,\n",
       " 0.0,\n",
       " 0.0,\n",
       " 0.0,\n",
       " 0.0,\n",
       " 0.0,\n",
       " 0.0,\n",
       " 0.0,\n",
       " 0.0,\n",
       " 0.0,\n",
       " 0.0,\n",
       " 0.0,\n",
       " 0.0,\n",
       " 0.0,\n",
       " 0.0,\n",
       " 0.0,\n",
       " 0.0,\n",
       " 0.0,\n",
       " 0.0,\n",
       " 0.0,\n",
       " 0.0,\n",
       " 0.0,\n",
       " 0.0,\n",
       " 0.0,\n",
       " 0.0,\n",
       " 0.0,\n",
       " 0.0,\n",
       " 0.0,\n",
       " 0.0,\n",
       " 0.05,\n",
       " 0.05,\n",
       " 0.05,\n",
       " 0.05,\n",
       " 0.05,\n",
       " 0.05,\n",
       " 0.05,\n",
       " 0.05,\n",
       " 0.05,\n",
       " 0.05,\n",
       " 0.05,\n",
       " 0.05,\n",
       " 0.05,\n",
       " 0.05,\n",
       " 0.05,\n",
       " 0.05]"
      ]
     },
     "execution_count": 157,
     "metadata": {},
     "output_type": "execute_result"
    }
   ],
   "source": [
    "conf\n"
   ]
  },
  {
   "cell_type": "code",
   "execution_count": 158,
   "id": "7d6e62fc",
   "metadata": {},
   "outputs": [
    {
     "data": {
      "image/png": "[encoded data removed]",
      "text/plain": [
       "<Figure size 640x480 with 1 Axes>"
      ]
     },
     "metadata": {},
     "output_type": "display_data"
    }
   ],
   "source": [
    "plt.figure()\n",
    "plt.plot([0,1], [0,1], '--', color='tab:gray', label = 'ideal')\n",
    "plt.plot(confidence_level, conf, '-o', color='tab:purple', label='aleatoric')\n",
    "plt.xlabel('Predicted confidence')\n",
    "plt.ylabel('Empirical confidence')\n",
    "plt.legend()\n",
    "plt.title('Calibration Plot')\n",
    "plt.show()"
   ]
  },
  {
   "cell_type": "code",
   "execution_count": 131,
   "id": "e11ee40f",
   "metadata": {},
   "outputs": [
    {
     "data": {
      "text/plain": [
       "array([[1.9651387 ],\n",
       "       [0.66417956],\n",
       "       [0.05536018],\n",
       "       [0.349104  ],\n",
       "       [2.043639  ],\n",
       "       [0.06594507],\n",
       "       [0.05977489],\n",
       "       [1.9968622 ],\n",
       "       [0.3617244 ],\n",
       "       [0.0595868 ],\n",
       "       [0.20164064],\n",
       "       [0.8327629 ],\n",
       "       [0.07691196],\n",
       "       [2.0416925 ],\n",
       "       [0.2722216 ],\n",
       "       [1.6203946 ],\n",
       "       [0.745061  ],\n",
       "       [0.05368711],\n",
       "       [1.7619785 ],\n",
       "       [2.3183272 ]], dtype=float32)"
      ]
     },
     "execution_count": 131,
     "metadata": {},
     "output_type": "execute_result"
    }
   ],
   "source": [
    "y_pred_sigma"
   ]
  },
  {
   "cell_type": "code",
   "execution_count": 132,
   "id": "42140df1",
   "metadata": {},
   "outputs": [
    {
     "data": {
      "text/plain": [
       "<tf.Tensor: shape=(20, 20), dtype=float32, numpy=\n",
       "array([[-0.00000000e+00,  1.23227552e-01,  2.46942028e-01,\n",
       "         3.71643841e-01,  4.97862190e-01,  6.26170516e-01,\n",
       "         7.57208169e-01,  8.91705692e-01,  1.03051960e+00,\n",
       "         1.17468143e+00,  1.32546604e+00,  1.48449528e+00,\n",
       "         1.65390241e+00,  1.83659756e+00,  2.03673553e+00,\n",
       "         2.26059628e+00,  2.51842666e+00,  2.82887864e+00,\n",
       "         3.23236537e+00,  3.85160089e+00],\n",
       "       [-0.00000000e+00,  4.16485742e-02,  8.34617168e-02,\n",
       "         1.25608563e-01,  1.68267965e-01,  2.11633757e-01,\n",
       "         2.55921990e-01,  3.01379591e-01,  3.48296076e-01,\n",
       "         3.97020042e-01,  4.47982341e-01,  5.01731217e-01,\n",
       "         5.58987617e-01,  6.20735109e-01,  6.88377917e-01,\n",
       "         7.64038622e-01,  8.51180375e-01,  9.56107259e-01,\n",
       "         1.09247816e+00,  1.30176795e+00],\n",
       "       [-0.00000000e+00,  3.47145926e-03,  6.95663551e-03,\n",
       "         1.04696266e-02,  1.40253399e-02,  1.76399313e-02,\n",
       "         2.13314090e-02,  2.51203571e-02,  2.90309023e-02,\n",
       "         3.30921039e-02,  3.73398736e-02,  4.18199077e-02,\n",
       "         4.65922989e-02,  5.17390259e-02,  5.73771372e-02,\n",
       "         6.36835471e-02,  7.09469244e-02,  7.96927065e-02,\n",
       "         9.10593867e-02,  1.08503945e-01],\n",
       "       [-0.00000000e+00,  2.18911935e-02,  4.38688882e-02,\n",
       "         6.60219789e-02,  8.84444788e-02,  1.11238271e-01,\n",
       "         1.34516925e-01,  1.58410206e-01,  1.83070302e-01,\n",
       "         2.08680421e-01,  2.35467076e-01,  2.63718396e-01,\n",
       "         2.93813318e-01,  3.26268852e-01,  3.61823052e-01,\n",
       "         4.01591599e-01,  4.47394758e-01,  5.02546132e-01,\n",
       "         5.74224949e-01,  6.84231222e-01],\n",
       "       [-0.00000000e+00,  1.28150061e-01,  2.56806463e-01,\n",
       "         3.86489689e-01,  5.17750025e-01,  6.51183844e-01,\n",
       "         7.87455976e-01,  9.27326143e-01,  1.07168519e+00,\n",
       "         1.22160578e+00,  1.37841356e+00,  1.54379559e+00,\n",
       "         1.71996987e+00,  1.90996301e+00,  2.11809587e+00,\n",
       "         2.35089898e+00,  2.61902881e+00,  2.94188237e+00,\n",
       "         3.36148691e+00,  4.00545835e+00],\n",
       "       [-0.00000000e+00,  4.13520448e-03,  8.28674808e-03,\n",
       "         1.24714263e-02,  1.67069938e-02,  2.10126974e-02,\n",
       "         2.54099872e-02,  2.99233831e-02,  3.45816277e-02,\n",
       "         3.94193344e-02,  4.44792807e-02,  4.98159006e-02,\n",
       "         5.55007719e-02,  6.16315566e-02,  6.83476776e-02,\n",
       "         7.58598819e-02,  8.45120177e-02,  9.49300006e-02,\n",
       "         1.08469993e-01,  1.29249960e-01],\n",
       "       [-0.00000000e+00,  3.74829210e-03,  7.51139503e-03,\n",
       "         1.13045312e-02,  1.51437949e-02,  1.90466326e-02,\n",
       "         2.30324902e-02,  2.71235872e-02,  3.13459821e-02,\n",
       "         3.57310437e-02,  4.03175540e-02,  4.51548509e-02,\n",
       "         5.03078178e-02,  5.58649711e-02,  6.19526953e-02,\n",
       "         6.87620118e-02,  7.66046047e-02,  8.60478282e-02,\n",
       "         9.83209461e-02,  1.17156632e-01],\n",
       "       [-0.00000000e+00,  1.25216827e-01,  2.50928432e-01,\n",
       "         3.77643347e-01,  5.05899251e-01,  6.36278927e-01,\n",
       "         7.69431889e-01,  9.06100631e-01,  1.04715550e+00,\n",
       "         1.19364452e+00,  1.34686315e+00,  1.50845969e+00,\n",
       "         1.68060160e+00,  1.86624599e+00,  2.06961465e+00,\n",
       "         2.29708934e+00,  2.55908179e+00,  2.87454557e+00,\n",
       "         3.28454590e+00,  3.91377783e+00],\n",
       "       [-0.00000000e+00,  2.26825792e-02,  4.54547852e-02,\n",
       "         6.84087351e-02,  9.16418284e-02,  1.15259640e-01,\n",
       "         1.39379829e-01,  1.64136872e-01,  1.89688444e-01,\n",
       "         2.16224417e-01,  2.43979424e-01,  2.73252040e-01,\n",
       "         3.04434925e-01,  3.38063747e-01,  3.74903291e-01,\n",
       "         4.16109502e-01,  4.63568479e-01,  5.20713627e-01,\n",
       "         5.94983697e-01,  7.08966792e-01],\n",
       "       [-0.00000000e+00,  3.73649737e-03,  7.48775853e-03,\n",
       "         1.12689584e-02,  1.50961420e-02,  1.89867001e-02,\n",
       "         2.29600128e-02,  2.70382389e-02,  3.12473439e-02,\n",
       "         3.56186070e-02,  4.01906855e-02,  4.50127609e-02,\n",
       "         5.01495115e-02,  5.56891821e-02,  6.17577508e-02,\n",
       "         6.85456395e-02,  7.63635561e-02,  8.57770592e-02,\n",
       "         9.80115533e-02,  1.16787970e-01],\n",
       "       [-0.00000000e+00,  1.26442388e-02,  2.53384393e-02,\n",
       "         3.81339528e-02,  5.10850698e-02,  6.42506480e-02,\n",
       "         7.76962638e-02,  9.14969072e-02,  1.05740443e-01,\n",
       "         1.20532721e-01,  1.36004552e-01,  1.52322367e-01,\n",
       "         1.69705033e-01,  1.88451171e-01,  2.08987102e-01,\n",
       "         2.31957197e-01,  2.58412868e-01,  2.90268004e-01,\n",
       "         3.31669331e-01,  3.95208359e-01],\n",
       "       [-0.00000000e+00,  5.22198938e-02,  1.04646131e-01,\n",
       "         1.57490775e-01,  2.10978061e-01,  2.65351057e-01,\n",
       "         3.20880592e-01,  3.77876341e-01,  4.36701268e-01,\n",
       "         4.97792423e-01,  5.61690092e-01,  6.29081607e-01,\n",
       "         7.00870931e-01,  7.78291285e-01,  8.63103330e-01,\n",
       "         9.57968354e-01,  1.06722867e+00,  1.19878829e+00,\n",
       "         1.36977303e+00,  1.63218522e+00],\n",
       "       [-0.00000000e+00,  4.82290238e-03,  9.66486242e-03,\n",
       "         1.45454649e-02,  1.94854215e-02,  2.45071761e-02,\n",
       "         2.96357516e-02,  3.48997414e-02,  4.03326675e-02,\n",
       "         4.59748954e-02,  5.18763289e-02,  5.81004471e-02,\n",
       "         6.47307336e-02,  7.18810856e-02,  7.97141269e-02,\n",
       "         8.84756297e-02,  9.85666439e-02,  1.10717170e-01,\n",
       "         1.26508906e-01,  1.50744662e-01],\n",
       "       [-0.00000000e+00,  1.28028005e-01,  2.56561875e-01,\n",
       "         3.86121601e-01,  5.17256856e-01,  6.50563598e-01,\n",
       "         7.86705971e-01,  9.26442921e-01,  1.07066453e+00,\n",
       "         1.22044230e+00,  1.37710071e+00,  1.54232514e+00,\n",
       "         1.71833169e+00,  1.90814388e+00,  2.11607838e+00,\n",
       "         2.34865999e+00,  2.61653423e+00,  2.93908024e+00,\n",
       "         3.35828519e+00,  4.00164366e+00],\n",
       "       [-0.00000000e+00,  1.70701444e-02,  3.42077389e-02,\n",
       "         5.14821075e-02,  6.89665526e-02,  8.67405161e-02,\n",
       "         1.04892559e-01,  1.23523876e-01,  1.42753139e-01,\n",
       "         1.62723199e-01,  1.83610693e-01,  2.05640286e-01,\n",
       "         2.29107469e-01,  2.54415393e-01,  2.82139570e-01,\n",
       "         3.13149989e-01,  3.48866016e-01,  3.91871512e-01,\n",
       "         4.47764665e-01,  5.33544481e-01],\n",
       "       [-0.00000000e+00,  1.01609759e-01,  2.03621015e-01,\n",
       "         3.06446403e-01,  4.10522282e-01,  5.16321480e-01,\n",
       "         6.24371231e-01,  7.35273838e-01,  8.49735677e-01,\n",
       "         9.68607187e-01,  1.09293962e+00,  1.22407043e+00,\n",
       "         1.36375844e+00,  1.51440334e+00,  1.67943120e+00,\n",
       "         1.86402011e+00,  2.07661939e+00,  2.33260870e+00,\n",
       "         2.66531181e+00,  3.17591500e+00],\n",
       "       [-0.00000000e+00,  4.67203893e-02,  9.36253890e-02,\n",
       "         1.40904725e-01,  1.88759044e-01,  2.37405762e-01,\n",
       "         2.87087262e-01,  3.38080525e-01,  3.90710324e-01,\n",
       "         4.45367724e-01,  5.02536058e-01,  5.62830269e-01,\n",
       "         6.27059102e-01,  6.96326017e-01,  7.72206128e-01,\n",
       "         8.57080519e-01,  9.54834104e-01,  1.07253861e+00,\n",
       "         1.22551620e+00,  1.46029270e+00],\n",
       "       [-0.00000000e+00,  3.36654694e-03,  6.74639642e-03,\n",
       "         1.01532200e-02,  1.36014745e-02,  1.71068273e-02,\n",
       "         2.06867456e-02,  2.43611857e-02,  2.81535480e-02,\n",
       "         3.20920125e-02,  3.62114124e-02,  4.05560508e-02,\n",
       "         4.51842137e-02,  5.01754023e-02,  5.56431226e-02,\n",
       "         6.17589466e-02,  6.88028038e-02,  7.72842839e-02,\n",
       "         8.83074403e-02,  1.05224803e-01],\n",
       "       [-0.00000000e+00,  1.10488027e-01,  2.21412644e-01,\n",
       "         3.33222538e-01,  4.46392149e-01,  5.61435699e-01,\n",
       "         6.78926408e-01,  7.99519300e-01,  9.23982382e-01,\n",
       "         1.05324042e+00,  1.18843651e+00,  1.33102500e+00,\n",
       "         1.48291850e+00,  1.64672625e+00,  1.82617342e+00,\n",
       "         2.02689099e+00,  2.25806642e+00,  2.53642321e+00,\n",
       "         2.89819670e+00,  3.45341420e+00],\n",
       "       [-0.00000000e+00,  1.45374879e-01,  2.91324168e-01,\n",
       "         4.38438296e-01,  5.87341487e-01,  7.38710284e-01,\n",
       "         8.93298984e-01,  1.05196929e+00,  1.21573186e+00,\n",
       "         1.38580346e+00,  1.56368804e+00,  1.75129914e+00,\n",
       "         1.95115340e+00,  2.16668367e+00,  2.40279198e+00,\n",
       "         2.66688657e+00,  2.97105598e+00,  3.33730459e+00,\n",
       "         3.81330872e+00,  4.54383755e+00]], dtype=float32)>"
      ]
     },
     "execution_count": 132,
     "metadata": {},
     "output_type": "execute_result"
    }
   ],
   "source": [
    "t_predicted_residual = y_pred_sigma*std_quantile_multiplier\n",
    "t_predicted_residual"
   ]
  },
  {
   "cell_type": "code",
   "execution_count": 128,
   "id": "6463f2df",
   "metadata": {},
   "outputs": [
    {
     "data": {
      "text/plain": [
       "<tf.Tensor: shape=(20,), dtype=float64, numpy=\n",
       "array([39.24354213, 10.93711075,  0.64839601,  0.78478692, 58.82303965,\n",
       "        0.42627024,  1.221194  , 36.03746883,  6.85508905,  4.4116229 ,\n",
       "        1.53050317,  6.64964508,  2.20719522, 45.16374398,  7.36823931,\n",
       "       36.77972003, 17.75322905,  1.49641541, 33.09583995, 59.21173632])>"
      ]
     },
     "execution_count": 128,
     "metadata": {},
     "output_type": "execute_result"
    }
   ],
   "source": [
    "t_residual = tf.math.abs(y_pred_sigma[:,0]-y_data)\n",
    "t_residual"
   ]
  },
  {
   "cell_type": "code",
   "execution_count": 129,
   "id": "a46ddf91",
   "metadata": {},
   "outputs": [
    {
     "ename": "InvalidArgumentError",
     "evalue": "cannot compute LessEqual as input #1(zero-based) was expected to be a double tensor but is a float tensor [Op:LessEqual]",
     "output_type": "error",
     "traceback": [
      "\u001b[1;31m---------------------------------------------------------------------------\u001b[0m",
      "\u001b[1;31mInvalidArgumentError\u001b[0m                      Traceback (most recent call last)",
      "\u001b[1;32m~\\AppData\\Local\\Temp\\ipykernel_20164\\2382573809.py\u001b[0m in \u001b[0;36m<cell line: 1>\u001b[1;34m()\u001b[0m\n\u001b[1;32m----> 1\u001b[1;33m \u001b[0mt_interval_fit\u001b[0m \u001b[1;33m=\u001b[0m \u001b[0mtf\u001b[0m\u001b[1;33m.\u001b[0m\u001b[0mmath\u001b[0m\u001b[1;33m.\u001b[0m\u001b[0mless_equal\u001b[0m\u001b[1;33m(\u001b[0m\u001b[0mt_residual\u001b[0m\u001b[1;33m,\u001b[0m \u001b[0mt_predicted_residual\u001b[0m\u001b[1;33m)\u001b[0m\u001b[1;33m\u001b[0m\u001b[1;33m\u001b[0m\u001b[0m\n\u001b[0m\u001b[0;32m      2\u001b[0m \u001b[0mt_interval_fit\u001b[0m\u001b[1;33m\u001b[0m\u001b[1;33m\u001b[0m\u001b[0m\n",
      "\u001b[1;32m~\\Anaconda3\\envs\\uncertainty\\lib\\site-packages\\tensorflow\\python\\ops\\gen_math_ops.py\u001b[0m in \u001b[0;36mless_equal\u001b[1;34m(x, y, name)\u001b[0m\n\u001b[0;32m   5209\u001b[0m       \u001b[1;32mreturn\u001b[0m \u001b[0m_result\u001b[0m\u001b[1;33m\u001b[0m\u001b[1;33m\u001b[0m\u001b[0m\n\u001b[0;32m   5210\u001b[0m     \u001b[1;32mexcept\u001b[0m \u001b[0m_core\u001b[0m\u001b[1;33m.\u001b[0m\u001b[0m_NotOkStatusException\u001b[0m \u001b[1;32mas\u001b[0m \u001b[0me\u001b[0m\u001b[1;33m:\u001b[0m\u001b[1;33m\u001b[0m\u001b[1;33m\u001b[0m\u001b[0m\n\u001b[1;32m-> 5211\u001b[1;33m       \u001b[0m_ops\u001b[0m\u001b[1;33m.\u001b[0m\u001b[0mraise_from_not_ok_status\u001b[0m\u001b[1;33m(\u001b[0m\u001b[0me\u001b[0m\u001b[1;33m,\u001b[0m \u001b[0mname\u001b[0m\u001b[1;33m)\u001b[0m\u001b[1;33m\u001b[0m\u001b[1;33m\u001b[0m\u001b[0m\n\u001b[0m\u001b[0;32m   5212\u001b[0m     \u001b[1;32mexcept\u001b[0m \u001b[0m_core\u001b[0m\u001b[1;33m.\u001b[0m\u001b[0m_FallbackException\u001b[0m\u001b[1;33m:\u001b[0m\u001b[1;33m\u001b[0m\u001b[1;33m\u001b[0m\u001b[0m\n\u001b[0;32m   5213\u001b[0m       \u001b[1;32mpass\u001b[0m\u001b[1;33m\u001b[0m\u001b[1;33m\u001b[0m\u001b[0m\n",
      "\u001b[1;32m~\\Anaconda3\\envs\\uncertainty\\lib\\site-packages\\tensorflow\\python\\framework\\ops.py\u001b[0m in \u001b[0;36mraise_from_not_ok_status\u001b[1;34m(e, name)\u001b[0m\n\u001b[0;32m   7207\u001b[0m \u001b[1;32mdef\u001b[0m \u001b[0mraise_from_not_ok_status\u001b[0m\u001b[1;33m(\u001b[0m\u001b[0me\u001b[0m\u001b[1;33m,\u001b[0m \u001b[0mname\u001b[0m\u001b[1;33m)\u001b[0m\u001b[1;33m:\u001b[0m\u001b[1;33m\u001b[0m\u001b[1;33m\u001b[0m\u001b[0m\n\u001b[0;32m   7208\u001b[0m   \u001b[0me\u001b[0m\u001b[1;33m.\u001b[0m\u001b[0mmessage\u001b[0m \u001b[1;33m+=\u001b[0m \u001b[1;33m(\u001b[0m\u001b[1;34m\" name: \"\u001b[0m \u001b[1;33m+\u001b[0m \u001b[0mname\u001b[0m \u001b[1;32mif\u001b[0m \u001b[0mname\u001b[0m \u001b[1;32mis\u001b[0m \u001b[1;32mnot\u001b[0m \u001b[1;32mNone\u001b[0m \u001b[1;32melse\u001b[0m \u001b[1;34m\"\"\u001b[0m\u001b[1;33m)\u001b[0m\u001b[1;33m\u001b[0m\u001b[1;33m\u001b[0m\u001b[0m\n\u001b[1;32m-> 7209\u001b[1;33m   \u001b[1;32mraise\u001b[0m \u001b[0mcore\u001b[0m\u001b[1;33m.\u001b[0m\u001b[0m_status_to_exception\u001b[0m\u001b[1;33m(\u001b[0m\u001b[0me\u001b[0m\u001b[1;33m)\u001b[0m \u001b[1;32mfrom\u001b[0m \u001b[1;32mNone\u001b[0m  \u001b[1;31m# pylint: disable=protected-access\u001b[0m\u001b[1;33m\u001b[0m\u001b[1;33m\u001b[0m\u001b[0m\n\u001b[0m\u001b[0;32m   7210\u001b[0m \u001b[1;33m\u001b[0m\u001b[0m\n\u001b[0;32m   7211\u001b[0m \u001b[1;33m\u001b[0m\u001b[0m\n",
      "\u001b[1;31mInvalidArgumentError\u001b[0m: cannot compute LessEqual as input #1(zero-based) was expected to be a double tensor but is a float tensor [Op:LessEqual]"
     ]
    }
   ],
   "source": [
    "t_interval_fit = tf.math.less_equal(t_residual, t_predicted_residual)\n",
    "t_interval_fit"
   ]
  },
  {
   "cell_type": "code",
   "execution_count": null,
   "id": "2639241a",
   "metadata": {},
   "outputs": [],
   "source": [
    "\n",
    "t_interval_fit = tf.math.less_equal(t_residual, t_predicted_residual)\n",
    "t_confidence_per_interval=tf.math.count_nonzero(t_interval_fit, axis=[0,1,2])/(input_wh*input_wh*image.shape[0])\n",
    "np_data.append(t_confidence_per_interval)"
   ]
  },
  {
   "cell_type": "code",
   "execution_count": 97,
   "id": "e8d40c1c",
   "metadata": {},
   "outputs": [],
   "source": [
    "#y_pred_mu[:,0].shape, y_data.shape"
   ]
  },
  {
   "cell_type": "code",
   "execution_count": 98,
   "id": "a250095b",
   "metadata": {},
   "outputs": [],
   "source": [
    "#np.abs(y_pred_mu-y_data)"
   ]
  },
  {
   "cell_type": "code",
   "execution_count": 99,
   "id": "093c0293",
   "metadata": {},
   "outputs": [
    {
     "data": {
      "text/plain": [
       "(20, 1)"
      ]
     },
     "execution_count": 99,
     "metadata": {},
     "output_type": "execute_result"
    }
   ],
   "source": [
    "y_pred_sigma.shape"
   ]
  },
  {
   "cell_type": "code",
   "execution_count": 102,
   "id": "1070984a",
   "metadata": {},
   "outputs": [
    {
     "data": {
      "text/plain": [
       "-0.12693745830564301"
      ]
     },
     "execution_count": 102,
     "metadata": {},
     "output_type": "execute_result"
    }
   ],
   "source": [
    "stats.norm.ppf((1-p_m[10])/2)"
   ]
  },
  {
   "cell_type": "code",
   "execution_count": 104,
   "id": "d1aa3d2c",
   "metadata": {},
   "outputs": [
    {
     "data": {
      "text/plain": [
       "0.0"
      ]
     },
     "execution_count": 104,
     "metadata": {},
     "output_type": "execute_result"
    }
   ],
   "source": [
    "np.mean(np.less_equal(np.abs(y_pred_mu[:,0]-y_data), np.abs(y_pred_sigma[:,0]*stats.norm.ppf((1-p_m[10])/2))),axis=0)"
   ]
  },
  {
   "cell_type": "code",
   "execution_count": 51,
   "id": "09d4084e",
   "metadata": {},
   "outputs": [
    {
     "ename": "AttributeError",
     "evalue": "'Normal' object has no attribute 'ppf'",
     "output_type": "error",
     "traceback": [
      "\u001b[1;31m---------------------------------------------------------------------------\u001b[0m",
      "\u001b[1;31mAttributeError\u001b[0m                            Traceback (most recent call last)",
      "\u001b[1;32m~\\AppData\\Local\\Temp\\ipykernel_20164\\893946656.py\u001b[0m in \u001b[0;36m<cell line: 2>\u001b[1;34m()\u001b[0m\n\u001b[0;32m      1\u001b[0m \u001b[0mstd_normal\u001b[0m \u001b[1;33m=\u001b[0m \u001b[0mtfp\u001b[0m\u001b[1;33m.\u001b[0m\u001b[0mdistributions\u001b[0m\u001b[1;33m.\u001b[0m\u001b[0mNormal\u001b[0m\u001b[1;33m(\u001b[0m\u001b[0mloc\u001b[0m\u001b[1;33m=\u001b[0m\u001b[1;36m0\u001b[0m\u001b[1;33m,\u001b[0m \u001b[0mscale\u001b[0m\u001b[1;33m=\u001b[0m\u001b[1;36m1\u001b[0m\u001b[1;33m)\u001b[0m\u001b[1;33m\u001b[0m\u001b[1;33m\u001b[0m\u001b[0m\n\u001b[1;32m----> 2\u001b[1;33m \u001b[0mstd_normal\u001b[0m\u001b[1;33m.\u001b[0m\u001b[0mppf\u001b[0m\u001b[1;33m(\u001b[0m\u001b[1;36m2\u001b[0m\u001b[1;33m)\u001b[0m\u001b[1;33m\u001b[0m\u001b[1;33m\u001b[0m\u001b[0m\n\u001b[0m",
      "\u001b[1;31mAttributeError\u001b[0m: 'Normal' object has no attribute 'ppf'"
     ]
    }
   ],
   "source": [
    "std_normal = tfp.distributions.Normal(loc=0, scale=1)\n",
    "#std_normal.ppf(2)"
   ]
  },
  {
   "cell_type": "code",
   "execution_count": 53,
   "id": "c74b4bfb",
   "metadata": {},
   "outputs": [],
   "source": [
    "import scipy.stats as stats"
   ]
  },
  {
   "cell_type": "code",
   "execution_count": null,
   "id": "fafef7e2",
   "metadata": {},
   "outputs": [],
   "source": [
    "sigma=2"
   ]
  },
  {
   "cell_type": "code",
   "execution_count": 62,
   "id": "827952e1",
   "metadata": {},
   "outputs": [
    {
     "data": {
      "text/plain": [
       "-1.3489795003921634"
      ]
     },
     "execution_count": 62,
     "metadata": {},
     "output_type": "execute_result"
    }
   ],
   "source": [
    "sigma*stats.norm.ppf(0.25)"
   ]
  },
  {
   "cell_type": "code",
   "execution_count": 64,
   "id": "d7b68179",
   "metadata": {},
   "outputs": [
    {
     "data": {
      "text/plain": [
       "-1.3489795003921634"
      ]
     },
     "execution_count": 64,
     "metadata": {},
     "output_type": "execute_result"
    }
   ],
   "source": [
    "stats.norm.ppf(0.25,loc=0,scale=sigma)"
   ]
  },
  {
   "cell_type": "code",
   "execution_count": 57,
   "id": "3bee0602",
   "metadata": {},
   "outputs": [],
   "source": [
    "sigma = 2"
   ]
  },
  {
   "cell_type": "code",
   "execution_count": null,
   "id": "6953677c",
   "metadata": {},
   "outputs": [],
   "source": []
  },
  {
   "cell_type": "code",
   "execution_count": 49,
   "id": "67913972",
   "metadata": {},
   "outputs": [],
   "source": [
    "#y_pred_mu"
   ]
  },
  {
   "cell_type": "code",
   "execution_count": 50,
   "id": "bdde2858",
   "metadata": {},
   "outputs": [
    {
     "ename": "NameError",
     "evalue": "name 'a3y_pred_var' is not defined",
     "output_type": "error",
     "traceback": [
      "\u001b[1;31m---------------------------------------------------------------------------\u001b[0m",
      "\u001b[1;31mNameError\u001b[0m                                 Traceback (most recent call last)",
      "\u001b[1;32m~\\AppData\\Local\\Temp\\ipykernel_20164\\1118209481.py\u001b[0m in \u001b[0;36m<cell line: 1>\u001b[1;34m()\u001b[0m\n\u001b[1;32m----> 1\u001b[1;33m \u001b[0ma3y_pred_var\u001b[0m\u001b[1;33m\u001b[0m\u001b[1;33m\u001b[0m\u001b[0m\n\u001b[0m",
      "\u001b[1;31mNameError\u001b[0m: name 'a3y_pred_var' is not defined"
     ]
    }
   ],
   "source": [
    "a3y_pred_var"
   ]
  },
  {
   "cell_type": "code",
   "execution_count": 42,
   "id": "f7540c54",
   "metadata": {},
   "outputs": [],
   "source": [
    "import tensorflow_probability as tfp"
   ]
  },
  {
   "cell_type": "code",
   "execution_count": 119,
   "id": "ed922293",
   "metadata": {},
   "outputs": [],
   "source": [
    "std_normal = tfp.distributions.Normal(loc=0, scale=1)\n",
    "alpha = np.arange(start=1, stop=0, step=-0.05)\n",
    "confidence_level = 1-alpha\n",
    "std_quantile_multiplier = std_normal.quantile(alpha/2)*(-1)\n",
    "\n"
   ]
  },
  {
   "cell_type": "code",
   "execution_count": 44,
   "id": "b1f3c793",
   "metadata": {},
   "outputs": [
    {
     "data": {
      "text/plain": [
       "(array([1.  , 0.95, 0.9 , 0.85, 0.8 , 0.75, 0.7 , 0.65, 0.6 , 0.55, 0.5 ,\n",
       "        0.45, 0.4 , 0.35, 0.3 , 0.25, 0.2 , 0.15, 0.1 , 0.05]),\n",
       " array([0.  , 0.05, 0.1 , 0.15, 0.2 , 0.25, 0.3 , 0.35, 0.4 , 0.45, 0.5 ,\n",
       "        0.55, 0.6 , 0.65, 0.7 , 0.75, 0.8 , 0.85, 0.9 , 0.95]),\n",
       " <tf.Tensor: shape=(20,), dtype=float32, numpy=\n",
       " array([-0.        ,  0.0627068 ,  0.12566137,  0.18911839,  0.2533471 ,\n",
       "         0.31863937,  0.38532048,  0.45376223,  0.5244005 ,  0.5977601 ,\n",
       "         0.6744898 ,  0.755415  ,  0.8416212 ,  0.93458927,  1.0364335 ,\n",
       "         1.1503495 ,  1.2815516 ,  1.4395313 ,  1.6448536 ,  1.9599639 ],\n",
       "       dtype=float32)>)"
      ]
     },
     "execution_count": 44,
     "metadata": {},
     "output_type": "execute_result"
    }
   ],
   "source": [
    "alpha, confidence_level, std_quantile_multiplier"
   ]
  },
  {
   "cell_type": "code",
   "execution_count": 68,
   "id": "d737fa2e",
   "metadata": {},
   "outputs": [
    {
     "data": {
      "text/plain": [
       "0.475"
      ]
     },
     "execution_count": 68,
     "metadata": {},
     "output_type": "execute_result"
    }
   ],
   "source": [
    "0.95/2"
   ]
  },
  {
   "cell_type": "code",
   "execution_count": 69,
   "id": "76c3146a",
   "metadata": {},
   "outputs": [
    {
     "data": {
      "text/plain": [
       "-0.06270677794321385"
      ]
     },
     "execution_count": 69,
     "metadata": {},
     "output_type": "execute_result"
    }
   ],
   "source": [
    "stats.norm.ppf(0.475)"
   ]
  },
  {
   "cell_type": "code",
   "execution_count": 72,
   "id": "96b47634",
   "metadata": {},
   "outputs": [
    {
     "data": {
      "text/plain": [
       "0.9703638767553905"
      ]
     },
     "execution_count": 72,
     "metadata": {},
     "output_type": "execute_result"
    }
   ],
   "source": [
    "stats.norm.ppf(0.95)+stats.norm.ppf(0.25)"
   ]
  },
  {
   "cell_type": "code",
   "execution_count": 102,
   "id": "263c7bf9",
   "metadata": {},
   "outputs": [
    {
     "data": {
      "text/plain": [
       "<tf.Tensor: shape=(20,), dtype=float32, numpy=\n",
       "array([-0.        ,  0.0627068 ,  0.12566137,  0.18911839,  0.2533471 ,\n",
       "        0.31863937,  0.38532048,  0.45376223,  0.5244005 ,  0.5977601 ,\n",
       "        0.6744898 ,  0.755415  ,  0.8416212 ,  0.93458927,  1.0364335 ,\n",
       "        1.1503495 ,  1.2815516 ,  1.4395313 ,  1.6448536 ,  1.9599639 ],\n",
       "      dtype=float32)>"
      ]
     },
     "execution_count": 102,
     "metadata": {},
     "output_type": "execute_result"
    }
   ],
   "source": [
    " std_normal.quantile(alpha/2)*-1"
   ]
  },
  {
   "cell_type": "code",
   "execution_count": 120,
   "id": "2474e3a6",
   "metadata": {},
   "outputs": [],
   "source": [
    "#reconstruction = y_pred_mu\n",
    "#reconstr_var   = y_pred_var\n",
    "\n",
    "t_predicted_residual = y_pred_sigma[:,0]*std_quantile_multiplier\n",
    "t_residual = tf.math.abs(y_pred_mu[:,0]-y_data)\n",
    "t_interval_fit = tf.math.less_equal(t_residual, t_predicted_residual)\n"
   ]
  },
  {
   "cell_type": "code",
   "execution_count": 121,
   "id": "acae1f9d",
   "metadata": {},
   "outputs": [
    {
     "data": {
      "text/plain": [
       "<tf.Tensor: shape=(20,), dtype=float32, numpy=\n",
       "array([-0.        ,  0.04164857,  0.00695664,  0.06602198,  0.51775   ,\n",
       "        0.0210127 ,  0.02303249,  0.90610063,  0.18968844,  0.03561861,\n",
       "        0.13600455,  0.6290816 ,  0.06473073,  1.9081439 ,  0.28213957,\n",
       "        1.8640201 ,  0.9548341 ,  0.07728428,  2.8981967 ,  4.5438375 ],\n",
       "      dtype=float32)>"
      ]
     },
     "execution_count": 121,
     "metadata": {},
     "output_type": "execute_result"
    }
   ],
   "source": [
    "t_predicted_residual"
   ]
  },
  {
   "cell_type": "code",
   "execution_count": 122,
   "id": "4e75ce7d",
   "metadata": {},
   "outputs": [
    {
     "data": {
      "text/plain": [
       "<tf.Tensor: shape=(20,), dtype=float32, numpy=\n",
       "array([31.407211  ,  7.7817974 ,  0.7158618 ,  1.3106136 , 52.18976   ,\n",
       "        0.4440793 ,  1.1954374 , 28.094147  ,  4.0077033 ,  4.3890066 ,\n",
       "        0.36504686,  3.081658  ,  2.9240336 , 37.067482  ,  4.9559717 ,\n",
       "       31.40577   , 13.554964  ,  1.4438403 , 27.332348  , 50.110535  ],\n",
       "      dtype=float32)>"
      ]
     },
     "execution_count": 122,
     "metadata": {},
     "output_type": "execute_result"
    }
   ],
   "source": [
    "t_residual"
   ]
  },
  {
   "cell_type": "code",
   "execution_count": 123,
   "id": "bc4d76cc",
   "metadata": {},
   "outputs": [
    {
     "data": {
      "text/plain": [
       "<tf.Tensor: shape=(20,), dtype=bool, numpy=\n",
       "array([False, False, False, False, False, False, False, False, False,\n",
       "       False, False, False, False, False, False, False, False, False,\n",
       "       False, False])>"
      ]
     },
     "execution_count": 123,
     "metadata": {},
     "output_type": "execute_result"
    }
   ],
   "source": [
    "t_interval_fit"
   ]
  },
  {
   "cell_type": "code",
   "execution_count": 124,
   "id": "8c0b3473",
   "metadata": {},
   "outputs": [],
   "source": [
    "t_confidence_per_interval=tf.math.count_nonzero(t_interval_fit, axis=0)\n"
   ]
  },
  {
   "cell_type": "code",
   "execution_count": 125,
   "id": "74c26538",
   "metadata": {},
   "outputs": [
    {
     "data": {
      "text/plain": [
       "<tf.Tensor: shape=(), dtype=int64, numpy=0>"
      ]
     },
     "execution_count": 125,
     "metadata": {},
     "output_type": "execute_result"
    }
   ],
   "source": [
    "t_confidence_per_interval"
   ]
  },
  {
   "cell_type": "code",
   "execution_count": 114,
   "id": "d240d84e",
   "metadata": {},
   "outputs": [
    {
     "ename": "InvalidArgumentError",
     "evalue": "{{function_node __wrapped__Sum_device_/job:localhost/replica:0/task:0/device:CPU:0}} Invalid reduction dimension (2 for input with 2 dimension(s) [Op:Sum]",
     "output_type": "error",
     "traceback": [
      "\u001b[1;31m---------------------------------------------------------------------------\u001b[0m",
      "\u001b[1;31mInvalidArgumentError\u001b[0m                      Traceback (most recent call last)",
      "\u001b[1;32m~\\AppData\\Local\\Temp\\ipykernel_15612\\2249182208.py\u001b[0m in \u001b[0;36m<cell line: 1>\u001b[1;34m()\u001b[0m\n\u001b[1;32m----> 1\u001b[1;33m \u001b[0mt_confidence_per_interval\u001b[0m\u001b[1;33m=\u001b[0m\u001b[0mtf\u001b[0m\u001b[1;33m.\u001b[0m\u001b[0mmath\u001b[0m\u001b[1;33m.\u001b[0m\u001b[0mcount_nonzero\u001b[0m\u001b[1;33m(\u001b[0m\u001b[0mt_interval_fit\u001b[0m\u001b[1;33m,\u001b[0m \u001b[0maxis\u001b[0m\u001b[1;33m=\u001b[0m\u001b[1;33m[\u001b[0m\u001b[1;36m0\u001b[0m\u001b[1;33m,\u001b[0m\u001b[1;36m1\u001b[0m\u001b[1;33m,\u001b[0m\u001b[1;36m2\u001b[0m\u001b[1;33m]\u001b[0m\u001b[1;33m)\u001b[0m\u001b[1;33m/\u001b[0m\u001b[1;33m(\u001b[0m\u001b[0minput_wh\u001b[0m\u001b[1;33m*\u001b[0m\u001b[0minput_wh\u001b[0m\u001b[1;33m*\u001b[0m\u001b[0mimage\u001b[0m\u001b[1;33m.\u001b[0m\u001b[0mshape\u001b[0m\u001b[1;33m[\u001b[0m\u001b[1;36m0\u001b[0m\u001b[1;33m]\u001b[0m\u001b[1;33m)\u001b[0m\u001b[1;33m\u001b[0m\u001b[1;33m\u001b[0m\u001b[0m\n\u001b[0m\u001b[0;32m      2\u001b[0m \u001b[1;31m#np_data.append(t_confidence_per_interval)\u001b[0m\u001b[1;33m\u001b[0m\u001b[1;33m\u001b[0m\u001b[0m\n",
      "\u001b[1;32m~\\Anaconda3\\envs\\uncertainty\\lib\\site-packages\\tensorflow\\python\\util\\traceback_utils.py\u001b[0m in \u001b[0;36merror_handler\u001b[1;34m(*args, **kwargs)\u001b[0m\n\u001b[0;32m    151\u001b[0m     \u001b[1;32mexcept\u001b[0m \u001b[0mException\u001b[0m \u001b[1;32mas\u001b[0m \u001b[0me\u001b[0m\u001b[1;33m:\u001b[0m\u001b[1;33m\u001b[0m\u001b[1;33m\u001b[0m\u001b[0m\n\u001b[0;32m    152\u001b[0m       \u001b[0mfiltered_tb\u001b[0m \u001b[1;33m=\u001b[0m \u001b[0m_process_traceback_frames\u001b[0m\u001b[1;33m(\u001b[0m\u001b[0me\u001b[0m\u001b[1;33m.\u001b[0m\u001b[0m__traceback__\u001b[0m\u001b[1;33m)\u001b[0m\u001b[1;33m\u001b[0m\u001b[1;33m\u001b[0m\u001b[0m\n\u001b[1;32m--> 153\u001b[1;33m       \u001b[1;32mraise\u001b[0m \u001b[0me\u001b[0m\u001b[1;33m.\u001b[0m\u001b[0mwith_traceback\u001b[0m\u001b[1;33m(\u001b[0m\u001b[0mfiltered_tb\u001b[0m\u001b[1;33m)\u001b[0m \u001b[1;32mfrom\u001b[0m \u001b[1;32mNone\u001b[0m\u001b[1;33m\u001b[0m\u001b[1;33m\u001b[0m\u001b[0m\n\u001b[0m\u001b[0;32m    154\u001b[0m     \u001b[1;32mfinally\u001b[0m\u001b[1;33m:\u001b[0m\u001b[1;33m\u001b[0m\u001b[1;33m\u001b[0m\u001b[0m\n\u001b[0;32m    155\u001b[0m       \u001b[1;32mdel\u001b[0m \u001b[0mfiltered_tb\u001b[0m\u001b[1;33m\u001b[0m\u001b[1;33m\u001b[0m\u001b[0m\n",
      "\u001b[1;32m~\\Anaconda3\\envs\\uncertainty\\lib\\site-packages\\tensorflow\\python\\eager\\execute.py\u001b[0m in \u001b[0;36mquick_execute\u001b[1;34m(op_name, num_outputs, inputs, attrs, ctx, name)\u001b[0m\n\u001b[0;32m     52\u001b[0m   \u001b[1;32mtry\u001b[0m\u001b[1;33m:\u001b[0m\u001b[1;33m\u001b[0m\u001b[1;33m\u001b[0m\u001b[0m\n\u001b[0;32m     53\u001b[0m     \u001b[0mctx\u001b[0m\u001b[1;33m.\u001b[0m\u001b[0mensure_initialized\u001b[0m\u001b[1;33m(\u001b[0m\u001b[1;33m)\u001b[0m\u001b[1;33m\u001b[0m\u001b[1;33m\u001b[0m\u001b[0m\n\u001b[1;32m---> 54\u001b[1;33m     tensors = pywrap_tfe.TFE_Py_Execute(ctx._handle, device_name, op_name,\n\u001b[0m\u001b[0;32m     55\u001b[0m                                         inputs, attrs, num_outputs)\n\u001b[0;32m     56\u001b[0m   \u001b[1;32mexcept\u001b[0m \u001b[0mcore\u001b[0m\u001b[1;33m.\u001b[0m\u001b[0m_NotOkStatusException\u001b[0m \u001b[1;32mas\u001b[0m \u001b[0me\u001b[0m\u001b[1;33m:\u001b[0m\u001b[1;33m\u001b[0m\u001b[1;33m\u001b[0m\u001b[0m\n",
      "\u001b[1;31mInvalidArgumentError\u001b[0m: {{function_node __wrapped__Sum_device_/job:localhost/replica:0/task:0/device:CPU:0}} Invalid reduction dimension (2 for input with 2 dimension(s) [Op:Sum]"
     ]
    }
   ],
   "source": [
    "t_confidence_per_interval=tf.math.count_nonzero(t_interval_fit, axis=[0,1,2])/(input_wh*input_wh*image.shape[0])\n",
    "#np_data.append(t_confidence_per_interval)"
   ]
  },
  {
   "cell_type": "code",
   "execution_count": null,
   "id": "aeadc534",
   "metadata": {},
   "outputs": [],
   "source": [
    "reconstruction =y_pred_mu\n",
    "reconstr_var   = tf.math.exp(y_pred_var)\n",
    "\n",
    "t_predicted_residual = reconstr_var*std_quantile_multiplier\n",
    "t_residual = tf.math.abs(reconstruction-y_data)\n",
    "t_interval_fit = tf.math.less_equal(t_residual, t_predicted_residual)"
   ]
  },
  {
   "cell_type": "code",
   "execution_count": 121,
   "id": "2976936c",
   "metadata": {},
   "outputs": [
    {
     "data": {
      "text/plain": [
       "<tf.Tensor: shape=(20, 20), dtype=float32, numpy=\n",
       "array([[-0.00000000e+00,  2.45063996e+00,  4.91096306e+00,\n",
       "         7.39092207e+00,  9.90104008e+00,  1.24527225e+01,\n",
       "         1.50586824e+01,  1.77334499e+01,  2.04940567e+01,\n",
       "         2.33610191e+01,  2.63596878e+01,  2.95223198e+01,\n",
       "         3.28913383e+01,  3.65246162e+01,  4.05047836e+01,\n",
       "         4.49567261e+01,  5.00842285e+01,  5.62582207e+01,\n",
       "         6.42824097e+01,  7.65972137e+01],\n",
       "       [-0.00000000e+00,  1.04821742e-01,  2.10057676e-01,\n",
       "         3.16133499e-01,  4.23499286e-01,  5.32642961e-01,\n",
       "         6.44108236e-01,  7.58516610e-01,  8.76596689e-01,\n",
       "         9.99225855e-01,  1.12748849e+00,  1.26276457e+00,\n",
       "         1.40686822e+00,  1.56227517e+00,  1.73251975e+00,\n",
       "         1.92294371e+00,  2.14226341e+00,  2.40634489e+00,\n",
       "         2.74956512e+00,  3.27630877e+00],\n",
       "       [-0.00000000e+00,  6.30300567e-02,  1.26309171e-01,\n",
       "         1.90093309e-01,  2.54653126e-01,  3.20281982e-01,\n",
       "         3.87306839e-01,  4.56101418e-01,  5.27103782e-01,\n",
       "         6.00841582e-01,  6.77966833e-01,  7.59309232e-01,\n",
       "         8.45959842e-01,  9.39407170e-01,  1.04177642e+00,\n",
       "         1.15627968e+00,  1.28815806e+00,  1.44695222e+00,\n",
       "         1.65333295e+00,  1.97006774e+00],\n",
       "       [-0.00000000e+00,  7.33949468e-02,  1.47079900e-01,\n",
       "         2.21352935e-01,  2.96529204e-01,  3.72950286e-01,\n",
       "         4.50996965e-01,  5.31104386e-01,  6.13782644e-01,\n",
       "         6.99646115e-01,  7.89454162e-01,  8.84172797e-01,\n",
       "         9.85072553e-01,  1.09388661e+00,  1.21308982e+00,\n",
       "         1.34642243e+00,  1.49998748e+00,  1.68489420e+00,\n",
       "         1.92521298e+00,  2.29403281e+00],\n",
       "       [-0.00000000e+00,  4.77202892e+00,  9.56291389e+00,\n",
       "         1.43920345e+01,  1.92798824e+01,  2.42486668e+01,\n",
       "         2.93231449e+01,  3.45316048e+01,  3.99072227e+01,\n",
       "         4.54899368e+01,  5.13291206e+01,  5.74875832e+01,\n",
       "         6.40479355e+01,  7.11228638e+01,  7.88732758e+01,\n",
       "         8.75423584e+01,  9.75269241e+01,  1.09549286e+02,\n",
       "         1.25174446e+02,  1.49154556e+02],\n",
       "       [-0.00000000e+00,  6.31600991e-02,  1.26569763e-01,\n",
       "         1.90485492e-01,  2.55178511e-01,  3.20942760e-01,\n",
       "         3.88105899e-01,  4.57042426e-01,  5.28191268e-01,\n",
       "         6.02081180e-01,  6.79365575e-01,  7.60875821e-01,\n",
       "         8.47705185e-01,  9.41345274e-01,  1.04392564e+00,\n",
       "         1.15866518e+00,  1.29081571e+00,  1.44993746e+00,\n",
       "         1.65674400e+00,  1.97413218e+00],\n",
       "       [-0.00000000e+00,  6.30878061e-02,  1.26424894e-01,\n",
       "         1.90267459e-01,  2.54886419e-01,  3.20575416e-01,\n",
       "         3.87661695e-01,  4.56519276e-01,  5.27586699e-01,\n",
       "         6.01392031e-01,  6.78587973e-01,  7.60004878e-01,\n",
       "         8.46734881e-01,  9.40267801e-01,  1.04273081e+00,\n",
       "         1.15733898e+00,  1.28933823e+00,  1.44827783e+00,\n",
       "         1.65484774e+00,  1.97187257e+00],\n",
       "       [-0.00000000e+00,  2.73681211e+00,  5.48443842e+00,\n",
       "         8.25399303e+00,  1.10572290e+01,  1.39068832e+01,\n",
       "         1.68171520e+01,  1.98042641e+01,  2.28872414e+01,\n",
       "         2.60889912e+01,  2.94378262e+01,  3.29697762e+01,\n",
       "         3.67322083e+01,  4.07897606e+01,  4.52347069e+01,\n",
       "         5.02065277e+01,  5.59327888e+01,  6.28277473e+01,\n",
       "         7.17889481e+01,  8.55418091e+01],\n",
       "       [-0.00000000e+00,  7.71387368e-02,  1.54582277e-01,\n",
       "         2.32643887e-01,  3.11654806e-01,  3.91974062e-01,\n",
       "         4.74001795e-01,  5.58195412e-01,  6.45090997e-01,\n",
       "         7.35334277e-01,  8.29723299e-01,  9.29273427e-01,\n",
       "         1.03531992e+00,  1.14968455e+00,  1.27496815e+00,\n",
       "         1.41510189e+00,  1.57650006e+00,  1.77083874e+00,\n",
       "         2.02341580e+00,  2.41104865e+00],\n",
       "       [-0.00000000e+00,  6.30856156e-02,  1.26420498e-01,\n",
       "         1.90260857e-01,  2.54877567e-01,  3.20564270e-01,\n",
       "         3.87648225e-01,  4.56503421e-01,  5.27568400e-01,\n",
       "         6.01371169e-01,  6.78564429e-01,  7.59978533e-01,\n",
       "         8.46705496e-01,  9.40235138e-01,  1.04269457e+00,\n",
       "         1.15729880e+00,  1.28929353e+00,  1.44822764e+00,\n",
       "         1.65479028e+00,  1.97180414e+00],\n",
       "       [-0.00000000e+00,  6.63537681e-02,  1.32969722e-01,\n",
       "         2.00117350e-01,  2.68081546e-01,  3.37171137e-01,\n",
       "         4.07730371e-01,  4.80152637e-01,  5.54899156e-01,\n",
       "         6.32525265e-01,  7.13717520e-01,  7.99349308e-01,\n",
       "         8.90569150e-01,  9.88944173e-01,  1.09671152e+00,\n",
       "         1.21725285e+00,  1.35608554e+00,  1.52325320e+00,\n",
       "         1.74051678e+00,  2.07395363e+00],\n",
       "       [-0.00000000e+00,  1.37199745e-01,  2.74941623e-01,\n",
       "         4.13782805e-01,  5.54312468e-01,  6.97169125e-01,\n",
       "         8.43064487e-01,  9.92812037e-01,  1.14736545e+00,\n",
       "         1.30787313e+00,  1.47575438e+00,  1.65281522e+00,\n",
       "         1.84143066e+00,  2.04484081e+00,  2.26767135e+00,\n",
       "         2.51691484e+00,  2.80397916e+00,  3.14963198e+00,\n",
       "         3.59886813e+00,  4.28831577e+00],\n",
       "       [-0.00000000e+00,  6.34210929e-02,  1.27092794e-01,\n",
       "         1.91272646e-01,  2.56232977e-01,  3.22268993e-01,\n",
       "         3.89709681e-01,  4.58931059e-01,  5.30373931e-01,\n",
       "         6.04569197e-01,  6.82172954e-01,  7.64019966e-01,\n",
       "         8.51208150e-01,  9.45235193e-01,  1.04823947e+00,\n",
       "         1.16345322e+00,  1.29614985e+00,  1.45592904e+00,\n",
       "         1.66359019e+00,  1.98228991e+00],\n",
       "       [-0.00000000e+00,  3.20889068e+00,  6.43046093e+00,\n",
       "         9.67774200e+00,  1.29645138e+01,  1.63057098e+01,\n",
       "         1.97179794e+01,  2.32203445e+01,  2.68351097e+01,\n",
       "         3.05891361e+01,  3.45156212e+01,  3.86568031e+01,\n",
       "         4.30682259e+01,  4.78256721e+01,  5.30373383e+01,\n",
       "         5.88667564e+01,  6.55807495e+01,  7.36650391e+01,\n",
       "         8.41719818e+01,  1.00297096e+02],\n",
       "       [-0.00000000e+00,  7.12523460e-02,  1.42786235e-01,\n",
       "         2.14891016e-01,  2.87872672e-01,  3.62062842e-01,\n",
       "         4.37831104e-01,  5.15599966e-01,  5.95864594e-01,\n",
       "         6.79221511e-01,  7.66407788e-01,  8.58361304e-01,\n",
       "         9.56315517e-01,  1.06195307e+00,  1.17767632e+00,\n",
       "         1.30711663e+00,  1.45619857e+00,  1.63570750e+00,\n",
       "         1.86901057e+00,  2.22706342e+00],\n",
       "       [-0.00000000e+00,  9.97020662e-01,  1.99798095e+00,\n",
       "         3.00692987e+00,  4.02814865e+00,  5.06627750e+00,\n",
       "         6.12648869e+00,  7.21469355e+00,  8.33782196e+00,\n",
       "         9.50421906e+00,  1.07242002e+01,  1.20108891e+01,\n",
       "         1.33815432e+01,  1.48597097e+01,  1.64790039e+01,\n",
       "         1.82902374e+01,  2.03763142e+01,  2.28881474e+01,\n",
       "         2.61527157e+01,  3.11628819e+01],\n",
       "       [-0.00000000e+00,  1.25112653e-01,  2.50719666e-01,\n",
       "         3.77329141e-01,  5.05478323e-01,  6.35749519e-01,\n",
       "         7.68791735e-01,  9.05346751e-01,  1.04628420e+00,\n",
       "         1.19265139e+00,  1.34574258e+00,  1.50720465e+00,\n",
       "         1.67920327e+00,  1.86469316e+00,  2.06789279e+00,\n",
       "         2.29517817e+00,  2.55695271e+00,  2.87215400e+00,\n",
       "         3.28181314e+00,  3.91052151e+00],\n",
       "       [-0.00000000e+00,  6.30155429e-02,  1.26280084e-01,\n",
       "         1.90049529e-01,  2.54594475e-01,  3.20208222e-01,\n",
       "         3.87217641e-01,  4.55996364e-01,  5.26982427e-01,\n",
       "         6.00703180e-01,  6.77810729e-01,  7.59134352e-01,\n",
       "         8.45764995e-01,  9.39190805e-01,  1.04153645e+00,\n",
       "         1.15601337e+00,  1.28786147e+00,  1.44661903e+00,\n",
       "         1.65295219e+00,  1.96961391e+00],\n",
       "       [-0.00000000e+00,  1.62096703e+00,  3.24833918e+00,\n",
       "         4.88869905e+00,  6.54900742e+00,  8.23680878e+00,\n",
       "         9.96051216e+00,  1.17297268e+01,  1.35557213e+01,\n",
       "         1.54520626e+01,  1.74355221e+01,  1.95274334e+01,\n",
       "         2.17558594e+01,  2.41590767e+01,  2.67917442e+01,\n",
       "         2.97364674e+01,  3.31280327e+01,  3.72117996e+01,\n",
       "         4.25193672e+01,  5.06649513e+01],\n",
       "       [-0.00000000e+00,  9.43035221e+00,  1.88979664e+01,\n",
       "         2.84411411e+01,  3.81003723e+01,  4.79195480e+01,\n",
       "         5.79475899e+01,  6.82404099e+01,  7.88635559e+01,\n",
       "         8.98959579e+01,  1.01435196e+02,  1.13605377e+02,\n",
       "         1.26569756e+02,  1.40551041e+02,  1.55867188e+02,\n",
       "         1.72998795e+02,  1.92730026e+02,  2.16488281e+02,\n",
       "         2.47366287e+02,  2.94755127e+02]], dtype=float32)>"
      ]
     },
     "execution_count": 121,
     "metadata": {},
     "output_type": "execute_result"
    }
   ],
   "source": [
    "t_predicted_residual"
   ]
  },
  {
   "cell_type": "code",
   "execution_count": 116,
   "id": "3b80d6df",
   "metadata": {},
   "outputs": [],
   "source": [
    "n_intervals = 100\n",
    "p_m = np.linspace(0,1,n_intervals)\n",
    "emp_conf = [0]*n_intervals\n",
    "for i in range(n_intervals):\n",
    "    interval_fit = np.less_equal(np.abs(y_pred_mu-y_data),t_predicted_residual)\n",
    "    emp_conf[i] = np.mean(interval_fit,axis=0)"
   ]
  },
  {
   "cell_type": "code",
   "execution_count": 117,
   "id": "a020709a",
   "metadata": {},
   "outputs": [
    {
     "data": {
      "text/plain": [
       "array([0.  , 0.05, 0.15, 0.25, 0.  , 0.3 , 0.3 , 0.05, 0.25, 0.35, 0.45,\n",
       "       0.35, 0.45, 0.2 , 0.35, 0.25, 0.3 , 0.7 , 0.3 , 0.25])"
      ]
     },
     "execution_count": 117,
     "metadata": {},
     "output_type": "execute_result"
    }
   ],
   "source": [
    "emp_conf[i]"
   ]
  },
  {
   "cell_type": "code",
   "execution_count": 120,
   "id": "dc000d9a",
   "metadata": {},
   "outputs": [
    {
     "data": {
      "text/plain": [
       "100"
      ]
     },
     "execution_count": 120,
     "metadata": {},
     "output_type": "execute_result"
    }
   ],
   "source": [
    "len(emp_conf)"
   ]
  },
  {
   "cell_type": "code",
   "execution_count": 118,
   "id": "ba40c160",
   "metadata": {},
   "outputs": [
    {
     "data": {
      "text/plain": [
       "array([0.        , 0.01010101, 0.02020202, 0.03030303, 0.04040404,\n",
       "       0.05050505, 0.06060606, 0.07070707, 0.08080808, 0.09090909,\n",
       "       0.1010101 , 0.11111111, 0.12121212, 0.13131313, 0.14141414,\n",
       "       0.15151515, 0.16161616, 0.17171717, 0.18181818, 0.19191919,\n",
       "       0.2020202 , 0.21212121, 0.22222222, 0.23232323, 0.24242424,\n",
       "       0.25252525, 0.26262626, 0.27272727, 0.28282828, 0.29292929,\n",
       "       0.3030303 , 0.31313131, 0.32323232, 0.33333333, 0.34343434,\n",
       "       0.35353535, 0.36363636, 0.37373737, 0.38383838, 0.39393939,\n",
       "       0.4040404 , 0.41414141, 0.42424242, 0.43434343, 0.44444444,\n",
       "       0.45454545, 0.46464646, 0.47474747, 0.48484848, 0.49494949,\n",
       "       0.50505051, 0.51515152, 0.52525253, 0.53535354, 0.54545455,\n",
       "       0.55555556, 0.56565657, 0.57575758, 0.58585859, 0.5959596 ,\n",
       "       0.60606061, 0.61616162, 0.62626263, 0.63636364, 0.64646465,\n",
       "       0.65656566, 0.66666667, 0.67676768, 0.68686869, 0.6969697 ,\n",
       "       0.70707071, 0.71717172, 0.72727273, 0.73737374, 0.74747475,\n",
       "       0.75757576, 0.76767677, 0.77777778, 0.78787879, 0.7979798 ,\n",
       "       0.80808081, 0.81818182, 0.82828283, 0.83838384, 0.84848485,\n",
       "       0.85858586, 0.86868687, 0.87878788, 0.88888889, 0.8989899 ,\n",
       "       0.90909091, 0.91919192, 0.92929293, 0.93939394, 0.94949495,\n",
       "       0.95959596, 0.96969697, 0.97979798, 0.98989899, 1.        ])"
      ]
     },
     "execution_count": 118,
     "metadata": {},
     "output_type": "execute_result"
    }
   ],
   "source": [
    "p_m "
   ]
  },
  {
   "cell_type": "code",
   "execution_count": 107,
   "id": "cad52501",
   "metadata": {},
   "outputs": [
    {
     "data": {
      "text/plain": [
       "(<tf.Tensor: shape=(20, 1), dtype=float32, numpy=\n",
       " array([[-5.4508853 ],\n",
       "        [ 3.7182336 ],\n",
       "        [ 0.05139887],\n",
       "        [ 2.4122658 ],\n",
       "        [ 8.305722  ],\n",
       "        [ 0.06007683],\n",
       "        [ 0.10221572],\n",
       "        [-5.520369  ],\n",
       "        [-2.3172717 ],\n",
       "        [ 0.10361144],\n",
       "        [ 1.4050654 ],\n",
       "        [ 4.269282  ],\n",
       "        [-0.5359514 ],\n",
       "        [-5.6201725 ],\n",
       "        [-1.9967948 ],\n",
       "        [ 6.720168  ],\n",
       "        [-3.213558  ],\n",
       "        [ 0.13919345],\n",
       "        [ 7.221165  ],\n",
       "        [-6.289968  ]], dtype=float32)>,\n",
       " array([-37.27840346,  11.60129032,   0.70375618,   1.1338909 ,\n",
       "         60.8666786 ,   0.49221532,  -1.16141911, -34.04060666,\n",
       "         -6.49336464,  -4.3520361 ,   1.73214381,   7.48240797,\n",
       "          2.28410718, -43.12205149,  -7.09601771,  38.40011462,\n",
       "        -17.00816807,   1.55010253,  34.85781846, -56.89340913]))"
      ]
     },
     "execution_count": 107,
     "metadata": {},
     "output_type": "execute_result"
    }
   ],
   "source": [
    "y_pred_mu, y_data"
   ]
  },
  {
   "cell_type": "code",
   "execution_count": null,
   "id": "9a3da1b7",
   "metadata": {},
   "outputs": [],
   "source": []
  },
  {
   "cell_type": "code",
   "execution_count": null,
   "id": "f8946d22",
   "metadata": {},
   "outputs": [],
   "source": []
  },
  {
   "cell_type": "code",
   "execution_count": null,
   "id": "9487c7b4",
   "metadata": {},
   "outputs": [],
   "source": [
    "    np_data = []\n",
    "    sparsification_data =[]\n",
    "    info_sparse_plot = {\"quantile_ids\": [], \"quantile_counts\":[]}\n",
    "    cnt_batch = 0"
   ]
  },
  {
   "cell_type": "code",
   "execution_count": null,
   "id": "e4f50029",
   "metadata": {},
   "outputs": [],
   "source": []
  },
  {
   "cell_type": "code",
   "execution_count": null,
   "id": "053fb86f",
   "metadata": {},
   "outputs": [],
   "source": []
  },
  {
   "cell_type": "code",
   "execution_count": null,
   "id": "0ff89e8d",
   "metadata": {},
   "outputs": [],
   "source": []
  },
  {
   "cell_type": "code",
   "execution_count": null,
   "id": "5e693f0b",
   "metadata": {},
   "outputs": [],
   "source": []
  },
  {
   "cell_type": "code",
   "execution_count": null,
   "id": "21d932cb",
   "metadata": {},
   "outputs": [
    {
     "name": "stdout",
     "output_type": "stream",
     "text": [
      "Epoch 1/10\n",
      "1200/1200 [==============================] - 19s 15ms/step - loss: 0.1442 - accuracy: 0.9573 - val_loss: 0.0498 - val_accuracy: 0.9836\n",
      "Epoch 2/10\n",
      "1200/1200 [==============================] - 16s 13ms/step - loss: 0.0447 - accuracy: 0.9859 - val_loss: 0.0373 - val_accuracy: 0.9867\n",
      "Epoch 3/10\n",
      "1200/1200 [==============================] - 17s 14ms/step - loss: 0.0303 - accuracy: 0.9905 - val_loss: 0.0452 - val_accuracy: 0.9855\n",
      "Epoch 4/10\n",
      "1200/1200 [==============================] - 16s 13ms/step - loss: 0.0228 - accuracy: 0.9924 - val_loss: 0.0305 - val_accuracy: 0.9897\n",
      "Epoch 5/10\n",
      "1200/1200 [==============================] - 15s 13ms/step - loss: 0.0161 - accuracy: 0.9947 - val_loss: 0.0314 - val_accuracy: 0.9895\n",
      "Epoch 6/10\n",
      "1200/1200 [==============================] - 16s 13ms/step - loss: 0.0124 - accuracy: 0.9961 - val_loss: 0.0454 - val_accuracy: 0.9854\n",
      "Epoch 7/10\n",
      "1200/1200 [==============================] - 17s 14ms/step - loss: 0.0102 - accuracy: 0.9969 - val_loss: 0.0334 - val_accuracy: 0.9897\n",
      "Epoch 8/10\n",
      " 890/1200 [=====================>........] - ETA: 4s - loss: 0.0090 - accuracy: 0.9971"
     ]
    }
   ],
   "source": [
    "from keras.datasets import mnist\n",
    "from tensorflow.keras.utils import to_categorical\n",
    "from keras.models import Sequential\n",
    "from keras.layers import Conv2D, MaxPooling2D\n",
    "from keras.layers import Dense, Flatten\n",
    " \n",
    "(train_images, train_labels), (test_images, test_labels) = mnist.load_data()\n",
    "x_train = train_images.reshape(60000, 28, 28, 1) / 255\n",
    "x_test = test_images.reshape(10000, 28, 28, 1) / 255\n",
    "y_train = to_categorical(train_labels)\n",
    "y_test = to_categorical(test_labels)\n",
    " \n",
    "model = Sequential()\n",
    "model.add(Conv2D(32, (3, 3), activation='relu', input_shape=(28, 28, 1)))\n",
    "model.add(MaxPooling2D(2, 2))\n",
    "model.add(Conv2D(64, (3, 3), activation='relu'))\n",
    "model.add(MaxPooling2D(2, 2))\n",
    "model.add(Flatten())\n",
    "model.add(Dense(128, activation='relu'))\n",
    "model.add(Dense(10, activation='softmax'))\n",
    "model.compile(optimizer='adam', loss='categorical_crossentropy', metrics=['accuracy'])\n",
    " \n",
    "hist = model.fit(x_train, y_train, validation_data=(x_test, y_test), epochs=10, batch_size=50)\n"
   ]
  },
  {
   "cell_type": "code",
   "execution_count": null,
   "id": "15a816be",
   "metadata": {},
   "outputs": [],
   "source": [
    "hist = model.fit(x_train, y_train, validation_data=(x_test, y_test), epochs=10, batch_size=50)\n"
   ]
  },
  {
   "cell_type": "code",
   "execution_count": 57,
   "id": "6fe0fcfb",
   "metadata": {},
   "outputs": [
    {
     "name": "stdout",
     "output_type": "stream",
     "text": [
      "313/313 [==============================] - 2s 6ms/step\n"
     ]
    }
   ],
   "source": [
    "pred_prob =  model.predict(x_test)"
   ]
  },
  {
   "cell_type": "code",
   "execution_count": 58,
   "id": "eee6c4f1",
   "metadata": {},
   "outputs": [
    {
     "data": {
      "text/plain": [
       "(10000, 10)"
      ]
     },
     "execution_count": 58,
     "metadata": {},
     "output_type": "execute_result"
    }
   ],
   "source": [
    "pred_prob.shape"
   ]
  },
  {
   "cell_type": "code",
   "execution_count": 59,
   "id": "48e5319a",
   "metadata": {},
   "outputs": [
    {
     "data": {
      "text/plain": [
       "array([[6.8426077e-21, 5.6827881e-15, 1.2304005e-16, 5.0389717e-24,\n",
       "        2.4703848e-21, 1.8833581e-23, 6.6268716e-29, 1.0000000e+00,\n",
       "        5.0399185e-22, 1.3354221e-19],\n",
       "       [1.5393574e-13, 9.4745804e-13, 1.0000000e+00, 8.5189515e-20,\n",
       "        2.9868347e-25, 3.3163344e-30, 2.7004766e-13, 9.9695418e-21,\n",
       "        2.3680935e-19, 1.4827376e-23],\n",
       "       [2.1996936e-16, 1.0000000e+00, 4.3806939e-15, 2.8016966e-20,\n",
       "        3.8092867e-12, 3.9959206e-13, 3.1727912e-11, 2.9161704e-10,\n",
       "        6.3705305e-11, 2.2690359e-15],\n",
       "       [1.0000000e+00, 1.8026317e-17, 6.0468605e-12, 2.3106086e-19,\n",
       "        7.9882011e-21, 1.7880662e-15, 1.1154127e-11, 6.6850339e-16,\n",
       "        2.3725560e-15, 1.8127343e-13],\n",
       "       [8.7793648e-17, 4.9723312e-16, 2.0916657e-15, 1.6702088e-19,\n",
       "        9.9999988e-01, 8.2358178e-17, 1.8467204e-14, 5.0111171e-17,\n",
       "        6.2959665e-10, 7.6423589e-08]], dtype=float32)"
      ]
     },
     "execution_count": 59,
     "metadata": {},
     "output_type": "execute_result"
    }
   ],
   "source": [
    "pred_prob[0:5]"
   ]
  },
  {
   "cell_type": "code",
   "execution_count": 60,
   "id": "1ed6b0cb",
   "metadata": {},
   "outputs": [
    {
     "data": {
      "text/plain": [
       "array([1.       , 1.       , 1.       , 1.       , 0.9999999],\n",
       "      dtype=float32)"
      ]
     },
     "execution_count": 60,
     "metadata": {},
     "output_type": "execute_result"
    }
   ],
   "source": [
    "confidences=np.max(pred_prob,axis=1)\n",
    "confidences[0:5]"
   ]
  },
  {
   "cell_type": "code",
   "execution_count": 61,
   "id": "73ee60c8",
   "metadata": {},
   "outputs": [
    {
     "data": {
      "text/plain": [
       "array([7, 2, 1, 0, 4, 1, 4, 9, 5, 9], dtype=int64)"
      ]
     },
     "execution_count": 61,
     "metadata": {},
     "output_type": "execute_result"
    }
   ],
   "source": [
    "np.argmax(pred_prob[0:10],axis=1)"
   ]
  },
  {
   "cell_type": "code",
   "execution_count": 62,
   "id": "2865a608",
   "metadata": {},
   "outputs": [
    {
     "data": {
      "text/plain": [
       "array([7, 2, 1, ..., 4, 5, 6], dtype=uint8)"
      ]
     },
     "execution_count": 62,
     "metadata": {},
     "output_type": "execute_result"
    }
   ],
   "source": [
    "test_labels"
   ]
  },
  {
   "cell_type": "code",
   "execution_count": 63,
   "id": "5777193f",
   "metadata": {},
   "outputs": [],
   "source": [
    "import numpy as np\n",
    "pred_labels = np.argmax(pred_prob,axis=1)"
   ]
  },
  {
   "cell_type": "code",
   "execution_count": 64,
   "id": "f225e319",
   "metadata": {},
   "outputs": [
    {
     "data": {
      "text/plain": [
       "(10000,)"
      ]
     },
     "execution_count": 64,
     "metadata": {},
     "output_type": "execute_result"
    }
   ],
   "source": [
    "pred_label.shape"
   ]
  },
  {
   "cell_type": "code",
   "execution_count": 65,
   "id": "c4514578",
   "metadata": {},
   "outputs": [
    {
     "name": "stderr",
     "output_type": "stream",
     "text": [
      "C:\\Users\\uid38717\\AppData\\Local\\Temp\\ipykernel_8228\\2767785863.py:31: DeprecationWarning:\n",
      "\n",
      "`np.float` is a deprecated alias for the builtin `float`. To silence this warning, use `float` by itself. Doing this will not modify any behavior and is safe. If you specifically wanted the numpy scalar type, use `np.float64` here.\n",
      "Deprecated in NumPy 1.20; for more details and guidance: https://numpy.org/devdocs/release/1.20.0-notes.html#deprecations\n",
      "\n",
      "C:\\Users\\uid38717\\AppData\\Local\\Temp\\ipykernel_8228\\2767785863.py:32: DeprecationWarning:\n",
      "\n",
      "`np.float` is a deprecated alias for the builtin `float`. To silence this warning, use `float` by itself. Doing this will not modify any behavior and is safe. If you specifically wanted the numpy scalar type, use `np.float64` here.\n",
      "Deprecated in NumPy 1.20; for more details and guidance: https://numpy.org/devdocs/release/1.20.0-notes.html#deprecations\n",
      "\n",
      "C:\\Users\\uid38717\\AppData\\Local\\Temp\\ipykernel_8228\\2767785863.py:33: DeprecationWarning:\n",
      "\n",
      "`np.int` is a deprecated alias for the builtin `int`. To silence this warning, use `int` by itself. Doing this will not modify any behavior and is safe. When replacing `np.int`, you may wish to use e.g. `np.int64` or `np.int32` to specify the precision. If you wish to review your current use, check the release note link for additional information.\n",
      "Deprecated in NumPy 1.20; for more details and guidance: https://numpy.org/devdocs/release/1.20.0-notes.html#deprecations\n",
      "\n"
     ]
    }
   ],
   "source": [
    "scores = compute_calibration(test_labels, pred_labels, confidences, num_bins=10)"
   ]
  },
  {
   "cell_type": "code",
   "execution_count": 66,
   "id": "d6e59ce7",
   "metadata": {},
   "outputs": [
    {
     "data": {
      "text/plain": [
       "{'accuracies': array([0.        , 0.        , 0.        , 0.        , 0.        ,\n",
       "        0.4375    , 0.5       , 0.56521739, 0.46153846, 0.99516422]),\n",
       " 'confidences': array([0.        , 0.        , 0.        , 0.        , 0.47580668,\n",
       "        0.54877436, 0.64885032, 0.75892317, 0.85337895, 0.99966729]),\n",
       " 'counts': array([   0,    0,    0,    0,    1,   16,    8,   23,   26, 9926]),\n",
       " 'bins': array([0. , 0.1, 0.2, 0.3, 0.4, 0.5, 0.6, 0.7, 0.8, 0.9, 1. ]),\n",
       " 'avg_accuracy': 0.9914,\n",
       " 'avg_confidence': 0.9976787574261426,\n",
       " 'expected_calibration_error': 0.006278757426142701,\n",
       " 'max_calibration_error': 0.47580668330192566}"
      ]
     },
     "execution_count": 66,
     "metadata": {},
     "output_type": "execute_result"
    }
   ],
   "source": [
    "scores"
   ]
  },
  {
   "cell_type": "code",
   "execution_count": 71,
   "id": "164ee0b8",
   "metadata": {},
   "outputs": [
    {
     "name": "stdout",
     "output_type": "stream",
     "text": [
      "[0.         0.         0.         0.         0.47580668 0.54877436\n",
      " 0.64885032 0.75892317 0.85337895 0.99966729]\n",
      "[0.         0.         0.         0.         0.         0.4375\n",
      " 0.5        0.56521739 0.46153846 0.99516422]\n"
     ]
    },
    {
     "data": {
      "application/vnd.plotly.v1+json": {
       "config": {
        "plotlyServerURL": "https://plot.ly"
       },
       "data": [
        {
         "mode": "lines+markers",
         "name": "perfectly_calibrated",
         "type": "scattergl",
         "x": [
          0,
          1
         ],
         "y": [
          0,
          1
         ]
        },
        {
         "mode": "lines+markers",
         "name": "not calibrated",
         "type": "scattergl",
         "x": [
          0,
          0,
          0,
          0,
          0.47580668330192566,
          0.5487743616104126,
          0.6488503217697144,
          0.7589231729507446,
          0.85337895154953,
          0.9996672868728638
         ],
         "y": [
          0,
          0,
          0,
          0,
          0,
          0.4375,
          0.5,
          0.5652173913043478,
          0.46153846153846156,
          0.9951642151924239
         ]
        }
       ],
       "layout": {
        "template": {
         "data": {
          "bar": [
           {
            "error_x": {
             "color": "#2a3f5f"
            },
            "error_y": {
             "color": "#2a3f5f"
            },
            "marker": {
             "line": {
              "color": "#E5ECF6",
              "width": 0.5
             },
             "pattern": {
              "fillmode": "overlay",
              "size": 10,
              "solidity": 0.2
             }
            },
            "type": "bar"
           }
          ],
          "barpolar": [
           {
            "marker": {
             "line": {
              "color": "#E5ECF6",
              "width": 0.5
             },
             "pattern": {
              "fillmode": "overlay",
              "size": 10,
              "solidity": 0.2
             }
            },
            "type": "barpolar"
           }
          ],
          "carpet": [
           {
            "aaxis": {
             "endlinecolor": "#2a3f5f",
             "gridcolor": "white",
             "linecolor": "white",
             "minorgridcolor": "white",
             "startlinecolor": "#2a3f5f"
            },
            "baxis": {
             "endlinecolor": "#2a3f5f",
             "gridcolor": "white",
             "linecolor": "white",
             "minorgridcolor": "white",
             "startlinecolor": "#2a3f5f"
            },
            "type": "carpet"
           }
          ],
          "choropleth": [
           {
            "colorbar": {
             "outlinewidth": 0,
             "ticks": ""
            },
            "type": "choropleth"
           }
          ],
          "contour": [
           {
            "colorbar": {
             "outlinewidth": 0,
             "ticks": ""
            },
            "colorscale": [
             [
              0,
              "#0d0887"
             ],
             [
              0.1111111111111111,
              "#46039f"
             ],
             [
              0.2222222222222222,
              "#7201a8"
             ],
             [
              0.3333333333333333,
              "#9c179e"
             ],
             [
              0.4444444444444444,
              "#bd3786"
             ],
             [
              0.5555555555555556,
              "#d8576b"
             ],
             [
              0.6666666666666666,
              "#ed7953"
             ],
             [
              0.7777777777777778,
              "#fb9f3a"
             ],
             [
              0.8888888888888888,
              "#fdca26"
             ],
             [
              1,
              "#f0f921"
             ]
            ],
            "type": "contour"
           }
          ],
          "contourcarpet": [
           {
            "colorbar": {
             "outlinewidth": 0,
             "ticks": ""
            },
            "type": "contourcarpet"
           }
          ],
          "heatmap": [
           {
            "colorbar": {
             "outlinewidth": 0,
             "ticks": ""
            },
            "colorscale": [
             [
              0,
              "#0d0887"
             ],
             [
              0.1111111111111111,
              "#46039f"
             ],
             [
              0.2222222222222222,
              "#7201a8"
             ],
             [
              0.3333333333333333,
              "#9c179e"
             ],
             [
              0.4444444444444444,
              "#bd3786"
             ],
             [
              0.5555555555555556,
              "#d8576b"
             ],
             [
              0.6666666666666666,
              "#ed7953"
             ],
             [
              0.7777777777777778,
              "#fb9f3a"
             ],
             [
              0.8888888888888888,
              "#fdca26"
             ],
             [
              1,
              "#f0f921"
             ]
            ],
            "type": "heatmap"
           }
          ],
          "heatmapgl": [
           {
            "colorbar": {
             "outlinewidth": 0,
             "ticks": ""
            },
            "colorscale": [
             [
              0,
              "#0d0887"
             ],
             [
              0.1111111111111111,
              "#46039f"
             ],
             [
              0.2222222222222222,
              "#7201a8"
             ],
             [
              0.3333333333333333,
              "#9c179e"
             ],
             [
              0.4444444444444444,
              "#bd3786"
             ],
             [
              0.5555555555555556,
              "#d8576b"
             ],
             [
              0.6666666666666666,
              "#ed7953"
             ],
             [
              0.7777777777777778,
              "#fb9f3a"
             ],
             [
              0.8888888888888888,
              "#fdca26"
             ],
             [
              1,
              "#f0f921"
             ]
            ],
            "type": "heatmapgl"
           }
          ],
          "histogram": [
           {
            "marker": {
             "pattern": {
              "fillmode": "overlay",
              "size": 10,
              "solidity": 0.2
             }
            },
            "type": "histogram"
           }
          ],
          "histogram2d": [
           {
            "colorbar": {
             "outlinewidth": 0,
             "ticks": ""
            },
            "colorscale": [
             [
              0,
              "#0d0887"
             ],
             [
              0.1111111111111111,
              "#46039f"
             ],
             [
              0.2222222222222222,
              "#7201a8"
             ],
             [
              0.3333333333333333,
              "#9c179e"
             ],
             [
              0.4444444444444444,
              "#bd3786"
             ],
             [
              0.5555555555555556,
              "#d8576b"
             ],
             [
              0.6666666666666666,
              "#ed7953"
             ],
             [
              0.7777777777777778,
              "#fb9f3a"
             ],
             [
              0.8888888888888888,
              "#fdca26"
             ],
             [
              1,
              "#f0f921"
             ]
            ],
            "type": "histogram2d"
           }
          ],
          "histogram2dcontour": [
           {
            "colorbar": {
             "outlinewidth": 0,
             "ticks": ""
            },
            "colorscale": [
             [
              0,
              "#0d0887"
             ],
             [
              0.1111111111111111,
              "#46039f"
             ],
             [
              0.2222222222222222,
              "#7201a8"
             ],
             [
              0.3333333333333333,
              "#9c179e"
             ],
             [
              0.4444444444444444,
              "#bd3786"
             ],
             [
              0.5555555555555556,
              "#d8576b"
             ],
             [
              0.6666666666666666,
              "#ed7953"
             ],
             [
              0.7777777777777778,
              "#fb9f3a"
             ],
             [
              0.8888888888888888,
              "#fdca26"
             ],
             [
              1,
              "#f0f921"
             ]
            ],
            "type": "histogram2dcontour"
           }
          ],
          "mesh3d": [
           {
            "colorbar": {
             "outlinewidth": 0,
             "ticks": ""
            },
            "type": "mesh3d"
           }
          ],
          "parcoords": [
           {
            "line": {
             "colorbar": {
              "outlinewidth": 0,
              "ticks": ""
             }
            },
            "type": "parcoords"
           }
          ],
          "pie": [
           {
            "automargin": true,
            "type": "pie"
           }
          ],
          "scatter": [
           {
            "fillpattern": {
             "fillmode": "overlay",
             "size": 10,
             "solidity": 0.2
            },
            "type": "scatter"
           }
          ],
          "scatter3d": [
           {
            "line": {
             "colorbar": {
              "outlinewidth": 0,
              "ticks": ""
             }
            },
            "marker": {
             "colorbar": {
              "outlinewidth": 0,
              "ticks": ""
             }
            },
            "type": "scatter3d"
           }
          ],
          "scattercarpet": [
           {
            "marker": {
             "colorbar": {
              "outlinewidth": 0,
              "ticks": ""
             }
            },
            "type": "scattercarpet"
           }
          ],
          "scattergeo": [
           {
            "marker": {
             "colorbar": {
              "outlinewidth": 0,
              "ticks": ""
             }
            },
            "type": "scattergeo"
           }
          ],
          "scattergl": [
           {
            "marker": {
             "colorbar": {
              "outlinewidth": 0,
              "ticks": ""
             }
            },
            "type": "scattergl"
           }
          ],
          "scattermapbox": [
           {
            "marker": {
             "colorbar": {
              "outlinewidth": 0,
              "ticks": ""
             }
            },
            "type": "scattermapbox"
           }
          ],
          "scatterpolar": [
           {
            "marker": {
             "colorbar": {
              "outlinewidth": 0,
              "ticks": ""
             }
            },
            "type": "scatterpolar"
           }
          ],
          "scatterpolargl": [
           {
            "marker": {
             "colorbar": {
              "outlinewidth": 0,
              "ticks": ""
             }
            },
            "type": "scatterpolargl"
           }
          ],
          "scatterternary": [
           {
            "marker": {
             "colorbar": {
              "outlinewidth": 0,
              "ticks": ""
             }
            },
            "type": "scatterternary"
           }
          ],
          "surface": [
           {
            "colorbar": {
             "outlinewidth": 0,
             "ticks": ""
            },
            "colorscale": [
             [
              0,
              "#0d0887"
             ],
             [
              0.1111111111111111,
              "#46039f"
             ],
             [
              0.2222222222222222,
              "#7201a8"
             ],
             [
              0.3333333333333333,
              "#9c179e"
             ],
             [
              0.4444444444444444,
              "#bd3786"
             ],
             [
              0.5555555555555556,
              "#d8576b"
             ],
             [
              0.6666666666666666,
              "#ed7953"
             ],
             [
              0.7777777777777778,
              "#fb9f3a"
             ],
             [
              0.8888888888888888,
              "#fdca26"
             ],
             [
              1,
              "#f0f921"
             ]
            ],
            "type": "surface"
           }
          ],
          "table": [
           {
            "cells": {
             "fill": {
              "color": "#EBF0F8"
             },
             "line": {
              "color": "white"
             }
            },
            "header": {
             "fill": {
              "color": "#C8D4E3"
             },
             "line": {
              "color": "white"
             }
            },
            "type": "table"
           }
          ]
         },
         "layout": {
          "annotationdefaults": {
           "arrowcolor": "#2a3f5f",
           "arrowhead": 0,
           "arrowwidth": 1
          },
          "autotypenumbers": "strict",
          "coloraxis": {
           "colorbar": {
            "outlinewidth": 0,
            "ticks": ""
           }
          },
          "colorscale": {
           "diverging": [
            [
             0,
             "#8e0152"
            ],
            [
             0.1,
             "#c51b7d"
            ],
            [
             0.2,
             "#de77ae"
            ],
            [
             0.3,
             "#f1b6da"
            ],
            [
             0.4,
             "#fde0ef"
            ],
            [
             0.5,
             "#f7f7f7"
            ],
            [
             0.6,
             "#e6f5d0"
            ],
            [
             0.7,
             "#b8e186"
            ],
            [
             0.8,
             "#7fbc41"
            ],
            [
             0.9,
             "#4d9221"
            ],
            [
             1,
             "#276419"
            ]
           ],
           "sequential": [
            [
             0,
             "#0d0887"
            ],
            [
             0.1111111111111111,
             "#46039f"
            ],
            [
             0.2222222222222222,
             "#7201a8"
            ],
            [
             0.3333333333333333,
             "#9c179e"
            ],
            [
             0.4444444444444444,
             "#bd3786"
            ],
            [
             0.5555555555555556,
             "#d8576b"
            ],
            [
             0.6666666666666666,
             "#ed7953"
            ],
            [
             0.7777777777777778,
             "#fb9f3a"
            ],
            [
             0.8888888888888888,
             "#fdca26"
            ],
            [
             1,
             "#f0f921"
            ]
           ],
           "sequentialminus": [
            [
             0,
             "#0d0887"
            ],
            [
             0.1111111111111111,
             "#46039f"
            ],
            [
             0.2222222222222222,
             "#7201a8"
            ],
            [
             0.3333333333333333,
             "#9c179e"
            ],
            [
             0.4444444444444444,
             "#bd3786"
            ],
            [
             0.5555555555555556,
             "#d8576b"
            ],
            [
             0.6666666666666666,
             "#ed7953"
            ],
            [
             0.7777777777777778,
             "#fb9f3a"
            ],
            [
             0.8888888888888888,
             "#fdca26"
            ],
            [
             1,
             "#f0f921"
            ]
           ]
          },
          "colorway": [
           "#636efa",
           "#EF553B",
           "#00cc96",
           "#ab63fa",
           "#FFA15A",
           "#19d3f3",
           "#FF6692",
           "#B6E880",
           "#FF97FF",
           "#FECB52"
          ],
          "font": {
           "color": "#2a3f5f"
          },
          "geo": {
           "bgcolor": "white",
           "lakecolor": "white",
           "landcolor": "#E5ECF6",
           "showlakes": true,
           "showland": true,
           "subunitcolor": "white"
          },
          "hoverlabel": {
           "align": "left"
          },
          "hovermode": "closest",
          "mapbox": {
           "style": "light"
          },
          "paper_bgcolor": "white",
          "plot_bgcolor": "#E5ECF6",
          "polar": {
           "angularaxis": {
            "gridcolor": "white",
            "linecolor": "white",
            "ticks": ""
           },
           "bgcolor": "#E5ECF6",
           "radialaxis": {
            "gridcolor": "white",
            "linecolor": "white",
            "ticks": ""
           }
          },
          "scene": {
           "xaxis": {
            "backgroundcolor": "#E5ECF6",
            "gridcolor": "white",
            "gridwidth": 2,
            "linecolor": "white",
            "showbackground": true,
            "ticks": "",
            "zerolinecolor": "white"
           },
           "yaxis": {
            "backgroundcolor": "#E5ECF6",
            "gridcolor": "white",
            "gridwidth": 2,
            "linecolor": "white",
            "showbackground": true,
            "ticks": "",
            "zerolinecolor": "white"
           },
           "zaxis": {
            "backgroundcolor": "#E5ECF6",
            "gridcolor": "white",
            "gridwidth": 2,
            "linecolor": "white",
            "showbackground": true,
            "ticks": "",
            "zerolinecolor": "white"
           }
          },
          "shapedefaults": {
           "line": {
            "color": "#2a3f5f"
           }
          },
          "ternary": {
           "aaxis": {
            "gridcolor": "white",
            "linecolor": "white",
            "ticks": ""
           },
           "baxis": {
            "gridcolor": "white",
            "linecolor": "white",
            "ticks": ""
           },
           "bgcolor": "#E5ECF6",
           "caxis": {
            "gridcolor": "white",
            "linecolor": "white",
            "ticks": ""
           }
          },
          "title": {
           "x": 0.05
          },
          "xaxis": {
           "automargin": true,
           "gridcolor": "white",
           "linecolor": "white",
           "ticks": "",
           "title": {
            "standoff": 15
           },
           "zerolinecolor": "white",
           "zerolinewidth": 2
          },
          "yaxis": {
           "automargin": true,
           "gridcolor": "white",
           "linecolor": "white",
           "ticks": "",
           "title": {
            "standoff": 15
           },
           "zerolinecolor": "white",
           "zerolinewidth": 2
          }
         }
        },
        "title": {
         "text": "Calibration Curve"
        },
        "xaxis": {
         "title": {
          "text": "Predicted_confidence"
         }
        },
        "yaxis": {
         "title": {
          "text": "Expected_accuracy"
         }
        }
       }
      },
      "text/html": [
       "<div>                            <div id=\"7d798898-c990-48ff-9c2d-d2c104531925\" class=\"plotly-graph-div\" style=\"height:525px; width:100%;\"></div>            <script type=\"text/javascript\">                require([\"plotly\"], function(Plotly) {                    window.PLOTLYENV=window.PLOTLYENV || {};                                    if (document.getElementById(\"7d798898-c990-48ff-9c2d-d2c104531925\")) {                    Plotly.newPlot(                        \"7d798898-c990-48ff-9c2d-d2c104531925\",                        [{\"mode\":\"lines+markers\",\"name\":\"perfectly_calibrated\",\"x\":[0,1],\"y\":[0,1],\"type\":\"scattergl\"},{\"mode\":\"lines+markers\",\"name\":\"not calibrated\",\"x\":[0.0,0.0,0.0,0.0,0.47580668330192566,0.5487743616104126,0.6488503217697144,0.7589231729507446,0.85337895154953,0.9996672868728638],\"y\":[0.0,0.0,0.0,0.0,0.0,0.4375,0.5,0.5652173913043478,0.46153846153846156,0.9951642151924239],\"type\":\"scattergl\"}],                        {\"template\":{\"data\":{\"histogram2dcontour\":[{\"type\":\"histogram2dcontour\",\"colorbar\":{\"outlinewidth\":0,\"ticks\":\"\"},\"colorscale\":[[0.0,\"#0d0887\"],[0.1111111111111111,\"#46039f\"],[0.2222222222222222,\"#7201a8\"],[0.3333333333333333,\"#9c179e\"],[0.4444444444444444,\"#bd3786\"],[0.5555555555555556,\"#d8576b\"],[0.6666666666666666,\"#ed7953\"],[0.7777777777777778,\"#fb9f3a\"],[0.8888888888888888,\"#fdca26\"],[1.0,\"#f0f921\"]]}],\"choropleth\":[{\"type\":\"choropleth\",\"colorbar\":{\"outlinewidth\":0,\"ticks\":\"\"}}],\"histogram2d\":[{\"type\":\"histogram2d\",\"colorbar\":{\"outlinewidth\":0,\"ticks\":\"\"},\"colorscale\":[[0.0,\"#0d0887\"],[0.1111111111111111,\"#46039f\"],[0.2222222222222222,\"#7201a8\"],[0.3333333333333333,\"#9c179e\"],[0.4444444444444444,\"#bd3786\"],[0.5555555555555556,\"#d8576b\"],[0.6666666666666666,\"#ed7953\"],[0.7777777777777778,\"#fb9f3a\"],[0.8888888888888888,\"#fdca26\"],[1.0,\"#f0f921\"]]}],\"heatmap\":[{\"type\":\"heatmap\",\"colorbar\":{\"outlinewidth\":0,\"ticks\":\"\"},\"colorscale\":[[0.0,\"#0d0887\"],[0.1111111111111111,\"#46039f\"],[0.2222222222222222,\"#7201a8\"],[0.3333333333333333,\"#9c179e\"],[0.4444444444444444,\"#bd3786\"],[0.5555555555555556,\"#d8576b\"],[0.6666666666666666,\"#ed7953\"],[0.7777777777777778,\"#fb9f3a\"],[0.8888888888888888,\"#fdca26\"],[1.0,\"#f0f921\"]]}],\"heatmapgl\":[{\"type\":\"heatmapgl\",\"colorbar\":{\"outlinewidth\":0,\"ticks\":\"\"},\"colorscale\":[[0.0,\"#0d0887\"],[0.1111111111111111,\"#46039f\"],[0.2222222222222222,\"#7201a8\"],[0.3333333333333333,\"#9c179e\"],[0.4444444444444444,\"#bd3786\"],[0.5555555555555556,\"#d8576b\"],[0.6666666666666666,\"#ed7953\"],[0.7777777777777778,\"#fb9f3a\"],[0.8888888888888888,\"#fdca26\"],[1.0,\"#f0f921\"]]}],\"contourcarpet\":[{\"type\":\"contourcarpet\",\"colorbar\":{\"outlinewidth\":0,\"ticks\":\"\"}}],\"contour\":[{\"type\":\"contour\",\"colorbar\":{\"outlinewidth\":0,\"ticks\":\"\"},\"colorscale\":[[0.0,\"#0d0887\"],[0.1111111111111111,\"#46039f\"],[0.2222222222222222,\"#7201a8\"],[0.3333333333333333,\"#9c179e\"],[0.4444444444444444,\"#bd3786\"],[0.5555555555555556,\"#d8576b\"],[0.6666666666666666,\"#ed7953\"],[0.7777777777777778,\"#fb9f3a\"],[0.8888888888888888,\"#fdca26\"],[1.0,\"#f0f921\"]]}],\"surface\":[{\"type\":\"surface\",\"colorbar\":{\"outlinewidth\":0,\"ticks\":\"\"},\"colorscale\":[[0.0,\"#0d0887\"],[0.1111111111111111,\"#46039f\"],[0.2222222222222222,\"#7201a8\"],[0.3333333333333333,\"#9c179e\"],[0.4444444444444444,\"#bd3786\"],[0.5555555555555556,\"#d8576b\"],[0.6666666666666666,\"#ed7953\"],[0.7777777777777778,\"#fb9f3a\"],[0.8888888888888888,\"#fdca26\"],[1.0,\"#f0f921\"]]}],\"mesh3d\":[{\"type\":\"mesh3d\",\"colorbar\":{\"outlinewidth\":0,\"ticks\":\"\"}}],\"scatter\":[{\"fillpattern\":{\"fillmode\":\"overlay\",\"size\":10,\"solidity\":0.2},\"type\":\"scatter\"}],\"parcoords\":[{\"type\":\"parcoords\",\"line\":{\"colorbar\":{\"outlinewidth\":0,\"ticks\":\"\"}}}],\"scatterpolargl\":[{\"type\":\"scatterpolargl\",\"marker\":{\"colorbar\":{\"outlinewidth\":0,\"ticks\":\"\"}}}],\"bar\":[{\"error_x\":{\"color\":\"#2a3f5f\"},\"error_y\":{\"color\":\"#2a3f5f\"},\"marker\":{\"line\":{\"color\":\"#E5ECF6\",\"width\":0.5},\"pattern\":{\"fillmode\":\"overlay\",\"size\":10,\"solidity\":0.2}},\"type\":\"bar\"}],\"scattergeo\":[{\"type\":\"scattergeo\",\"marker\":{\"colorbar\":{\"outlinewidth\":0,\"ticks\":\"\"}}}],\"scatterpolar\":[{\"type\":\"scatterpolar\",\"marker\":{\"colorbar\":{\"outlinewidth\":0,\"ticks\":\"\"}}}],\"histogram\":[{\"marker\":{\"pattern\":{\"fillmode\":\"overlay\",\"size\":10,\"solidity\":0.2}},\"type\":\"histogram\"}],\"scattergl\":[{\"type\":\"scattergl\",\"marker\":{\"colorbar\":{\"outlinewidth\":0,\"ticks\":\"\"}}}],\"scatter3d\":[{\"type\":\"scatter3d\",\"line\":{\"colorbar\":{\"outlinewidth\":0,\"ticks\":\"\"}},\"marker\":{\"colorbar\":{\"outlinewidth\":0,\"ticks\":\"\"}}}],\"scattermapbox\":[{\"type\":\"scattermapbox\",\"marker\":{\"colorbar\":{\"outlinewidth\":0,\"ticks\":\"\"}}}],\"scatterternary\":[{\"type\":\"scatterternary\",\"marker\":{\"colorbar\":{\"outlinewidth\":0,\"ticks\":\"\"}}}],\"scattercarpet\":[{\"type\":\"scattercarpet\",\"marker\":{\"colorbar\":{\"outlinewidth\":0,\"ticks\":\"\"}}}],\"carpet\":[{\"aaxis\":{\"endlinecolor\":\"#2a3f5f\",\"gridcolor\":\"white\",\"linecolor\":\"white\",\"minorgridcolor\":\"white\",\"startlinecolor\":\"#2a3f5f\"},\"baxis\":{\"endlinecolor\":\"#2a3f5f\",\"gridcolor\":\"white\",\"linecolor\":\"white\",\"minorgridcolor\":\"white\",\"startlinecolor\":\"#2a3f5f\"},\"type\":\"carpet\"}],\"table\":[{\"cells\":{\"fill\":{\"color\":\"#EBF0F8\"},\"line\":{\"color\":\"white\"}},\"header\":{\"fill\":{\"color\":\"#C8D4E3\"},\"line\":{\"color\":\"white\"}},\"type\":\"table\"}],\"barpolar\":[{\"marker\":{\"line\":{\"color\":\"#E5ECF6\",\"width\":0.5},\"pattern\":{\"fillmode\":\"overlay\",\"size\":10,\"solidity\":0.2}},\"type\":\"barpolar\"}],\"pie\":[{\"automargin\":true,\"type\":\"pie\"}]},\"layout\":{\"autotypenumbers\":\"strict\",\"colorway\":[\"#636efa\",\"#EF553B\",\"#00cc96\",\"#ab63fa\",\"#FFA15A\",\"#19d3f3\",\"#FF6692\",\"#B6E880\",\"#FF97FF\",\"#FECB52\"],\"font\":{\"color\":\"#2a3f5f\"},\"hovermode\":\"closest\",\"hoverlabel\":{\"align\":\"left\"},\"paper_bgcolor\":\"white\",\"plot_bgcolor\":\"#E5ECF6\",\"polar\":{\"bgcolor\":\"#E5ECF6\",\"angularaxis\":{\"gridcolor\":\"white\",\"linecolor\":\"white\",\"ticks\":\"\"},\"radialaxis\":{\"gridcolor\":\"white\",\"linecolor\":\"white\",\"ticks\":\"\"}},\"ternary\":{\"bgcolor\":\"#E5ECF6\",\"aaxis\":{\"gridcolor\":\"white\",\"linecolor\":\"white\",\"ticks\":\"\"},\"baxis\":{\"gridcolor\":\"white\",\"linecolor\":\"white\",\"ticks\":\"\"},\"caxis\":{\"gridcolor\":\"white\",\"linecolor\":\"white\",\"ticks\":\"\"}},\"coloraxis\":{\"colorbar\":{\"outlinewidth\":0,\"ticks\":\"\"}},\"colorscale\":{\"sequential\":[[0.0,\"#0d0887\"],[0.1111111111111111,\"#46039f\"],[0.2222222222222222,\"#7201a8\"],[0.3333333333333333,\"#9c179e\"],[0.4444444444444444,\"#bd3786\"],[0.5555555555555556,\"#d8576b\"],[0.6666666666666666,\"#ed7953\"],[0.7777777777777778,\"#fb9f3a\"],[0.8888888888888888,\"#fdca26\"],[1.0,\"#f0f921\"]],\"sequentialminus\":[[0.0,\"#0d0887\"],[0.1111111111111111,\"#46039f\"],[0.2222222222222222,\"#7201a8\"],[0.3333333333333333,\"#9c179e\"],[0.4444444444444444,\"#bd3786\"],[0.5555555555555556,\"#d8576b\"],[0.6666666666666666,\"#ed7953\"],[0.7777777777777778,\"#fb9f3a\"],[0.8888888888888888,\"#fdca26\"],[1.0,\"#f0f921\"]],\"diverging\":[[0,\"#8e0152\"],[0.1,\"#c51b7d\"],[0.2,\"#de77ae\"],[0.3,\"#f1b6da\"],[0.4,\"#fde0ef\"],[0.5,\"#f7f7f7\"],[0.6,\"#e6f5d0\"],[0.7,\"#b8e186\"],[0.8,\"#7fbc41\"],[0.9,\"#4d9221\"],[1,\"#276419\"]]},\"xaxis\":{\"gridcolor\":\"white\",\"linecolor\":\"white\",\"ticks\":\"\",\"title\":{\"standoff\":15},\"zerolinecolor\":\"white\",\"automargin\":true,\"zerolinewidth\":2},\"yaxis\":{\"gridcolor\":\"white\",\"linecolor\":\"white\",\"ticks\":\"\",\"title\":{\"standoff\":15},\"zerolinecolor\":\"white\",\"automargin\":true,\"zerolinewidth\":2},\"scene\":{\"xaxis\":{\"backgroundcolor\":\"#E5ECF6\",\"gridcolor\":\"white\",\"linecolor\":\"white\",\"showbackground\":true,\"ticks\":\"\",\"zerolinecolor\":\"white\",\"gridwidth\":2},\"yaxis\":{\"backgroundcolor\":\"#E5ECF6\",\"gridcolor\":\"white\",\"linecolor\":\"white\",\"showbackground\":true,\"ticks\":\"\",\"zerolinecolor\":\"white\",\"gridwidth\":2},\"zaxis\":{\"backgroundcolor\":\"#E5ECF6\",\"gridcolor\":\"white\",\"linecolor\":\"white\",\"showbackground\":true,\"ticks\":\"\",\"zerolinecolor\":\"white\",\"gridwidth\":2}},\"shapedefaults\":{\"line\":{\"color\":\"#2a3f5f\"}},\"annotationdefaults\":{\"arrowcolor\":\"#2a3f5f\",\"arrowhead\":0,\"arrowwidth\":1},\"geo\":{\"bgcolor\":\"white\",\"landcolor\":\"#E5ECF6\",\"subunitcolor\":\"white\",\"showland\":true,\"showlakes\":true,\"lakecolor\":\"white\"},\"title\":{\"x\":0.05},\"mapbox\":{\"style\":\"light\"}}},\"title\":{\"text\":\"Calibration Curve\"},\"xaxis\":{\"title\":{\"text\":\"Predicted_confidence\"}},\"yaxis\":{\"title\":{\"text\":\"Expected_accuracy\"}}},                        {\"responsive\": true}                    ).then(function(){\n",
       "                            \n",
       "var gd = document.getElementById('7d798898-c990-48ff-9c2d-d2c104531925');\n",
       "var x = new MutationObserver(function (mutations, observer) {{\n",
       "        var display = window.getComputedStyle(gd).display;\n",
       "        if (!display || display === 'none') {{\n",
       "            console.log([gd, 'removed!']);\n",
       "            Plotly.purge(gd);\n",
       "            observer.disconnect();\n",
       "        }}\n",
       "}});\n",
       "\n",
       "// Listen for the removal of the full notebook cells\n",
       "var notebookContainer = gd.closest('#notebook-container');\n",
       "if (notebookContainer) {{\n",
       "    x.observe(notebookContainer, {childList: true});\n",
       "}}\n",
       "\n",
       "// Listen for the clearing of the current output cell\n",
       "var outputEl = gd.closest('.output');\n",
       "if (outputEl) {{\n",
       "    x.observe(outputEl, {childList: true});\n",
       "}}\n",
       "\n",
       "                        })                };                });            </script>        </div>"
      ]
     },
     "metadata": {},
     "output_type": "display_data"
    },
    {
     "data": {
      "application/vnd.plotly.v1+json": {
       "config": {
        "plotlyServerURL": "https://plot.ly"
       },
       "data": [
        {
         "name": "confidence histogram",
         "opacity": 0.8,
         "type": "histogram",
         "x": [
          1,
          1,
          1,
          1,
          0.9999998807907104,
          1,
          0.9999997615814209,
          1,
          0.9999198913574219,
          1,
          1,
          1,
          1,
          1,
          1,
          1,
          1,
          1,
          0.9999402761459351,
          1,
          0.9999998807907104,
          1,
          1,
          1,
          1,
          1,
          1,
          1,
          1,
          1,
          1,
          1,
          1,
          1,
          1,
          1,
          0.9997395873069763,
          1,
          1,
          1,
          1,
          0.9999719858169556,
          1,
          0.9999998807907104,
          1,
          1,
          1,
          1,
          1,
          1,
          1,
          1,
          1,
          1,
          1,
          1,
          1,
          0.9999998807907104,
          1,
          1,
          1,
          1,
          0.9397268295288086,
          1,
          1,
          0.9999998807907104,
          1,
          1,
          1,
          1,
          1,
          1,
          1,
          1,
          1,
          1,
          1,
          1,
          1,
          1,
          1,
          1,
          1,
          1,
          1,
          1,
          1,
          1,
          1,
          0.9999995231628418,
          1,
          1,
          0.9999915361404419,
          1,
          1,
          0.9999971389770508,
          0.9999995231628418,
          1,
          1,
          1,
          1,
          1,
          1,
          1,
          0.9999998807907104,
          1,
          1,
          0.999998927116394,
          1,
          1,
          1,
          0.9999994039535522,
          1,
          1,
          1,
          0.9998096823692322,
          1,
          1,
          1,
          1,
          1,
          1,
          1,
          1,
          1,
          1,
          1,
          1,
          1,
          1,
          1,
          1,
          1,
          1,
          1,
          1,
          0.9999998807907104,
          1,
          1,
          0.9999994039535522,
          1,
          1,
          1,
          1,
          1,
          1,
          1,
          1,
          1,
          0.9999852180480957,
          1,
          0.9999998807907104,
          1,
          1,
          1,
          1,
          1,
          1,
          0.8458014726638794,
          1,
          0.9999938011169434,
          1,
          1,
          1,
          1,
          1,
          1,
          0.9999457597732544,
          1,
          1,
          1,
          1,
          1,
          1,
          1,
          0.9990850687026978,
          0.9999998807907104,
          1,
          1,
          1,
          1,
          1,
          1,
          1,
          0.9997208714485168,
          1,
          1,
          1,
          1,
          1,
          1,
          1,
          1,
          0.9989340901374817,
          1,
          1,
          1,
          1,
          1,
          1,
          1,
          1,
          1,
          0.9999997615814209,
          1,
          1,
          1,
          1,
          1,
          0.9998877048492432,
          1,
          1,
          1,
          1,
          0.9999964237213135,
          1,
          1,
          0.9999473094940186,
          1,
          1,
          1,
          1,
          1,
          1,
          1,
          1,
          1,
          1,
          1,
          1,
          1,
          1,
          1,
          1,
          1,
          1,
          1,
          1,
          1,
          1,
          1,
          0.9999996423721313,
          1,
          1,
          1,
          1,
          1,
          0.9984966516494751,
          1,
          1,
          1,
          0.9999992847442627,
          1,
          1,
          1,
          0.9999998807907104,
          1,
          0.9999901056289673,
          1,
          0.998855710029602,
          1,
          1,
          1,
          1,
          0.9999972581863403,
          1,
          0.9999822378158569,
          1,
          1,
          1,
          1,
          1,
          1,
          1,
          1,
          1,
          1,
          1,
          1,
          1,
          1,
          1,
          0.999982476234436,
          1,
          1,
          1,
          1,
          1,
          0.9999992847442627,
          1,
          0.9999644756317139,
          1,
          0.9999998807907104,
          1,
          1,
          1,
          1,
          0.9999995231628418,
          1,
          1,
          1,
          1,
          1,
          1,
          1,
          1,
          1,
          1,
          1,
          1,
          1,
          1,
          1,
          1,
          1,
          1,
          1,
          1,
          1,
          1,
          0.9876354336738586,
          0.9995471835136414,
          1,
          1,
          0.9999990463256836,
          1,
          0.986747145652771,
          1,
          1,
          1,
          1,
          1,
          1,
          1,
          1,
          1,
          0.9999995231628418,
          1,
          1,
          0.9999980926513672,
          0.7726479768753052,
          1,
          1,
          1,
          1,
          1,
          1,
          1,
          1,
          1,
          1,
          1,
          1,
          1,
          1,
          1,
          1,
          0.9999997615814209,
          1,
          0.9951092600822449,
          1,
          1,
          0.9999979734420776,
          1,
          1,
          1,
          0.9999997615814209,
          1,
          1,
          1,
          1,
          1,
          1,
          1,
          1,
          1,
          1,
          1,
          1,
          1,
          0.9999996423721313,
          0.979500412940979,
          1,
          1,
          1,
          1,
          1,
          1,
          1,
          1,
          1,
          1,
          1,
          1,
          0.9999996423721313,
          1,
          1,
          0.9999998807907104,
          1,
          1,
          1,
          1,
          1,
          1,
          1,
          1,
          1,
          1,
          1,
          1,
          1,
          0.9992460012435913,
          0.9999997615814209,
          1,
          1,
          0.9999995231628418,
          1,
          0.9999316930770874,
          1,
          1,
          0.9999951124191284,
          1,
          1,
          1,
          1,
          1,
          1,
          1,
          1,
          1,
          1,
          1,
          1,
          1,
          1,
          0.9993172883987427,
          1,
          1,
          1,
          1,
          1,
          1,
          1,
          0.9999951124191284,
          1,
          0.725072979927063,
          1,
          0.9992973804473877,
          0.9994962215423584,
          0.9975618124008179,
          0.999990701675415,
          1,
          1,
          1,
          1,
          1,
          0.9999878406524658,
          0.9999575614929199,
          1,
          1,
          0.9999880790710449,
          1,
          0.9999992847442627,
          1,
          0.9998934268951416,
          0.999988317489624,
          1,
          1,
          1,
          1,
          1,
          1,
          1,
          0.9999996423721313,
          1,
          1,
          1,
          1,
          0.9999997615814209,
          1,
          1,
          1,
          1,
          1,
          1,
          1,
          1,
          1,
          1,
          1,
          0.9989099502563477,
          1,
          0.9999991655349731,
          1,
          1,
          0.9686476588249207,
          1,
          0.999876856803894,
          1,
          0.9999996423721313,
          1,
          1,
          1,
          1,
          1,
          1,
          1,
          1,
          1,
          1,
          1,
          0.999988317489624,
          1,
          1,
          1,
          1,
          1,
          1,
          1,
          1,
          1,
          1,
          1,
          1,
          1,
          1,
          1,
          1,
          1,
          1,
          1,
          1,
          0.9999769926071167,
          1,
          1,
          1,
          1,
          1,
          1,
          1,
          1,
          1,
          1,
          0.9999992847442627,
          1,
          1,
          1,
          1,
          1,
          1,
          1,
          0.9999899864196777,
          0.9999983310699463,
          1,
          1,
          1,
          1,
          0.9945412278175354,
          1,
          1,
          1,
          1,
          1,
          1,
          1,
          1,
          1,
          1,
          1,
          1,
          1,
          0.9999525547027588,
          1,
          1,
          1,
          1,
          1,
          1,
          1,
          1,
          1,
          1,
          0.7698211669921875,
          0.7423111796379089,
          1,
          1,
          1,
          1,
          1,
          1,
          1,
          0.9999852180480957,
          1,
          0.999584972858429,
          1,
          1,
          1,
          0.9999932050704956,
          1,
          1,
          1,
          1,
          1,
          1,
          1,
          1,
          1,
          1,
          1,
          1,
          1,
          0.9999885559082031,
          1,
          1,
          1,
          1,
          1,
          1,
          1,
          0.9999872446060181,
          1,
          1,
          1,
          1,
          0.9999998807907104,
          0.7235392332077026,
          1,
          1,
          1,
          1,
          1,
          1,
          1,
          1,
          1,
          0.9999023675918579,
          1,
          1,
          1,
          1,
          1,
          1,
          1,
          1,
          1,
          0.99993896484375,
          0.7041370868682861,
          1,
          1,
          0.9999998807907104,
          1,
          1,
          1,
          1,
          1,
          0.9999995231628418,
          1,
          1,
          1,
          0.5884793996810913,
          1,
          1,
          1,
          1,
          1,
          1,
          0.9999980926513672,
          0.9999668598175049,
          1,
          1,
          1,
          1,
          1,
          1,
          0.9997530579566956,
          1,
          1,
          1,
          1,
          1,
          1,
          1,
          1,
          1,
          0.9999352693557739,
          0.7262465953826904,
          1,
          1,
          1,
          0.9999970197677612,
          1,
          0.9998797178268433,
          1,
          1,
          1,
          1,
          0.9999996423721313,
          1,
          1,
          1,
          1,
          1,
          1,
          1,
          1,
          1,
          1,
          0.9999996423721313,
          1,
          1,
          1,
          1,
          1,
          1,
          1,
          1,
          0.7916843295097351,
          0.9999998807907104,
          1,
          1,
          0.9999992847442627,
          1,
          1,
          0.9963700771331787,
          1,
          1,
          0.961192786693573,
          1,
          1,
          1,
          1,
          1,
          1,
          1,
          1,
          1,
          1,
          1,
          1,
          1,
          0.9984057545661926,
          1,
          1,
          1,
          1,
          1,
          1,
          1,
          1,
          1,
          1,
          1,
          1,
          1,
          1,
          1,
          1,
          1,
          1,
          1,
          0.9999992847442627,
          0.9998369216918945,
          1,
          1,
          1,
          1,
          1,
          1,
          1,
          1,
          1,
          1,
          1,
          1,
          0.9999997615814209,
          1,
          1,
          1,
          1,
          1,
          1,
          1,
          1,
          1,
          1,
          1,
          0.9999997615814209,
          1,
          1,
          0.9999898672103882,
          1,
          0.999997615814209,
          1,
          1,
          1,
          1,
          1,
          1,
          1,
          1,
          0.9999998807907104,
          1,
          1,
          1,
          1,
          1,
          1,
          1,
          1,
          0.9999964237213135,
          0.999890923500061,
          1,
          1,
          1,
          1,
          1,
          1,
          1,
          1,
          1,
          1,
          1,
          1,
          1,
          1,
          1,
          1,
          1,
          1,
          0.9999905824661255,
          1,
          1,
          1,
          0.9999998807907104,
          1,
          1,
          1,
          1,
          1,
          0.997574508190155,
          1,
          1,
          1,
          1,
          0.9999040365219116,
          1,
          0.9999998807907104,
          1,
          1,
          1,
          1,
          1,
          1,
          1,
          1,
          1,
          1,
          1,
          1,
          0.9999969005584717,
          1,
          1,
          1,
          1,
          1,
          1,
          1,
          1,
          1,
          1,
          0.9999997615814209,
          1,
          1,
          1,
          1,
          1,
          1,
          1,
          0.9999997615814209,
          1,
          1,
          0.9999992847442627,
          0.5151157975196838,
          0.9968012571334839,
          0.9999948740005493,
          1,
          1,
          1,
          1,
          1,
          1,
          1,
          1,
          1,
          1,
          0.9999998807907104,
          0.9999972581863403,
          1,
          1,
          1,
          0.9999996423721313,
          1,
          0.999245285987854,
          1,
          1,
          1,
          1,
          1,
          1,
          1,
          1,
          1,
          1,
          1,
          1,
          1,
          0.9999980926513672,
          1,
          0.9999998807907104,
          1,
          1,
          1,
          1,
          1,
          0.9999825954437256,
          1,
          1,
          1,
          1,
          1,
          1,
          1,
          1,
          1,
          1,
          1,
          0.9999998807907104,
          1,
          0.9190287590026855,
          1,
          1,
          1,
          1,
          1,
          1,
          1,
          0.9999983310699463,
          0.9547419548034668,
          1,
          1,
          1,
          1,
          1,
          1,
          1,
          1,
          0.9999867677688599,
          1,
          0.9997205138206482,
          1,
          1,
          1,
          0.9999970197677612,
          1,
          0.9999998807907104,
          0.9999998807907104,
          0.9999994039535522,
          1,
          1,
          0.9999936819076538,
          1,
          1,
          1,
          1,
          1,
          1,
          1,
          1,
          1,
          1,
          1,
          1,
          1,
          1,
          1,
          1,
          1,
          1,
          0.9999998807907104,
          1,
          1,
          1,
          0.9999803304672241,
          1,
          1,
          1,
          1,
          1,
          1,
          0.9999998807907104,
          1,
          0.9999996423721313,
          0.9999995231628418,
          1,
          1,
          1,
          0.9999992847442627,
          1,
          1,
          1,
          1,
          1,
          1,
          1,
          0.9999977350234985,
          1,
          1,
          1,
          1,
          1,
          1,
          0.5048245787620544,
          1,
          1,
          1,
          1,
          0.9999958276748657,
          1,
          1,
          1,
          1,
          1,
          0.9999890327453613,
          0.9937803149223328,
          1,
          1,
          1,
          1,
          1,
          0.5771808624267578,
          1,
          1,
          1,
          1,
          0.9999709129333496,
          0.9999998807907104,
          1,
          1,
          1,
          1,
          1,
          1,
          0.9817133545875549,
          1,
          1,
          1,
          1,
          1,
          1,
          1,
          1,
          1,
          0.9999985694885254,
          1,
          1,
          1,
          1,
          1,
          1,
          1,
          1,
          1,
          1,
          1,
          1,
          1,
          1,
          1,
          1,
          1,
          1,
          0.9999997615814209,
          1,
          1,
          1,
          1,
          1,
          1,
          1,
          1,
          0.9999998807907104,
          1,
          1,
          1,
          1,
          1,
          1,
          0.9999991655349731,
          1,
          1,
          1,
          1,
          1,
          1,
          1,
          1,
          1,
          1,
          0.9999967813491821,
          1,
          1,
          1,
          0.8581734895706177,
          1,
          1,
          1,
          1,
          1,
          1,
          0.9999998807907104,
          1,
          0.9999997615814209,
          0.9999974966049194,
          1,
          0.9999985694885254,
          1,
          1,
          1,
          0.997140645980835,
          1,
          1,
          1,
          1,
          0.9999998807907104,
          1,
          1,
          0.9999997615814209,
          1,
          0.9981163740158081,
          1,
          1,
          1,
          1,
          1,
          1,
          1,
          1,
          1,
          1,
          1,
          1,
          1,
          0.9999998807907104,
          0.9999938011169434,
          1,
          1,
          0.999998927116394,
          1,
          1,
          1,
          1,
          1,
          1,
          1,
          1,
          1,
          0.9999997615814209,
          1,
          1,
          0.9999979734420776,
          1,
          1,
          1,
          1,
          1,
          0.9999992847442627,
          1,
          1,
          0.9985087513923645,
          1,
          1,
          0.9999885559082031,
          0.981187105178833,
          1,
          1,
          1,
          1,
          1,
          1,
          1,
          1,
          0.9999997615814209,
          0.9998089671134949,
          1,
          1,
          1,
          1,
          1,
          1,
          1,
          0.9999997615814209,
          1,
          0.9999912977218628,
          1,
          1,
          1,
          1,
          1,
          1,
          0.9999927282333374,
          1,
          1,
          0.9999998807907104,
          1,
          1,
          1,
          0.9999904632568359,
          0.9999984502792358,
          1,
          0.9999997615814209,
          1,
          1,
          1,
          1,
          0.9993683695793152,
          1,
          0.990786075592041,
          1,
          1,
          1,
          1,
          1,
          0.7854979038238525,
          1,
          0.999992847442627,
          1,
          1,
          1,
          1,
          1,
          0.9999998807907104,
          1,
          0.9312824010848999,
          1,
          0.9999967813491821,
          1,
          1,
          0.9527212977409363,
          1,
          1,
          1,
          1,
          1,
          1,
          1,
          1,
          1,
          1,
          1,
          0.9999984502792358,
          0.8657851815223694,
          1,
          1,
          0.9999998807907104,
          1,
          1,
          1,
          1,
          1,
          1,
          1,
          1,
          1,
          1,
          0.9999270439147949,
          1,
          1,
          1,
          1,
          0.9999997615814209,
          1,
          1,
          1,
          1,
          1,
          1,
          1,
          1,
          1,
          0.9999887943267822,
          0.9999957084655762,
          1,
          0.999992847442627,
          1,
          1,
          1,
          0.9999963045120239,
          1,
          1,
          0.9887815117835999,
          1,
          1,
          1,
          1,
          1,
          1,
          1,
          1,
          1,
          1,
          0.9999904632568359,
          1,
          1,
          1,
          1,
          1,
          1,
          1,
          1,
          0.9352882504463196,
          1,
          1,
          1,
          1,
          0.9999986886978149,
          1,
          0.9999994039535522,
          1,
          0.9999998807907104,
          1,
          1,
          1,
          1,
          1,
          1,
          0.9999995231628418,
          1,
          0.9999954700469971,
          1,
          0.9999998807907104,
          1,
          1,
          1,
          1,
          1,
          1,
          0.9999996423721313,
          1,
          1,
          0.9999024868011475,
          1,
          1,
          1,
          1,
          1,
          1,
          1,
          0.9999998807907104,
          1,
          1,
          1,
          1,
          1,
          1,
          0.7798543572425842,
          1,
          1,
          1,
          0.9999233484268188,
          1,
          1,
          1,
          1,
          1,
          1,
          1,
          1,
          1,
          0.9998074173927307,
          1,
          1,
          1,
          1,
          1,
          1,
          1,
          1,
          1,
          1,
          1,
          1,
          1,
          1,
          0.987392246723175,
          0.9995692372322083,
          1,
          1,
          0.9999996423721313,
          1,
          1,
          1,
          1,
          1,
          0.999433696269989,
          1,
          1,
          1,
          1,
          1,
          1,
          1,
          0.9999997615814209,
          1,
          0.9999998807907104,
          0.5378478169441223,
          0.9946945309638977,
          1,
          1,
          1,
          1,
          1,
          1,
          1,
          0.9792569875717163,
          1,
          0.9981741905212402,
          1,
          0.9998618364334106,
          1,
          0.9999643564224243,
          1,
          1,
          1,
          0.9999973773956299,
          1,
          0.9999990463256836,
          0.9999910593032837,
          1,
          0.999998927116394,
          1,
          1,
          1,
          1,
          1,
          1,
          1,
          1,
          1,
          0.9999998807907104,
          1,
          1,
          1,
          1,
          1,
          1,
          1,
          1,
          1,
          1,
          0.8842467069625854,
          1,
          1,
          1,
          0.9996962547302246,
          0.9997902512550354,
          0.9999992847442627,
          1,
          1,
          0.9999998807907104,
          1,
          1,
          1,
          1,
          1,
          1,
          1,
          1,
          0.9999998807907104,
          1,
          1,
          1,
          1,
          0.9999998807907104,
          1,
          1,
          1,
          1,
          1,
          1,
          1,
          1,
          1,
          0.9999284744262695,
          1,
          1,
          1,
          0.9983192086219788,
          1,
          1,
          1,
          0.999990701675415,
          1,
          0.9999997615814209,
          1,
          1,
          0.9999982118606567,
          1,
          0.9999998807907104,
          0.9996923208236694,
          0.9998548030853271,
          1,
          1,
          1,
          1,
          1,
          1,
          1,
          1,
          1,
          1,
          0.9925111532211304,
          1,
          0.7813608646392822,
          1,
          1,
          1,
          1,
          0.9860911965370178,
          1,
          1,
          0.9999953508377075,
          1,
          1,
          1,
          1,
          1,
          1,
          1,
          1,
          1,
          1,
          1,
          1,
          1,
          1,
          1,
          1,
          1,
          1,
          0.9999836683273315,
          1,
          0.9999524354934692,
          1,
          0.8896510601043701,
          0.9999570846557617,
          1,
          1,
          1,
          1,
          0.9994977712631226,
          1,
          1,
          1,
          0.9999998807907104,
          1,
          0.9999998807907104,
          0.999992847442627,
          1,
          1,
          0.9999991655349731,
          0.9997853636741638,
          1,
          1,
          1,
          1,
          1,
          1,
          1,
          1,
          0.9999998807907104,
          1,
          1,
          1,
          1,
          0.9999979734420776,
          1,
          1,
          1,
          1,
          1,
          1,
          1,
          1,
          1,
          1,
          0.9999996423721313,
          1,
          1,
          1,
          1,
          0.9999988079071045,
          1,
          1,
          1,
          1,
          1,
          1,
          0.9999997615814209,
          1,
          1,
          1,
          0.9999901056289673,
          1,
          1,
          0.9999932050704956,
          1,
          1,
          1,
          0.9999997615814209,
          1,
          1,
          0.9666076898574829,
          1,
          1,
          1,
          1,
          0.9999998807907104,
          1,
          1,
          1,
          1,
          1,
          1,
          1,
          0.9989711046218872,
          1,
          1,
          1,
          1,
          1,
          1,
          0.9999988079071045,
          1,
          1,
          1,
          1,
          1,
          1,
          0.9999998807907104,
          1,
          1,
          1,
          1,
          1,
          0.9999991655349731,
          1,
          1,
          1,
          1,
          1,
          1,
          1,
          1,
          1,
          1,
          1,
          1,
          1,
          1,
          1,
          1,
          1,
          1,
          0.9999998807907104,
          1,
          1,
          1,
          1,
          1,
          1,
          1,
          0.9479466080665588,
          1,
          1,
          1,
          1,
          0.9846760630607605,
          0.999906063079834,
          1,
          1,
          1,
          1,
          1,
          1,
          0.9999995231628418,
          0.9992347955703735,
          1,
          0.9999997615814209,
          1,
          1,
          1,
          0.9995841383934021,
          1,
          1,
          1,
          1,
          1,
          1,
          1,
          0.9370763301849365,
          0.9999997615814209,
          1,
          1,
          1,
          1,
          1,
          0.9998660087585449,
          0.9999784231185913,
          1,
          1,
          1,
          1,
          0.9999990463256836,
          1,
          1,
          0.9998358488082886,
          1,
          1,
          1,
          1,
          1,
          1,
          1,
          1,
          1,
          1,
          1,
          0.9988870024681091,
          1,
          1,
          1,
          1,
          1,
          1,
          1,
          1,
          1,
          1,
          0.9999990463256836,
          1,
          1,
          1,
          1,
          1,
          0.9999998807907104,
          1,
          1,
          1,
          1,
          1,
          1,
          1,
          1,
          1,
          0.9999997615814209,
          1,
          1,
          1,
          1,
          1,
          1,
          1,
          1,
          0.999860405921936,
          0.9999998807907104,
          1,
          1,
          1,
          1,
          1,
          1,
          1,
          0.9999891519546509,
          1,
          1,
          1,
          1,
          1,
          1,
          0.9999998807907104,
          0.8106935620307922,
          1,
          1,
          1,
          1,
          1,
          1,
          1,
          1,
          1,
          1,
          1,
          1,
          1,
          1,
          1,
          1,
          1,
          0.9994059801101685,
          0.9992026686668396,
          1,
          1,
          1,
          1,
          1,
          1,
          1,
          1,
          1,
          1,
          1,
          1,
          0.9983645081520081,
          0.9999589920043945,
          1,
          1,
          1,
          1,
          0.9999812841415405,
          1,
          1,
          1,
          1,
          1,
          1,
          1,
          1,
          1,
          0.9999992847442627,
          1,
          1,
          1,
          1,
          0.9967254400253296,
          1,
          1,
          1,
          1,
          1,
          1,
          1,
          0.9999994039535522,
          1,
          1,
          1,
          1,
          1,
          1,
          1,
          1,
          1,
          1,
          1,
          1,
          1,
          1,
          1,
          1,
          0.9999840259552002,
          1,
          1,
          0.9906085729598999,
          1,
          1,
          1,
          1,
          1,
          1,
          0.9999998807907104,
          1,
          0.9999994039535522,
          1,
          1,
          0.9999998807907104,
          1,
          0.9999983310699463,
          1,
          0.9999997615814209,
          0.9999967813491821,
          1,
          1,
          1,
          1,
          1,
          1,
          1,
          0.9999998807907104,
          1,
          0.9999992847442627,
          0.999961256980896,
          0.999987006187439,
          0.990159809589386,
          1,
          0.9956923127174377,
          1,
          1,
          1,
          1,
          1,
          0.9995657801628113,
          1,
          0.9999998807907104,
          1,
          1,
          1,
          1,
          1,
          1,
          1,
          1,
          1,
          1,
          1,
          1,
          0.999592125415802,
          1,
          1,
          1,
          1,
          1,
          1,
          1,
          1,
          1,
          1,
          1,
          1,
          1,
          0.9999924898147583,
          1,
          0.99978107213974,
          0.9999731779098511,
          1,
          1,
          1,
          1,
          1,
          1,
          1,
          0.9999997615814209,
          1,
          1,
          0.9999648332595825,
          1,
          1,
          0.6340493559837341,
          0.9999618530273438,
          1,
          1,
          1,
          1,
          1,
          1,
          1,
          1,
          1,
          1,
          1,
          1,
          0.9999918937683105,
          1,
          1,
          1,
          0.9999998807907104,
          1,
          1,
          1,
          1,
          1,
          1,
          1,
          0.9999980926513672,
          0.789432168006897,
          1,
          1,
          1,
          1,
          0.6467691659927368,
          0.9999998807907104,
          0.9999998807907104,
          1,
          1,
          1,
          0.999970555305481,
          1,
          1,
          1,
          1,
          1,
          1,
          0.9999998807907104,
          1,
          1,
          1,
          1,
          1,
          1,
          1,
          1,
          1,
          1,
          1,
          1,
          1,
          1,
          1,
          1,
          1,
          0.8368015885353088,
          1,
          1,
          1,
          1,
          1,
          0.9999998807907104,
          0.9999991655349731,
          1,
          0.9999990463256836,
          0.9999967813491821,
          0.9999978542327881,
          1,
          1,
          1,
          1,
          1,
          0.9991512298583984,
          1,
          1,
          1,
          1,
          0.9998561143875122,
          1,
          1,
          0.9999936819076538,
          1,
          1,
          1,
          1,
          1,
          1,
          1,
          1,
          0.9947288632392883,
          0.9999949932098389,
          1,
          1,
          1,
          1,
          1,
          1,
          1,
          1,
          1,
          0.999998927116394,
          1,
          1,
          1,
          1,
          1,
          1,
          0.6031572818756104,
          1,
          1,
          1,
          1,
          1,
          1,
          1,
          1,
          1,
          1,
          1,
          1,
          1,
          1,
          1,
          1,
          1,
          1,
          1,
          0.9999977350234985,
          1,
          1,
          0.9660565257072449,
          1,
          1,
          1,
          1,
          0.9995875954627991,
          1,
          1,
          1,
          1,
          1,
          1,
          0.9999997615814209,
          1,
          1,
          1,
          1,
          0.9999997615814209,
          1,
          1,
          0.9999990463256836,
          1,
          1,
          1,
          1,
          0.999627947807312,
          1,
          1,
          1,
          1,
          0.9999998807907104,
          1,
          1,
          1,
          1,
          1,
          0.9989547729492188,
          0.9993577599525452,
          1,
          1,
          1,
          1,
          0.8313062191009521,
          1,
          1,
          1,
          1,
          1,
          1,
          1,
          1,
          1,
          1,
          1,
          0.9999970197677612,
          1,
          1,
          1,
          1,
          1,
          1,
          1,
          1,
          1,
          1,
          1,
          1,
          1,
          0.9992660880088806,
          1,
          1,
          1,
          1,
          1,
          1,
          1,
          0.9999998807907104,
          1,
          1,
          1,
          1,
          0.9999991655349731,
          0.9999992847442627,
          1,
          1,
          1,
          0.9999998807907104,
          1,
          1,
          0.942839503288269,
          1,
          1,
          0.9983471632003784,
          1,
          1,
          1,
          0.9989821314811707,
          1,
          1,
          1,
          1,
          1,
          0.9987597465515137,
          1,
          0.9986943602561951,
          1,
          1,
          1,
          1,
          1,
          1,
          1,
          1,
          1,
          1,
          1,
          1,
          0.9999994039535522,
          1,
          1,
          1,
          1,
          1,
          0.9999996423721313,
          1,
          1,
          1,
          1,
          1,
          1,
          1,
          1,
          0.9999998807907104,
          1,
          1,
          0.9999996423721313,
          1,
          1,
          1,
          1,
          1,
          1,
          1,
          1,
          1,
          1,
          1,
          1,
          1,
          1,
          1,
          1,
          0.999997615814209,
          1,
          1,
          1,
          1,
          1,
          1,
          1,
          1,
          1,
          1,
          1,
          1,
          0.9999868869781494,
          1,
          1,
          1,
          1,
          1,
          1,
          1,
          0.9998527765274048,
          1,
          1,
          1,
          1,
          1,
          1,
          1,
          1,
          1,
          0.9999997615814209,
          0.999990701675415,
          1,
          1,
          0.9993506073951721,
          1,
          1,
          1,
          1,
          1,
          1,
          1,
          1,
          1,
          0.9999998807907104,
          0.9999936819076538,
          0.999997615814209,
          0.9971690773963928,
          1,
          1,
          1,
          1,
          0.9884408712387085,
          1,
          1,
          1,
          0.9999815225601196,
          1,
          1,
          1,
          1,
          1,
          0.9977582693099976,
          1,
          1,
          1,
          1,
          1,
          0.9999997615814209,
          1,
          1,
          1,
          0.9999998807907104,
          1,
          1,
          1,
          1,
          1,
          1,
          1,
          1,
          1,
          1,
          0.9959080219268799,
          1,
          1,
          1,
          0.9999991655349731,
          1,
          1,
          1,
          1,
          1,
          1,
          1,
          1,
          1,
          0.9999669790267944,
          1,
          1,
          1,
          1,
          1,
          1,
          1,
          1,
          1,
          1,
          1,
          1,
          1,
          1,
          1,
          1,
          1,
          1,
          1,
          1,
          1,
          1,
          1,
          1,
          1,
          0.6685613393783569,
          0.9999998807907104,
          0.991124153137207,
          1,
          1,
          1,
          1,
          1,
          0.9999997615814209,
          1,
          1,
          1,
          1,
          0.9996564388275146,
          1,
          1,
          1,
          0.9999996423721313,
          0.9482606649398804,
          1,
          1,
          1,
          1,
          1,
          0.9999998807907104,
          1,
          0.999115526676178,
          1,
          1,
          1,
          1,
          1,
          1,
          1,
          1,
          1,
          0.9657928347587585,
          0.999789297580719,
          1,
          1,
          1,
          1,
          1,
          1,
          1,
          0.5226634740829468,
          1,
          1,
          0.9999473094940186,
          0.9999998807907104,
          1,
          1,
          1,
          0.9999996423721313,
          1,
          1,
          1,
          0.9996070265769958,
          1,
          1,
          1,
          1,
          1,
          1,
          1,
          1,
          1,
          1,
          0.9999755620956421,
          0.9999940395355225,
          1,
          1,
          0.9999961853027344,
          1,
          1,
          1,
          1,
          1,
          0.9964683055877686,
          1,
          1,
          1,
          1,
          1,
          1,
          0.9999991655349731,
          0.9996143579483032,
          1,
          1,
          1,
          0.9999998807907104,
          1,
          1,
          0.9911379218101501,
          0.9999983310699463,
          1,
          1,
          1,
          1,
          1,
          1,
          1,
          1,
          1,
          1,
          1,
          1,
          1,
          1,
          1,
          1,
          1,
          1,
          1,
          0.9999957084655762,
          1,
          1,
          1,
          1,
          0.999824583530426,
          1,
          0.9999992847442627,
          1,
          1,
          1,
          1,
          1,
          0.9746528267860413,
          1,
          1,
          1,
          1,
          1,
          1,
          1,
          1,
          1,
          1,
          1,
          1,
          1,
          1,
          1,
          1,
          1,
          0.9999922513961792,
          1,
          1,
          1,
          1,
          0.9999998807907104,
          1,
          1,
          1,
          1,
          1,
          1,
          1,
          0.9999825954437256,
          1,
          1,
          1,
          1,
          0.9998993873596191,
          0.9999997615814209,
          1,
          1,
          1,
          1,
          1,
          1,
          1,
          1,
          1,
          1,
          1,
          1,
          1,
          1,
          1,
          1,
          1,
          1,
          1,
          1,
          1,
          1,
          1,
          1,
          1,
          1,
          0.9999998807907104,
          1,
          1,
          1,
          1,
          1,
          1,
          1,
          1,
          1,
          0.9999988079071045,
          1,
          1,
          0.9999997615814209,
          0.9999998807907104,
          1,
          0.9999998807907104,
          0.999998927116394,
          0.9999991655349731,
          1,
          1,
          1,
          0.9977959394454956,
          1,
          1,
          1,
          1,
          1,
          1,
          1,
          1,
          1,
          1,
          1,
          1,
          1,
          0.9999958276748657,
          0.9999527931213379,
          0.9999853372573853,
          1,
          1,
          1,
          1,
          1,
          0.9999998807907104,
          1,
          1,
          0.9999998807907104,
          1,
          1,
          1,
          1,
          1,
          1,
          1,
          1,
          1,
          0.9999912977218628,
          0.9999996423721313,
          1,
          1,
          1,
          1,
          1,
          1,
          1,
          1,
          1,
          1,
          1,
          0.999761164188385,
          0.998346209526062,
          1,
          1,
          1,
          1,
          1,
          1,
          1,
          1,
          1,
          1,
          1,
          1,
          1,
          1,
          1,
          1,
          0.9996978044509888,
          1,
          1,
          1,
          1,
          1,
          0.9999959468841553,
          1,
          1,
          1,
          1,
          0.8335292339324951,
          1,
          1,
          1,
          1,
          1,
          1,
          1,
          1,
          0.9999734163284302,
          1,
          1,
          0.9999995231628418,
          0.9999992847442627,
          1,
          1,
          1,
          1,
          1,
          0.9999983310699463,
          1,
          1,
          1,
          1,
          1,
          1,
          1,
          0.9970881342887878,
          1,
          1,
          0.999935507774353,
          1,
          1,
          1,
          1,
          1,
          1,
          1,
          1,
          0.9999997615814209,
          1,
          1,
          1,
          1,
          1,
          1,
          1,
          1,
          1,
          1,
          1,
          1,
          1,
          1,
          0.9999973773956299,
          1,
          1,
          1,
          1,
          0.999998927116394,
          1,
          0.9264320731163025,
          1,
          1,
          1,
          1,
          1,
          1,
          1,
          1,
          1,
          1,
          1,
          1,
          1,
          1,
          0.9999994039535522,
          1,
          1,
          1,
          1,
          0.9999969005584717,
          1,
          0.9580236077308655,
          0.9999994039535522,
          1,
          1,
          1,
          1,
          0.9999995231628418,
          1,
          1,
          1,
          1,
          0.9999996423721313,
          1,
          1,
          1,
          1,
          0.9999998807907104,
          1,
          0.9998348951339722,
          1,
          1,
          1,
          0.999998927116394,
          1,
          1,
          1,
          1,
          0.999995231628418,
          0.9999996423721313,
          0.9916343688964844,
          1,
          1,
          1,
          1,
          1,
          1,
          0.9999923706054688,
          1,
          1,
          1,
          1,
          1,
          1,
          1,
          0.9999991655349731,
          1,
          1,
          1,
          1,
          1,
          1,
          1,
          1,
          1,
          1,
          1,
          1,
          1,
          1,
          1,
          1,
          1,
          1,
          1,
          1,
          1,
          1,
          1,
          1,
          0.9999998807907104,
          1,
          1,
          1,
          1,
          1,
          1,
          1,
          1,
          1,
          1,
          1,
          0.9994522929191589,
          1,
          1,
          1,
          0.9999992847442627,
          0.9999996423721313,
          1,
          1,
          1,
          1,
          1,
          0.9999997615814209,
          1,
          0.9999955892562866,
          1,
          1,
          1,
          1,
          1,
          1,
          1,
          1,
          1,
          1,
          1,
          1,
          1,
          0.9999758005142212,
          0.9999997615814209,
          1,
          1,
          0.9999996423721313,
          1,
          1,
          1,
          1,
          1,
          0.9999949932098389,
          1,
          1,
          0.9991422891616821,
          1,
          1,
          0.9999998807907104,
          1,
          1,
          1,
          1,
          1,
          1,
          1,
          1,
          1,
          1,
          1,
          1,
          1,
          1,
          1,
          1,
          1,
          1,
          1,
          1,
          1,
          1,
          1,
          1,
          0.9999977350234985,
          1,
          1,
          0.9999446868896484,
          1,
          0.9999189376831055,
          1,
          1,
          1,
          1,
          0.9999967813491821,
          1,
          1,
          1,
          1,
          1,
          1,
          1,
          1,
          1,
          1,
          1,
          1,
          1,
          0.9999938011169434,
          0.9999994039535522,
          1,
          1,
          1,
          1,
          0.9248772263526917,
          1,
          1,
          1,
          0.9999997615814209,
          1,
          0.9991098046302795,
          1,
          1,
          0.9999997615814209,
          1,
          1,
          1,
          1,
          1,
          1,
          1,
          0.9989373087882996,
          0.523296058177948,
          0.9999984502792358,
          1,
          1,
          1,
          0.9999979734420776,
          0.9928879141807556,
          1,
          1,
          1,
          1,
          1,
          1,
          0.9999997615814209,
          0.9991093277931213,
          1,
          1,
          1,
          1,
          1,
          0.9787499308586121,
          1,
          0.9999896287918091,
          1,
          1,
          1,
          1,
          0.9999998807907104,
          1,
          1,
          1,
          0.9924172163009644,
          1,
          0.9863157868385315,
          1,
          1,
          1,
          1,
          1,
          1,
          0.999998927116394,
          1,
          1,
          1,
          1,
          1,
          1,
          1,
          1,
          1,
          1,
          0.9999998807907104,
          1,
          1,
          1,
          1,
          0.9995840191841125,
          1,
          1,
          1,
          1,
          1,
          1,
          1,
          1,
          1,
          0.9997963309288025,
          1,
          1,
          1,
          1,
          1,
          1,
          0.9999998807907104,
          1,
          1,
          1,
          1,
          1,
          1,
          1,
          1,
          1,
          1,
          0.9652723670005798,
          1,
          1,
          1,
          1,
          1,
          1,
          0.9999977350234985,
          1,
          1,
          1,
          1,
          1,
          1,
          1,
          0.9999994039535522,
          0.9999997615814209,
          0.999998927116394,
          1,
          1,
          1,
          1,
          1,
          1,
          1,
          1,
          1,
          1,
          1,
          1,
          1,
          1,
          1,
          1,
          1,
          1,
          0.9999493360519409,
          0.8880934119224548,
          1,
          0.9995256662368774,
          1,
          1,
          0.9999997615814209,
          1,
          1,
          1,
          0.9999980926513672,
          1,
          1,
          1,
          0.991769552230835,
          1,
          1,
          1,
          1,
          1,
          1,
          1,
          1,
          1,
          1,
          1,
          1,
          0.9999997615814209,
          1,
          1,
          1,
          0.9999998807907104,
          1,
          1,
          1,
          1,
          1,
          1,
          1,
          1,
          1,
          0.9988137483596802,
          1,
          1,
          0.9999985694885254,
          1,
          1,
          1,
          1,
          1,
          0.9999849796295166,
          1,
          1,
          1,
          1,
          0.9999997615814209,
          1,
          1,
          1,
          1,
          1,
          1,
          1,
          1,
          1,
          1,
          1,
          1,
          1,
          1,
          1,
          0.9999997615814209,
          1,
          0.9999990463256836,
          1,
          1,
          1,
          1,
          1,
          1,
          1,
          1,
          1,
          1,
          1,
          1,
          1,
          1,
          1,
          0.9999998807907104,
          1,
          1,
          1,
          1,
          1,
          1,
          1,
          1,
          1,
          1,
          1,
          1,
          1,
          1,
          1,
          1,
          1,
          1,
          1,
          1,
          1,
          1,
          0.9999997615814209,
          0.9999998807907104,
          1,
          1,
          1,
          1,
          1,
          1,
          1,
          1,
          1,
          1,
          1,
          1,
          1,
          1,
          1,
          1,
          0.999974250793457,
          1,
          1,
          1,
          1,
          1,
          1,
          0.9999188184738159,
          1,
          1,
          1,
          1,
          1,
          1,
          0.9999998807907104,
          1,
          1,
          1,
          1,
          1,
          1,
          1,
          1,
          1,
          0.9985352754592896,
          1,
          1,
          1,
          1,
          0.9999943971633911,
          0.9999985694885254,
          1,
          1,
          1,
          1,
          1,
          0.9880870580673218,
          1,
          0.9999998807907104,
          1,
          1,
          1,
          1,
          1,
          1,
          1,
          1,
          0.9998822212219238,
          1,
          0.9999898672103882,
          0.9999998807907104,
          0.9999988079071045,
          1,
          1,
          1,
          1,
          1,
          1,
          1,
          1,
          1,
          0.9999446868896484,
          0.8254457116127014,
          1,
          1,
          1,
          1,
          1,
          1,
          1,
          1,
          1,
          1,
          0.999934196472168,
          1,
          1,
          1,
          1,
          1,
          1,
          1,
          1,
          1,
          1,
          1,
          1,
          1,
          1,
          1,
          1,
          1,
          0.9999988079071045,
          1,
          1,
          1,
          1,
          1,
          1,
          1,
          0.7401290535926819,
          0.9962887763977051,
          1,
          1,
          1,
          1,
          1,
          1,
          1,
          1,
          1,
          1,
          1,
          1,
          0.999998927116394,
          1,
          1,
          1,
          1,
          1,
          1,
          1,
          1,
          1,
          1,
          1,
          1,
          1,
          0.9999992847442627,
          1,
          1,
          1,
          1,
          1,
          1,
          1,
          1,
          1,
          1,
          1,
          0.9875227808952332,
          0.9999998807907104,
          0.999997615814209,
          0.9999997615814209,
          1,
          1,
          1,
          1,
          1,
          0.9902632236480713,
          1,
          1,
          1,
          1,
          0.9999985694885254,
          0.9997932314872742,
          1,
          1,
          1,
          1,
          1,
          1,
          1,
          1,
          1,
          1,
          1,
          1,
          1,
          1,
          1,
          1,
          1,
          0.9999790191650391,
          1,
          1,
          1,
          1,
          1,
          1,
          1,
          0.9992407560348511,
          1,
          1,
          1,
          1,
          1,
          0.953397274017334,
          0.9999891519546509,
          0.9999914169311523,
          1,
          1,
          1,
          1,
          1,
          1,
          0.8958775997161865,
          1,
          1,
          1,
          0.9998838901519775,
          1,
          1,
          1,
          1,
          1,
          1,
          1,
          1,
          1,
          1,
          1,
          1,
          1,
          1,
          1,
          1,
          0.999990701675415,
          1,
          1,
          1,
          1,
          1,
          1,
          0.9999974966049194,
          1,
          1,
          1,
          1,
          1,
          1,
          1,
          0.9999998807907104,
          1,
          0.9999998807907104,
          1,
          1,
          1,
          1,
          0.9999997615814209,
          1,
          1,
          0.9999986886978149,
          1,
          1,
          1,
          0.9999994039535522,
          1,
          1,
          0.9998689889907837,
          1,
          1,
          1,
          1,
          1,
          1,
          1,
          1,
          1,
          1,
          0.7989980578422546,
          1,
          1,
          0.9999896287918091,
          1,
          0.9999991655349731,
          1,
          1,
          1,
          0.9996280670166016,
          1,
          1,
          1,
          1,
          1,
          1,
          1,
          1,
          1,
          1,
          1,
          1,
          1,
          1,
          1,
          1,
          0.9999984502792358,
          0.9918144345283508,
          1,
          1,
          0.9999998807907104,
          1,
          1,
          1,
          1,
          1,
          1,
          1,
          1,
          1,
          1,
          1,
          0.9999953508377075,
          0.9999957084655762,
          1,
          1,
          1,
          1,
          1,
          1,
          1,
          1,
          1,
          1,
          1,
          0.9977128505706787,
          1,
          1,
          1,
          1,
          1,
          0.999998927116394,
          1,
          1,
          1,
          1,
          1,
          1,
          1,
          1,
          1,
          1,
          0.994907796382904,
          1,
          1,
          1,
          1,
          1,
          1,
          1,
          1,
          0.9999980926513672,
          1,
          1,
          1,
          0.9999994039535522,
          0.9782022833824158,
          1,
          1,
          1,
          1,
          1,
          0.9999978542327881,
          1,
          1,
          1,
          1,
          1,
          1,
          1,
          1,
          1,
          0.9999997615814209,
          1,
          1,
          1,
          1,
          1,
          1,
          1,
          0.9926552772521973,
          0.9243675470352173,
          1,
          1,
          1,
          1,
          1,
          1,
          1,
          1,
          1,
          1,
          1,
          1,
          1,
          1,
          0.9999130964279175,
          1,
          1,
          1,
          1,
          1,
          1,
          1,
          1,
          1,
          1,
          1,
          1,
          1,
          1,
          1,
          1,
          0.9999990463256836,
          0.9999881982803345,
          1,
          1,
          1,
          1,
          0.9995853304862976,
          1,
          0.9999991655349731,
          0.9999935626983643,
          0.9006569385528564,
          1,
          1,
          1,
          1,
          1,
          0.9999998807907104,
          1,
          1,
          1,
          1,
          1,
          1,
          1,
          1,
          1,
          1,
          1,
          1,
          1,
          1,
          1,
          1,
          1,
          1,
          0.8606875538825989,
          1,
          1,
          0.9999978542327881,
          1,
          1,
          1,
          1,
          1,
          1,
          1,
          1,
          1,
          1,
          0.9999996423721313,
          1,
          1,
          1,
          1,
          1,
          1,
          1,
          1,
          1,
          1,
          1,
          1,
          1,
          1,
          1,
          1,
          1,
          0.9999982118606567,
          1,
          1,
          1,
          0.8745662569999695,
          1,
          1,
          1,
          1,
          1,
          1,
          1,
          1,
          1,
          0.9999996423721313,
          1,
          1,
          1,
          1,
          1,
          1,
          1,
          1,
          0.994810938835144,
          1,
          1,
          1,
          1,
          1,
          1,
          0.9999754428863525,
          1,
          1,
          1,
          1,
          1,
          0.9999940395355225,
          1,
          1,
          1,
          1,
          1,
          1,
          1,
          0.9992613196372986,
          1,
          1,
          1,
          1,
          1,
          1,
          1,
          0.9999998807907104,
          1,
          1,
          1,
          1,
          1,
          0.9999966621398926,
          1,
          0.9999957084655762,
          1,
          1,
          0.9999836683273315,
          1,
          1,
          1,
          0.9999995231628418,
          0.9914303421974182,
          0.9977909326553345,
          1,
          1,
          0.9999992847442627,
          1,
          1,
          1,
          1,
          1,
          0.9998359680175781,
          1,
          1,
          1,
          1,
          1,
          1,
          1,
          1,
          1,
          0.999298095703125,
          1,
          1,
          1,
          1,
          0.9999998807907104,
          1,
          1,
          1,
          1,
          1,
          1,
          1,
          1,
          1,
          0.999998927116394,
          0.9570397138595581,
          1,
          1,
          0.9999998807907104,
          1,
          0.999997615814209,
          1,
          1,
          1,
          0.9999990463256836,
          0.9999992847442627,
          1,
          1,
          1,
          1,
          0.9999998807907104,
          0.99676513671875,
          1,
          0.9922993779182434,
          1,
          1,
          1,
          1,
          1,
          1,
          1,
          1,
          1,
          1,
          1,
          1,
          1,
          0.5285372138023376,
          1,
          0.9999966621398926,
          1,
          1,
          1,
          1,
          1,
          1,
          1,
          1,
          1,
          0.7912490963935852,
          1,
          0.7019617557525635,
          1,
          1,
          1,
          1,
          1,
          1,
          1,
          1,
          1,
          0.9999593496322632,
          1,
          1,
          1,
          1,
          1,
          1,
          1,
          1,
          1,
          1,
          1,
          1,
          0.9999935626983643,
          1,
          0.9999998807907104,
          1,
          1,
          1,
          1,
          1,
          1,
          1,
          1,
          1,
          1,
          1,
          1,
          1,
          1,
          1,
          1,
          0.9999867677688599,
          0.9999830722808838,
          1,
          0.9999977350234985,
          1,
          1,
          1,
          1,
          0.9999998807907104,
          1,
          1,
          0.9999998807907104,
          1,
          1,
          1,
          1,
          1,
          1,
          1,
          0.9999977350234985,
          1,
          0.9994800686836243,
          1,
          1,
          1,
          1,
          0.9999991655349731,
          1,
          0.9999998807907104,
          1,
          1,
          1,
          1,
          1,
          1,
          1,
          1,
          1,
          1,
          1,
          1,
          1,
          1,
          0.9999581575393677,
          1,
          1,
          1,
          1,
          1,
          1,
          1,
          1,
          0.999896764755249,
          1,
          1,
          1,
          0.5988537669181824,
          1,
          1,
          1,
          1,
          1,
          1,
          1,
          1,
          1,
          1,
          1,
          1,
          1,
          1,
          1,
          0.9999986886978149,
          1,
          1,
          1,
          0.47580668330192566,
          1,
          1,
          1,
          1,
          1,
          1,
          1,
          1,
          1,
          1,
          1,
          1,
          0.999962568283081,
          1,
          0.9956778883934021,
          1,
          0.9999973773956299,
          1,
          1,
          0.9999793767929077,
          1,
          1,
          1,
          0.9999986886978149,
          0.9798740744590759,
          1,
          1,
          1,
          1,
          1,
          1,
          1,
          1,
          1,
          1,
          1,
          1,
          1,
          1,
          1,
          1,
          0.9882609248161316,
          1,
          1,
          1,
          1,
          1,
          1,
          1,
          0.9999713897705078,
          1,
          1,
          1,
          1,
          1,
          1,
          1,
          1,
          0.8725652098655701,
          1,
          1,
          1,
          1,
          1,
          1,
          1,
          1,
          1,
          0.9999986886978149,
          1,
          1,
          1,
          1,
          1,
          1,
          1,
          1,
          1,
          1,
          1,
          0.9999698400497437,
          1,
          1,
          1,
          1,
          1,
          1,
          1,
          0.9999996423721313,
          1,
          0.9999982118606567,
          1,
          1,
          1,
          1,
          1,
          1,
          1,
          1,
          1,
          0.96900874376297,
          1,
          1,
          0.9998770952224731,
          0.9999980926513672,
          1,
          1,
          1,
          1,
          1,
          0.9999973773956299,
          1,
          1,
          1,
          1,
          1,
          1,
          1,
          1,
          1,
          0.9999125003814697,
          1,
          1,
          1,
          1,
          1,
          0.9978508949279785,
          1,
          1,
          1,
          1,
          1,
          1,
          1,
          1,
          1,
          0.9999096393585205,
          1,
          0.93881756067276,
          1,
          0.9999997615814209,
          1,
          1,
          1,
          0.9999998807907104,
          1,
          1,
          1,
          0.9863433837890625,
          1,
          1,
          0.9878338575363159,
          1,
          0.9999998807907104,
          1,
          1,
          1,
          0.999998927116394,
          1,
          1,
          1,
          1,
          1,
          1,
          1,
          1,
          0.9998114705085754,
          1,
          1,
          1,
          1,
          1,
          1,
          0.9983856678009033,
          1,
          1,
          1,
          1,
          0.9999998807907104,
          1,
          1,
          1,
          1,
          1,
          1,
          0.9999991655349731,
          1,
          1,
          1,
          1,
          1,
          1,
          1,
          1,
          1,
          1,
          0.9999998807907104,
          1,
          1,
          0.9917505383491516,
          1,
          1,
          1,
          1,
          1,
          1,
          1,
          1,
          1,
          1,
          1,
          1,
          1,
          1,
          1,
          1,
          1,
          1,
          1,
          0.9999986886978149,
          1,
          1,
          1,
          1,
          1,
          1,
          1,
          1,
          1,
          1,
          1,
          1,
          1,
          1,
          1,
          1,
          0.7742371559143066,
          1,
          1,
          1,
          1,
          1,
          1,
          1,
          1,
          1,
          1,
          0.9999986886978149,
          1,
          0.883663535118103,
          1,
          0.9999960660934448,
          1,
          1,
          1,
          0.9999995231628418,
          1,
          1,
          0.9999998807907104,
          1,
          1,
          1,
          1,
          1,
          1,
          1,
          0.9995321035385132,
          1,
          1,
          1,
          0.9999998807907104,
          1,
          0.9752804040908813,
          1,
          0.9518395662307739,
          1,
          1,
          1,
          0.9999804496765137,
          1,
          0.9999967813491821,
          1,
          1,
          1,
          0.9999988079071045,
          0.9999979734420776,
          1,
          1,
          1,
          0.9999998807907104,
          1,
          1,
          1,
          1,
          1,
          1,
          1,
          0.9836409687995911,
          1,
          1,
          1,
          1,
          1,
          1,
          1,
          0.9999960660934448,
          1,
          1,
          1,
          1,
          1,
          0.9999997615814209,
          1,
          1,
          1,
          1,
          1,
          1,
          1,
          1,
          1,
          0.8518603444099426,
          1,
          1,
          1,
          1,
          1,
          1,
          0.9999998807907104,
          0.9999535083770752,
          1,
          1,
          0.9999964237213135,
          1,
          1,
          1,
          1,
          1,
          0.9999547004699707,
          1,
          1,
          1,
          0.9999998807907104,
          1,
          0.9999792575836182,
          1,
          1,
          1,
          1,
          1,
          1,
          1,
          0.9999994039535522,
          1,
          0.9999997615814209,
          1,
          1,
          0.7884477376937866,
          1,
          1,
          1,
          1,
          0.9999974966049194,
          1,
          1,
          1,
          1,
          0.9948793649673462,
          0.9999996423721313,
          1,
          0.9999985694885254,
          1,
          0.9999998807907104,
          0.9999737739562988,
          1,
          0.9999933242797852,
          1,
          1,
          1,
          0.9999901056289673,
          1,
          0.9999998807907104,
          1,
          1,
          1,
          1,
          0.9999991655349731,
          0.9999982118606567,
          0.9999998807907104,
          1,
          1,
          1,
          1,
          1,
          1,
          1,
          1,
          1,
          0.9999963045120239,
          1,
          1,
          1,
          1,
          1,
          1,
          1,
          1,
          1,
          1,
          1,
          1,
          1,
          1,
          1,
          1,
          1,
          1,
          1,
          1,
          1,
          1,
          1,
          1,
          0.5886737108230591,
          1,
          1,
          1,
          1,
          1,
          1,
          1,
          1,
          0.9970830082893372,
          0.5468133091926575,
          1,
          1,
          1,
          1,
          1,
          1,
          1,
          0.9999995231628418,
          0.9987255930900574,
          1,
          1,
          1,
          1,
          0.9999979734420776,
          1,
          1,
          1,
          1,
          1,
          0.999518632888794,
          1,
          0.9999986886978149,
          1,
          0.9999995231628418,
          1,
          1,
          0.9999973773956299,
          1,
          1,
          1,
          1,
          1,
          1,
          1,
          1,
          1,
          1,
          1,
          1,
          1,
          0.9999990463256836,
          1,
          0.9999867677688599,
          1,
          0.9998202919960022,
          1,
          1,
          1,
          0.9999998807907104,
          1,
          1,
          1,
          1,
          1,
          1,
          1,
          1,
          1,
          1,
          1,
          1,
          1,
          1,
          1,
          0.9922818541526794,
          1,
          1,
          1,
          0.9999997615814209,
          1,
          1,
          1,
          1,
          0.9999997615814209,
          1,
          1,
          0.9999983310699463,
          1,
          0.9999997615814209,
          1,
          1,
          1,
          0.5592026114463806,
          1,
          0.9999998807907104,
          1,
          1,
          1,
          1,
          1,
          0.9999994039535522,
          1,
          0.9999997615814209,
          1,
          1,
          1,
          1,
          1,
          1,
          0.9999997615814209,
          1,
          1,
          1,
          1,
          1,
          1,
          1,
          1,
          1,
          1,
          1,
          1,
          1,
          1,
          1,
          1,
          0.9995934367179871,
          1,
          1,
          1,
          1,
          1,
          1,
          1,
          1,
          1,
          0.6664268374443054,
          0.9999889135360718,
          0.9999903440475464,
          1,
          1,
          1,
          0.9999998807907104,
          1,
          1,
          1,
          0.9963446259498596,
          1,
          0.9999998807907104,
          0.9984436631202698,
          1,
          1,
          1,
          0.867306113243103,
          0.9824894666671753,
          1,
          0.9966884255409241,
          1,
          1,
          1,
          1,
          1,
          1,
          1,
          0.9999997615814209,
          1,
          1,
          1,
          1,
          1,
          1,
          1,
          0.9999974966049194,
          1,
          1,
          1,
          1,
          1,
          1,
          1,
          1,
          1,
          1,
          0.9999998807907104,
          1,
          0.8427088856697083,
          1,
          1,
          1,
          1,
          1,
          1,
          0.9999998807907104,
          1,
          1,
          1,
          0.9999998807907104,
          0.9999338388442993,
          1,
          1,
          0.9998400211334229,
          1,
          1,
          1,
          1,
          0.9999992847442627,
          1,
          1,
          1,
          1,
          1,
          1,
          0.9999996423721313,
          1,
          1,
          1,
          0.9993513226509094,
          1,
          1,
          1,
          0.9990641474723816,
          1,
          1,
          1,
          0.9827324151992798,
          1,
          1,
          0.9942055344581604,
          0.9999990463256836,
          0.9999998807907104,
          1,
          1,
          1,
          1,
          1,
          1,
          1,
          1,
          1,
          1,
          1,
          1,
          1,
          1,
          1,
          1,
          0.9999992847442627,
          1,
          1,
          1,
          1,
          1,
          1,
          1,
          1,
          1,
          1,
          1,
          0.9998449087142944,
          1,
          1,
          1,
          1,
          1,
          1,
          1,
          1,
          1,
          0.9999992847442627,
          0.9991588592529297,
          1,
          1,
          1,
          1,
          1,
          1,
          1,
          1,
          1,
          1,
          1,
          1,
          0.9999998807907104,
          1,
          1,
          1,
          1,
          1,
          0.9990372657775879,
          1,
          0.9999951124191284,
          1,
          1,
          1,
          1,
          0.999998927116394,
          1,
          1,
          1,
          1,
          1,
          1,
          1,
          1,
          0.9999997615814209,
          1,
          1,
          1,
          1,
          1,
          1,
          1,
          1,
          1,
          1,
          1,
          1,
          1,
          1,
          1,
          0.9999873638153076,
          1,
          1,
          1,
          1,
          1,
          1,
          1,
          1,
          1,
          1,
          1,
          1,
          1,
          1,
          1,
          1,
          1,
          1,
          0.8151646852493286,
          1,
          1,
          1,
          1,
          1,
          1,
          1,
          1,
          0.9045814275741577,
          1,
          1,
          1,
          1,
          1,
          1,
          1,
          1,
          1,
          1,
          1,
          1,
          1,
          0.9644482731819153,
          1,
          1,
          1,
          1,
          1,
          1,
          0.9999971389770508,
          1,
          0.9999996423721313,
          0.9999996423721313,
          1,
          1,
          1,
          1,
          1,
          1,
          1,
          0.9835118651390076,
          1,
          1,
          1,
          1,
          1,
          1,
          0.9999998807907104,
          0.9998828172683716,
          0.9886817932128906,
          1,
          1,
          0.9999972581863403,
          0.9999935626983643,
          1,
          1,
          1,
          1,
          1,
          1,
          1,
          1,
          1,
          1,
          1,
          1,
          1,
          1,
          0.9998451471328735,
          1,
          0.9981606602668762,
          1,
          0.9999889135360718,
          0.9999998807907104,
          1,
          1,
          1,
          1,
          1,
          1,
          1,
          1,
          0.9999998807907104,
          1,
          1,
          1,
          1,
          1,
          1,
          1,
          1,
          1,
          0.9999994039535522,
          1,
          1,
          1,
          1,
          1,
          1,
          1,
          1,
          1,
          1,
          1,
          1,
          1,
          1,
          0.9999964237213135,
          1,
          1,
          1,
          1,
          1,
          1,
          1,
          1,
          0.9845055937767029,
          1,
          1,
          1,
          1,
          1,
          1,
          0.9999911785125732,
          0.9999986886978149,
          0.9999176263809204,
          1,
          1,
          1,
          1,
          1,
          1,
          0.9528842568397522,
          1,
          1,
          0.9999676942825317,
          1,
          1,
          1,
          1,
          1,
          1,
          1,
          1,
          1,
          1,
          0.9999922513961792,
          0.9992836117744446,
          0.9999936819076538,
          1,
          1,
          1,
          1,
          1,
          1,
          0.9999998807907104,
          1,
          1,
          1,
          1,
          0.9999998807907104,
          1,
          1,
          1,
          1,
          1,
          1,
          1,
          1,
          0.9998719692230225,
          1,
          1,
          1,
          1,
          1,
          1,
          1,
          1,
          1,
          1,
          0.9999998807907104,
          1,
          1,
          1,
          1,
          1,
          0.9999996423721313,
          1,
          0.9999631643295288,
          0.9999998807907104,
          1,
          1,
          1,
          1,
          1,
          0.9999679327011108,
          1,
          1,
          1,
          0.9997865557670593,
          1,
          1,
          1,
          1,
          1,
          1,
          1,
          1,
          1,
          0.9999998807907104,
          1,
          1,
          1,
          1,
          1,
          1,
          0.9999998807907104,
          1,
          1,
          1,
          0.999980092048645,
          1,
          1,
          1,
          1,
          1,
          1,
          1,
          1,
          1,
          1,
          1,
          1,
          0.9999998807907104,
          1,
          1,
          1,
          1,
          0.9999994039535522,
          1,
          1,
          1,
          1,
          1,
          1,
          1,
          1,
          1,
          1,
          1,
          0.9999969005584717,
          0.9999731779098511,
          1,
          1,
          1,
          1,
          1,
          1,
          1,
          1,
          0.9999990463256836,
          1,
          1,
          1,
          1,
          0.9999885559082031,
          1,
          1,
          1,
          1,
          1,
          1,
          1,
          1,
          1,
          0.9999966621398926,
          1,
          1,
          1,
          1,
          1,
          1,
          1,
          1,
          1,
          1,
          1,
          0.9998121857643127,
          1,
          1,
          1,
          1,
          1,
          1,
          1,
          1,
          1,
          1,
          1,
          1,
          1,
          1,
          0.9999998807907104,
          1,
          1,
          1,
          0.9996936321258545,
          1,
          1,
          1,
          0.9999998807907104,
          1,
          1,
          1,
          1,
          1,
          1,
          1,
          1,
          1,
          1,
          1,
          1,
          1,
          0.9999998807907104,
          1,
          1,
          1,
          1,
          1,
          1,
          1,
          1,
          1,
          1,
          1,
          1,
          1,
          1,
          1,
          1,
          1,
          1,
          1,
          1,
          1,
          1,
          1,
          1,
          1,
          1,
          1,
          1,
          1,
          1,
          0.9999991655349731,
          1,
          1,
          1,
          1,
          1,
          1,
          1,
          1,
          1,
          1,
          1,
          0.9999998807907104,
          1,
          1,
          1,
          1,
          1,
          1,
          1,
          1,
          1,
          0.9889897108078003,
          1,
          1,
          1,
          1,
          1,
          1,
          1,
          1,
          1,
          1,
          1,
          1,
          1,
          1,
          1,
          1,
          1,
          1,
          1,
          0.9998574256896973,
          1,
          1,
          1,
          1,
          1,
          1,
          1,
          1,
          1,
          1,
          1,
          1,
          1,
          1,
          1,
          1,
          1,
          1,
          1,
          1,
          1,
          1,
          1,
          1,
          1,
          1,
          1,
          1,
          1,
          1,
          1,
          1,
          1,
          1,
          1,
          1,
          1,
          1,
          0.9986129999160767,
          1,
          1,
          1,
          1,
          1,
          1,
          1,
          1,
          1,
          1,
          1,
          1,
          0.9999995231628418,
          1,
          1,
          1,
          1,
          1,
          1,
          1,
          1,
          1,
          1,
          1,
          0.9999994039535522,
          1,
          1,
          1,
          1,
          1,
          1,
          1,
          1,
          1,
          1,
          1,
          1,
          0.9984422326087952,
          1,
          1,
          1,
          1,
          1,
          1,
          1,
          0.9999085664749146,
          1,
          1,
          1,
          1,
          1,
          1,
          1,
          1,
          1,
          1,
          1,
          1,
          1,
          1,
          1,
          1,
          1,
          1,
          1,
          0.9999996423721313,
          0.9999997615814209,
          1,
          1,
          1,
          1,
          0.9999635219573975,
          1,
          0.8234668374061584,
          1,
          1,
          1,
          1,
          1,
          1,
          1,
          1,
          0.9999998807907104,
          1,
          1,
          0.9999604225158691,
          1,
          1,
          1,
          1,
          1,
          1,
          1,
          1,
          1,
          1,
          1,
          1,
          1,
          1,
          0.7487371563911438,
          1,
          1,
          1,
          1,
          1,
          1,
          1,
          1,
          1,
          1,
          1,
          1,
          1,
          1,
          1,
          0.9999960660934448,
          1,
          0.9999997615814209,
          1,
          1,
          1,
          1,
          1,
          1,
          1,
          1,
          1,
          1,
          1,
          1,
          1,
          0.9999998807907104,
          1,
          1,
          1,
          1,
          0.8469541072845459,
          1,
          1,
          0.9999994039535522,
          1,
          1,
          1,
          1,
          1,
          1,
          1,
          1,
          1,
          1,
          1,
          1,
          1,
          1,
          1,
          1,
          1,
          1,
          1,
          1,
          1,
          1,
          1,
          1,
          1,
          1,
          1,
          1,
          1,
          1,
          1,
          1,
          1,
          1,
          1,
          1,
          1,
          1,
          1,
          1,
          1,
          1,
          0.999998927116394,
          1,
          1,
          1,
          1,
          1,
          1,
          1,
          1,
          1,
          1,
          1,
          1,
          1,
          1,
          1,
          1,
          1,
          1,
          1,
          0.9160557985305786,
          1,
          1,
          1,
          1,
          1,
          1,
          1,
          1,
          1,
          1,
          1,
          1,
          1,
          1,
          1,
          1,
          1,
          1,
          1,
          1,
          1,
          1,
          1,
          1,
          1,
          1,
          1,
          1,
          1,
          1,
          1,
          1,
          1,
          1,
          1,
          1,
          1,
          1,
          1,
          1,
          1,
          1,
          1,
          1,
          1,
          1,
          1,
          1,
          1,
          1,
          1,
          1,
          1,
          1,
          1,
          1,
          1,
          1,
          1,
          1,
          1,
          1,
          0.9999972581863403,
          1,
          1,
          1,
          1,
          1,
          1,
          1,
          1,
          1,
          1,
          1,
          1,
          1,
          1,
          1,
          1,
          1,
          1,
          1,
          1,
          1,
          0.999998927116394,
          1,
          1,
          1,
          1,
          1,
          1,
          1,
          1,
          1,
          1,
          1,
          1,
          1,
          1,
          1,
          1,
          1,
          1,
          1,
          1,
          1,
          1,
          1,
          1,
          1,
          1,
          1,
          1,
          1,
          1,
          1,
          1,
          0.999984622001648,
          0.9999659061431885,
          1,
          1,
          1,
          1,
          1,
          1,
          0.8776343464851379,
          1,
          1,
          1,
          1,
          1,
          1,
          1,
          1,
          1,
          1,
          1,
          1,
          1,
          1,
          1,
          1,
          1,
          1,
          1,
          1,
          1,
          1,
          1,
          1,
          1,
          1,
          1,
          1,
          1,
          1,
          1,
          1,
          1,
          1,
          1,
          1,
          1,
          1,
          1,
          1,
          1,
          1,
          1,
          1,
          0.9980148077011108,
          1,
          1,
          1,
          1,
          1,
          1,
          1,
          1,
          1,
          1,
          1,
          1,
          1,
          1,
          1,
          1,
          1,
          1,
          1,
          1,
          1,
          1,
          0.9999995231628418,
          1,
          1,
          1,
          1,
          1,
          1,
          1,
          1,
          1,
          1,
          1,
          1,
          1,
          1,
          1,
          1,
          1,
          1,
          1,
          1,
          1,
          1,
          1,
          1,
          1,
          1,
          1,
          1,
          1,
          1,
          1,
          1,
          1,
          1,
          1,
          1,
          1,
          1,
          1,
          1,
          1,
          1,
          1,
          1,
          1,
          1,
          1,
          1,
          1,
          1,
          1,
          1,
          1,
          1,
          1,
          1,
          1,
          1,
          1,
          1,
          0.9999959468841553,
          1,
          1,
          1,
          1,
          1,
          1,
          0.9999914169311523,
          1,
          1,
          1,
          1,
          1,
          1,
          0.9999890327453613,
          1,
          1,
          1,
          1,
          1,
          1,
          1,
          1,
          1,
          1,
          1,
          1,
          1,
          1,
          1,
          1,
          1,
          1,
          1,
          1,
          1,
          0.9999996423721313,
          0.9982509016990662,
          1,
          1,
          0.9997766613960266,
          1,
          1,
          1,
          1,
          1,
          1,
          1,
          0.9992735981941223,
          1,
          1,
          1,
          1,
          0.9999996423721313,
          1,
          0.9999992847442627,
          0.999998927116394,
          0.9999630451202393,
          1,
          1,
          1,
          1,
          1,
          0.9999996423721313,
          1,
          1,
          1,
          0.999975323677063,
          0.9999951124191284,
          0.9999985694885254,
          1,
          1,
          1,
          1,
          1,
          1,
          1,
          1,
          1,
          1,
          1,
          1,
          1,
          1,
          1,
          1,
          1,
          1,
          1,
          1,
          0.9868258833885193,
          1,
          0.9999923706054688,
          1,
          1,
          1,
          1,
          1,
          1,
          1,
          1,
          1,
          1,
          1,
          1,
          1,
          1,
          1,
          1,
          1,
          1,
          1,
          1,
          1,
          1,
          1,
          1,
          1,
          1,
          1,
          1,
          1,
          1,
          1,
          1,
          1,
          1,
          1,
          1,
          1,
          1,
          1,
          1,
          1,
          1,
          1,
          1,
          1,
          1,
          1,
          1,
          1,
          1,
          1,
          1,
          0.9999972581863403,
          1,
          1,
          1,
          0.9999643564224243,
          0.9999302625656128,
          1,
          1,
          1,
          1,
          1,
          1,
          1,
          1,
          0.9993927478790283,
          1,
          1,
          1,
          0.7937885522842407,
          1,
          1,
          1,
          1,
          1,
          1,
          0.9999994039535522,
          0.9999164342880249,
          1,
          1,
          1,
          1,
          1,
          1,
          1,
          1,
          1,
          1,
          1,
          1,
          1,
          1,
          1,
          1,
          1,
          1,
          1,
          1,
          1,
          1,
          1,
          1,
          1,
          1,
          1,
          1,
          1,
          1,
          1,
          1,
          1,
          1,
          1,
          1,
          1,
          1,
          1,
          1,
          1,
          1,
          1,
          1,
          1,
          1,
          1,
          1,
          1,
          1,
          1,
          1,
          1,
          1,
          1,
          1,
          1,
          1,
          1,
          1,
          1,
          1,
          1,
          0.9994476437568665,
          1,
          1,
          1,
          1,
          1,
          0.9999901056289673,
          0.9999997615814209,
          1,
          1,
          1,
          1,
          1,
          1,
          1,
          1,
          1,
          1,
          1,
          1,
          1,
          0.9998968839645386,
          1,
          1,
          1,
          1,
          1,
          1,
          1,
          1,
          1,
          1,
          1,
          1,
          1,
          1,
          1,
          1,
          1,
          1,
          0.9999992847442627,
          1,
          1,
          1,
          1,
          1,
          1,
          1,
          1,
          1,
          1,
          1,
          1,
          1,
          1,
          1,
          1,
          1,
          1,
          1,
          1,
          1,
          1,
          1,
          0.9999984502792358,
          1,
          0.9999480247497559,
          1,
          1,
          1,
          1,
          1,
          1,
          1,
          1,
          1,
          1,
          1,
          1,
          1,
          1,
          1,
          1,
          1,
          1,
          1,
          1,
          1,
          1,
          1,
          1,
          1,
          1,
          1,
          1,
          0.9999998807907104,
          1,
          1,
          1,
          1,
          1,
          1,
          1,
          1,
          1,
          0.9999889135360718,
          1,
          1,
          1,
          1,
          1,
          1,
          1,
          1,
          1,
          0.9998754262924194,
          0.9999973773956299,
          1,
          0.9999997615814209,
          1,
          1,
          1,
          1,
          1,
          1,
          1,
          1,
          1,
          0.9999998807907104,
          0.9938234090805054,
          1,
          1,
          1,
          1,
          0.9994354844093323,
          1,
          1,
          1,
          1,
          0.9999998807907104,
          1,
          1,
          1,
          1,
          1,
          1,
          1,
          1,
          1,
          1,
          1,
          1,
          0.9999998807907104,
          0.9999996423721313,
          1,
          1,
          1,
          1,
          1,
          1,
          0.9999325275421143,
          0.9999700784683228,
          1,
          1,
          0.9999994039535522,
          1,
          1,
          1,
          1,
          1,
          1,
          1,
          1,
          1,
          1,
          1,
          0.9916150569915771,
          0.9999866485595703,
          1,
          1,
          1,
          1,
          1,
          0.9999997615814209,
          1,
          1,
          1,
          1,
          1,
          1,
          0.9887328147888184,
          1,
          1,
          1,
          1,
          1,
          1,
          1,
          1,
          0.9999991655349731,
          1,
          1,
          1,
          1,
          1,
          0.9999980926513672,
          1,
          0.9998732805252075,
          1,
          1,
          1,
          1,
          1,
          1,
          1,
          1,
          1,
          1,
          1,
          1,
          1,
          0.999853253364563,
          0.9999998807907104,
          1,
          1,
          1,
          1,
          1,
          1,
          1,
          1,
          1,
          1,
          1,
          1,
          1,
          1,
          1,
          1,
          1,
          1,
          1,
          1,
          1,
          1,
          1,
          1,
          1,
          1,
          0.9999998807907104,
          0.9999996423721313,
          1,
          0.9999998807907104,
          1,
          1,
          1,
          1,
          1,
          1,
          1,
          0.9999014139175415,
          1,
          1,
          1,
          1,
          1,
          1,
          1,
          1,
          1,
          0.9989702701568604,
          1,
          0.9999998807907104,
          1,
          1,
          1,
          1,
          1,
          1,
          1,
          0.9999982118606567,
          1,
          1,
          1,
          1,
          1,
          1,
          1,
          1,
          1,
          1,
          0.9999998807907104,
          1,
          1,
          1,
          1,
          1,
          1,
          1,
          1,
          1,
          1,
          1,
          1,
          1,
          1,
          1,
          1,
          1,
          1,
          1,
          1,
          1,
          1,
          1,
          1,
          1,
          1,
          1,
          1,
          1,
          1,
          1,
          1,
          1,
          1,
          1,
          1,
          1,
          1,
          1,
          1,
          1,
          1,
          1,
          1,
          0.9999955892562866,
          0.9999979734420776,
          1,
          1,
          1,
          1,
          1,
          1,
          1,
          0.998853325843811,
          1,
          0.9999995231628418,
          1,
          0.9999998807907104,
          1,
          0.9997621178627014,
          0.9888888001441956,
          1,
          1,
          1,
          1,
          1,
          1,
          1,
          1,
          1,
          1,
          1,
          1,
          1,
          1,
          1,
          1,
          1,
          1,
          1,
          1,
          1,
          1,
          1,
          1,
          1,
          1,
          1,
          1,
          1,
          1,
          1,
          1,
          1,
          1,
          1,
          1,
          1,
          1,
          1,
          1,
          1,
          1,
          1,
          1,
          1,
          1,
          1,
          1,
          1,
          1,
          1,
          1,
          1,
          1,
          1,
          1,
          1,
          1,
          1,
          1,
          1,
          1,
          1,
          1,
          1,
          1,
          1,
          1,
          1,
          0.9999998807907104,
          1,
          1,
          1,
          1,
          1,
          1,
          1,
          1,
          1,
          1,
          1,
          1,
          1,
          1,
          1,
          1,
          1,
          1,
          1,
          1,
          1,
          1,
          1,
          1,
          1,
          1,
          1,
          1,
          1,
          1,
          1,
          1,
          1,
          1,
          1,
          1,
          1,
          1,
          1,
          1,
          1,
          1,
          1,
          1,
          1,
          1,
          1,
          1,
          1,
          1,
          1,
          1,
          1,
          1,
          1,
          1,
          1,
          1,
          1,
          1,
          1,
          1,
          1,
          1,
          1,
          1,
          1,
          1,
          1,
          1,
          1,
          1,
          1,
          1,
          1,
          1,
          1,
          1,
          1,
          1,
          1,
          1,
          1,
          1,
          1,
          1,
          1,
          1,
          1,
          1,
          1,
          1,
          1,
          1,
          1,
          1,
          1,
          1,
          1,
          1,
          1,
          1,
          1,
          0.9999995231628418,
          1,
          1,
          1,
          1,
          1,
          1,
          1,
          1,
          1,
          1,
          1,
          1,
          1,
          1,
          1,
          1,
          1,
          1,
          1,
          1,
          1,
          1,
          1,
          1,
          1,
          1,
          1,
          1,
          1,
          0.999998927116394,
          1,
          1,
          1,
          1,
          1,
          1,
          1,
          1,
          1,
          1,
          1,
          1,
          1,
          1,
          1,
          1,
          1,
          1,
          1,
          1,
          0.9999992847442627,
          1,
          0.921909749507904,
          1,
          1,
          1,
          1,
          1,
          1,
          1,
          1,
          1,
          0.9994605183601379,
          1,
          1,
          1,
          1,
          1,
          1,
          1,
          1,
          1,
          1,
          1,
          1,
          1,
          1,
          1,
          0.9999967813491821,
          1,
          0.9999016523361206,
          1,
          1,
          1,
          1,
          1,
          1,
          1,
          1,
          1,
          1,
          1,
          1,
          1,
          1,
          1,
          1,
          1,
          1,
          1,
          1,
          1,
          1,
          1,
          1,
          1,
          1,
          1,
          1,
          1,
          1,
          1,
          0.9999998807907104,
          1,
          1,
          1,
          1,
          1,
          1,
          1,
          1,
          1,
          1,
          1,
          1,
          1,
          1,
          1,
          1,
          1,
          1,
          1,
          1,
          1,
          1,
          1,
          1,
          1,
          1,
          1,
          1,
          1,
          1,
          1,
          1,
          1,
          1,
          1,
          1,
          1,
          1,
          1,
          1,
          1,
          1,
          1,
          1,
          1,
          1,
          1,
          1,
          1,
          1,
          1,
          1,
          1,
          1,
          1,
          1,
          0.999992847442627,
          1,
          1,
          1,
          1,
          1,
          1,
          1,
          1,
          1,
          1,
          1,
          1,
          1,
          1,
          0.9609144330024719,
          1,
          1,
          1,
          1,
          1,
          0.9999972581863403,
          1,
          1,
          1,
          1,
          1,
          1,
          1,
          1,
          1,
          1,
          1,
          1,
          1,
          1,
          1,
          0.9999998807907104,
          0.9984756112098694,
          0.9999994039535522,
          1,
          0.9999958276748657,
          1,
          0.9984808564186096,
          0.9999583959579468,
          1,
          1,
          0.9999997615814209,
          1,
          1,
          1,
          1,
          0.9998520612716675,
          0.9999957084655762,
          0.5785461664199829,
          0.9997851252555847,
          1,
          0.999983549118042,
          0.9999833106994629,
          0.8014159798622131,
          0.9999864101409912,
          0.9924070239067078,
          1,
          1,
          1,
          1,
          1,
          1,
          1,
          1,
          1,
          1,
          1,
          1,
          1,
          0.9999998807907104,
          1,
          1,
          1,
          0.9999974966049194,
          0.9999728202819824,
          0.9932594895362854,
          0.9999270439147949,
          1,
          1,
          1,
          0.9956669807434082,
          1,
          0.9999992847442627,
          1,
          1,
          1,
          0.9999984502792358,
          1,
          1,
          1,
          1,
          1,
          1,
          1,
          1,
          0.9999998807907104,
          1,
          1,
          1,
          0.999993085861206,
          0.9999994039535522,
          1,
          0.8913105726242065,
          1,
          0.9999943971633911,
          0.9999996423721313,
          1,
          1,
          0.9992895126342773,
          0.9958135485649109,
          1,
          1,
          1,
          1,
          1,
          1,
          1,
          1,
          1,
          1,
          1,
          1,
          1,
          1,
          1,
          1,
          1,
          1,
          0.6569041609764099,
          1,
          1,
          1,
          1,
          1,
          1,
          1,
          1,
          1,
          1,
          0.9999840259552002,
          1,
          1,
          1,
          1,
          1,
          0.9999997615814209,
          1,
          1,
          1,
          1,
          1,
          1,
          1,
          1,
          1,
          1,
          1,
          1,
          1,
          1,
          1,
          1,
          1,
          1,
          1,
          1,
          1,
          1,
          1,
          1,
          1,
          1,
          1,
          1,
          1,
          1,
          1,
          1,
          1,
          1,
          1,
          1,
          1,
          1,
          1,
          1,
          1,
          1,
          1,
          1,
          1,
          1,
          1,
          1,
          1,
          1,
          1,
          1,
          0.9999997615814209,
          1,
          1,
          1,
          1,
          1,
          1,
          1,
          1,
          1,
          1,
          0.9999997615814209,
          1,
          1,
          1,
          1,
          1,
          1,
          1,
          1,
          1,
          1,
          1,
          1,
          1,
          1,
          1,
          1,
          0.9955573678016663,
          1,
          1,
          1,
          1,
          1,
          0.9248608350753784,
          1,
          1,
          1,
          1,
          1,
          1,
          1,
          1,
          1,
          1,
          1,
          1,
          1,
          1,
          1,
          1,
          1,
          1,
          1,
          0.9999998807907104,
          1,
          1,
          1,
          1,
          1,
          1,
          0.9999997615814209,
          0.5761879682540894,
          1,
          1,
          1,
          1,
          1,
          1,
          1,
          1,
          1,
          1,
          1,
          1,
          1,
          1,
          1,
          1,
          1,
          1,
          1,
          1,
          1,
          1,
          0.9999996423721313,
          0.9999954700469971,
          1,
          1,
          1,
          1,
          1,
          1,
          1,
          1,
          1,
          0.9999992847442627,
          1,
          1,
          1,
          1,
          1,
          1,
          1,
          1,
          1,
          1,
          1,
          1,
          1,
          1,
          1,
          1,
          1,
          1,
          1,
          1,
          1,
          1,
          0.9999998807907104,
          0.9999997615814209,
          1,
          1,
          1,
          1,
          1,
          0.9840787649154663,
          1,
          1,
          1,
          1,
          1,
          1,
          1,
          1,
          1,
          1,
          1,
          1,
          1,
          1,
          1,
          1,
          1,
          1,
          1,
          1,
          1,
          1,
          1,
          1,
          1,
          1,
          1,
          1,
          1,
          1,
          1,
          1,
          1,
          1,
          1,
          0.9999997615814209,
          1,
          1,
          1,
          1,
          1,
          1,
          1,
          1,
          1,
          1,
          0.9999082088470459,
          0.9999579191207886,
          1,
          1,
          1,
          1,
          1,
          1,
          1,
          1,
          1,
          1,
          1,
          1,
          1,
          1,
          0.9999998807907104,
          1,
          1,
          1,
          0.9999994039535522,
          1,
          1,
          1,
          1,
          0.9999974966049194,
          1,
          1,
          1,
          0.9999998807907104,
          1,
          1,
          0.9999773502349854,
          1,
          1,
          1,
          1,
          1,
          1,
          1,
          1,
          1,
          1,
          1,
          1,
          1,
          1,
          1,
          1,
          1,
          1,
          1,
          1,
          1,
          1,
          1,
          1,
          1,
          1,
          1,
          1,
          1,
          1,
          1,
          1,
          1,
          1,
          1,
          0.9999988079071045,
          1,
          1,
          1,
          1,
          1,
          1,
          1,
          1,
          1,
          1,
          1,
          1,
          1,
          1,
          1,
          1,
          1,
          1,
          1,
          1,
          1,
          1,
          1,
          1,
          1,
          1,
          1,
          1,
          1,
          1,
          1,
          1,
          1,
          1,
          1,
          1,
          1,
          1,
          1,
          1,
          1,
          1,
          1,
          1,
          1,
          1,
          1,
          1,
          1,
          1,
          1,
          1,
          1,
          1,
          1,
          1,
          1,
          1,
          1,
          1,
          0.9999997615814209,
          1,
          1,
          1,
          1,
          0.9999997615814209,
          1,
          0.9999998807907104,
          1,
          1,
          1,
          1,
          1,
          1,
          1,
          1,
          1,
          1,
          1,
          1,
          1,
          1,
          1,
          1,
          1,
          1,
          0.9994977712631226,
          1,
          1,
          1,
          1,
          1,
          1,
          1,
          1,
          1,
          1,
          1,
          1,
          1,
          1,
          1,
          1,
          1,
          1,
          1,
          1,
          1,
          1,
          1,
          1,
          1,
          1,
          1,
          1,
          1,
          1,
          1,
          1,
          1,
          1,
          1,
          1,
          1,
          1,
          1,
          0.9999992847442627,
          1,
          1,
          1,
          1,
          0.9999998807907104,
          1,
          1,
          1,
          1,
          1,
          1,
          1,
          1,
          1,
          1,
          1,
          1,
          1,
          1,
          1,
          1,
          1,
          1,
          1,
          1,
          1,
          1,
          1,
          1,
          1,
          1,
          0.9999986886978149,
          1,
          1,
          1,
          1,
          1,
          1,
          1,
          1,
          1,
          1,
          1,
          1,
          1,
          1,
          1,
          1,
          1,
          1,
          1,
          1,
          1,
          1,
          1,
          1,
          1,
          1,
          1,
          1,
          1,
          1,
          1,
          1,
          0.9999847412109375,
          1,
          1,
          1,
          1,
          1,
          1,
          1,
          1,
          1,
          1,
          1,
          1,
          1,
          1,
          1,
          1,
          1,
          1,
          1,
          1,
          1,
          1,
          1,
          1,
          0.9999980926513672,
          1,
          1,
          1,
          1,
          1,
          1,
          1,
          1,
          1,
          1,
          1,
          1,
          1,
          1,
          1,
          0.9999992847442627,
          1,
          1,
          1,
          1,
          1,
          1,
          1,
          1,
          1,
          1,
          1,
          1,
          0.9999980926513672,
          1,
          0.9999878406524658,
          1,
          1,
          1,
          1,
          1,
          0.5168142318725586,
          1,
          1,
          1,
          1,
          1,
          1,
          1,
          1,
          1,
          1,
          1,
          1,
          1,
          1,
          1,
          1,
          1,
          1,
          0.9999998807907104,
          1,
          1,
          1,
          1,
          0.9931841492652893,
          0.9999997615814209,
          1,
          1,
          1,
          1,
          1,
          1,
          1,
          1,
          1,
          1,
          1,
          1,
          1,
          1,
          1,
          1,
          1,
          0.9995284080505371,
          1,
          1,
          1,
          1,
          1,
          1,
          1,
          1,
          1,
          1,
          1,
          1,
          1,
          1,
          1,
          1,
          1,
          1,
          1,
          1,
          1,
          1,
          1,
          1,
          1,
          1,
          1,
          1,
          1,
          1,
          1,
          1,
          1,
          1,
          1,
          1,
          1,
          1,
          1,
          1,
          1,
          1,
          1,
          1,
          1,
          1,
          1,
          1,
          1,
          0.9999996423721313,
          1,
          1,
          1,
          1,
          1,
          1,
          1,
          1,
          1,
          1,
          1,
          1,
          1,
          1,
          1,
          1,
          1,
          1,
          1,
          1,
          1,
          1,
          1,
          1,
          1,
          1,
          1,
          1,
          1,
          1,
          1,
          1,
          1,
          1,
          1,
          1,
          1,
          1,
          1,
          1,
          1,
          1,
          1,
          1,
          1,
          1,
          1,
          1,
          1,
          1,
          1,
          1,
          1,
          1,
          1,
          1,
          1,
          1,
          1,
          1,
          1,
          1,
          1,
          1,
          1,
          1,
          1,
          1,
          1,
          0.999998927116394,
          1,
          0.9999998807907104,
          1,
          1,
          1,
          1,
          1,
          1,
          1,
          1,
          1,
          1,
          1,
          1,
          0.9999998807907104,
          1,
          1,
          1,
          1,
          1,
          1,
          0.980513870716095,
          1,
          1,
          1,
          1,
          1,
          1,
          1,
          1,
          1,
          1,
          1,
          0.9999986886978149,
          1,
          1,
          1,
          1,
          1,
          1,
          1,
          1,
          1,
          1,
          1,
          1,
          1,
          1,
          1,
          1,
          1,
          1,
          0.9999998807907104,
          1,
          0.999977707862854,
          1,
          1,
          1,
          1,
          1,
          1,
          0.9999442100524902,
          1,
          0.9999997615814209,
          1,
          1,
          1,
          1,
          1,
          1,
          1,
          0.9998397827148438,
          1,
          1,
          1,
          1,
          1,
          1,
          1,
          1,
          1,
          1,
          1,
          1,
          1,
          1,
          1,
          1,
          1,
          1,
          1,
          0.9999998807907104,
          0.9999641180038452,
          0.9991371035575867,
          1,
          1,
          0.9999974966049194,
          1,
          1,
          1,
          1,
          1,
          1,
          0.9999991655349731,
          1,
          1,
          1,
          1,
          1,
          1,
          1,
          1,
          0.9999996423721313,
          1,
          1,
          1,
          1,
          1,
          0.9999887943267822,
          1,
          1,
          1,
          1,
          1,
          1,
          0.9999970197677612,
          1,
          1,
          1,
          1,
          1,
          1,
          1,
          1,
          1,
          1,
          1,
          1,
          1,
          1,
          1,
          1,
          1,
          0.9999969005584717,
          1,
          1,
          1,
          1,
          1,
          1,
          1,
          1,
          1,
          1,
          1,
          1,
          1,
          1,
          1,
          1,
          1,
          1,
          1,
          1,
          1,
          1,
          1,
          1,
          1,
          1,
          1,
          1,
          1,
          1,
          1,
          1,
          1,
          1,
          0.9999996423721313,
          1,
          0.999996542930603,
          1,
          1,
          1,
          1,
          1,
          1,
          1,
          1,
          0.9999997615814209,
          1,
          1,
          1,
          1,
          0.9999959468841553,
          1,
          1,
          1,
          1,
          1,
          1,
          1,
          1,
          1,
          1,
          1,
          0.9999995231628418,
          1,
          1,
          1,
          1,
          1,
          1,
          1,
          1,
          1,
          1,
          1,
          1,
          1,
          1,
          1,
          1,
          1,
          1,
          1,
          0.9999947547912598,
          1,
          1,
          1,
          1,
          1,
          1,
          1,
          1,
          1,
          1,
          1,
          1,
          1,
          1,
          1,
          1,
          1,
          1,
          1,
          1,
          1,
          1,
          1,
          1,
          1,
          1,
          1,
          1,
          1,
          1,
          1,
          1,
          1,
          1,
          0.9999997615814209,
          1,
          1,
          1,
          1,
          1,
          1,
          1,
          1,
          1,
          1,
          1,
          1,
          1,
          1,
          1,
          1,
          1,
          1,
          1,
          1,
          1,
          1,
          1,
          1,
          1,
          1,
          1,
          1,
          1,
          1,
          0.9999992847442627,
          1,
          1,
          1,
          1,
          1,
          1,
          1,
          1,
          1,
          1,
          1,
          1,
          1,
          1,
          1,
          1,
          1,
          1,
          1,
          1,
          1,
          1,
          1,
          1,
          1,
          1,
          1,
          1,
          1,
          1,
          1,
          1,
          1,
          1,
          1,
          1,
          1,
          1,
          1,
          1,
          1,
          1,
          1,
          1,
          1,
          1,
          1,
          0.9999998807907104,
          1,
          1,
          1,
          1,
          1,
          1,
          1,
          1,
          1,
          1,
          1,
          1,
          1,
          1,
          0.9995735287666321,
          0.9999996423721313,
          1,
          1,
          1,
          1,
          1,
          1,
          1,
          1,
          1,
          1,
          1,
          1,
          1,
          1,
          1,
          1,
          1,
          1,
          1,
          1,
          1,
          1,
          1,
          1,
          1,
          1,
          1,
          1,
          1,
          1,
          1,
          1,
          1,
          1,
          1,
          0.9999997615814209,
          1,
          1,
          1,
          1,
          1,
          1,
          1,
          1,
          0.9999986886978149,
          1,
          1,
          1,
          1,
          1,
          1,
          1,
          1,
          1,
          1,
          1,
          1,
          1,
          1,
          1,
          1,
          1,
          1,
          0.9999983310699463,
          1,
          1,
          0.9999899864196777,
          1,
          1,
          1,
          1,
          1,
          1,
          1,
          1,
          1,
          1,
          1,
          1,
          1,
          1,
          1,
          1,
          1,
          1,
          1,
          0.9999814033508301,
          1,
          1,
          1,
          1,
          1,
          1,
          1,
          1,
          1,
          1,
          1,
          1,
          1,
          1,
          1,
          1,
          1,
          1,
          0.9997977614402771,
          1,
          1,
          0.9998835325241089,
          1,
          0.9999890327453613,
          1,
          0.9999998807907104,
          0.9999984502792358,
          1,
          1,
          0.9998409748077393,
          1,
          1,
          0.9999960660934448,
          0.9999997615814209,
          1,
          0.9999998807907104,
          1,
          1,
          1,
          1,
          1,
          1,
          1,
          1,
          1,
          1,
          1,
          1,
          0.9999998807907104,
          1,
          1,
          1,
          1,
          1,
          1,
          1,
          1,
          1,
          1,
          1,
          1,
          1,
          1,
          1,
          1,
          1,
          1,
          1,
          1,
          1,
          1,
          1,
          1,
          1,
          1,
          0.9999901056289673,
          0.9999971389770508,
          0.9999998807907104,
          1,
          1,
          1,
          1,
          1,
          1,
          1,
          1,
          1,
          1,
          0.9999986886978149,
          1,
          1,
          1,
          0.9999994039535522,
          1,
          0.9998730421066284,
          1,
          1,
          0.9928446412086487,
          1,
          1,
          1,
          1,
          1,
          1,
          0.9684134125709534,
          1,
          1,
          1,
          1,
          1,
          0.9999998807907104,
          1,
          1,
          1,
          1,
          1,
          1,
          1,
          1,
          1,
          1,
          0.9999997615814209,
          1,
          1,
          1,
          1,
          1,
          1,
          0.9999994039535522,
          1,
          1,
          0.9999997615814209,
          1,
          1,
          1,
          1,
          1,
          1,
          1,
          1,
          0.9999971389770508,
          1,
          1,
          1,
          1,
          1,
          1,
          0.9999440908432007,
          1,
          1,
          1,
          1,
          1,
          1,
          1,
          1,
          1,
          1,
          0.9999990463256836,
          1,
          1,
          1,
          1,
          1,
          1,
          1,
          1,
          0.9999927282333374,
          1,
          1,
          0.9999991655349731,
          1,
          1,
          1,
          1,
          1,
          1,
          1,
          1,
          1,
          1,
          1,
          1,
          1,
          1,
          1,
          1,
          1,
          1,
          1,
          1,
          1,
          0.9999998807907104,
          1,
          1,
          1,
          1,
          1,
          1,
          1,
          1,
          1,
          1,
          1,
          0.9999997615814209,
          1,
          1,
          1,
          1,
          1,
          1,
          1,
          1,
          1,
          1,
          1,
          1,
          1,
          1,
          1,
          1,
          1,
          1,
          1,
          1,
          1,
          1,
          1,
          1,
          1,
          1,
          1,
          1,
          1,
          1,
          0.9998602867126465,
          1,
          0.9948093891143799,
          1,
          1,
          1,
          0.9600194692611694,
          1,
          1,
          1,
          0.9999711513519287,
          1,
          0.9999963045120239,
          1,
          1,
          1,
          1,
          1,
          1,
          1,
          0.9999346733093262,
          1,
          0.9999994039535522,
          1,
          1,
          1,
          1,
          1,
          1,
          1,
          1,
          1,
          0.9999982118606567,
          0.9999980926513672,
          1,
          0.9999927282333374,
          0.9999996423721313,
          1,
          0.9999874830245972,
          1,
          1,
          1,
          1,
          0.9999474287033081,
          1,
          1,
          0.9999982118606567,
          0.9999644756317139,
          0.9999997615814209,
          1,
          1,
          0.9999688863754272,
          1,
          0.9999998807907104,
          1,
          1,
          1,
          1,
          1,
          1,
          1,
          1,
          1,
          1,
          1,
          1,
          1,
          1,
          1,
          0.9999854564666748,
          1,
          1,
          1,
          1,
          1,
          1,
          1,
          1,
          1,
          1,
          1,
          1,
          1,
          1,
          1,
          1,
          1,
          1,
          1,
          1,
          1,
          1,
          1,
          1,
          0.9999942779541016,
          1,
          1,
          1,
          1,
          1,
          1,
          0.999991774559021,
          1,
          1,
          1,
          1,
          0.9999988079071045,
          1,
          1,
          1,
          1,
          1,
          1,
          1,
          1,
          0.9998288154602051,
          1,
          1,
          1,
          1,
          1,
          1,
          1,
          1,
          1,
          1,
          1,
          1,
          1,
          1,
          1,
          1,
          1,
          1,
          1,
          1,
          1,
          1,
          1,
          1,
          1,
          1,
          1,
          1,
          1,
          1,
          1,
          1,
          1,
          1,
          1,
          1,
          1,
          1,
          1,
          1,
          1,
          1,
          1,
          1,
          1,
          1,
          1,
          1,
          1,
          1,
          1,
          1,
          1,
          0.9999983310699463,
          1,
          1,
          1,
          1,
          1,
          1,
          1,
          1,
          1,
          1,
          1,
          1,
          1,
          1,
          1,
          1,
          1,
          0.9999997615814209,
          1,
          1,
          1,
          1,
          1,
          1,
          1,
          1,
          0.9999990463256836,
          1,
          1,
          0.9999988079071045,
          1,
          1,
          1,
          1,
          1,
          1,
          1,
          1,
          1,
          1,
          1,
          1,
          1,
          1,
          0.9663987755775452,
          1,
          0.9999997615814209,
          1,
          1,
          0.9805410504341125,
          0.9999611377716064,
          1,
          1,
          1,
          0.9999996423721313,
          1,
          1,
          0.9999996423721313,
          1,
          1,
          1,
          1,
          1,
          1,
          1,
          1,
          1,
          1,
          1,
          1,
          1,
          1,
          1,
          1,
          1,
          1,
          1,
          1,
          1,
          1,
          1,
          0.9999908208847046,
          0.9999961853027344,
          1,
          1,
          1,
          0.9999998807907104,
          0.9999978542327881,
          1,
          1,
          1,
          0.9999997615814209,
          1,
          1,
          1,
          1,
          0.7501141428947449,
          0.9999973773956299,
          0.9999828338623047,
          1,
          1,
          1,
          1,
          1,
          1,
          1,
          1,
          1,
          1,
          1,
          0.9946594834327698,
          1,
          1,
          1,
          1,
          1,
          1,
          1,
          1,
          1,
          1,
          1,
          1,
          1,
          1,
          1,
          1,
          1,
          1,
          1,
          1,
          1,
          1,
          1,
          1,
          1,
          1,
          1,
          1,
          1,
          1,
          1,
          1,
          1,
          1,
          1,
          0.9999902248382568,
          0.9753814339637756,
          1,
          1,
          1,
          1,
          1,
          0.999984860420227,
          1,
          1,
          1,
          1,
          1,
          1,
          1,
          1,
          1,
          0.9999998807907104,
          1,
          1,
          1,
          1,
          0.998831570148468,
          1,
          1,
          1,
          1,
          1,
          1,
          1,
          1,
          1,
          1,
          0.943389892578125,
          1,
          1,
          1,
          0.9999969005584717,
          1,
          1,
          1,
          0.9999943971633911,
          1,
          1,
          1,
          1,
          1,
          1,
          1,
          1,
          1,
          1,
          1,
          1,
          1,
          1,
          1,
          1,
          1,
          1,
          1,
          1,
          1,
          1,
          0.9999998807907104,
          1,
          1,
          1,
          1,
          1,
          1,
          1,
          1,
          1,
          1,
          1,
          1,
          1,
          1,
          1,
          1,
          1,
          1,
          1,
          1,
          1,
          1,
          1,
          1,
          1,
          1,
          1,
          1,
          1,
          1,
          1,
          1,
          1,
          1,
          1,
          1,
          0.9999996423721313,
          1,
          1,
          1,
          1,
          1,
          1,
          1,
          1,
          1,
          0.9999990463256836,
          1,
          1,
          1,
          1,
          1,
          1,
          1,
          1,
          1,
          1,
          0.9999998807907104,
          1,
          1,
          1,
          1,
          1,
          1,
          1,
          1,
          1,
          1,
          0.9999996423721313,
          0.9999998807907104,
          1,
          1,
          1,
          1,
          1,
          1,
          1,
          1,
          1,
          0.9999996423721313,
          0.6527672410011292,
          0.999998927116394,
          1,
          1,
          1,
          1,
          1,
          0.8131445646286011,
          1,
          1,
          1,
          1,
          1,
          1,
          1,
          1,
          1,
          1,
          1,
          1,
          1,
          1,
          1,
          1,
          1,
          1,
          1,
          1,
          1,
          1,
          1,
          1,
          1,
          1,
          1,
          1,
          1,
          1,
          1,
          1,
          1,
          1,
          1,
          1,
          1,
          1,
          1,
          1,
          1,
          1,
          1,
          1,
          1,
          1,
          1,
          1,
          1,
          1,
          1,
          1,
          1,
          1,
          1,
          1,
          1,
          1,
          1,
          1,
          1,
          1,
          1,
          0.9999998807907104,
          1,
          1,
          1,
          1,
          1,
          1,
          1,
          1,
          1,
          1,
          1,
          1,
          1,
          1,
          1,
          1,
          1,
          1,
          1,
          1,
          1,
          1,
          1,
          1,
          1,
          1,
          1,
          1,
          1,
          1,
          1,
          1,
          1,
          1,
          1,
          1,
          1,
          1,
          1,
          1,
          1,
          1,
          1,
          1,
          1,
          1,
          1,
          1,
          1,
          1,
          1,
          1,
          1,
          1,
          1,
          1,
          1,
          1,
          1,
          1,
          1,
          1,
          1,
          1,
          1,
          1,
          1,
          1,
          1,
          1,
          1,
          1,
          1,
          1,
          1,
          1,
          1,
          1,
          1,
          1,
          1,
          1,
          1,
          1,
          1,
          1,
          1,
          1,
          1,
          1,
          1,
          1,
          1,
          1,
          1,
          1,
          1,
          1,
          1,
          1,
          1,
          1,
          1,
          1,
          1,
          1,
          1,
          1,
          1,
          1,
          1,
          1,
          1,
          1,
          1,
          1,
          1,
          1,
          1,
          1,
          1,
          1,
          1,
          1,
          1,
          1,
          1,
          1,
          1,
          1,
          1,
          1,
          1,
          1,
          1,
          0.9999998807907104,
          1,
          1,
          1,
          1,
          1,
          1,
          1,
          1,
          1,
          1,
          1,
          1,
          1,
          1,
          0.9999995231628418,
          1,
          1,
          1,
          1,
          1,
          1,
          1,
          1,
          1,
          1,
          1,
          1,
          1,
          1,
          1,
          1,
          1,
          1,
          1,
          1,
          1,
          1,
          1,
          1,
          1,
          1,
          1,
          1,
          1,
          1,
          1,
          1,
          1,
          1,
          1,
          1,
          1,
          1,
          1,
          1,
          1,
          1,
          1,
          1,
          1,
          1,
          1,
          1,
          1,
          1,
          1,
          1,
          1,
          1,
          1,
          1,
          1,
          1,
          1,
          1,
          1,
          1,
          1,
          0.9999983310699463,
          1,
          1,
          1,
          1,
          1,
          1,
          1,
          1,
          1,
          1,
          1,
          1,
          1,
          1,
          1,
          1,
          1,
          1,
          1,
          1,
          1,
          1,
          1,
          1,
          1,
          1,
          1,
          1,
          1,
          1,
          1,
          1,
          1,
          1,
          1,
          1,
          1,
          1,
          1,
          1,
          1,
          1,
          0.9999994039535522,
          1,
          1,
          1,
          1,
          1,
          1,
          1,
          1,
          1,
          1,
          1,
          1,
          1,
          1,
          1,
          1,
          1,
          1,
          1,
          1,
          1,
          1,
          1,
          1,
          1,
          1,
          1,
          1,
          1,
          1,
          1,
          1,
          0.999997615814209,
          1,
          1,
          1,
          1,
          1,
          1,
          1,
          1,
          1,
          1,
          1,
          1,
          1,
          1,
          1,
          1,
          1,
          1,
          1,
          1,
          1,
          1,
          1,
          1,
          1,
          1,
          1,
          1,
          1,
          1,
          1,
          1,
          1,
          1,
          1,
          1,
          1,
          1,
          1,
          1,
          1,
          1,
          1,
          1,
          1,
          1,
          1,
          1,
          1,
          1,
          1,
          1,
          1,
          1,
          1,
          1,
          1,
          1,
          1,
          1,
          1,
          1,
          1,
          1,
          1,
          1,
          1,
          1,
          1,
          1,
          1,
          1,
          1,
          1,
          1,
          1,
          1,
          1,
          1,
          1,
          0.9999998807907104,
          1,
          1,
          1,
          1,
          1,
          1,
          1,
          1,
          1,
          1,
          1,
          1,
          1,
          1,
          1,
          1,
          1,
          1,
          1,
          1,
          1,
          1,
          1,
          1,
          1,
          1,
          1,
          1,
          1,
          1,
          1,
          1,
          1,
          1,
          1,
          1,
          1,
          1,
          1,
          1,
          1,
          1,
          1,
          1,
          1,
          0.9998998641967773,
          1,
          1,
          0.9999996423721313,
          1,
          0.9999818801879883,
          0.9962913990020752,
          0.9995492100715637,
          1,
          1,
          1,
          1,
          1,
          1,
          1,
          1,
          0.9998102784156799,
          1,
          1,
          1,
          1,
          1,
          1,
          1,
          1,
          1,
          1,
          0.9999998807907104,
          1,
          1,
          1,
          0.9999998807907104,
          1,
          1,
          0.9999998807907104,
          1,
          1,
          1,
          1,
          1,
          1,
          1,
          0.9999934434890747,
          1,
          1,
          0.9999939203262329,
          1,
          1,
          1,
          1,
          1,
          1,
          1,
          1,
          1,
          1,
          1,
          1,
          1,
          1,
          0.9999998807907104,
          1,
          0.9998502731323242,
          1,
          1,
          1,
          1,
          1,
          1,
          1,
          1,
          1,
          1,
          1,
          1,
          1,
          1,
          1,
          1,
          1,
          1,
          1,
          1,
          1,
          1,
          1,
          1,
          1,
          1,
          1,
          1,
          1,
          1,
          1,
          1,
          1,
          1,
          1,
          1,
          1,
          1,
          0.9999169111251831,
          1,
          1,
          1,
          1,
          1,
          1,
          1,
          1,
          1,
          1,
          1,
          1,
          1,
          1,
          1,
          1,
          1,
          1,
          1,
          1,
          1,
          1,
          1,
          1,
          1,
          1,
          1,
          1,
          1,
          1,
          1,
          1,
          1,
          1,
          1,
          1,
          1,
          1,
          1,
          1,
          1,
          1,
          1,
          1,
          1,
          1,
          1,
          0.9344205260276794,
          1,
          1,
          1,
          1,
          1,
          1,
          1,
          1,
          1,
          1,
          1,
          1,
          1,
          1,
          1,
          1,
          1,
          1,
          1,
          1,
          1,
          1,
          1,
          1,
          1,
          1,
          1,
          1,
          1,
          1,
          1,
          1,
          1,
          1,
          1,
          1,
          1,
          1,
          1,
          1,
          1,
          1,
          1,
          1,
          1,
          1,
          1,
          1,
          1,
          1,
          1,
          1,
          1,
          1,
          1,
          0.9999995231628418,
          1,
          1,
          1,
          1,
          1,
          1,
          1,
          1,
          1,
          1,
          1,
          1,
          1,
          1,
          1,
          1,
          1,
          1,
          1,
          1,
          1,
          1,
          1,
          1,
          1,
          1,
          1,
          1,
          1,
          1,
          1,
          1,
          1,
          1,
          1,
          1,
          1,
          1,
          1,
          1,
          1,
          1,
          1,
          1,
          1,
          1,
          1,
          1,
          1,
          1,
          1,
          1,
          1,
          1,
          1,
          1,
          1,
          1,
          1,
          1,
          1,
          1,
          1,
          1,
          1,
          0.9999970197677612,
          1,
          1,
          1,
          1,
          1,
          1,
          1,
          1,
          1,
          1,
          1,
          1,
          1,
          1,
          1,
          1,
          1,
          1,
          1,
          1,
          1,
          1,
          1,
          1,
          1,
          1,
          1,
          1,
          1,
          1,
          1,
          1,
          1,
          1,
          1,
          0.9999983310699463,
          1,
          1,
          1,
          1,
          1,
          1,
          1,
          1,
          1,
          1,
          1,
          1,
          1,
          1,
          1,
          1,
          1,
          1,
          1,
          1,
          1,
          1,
          1,
          1,
          1,
          1,
          1,
          1,
          1,
          1,
          1,
          1,
          1,
          1,
          1,
          1,
          1,
          1,
          1,
          1,
          1,
          1,
          1,
          1,
          1,
          1,
          1,
          1,
          1,
          1,
          1,
          1,
          0.999786913394928,
          1,
          1,
          1,
          1,
          1,
          1,
          1,
          1,
          1,
          1,
          1,
          1,
          0.9999936819076538,
          1,
          1,
          0.999962568283081,
          1,
          1,
          1,
          1,
          1,
          1,
          1,
          1,
          1,
          1,
          1,
          1,
          1,
          1,
          1,
          1,
          1,
          1,
          1,
          1,
          1,
          1,
          1,
          1,
          1,
          1,
          1,
          0.9999994039535522,
          1,
          1,
          1,
          1,
          1,
          1,
          1,
          1,
          0.9999752044677734,
          0.9999423027038574,
          1,
          1,
          0.9999998807907104,
          1,
          1,
          1,
          1,
          1,
          1,
          0.9999830722808838,
          1,
          1,
          1,
          1,
          1,
          1,
          1,
          1,
          1,
          1,
          1,
          1,
          0.9999998807907104,
          1,
          1,
          1,
          1,
          1,
          1,
          1,
          1,
          1,
          0.9999998807907104,
          1,
          1,
          1,
          1,
          1,
          1,
          1,
          1,
          1,
          1,
          1,
          1,
          1,
          1,
          1,
          1,
          1,
          1,
          1,
          1,
          0.9999998807907104,
          1,
          1,
          1,
          1,
          1,
          1,
          1,
          1,
          1,
          1,
          1,
          1,
          1,
          1,
          0.9997194409370422,
          1,
          1,
          1,
          1,
          0.9999988079071045,
          1,
          1,
          1,
          0.9999986886978149,
          1,
          1,
          1,
          1,
          1,
          1,
          1,
          1,
          1,
          1,
          1,
          1,
          1,
          1,
          1,
          0.9999465942382812,
          1,
          1,
          1,
          1,
          1,
          1,
          1,
          1,
          1,
          1,
          1,
          1,
          0.9999035596847534,
          1,
          1,
          1,
          1,
          1,
          1,
          1,
          0.9999988079071045,
          1,
          0.9539478421211243,
          1,
          1,
          1,
          1,
          1,
          1,
          1,
          1,
          1,
          1,
          1,
          1,
          1,
          0.999998927116394,
          1,
          1,
          1,
          1,
          1,
          1,
          1,
          1,
          1,
          1,
          1,
          1,
          1,
          1,
          1,
          1,
          1,
          1,
          1,
          1,
          1,
          1,
          1,
          1,
          1,
          1,
          1,
          1,
          1,
          1,
          1,
          1,
          0.99642413854599,
          1,
          1,
          1,
          1,
          1,
          1,
          1,
          1,
          0.9998219609260559,
          1,
          1,
          0.9999992847442627,
          1,
          1,
          1,
          1,
          1,
          1,
          1,
          1,
          1,
          1,
          0.9999978542327881,
          1,
          1,
          0.9987348914146423,
          1,
          1,
          1,
          1,
          1,
          1,
          0.9604676365852356,
          1,
          1,
          0.9999995231628418,
          1,
          0.9999959468841553,
          1,
          1,
          0.9999998807907104,
          1,
          1,
          1,
          1,
          1,
          0.7702504396438599,
          1,
          1,
          0.9999997615814209,
          0.7057129740715027,
          1,
          1,
          0.9999991655349731,
          0.9977072477340698,
          0.9999315738677979,
          1,
          0.9999998807907104,
          1,
          1,
          1,
          1,
          1,
          1,
          1,
          0.9999982118606567,
          1,
          1,
          1,
          1,
          1,
          1,
          1,
          1,
          1,
          0.9999765157699585,
          0.517352283000946,
          1,
          1,
          1,
          1,
          0.999771773815155,
          1,
          1,
          0.9999979734420776,
          1,
          1,
          1,
          0.9999994039535522,
          0.9999953508377075,
          1,
          0.9883995056152344,
          1,
          1,
          1,
          1,
          1,
          1,
          0.9999868869781494,
          0.9999998807907104,
          1,
          1,
          1,
          1,
          0.9843618869781494,
          1,
          1,
          1,
          0.9999998807907104,
          1,
          0.9998514652252197,
          1,
          0.9999998807907104,
          1,
          1,
          1,
          1,
          1,
          1,
          1,
          1,
          1,
          0.9999997615814209,
          1,
          0.999998927116394,
          1,
          1,
          1,
          1,
          1,
          1,
          1,
          0.9999996423721313,
          1,
          1,
          1,
          1,
          1,
          1,
          1,
          1,
          0.9999992847442627,
          0.9999992847442627,
          1,
          1,
          0.9999727010726929,
          1,
          0.9992477893829346,
          0.9999831914901733,
          1,
          1,
          1,
          1,
          0.9999953508377075,
          1,
          1,
          1,
          1,
          1,
          1,
          1,
          1,
          1,
          1,
          1,
          1,
          1,
          0.9999959468841553,
          1,
          1,
          1,
          1,
          1,
          1,
          1,
          1,
          1,
          1,
          1,
          1,
          1,
          1,
          0.9986201524734497,
          1,
          1,
          1,
          1,
          1,
          1,
          1,
          1,
          0.9999998807907104,
          1,
          1,
          0.9961857199668884,
          1,
          1,
          1,
          1,
          1,
          1,
          1,
          1,
          1,
          0.6621673703193665,
          0.9999312162399292,
          1,
          1,
          1,
          1,
          1,
          1,
          1,
          1,
          1,
          1,
          1,
          1,
          1,
          1,
          0.9999998807907104,
          1,
          1,
          0.9999964237213135,
          1,
          1,
          1,
          1,
          1,
          1,
          1,
          1,
          1,
          1,
          1,
          1,
          1,
          1,
          1,
          1,
          0.9999953508377075,
          1,
          1,
          1,
          1,
          1,
          1,
          1,
          1,
          1,
          1,
          0.9221515655517578,
          1,
          1,
          1,
          1,
          1,
          1,
          1,
          1,
          1,
          1,
          0.9999303817749023,
          1,
          1,
          1,
          1,
          1,
          0.9960002303123474,
          1,
          0.9999988079071045,
          1,
          1,
          1,
          1,
          0.9999995231628418,
          0.9999998807907104,
          1,
          1,
          1,
          1,
          1,
          1,
          1,
          1,
          1,
          0.9999998807907104,
          1,
          1,
          1,
          1,
          0.9991118311882019,
          1,
          1,
          1,
          0.9999994039535522,
          0.9999798536300659,
          1,
          1,
          0.9999998807907104,
          0.9998661279678345,
          1,
          1,
          0.99989914894104,
          0.9999997615814209,
          1,
          1,
          1,
          1,
          1,
          1,
          1,
          1,
          1,
          1,
          1,
          0.9963537454605103,
          0.9956730008125305,
          0.9989055395126343,
          1,
          1,
          1,
          1,
          1,
          1,
          1,
          1,
          1,
          1,
          1,
          1,
          1,
          1,
          1,
          0.9999890327453613,
          1,
          1,
          1,
          1,
          1,
          1,
          1,
          1,
          1,
          1,
          1,
          1,
          1,
          1,
          1,
          1,
          1,
          0.9999997615814209,
          1,
          1,
          1,
          1,
          1,
          1,
          1,
          1,
          1,
          1,
          1,
          1,
          1,
          1,
          1,
          1,
          1,
          1,
          1,
          1,
          1,
          1,
          1,
          1,
          1,
          1,
          1,
          1,
          1,
          1,
          1,
          1,
          1,
          1,
          1,
          0.999998927116394,
          1,
          1,
          1,
          1,
          1,
          0.9997463822364807,
          1,
          1,
          1,
          1,
          1,
          1,
          1,
          0.9999998807907104,
          1,
          1,
          1,
          1,
          1,
          1,
          1,
          1,
          1
         ],
         "xbins": {
          "end": 1,
          "size": 0.1,
          "start": 0
         }
        },
        {
         "line": {
          "color": "green",
          "dash": "dash",
          "width": 5
         },
         "mode": "lines",
         "name": "avg conf: 0.998",
         "type": "scatter",
         "x": [
          0.9976787574261426,
          0.9976787574261426
         ],
         "y": [
          0,
          9928
         ]
        },
        {
         "line": {
          "color": "black",
          "dash": "solid",
          "width": 5
         },
         "mode": "lines",
         "name": "avg acc: 0.9914",
         "type": "scatter",
         "x": [
          0.9914,
          0.9914
         ],
         "y": [
          0,
          9928
         ]
        }
       ],
       "layout": {
        "template": {
         "data": {
          "bar": [
           {
            "error_x": {
             "color": "#2a3f5f"
            },
            "error_y": {
             "color": "#2a3f5f"
            },
            "marker": {
             "line": {
              "color": "#E5ECF6",
              "width": 0.5
             },
             "pattern": {
              "fillmode": "overlay",
              "size": 10,
              "solidity": 0.2
             }
            },
            "type": "bar"
           }
          ],
          "barpolar": [
           {
            "marker": {
             "line": {
              "color": "#E5ECF6",
              "width": 0.5
             },
             "pattern": {
              "fillmode": "overlay",
              "size": 10,
              "solidity": 0.2
             }
            },
            "type": "barpolar"
           }
          ],
          "carpet": [
           {
            "aaxis": {
             "endlinecolor": "#2a3f5f",
             "gridcolor": "white",
             "linecolor": "white",
             "minorgridcolor": "white",
             "startlinecolor": "#2a3f5f"
            },
            "baxis": {
             "endlinecolor": "#2a3f5f",
             "gridcolor": "white",
             "linecolor": "white",
             "minorgridcolor": "white",
             "startlinecolor": "#2a3f5f"
            },
            "type": "carpet"
           }
          ],
          "choropleth": [
           {
            "colorbar": {
             "outlinewidth": 0,
             "ticks": ""
            },
            "type": "choropleth"
           }
          ],
          "contour": [
           {
            "colorbar": {
             "outlinewidth": 0,
             "ticks": ""
            },
            "colorscale": [
             [
              0,
              "#0d0887"
             ],
             [
              0.1111111111111111,
              "#46039f"
             ],
             [
              0.2222222222222222,
              "#7201a8"
             ],
             [
              0.3333333333333333,
              "#9c179e"
             ],
             [
              0.4444444444444444,
              "#bd3786"
             ],
             [
              0.5555555555555556,
              "#d8576b"
             ],
             [
              0.6666666666666666,
              "#ed7953"
             ],
             [
              0.7777777777777778,
              "#fb9f3a"
             ],
             [
              0.8888888888888888,
              "#fdca26"
             ],
             [
              1,
              "#f0f921"
             ]
            ],
            "type": "contour"
           }
          ],
          "contourcarpet": [
           {
            "colorbar": {
             "outlinewidth": 0,
             "ticks": ""
            },
            "type": "contourcarpet"
           }
          ],
          "heatmap": [
           {
            "colorbar": {
             "outlinewidth": 0,
             "ticks": ""
            },
            "colorscale": [
             [
              0,
              "#0d0887"
             ],
             [
              0.1111111111111111,
              "#46039f"
             ],
             [
              0.2222222222222222,
              "#7201a8"
             ],
             [
              0.3333333333333333,
              "#9c179e"
             ],
             [
              0.4444444444444444,
              "#bd3786"
             ],
             [
              0.5555555555555556,
              "#d8576b"
             ],
             [
              0.6666666666666666,
              "#ed7953"
             ],
             [
              0.7777777777777778,
              "#fb9f3a"
             ],
             [
              0.8888888888888888,
              "#fdca26"
             ],
             [
              1,
              "#f0f921"
             ]
            ],
            "type": "heatmap"
           }
          ],
          "heatmapgl": [
           {
            "colorbar": {
             "outlinewidth": 0,
             "ticks": ""
            },
            "colorscale": [
             [
              0,
              "#0d0887"
             ],
             [
              0.1111111111111111,
              "#46039f"
             ],
             [
              0.2222222222222222,
              "#7201a8"
             ],
             [
              0.3333333333333333,
              "#9c179e"
             ],
             [
              0.4444444444444444,
              "#bd3786"
             ],
             [
              0.5555555555555556,
              "#d8576b"
             ],
             [
              0.6666666666666666,
              "#ed7953"
             ],
             [
              0.7777777777777778,
              "#fb9f3a"
             ],
             [
              0.8888888888888888,
              "#fdca26"
             ],
             [
              1,
              "#f0f921"
             ]
            ],
            "type": "heatmapgl"
           }
          ],
          "histogram": [
           {
            "marker": {
             "pattern": {
              "fillmode": "overlay",
              "size": 10,
              "solidity": 0.2
             }
            },
            "type": "histogram"
           }
          ],
          "histogram2d": [
           {
            "colorbar": {
             "outlinewidth": 0,
             "ticks": ""
            },
            "colorscale": [
             [
              0,
              "#0d0887"
             ],
             [
              0.1111111111111111,
              "#46039f"
             ],
             [
              0.2222222222222222,
              "#7201a8"
             ],
             [
              0.3333333333333333,
              "#9c179e"
             ],
             [
              0.4444444444444444,
              "#bd3786"
             ],
             [
              0.5555555555555556,
              "#d8576b"
             ],
             [
              0.6666666666666666,
              "#ed7953"
             ],
             [
              0.7777777777777778,
              "#fb9f3a"
             ],
             [
              0.8888888888888888,
              "#fdca26"
             ],
             [
              1,
              "#f0f921"
             ]
            ],
            "type": "histogram2d"
           }
          ],
          "histogram2dcontour": [
           {
            "colorbar": {
             "outlinewidth": 0,
             "ticks": ""
            },
            "colorscale": [
             [
              0,
              "#0d0887"
             ],
             [
              0.1111111111111111,
              "#46039f"
             ],
             [
              0.2222222222222222,
              "#7201a8"
             ],
             [
              0.3333333333333333,
              "#9c179e"
             ],
             [
              0.4444444444444444,
              "#bd3786"
             ],
             [
              0.5555555555555556,
              "#d8576b"
             ],
             [
              0.6666666666666666,
              "#ed7953"
             ],
             [
              0.7777777777777778,
              "#fb9f3a"
             ],
             [
              0.8888888888888888,
              "#fdca26"
             ],
             [
              1,
              "#f0f921"
             ]
            ],
            "type": "histogram2dcontour"
           }
          ],
          "mesh3d": [
           {
            "colorbar": {
             "outlinewidth": 0,
             "ticks": ""
            },
            "type": "mesh3d"
           }
          ],
          "parcoords": [
           {
            "line": {
             "colorbar": {
              "outlinewidth": 0,
              "ticks": ""
             }
            },
            "type": "parcoords"
           }
          ],
          "pie": [
           {
            "automargin": true,
            "type": "pie"
           }
          ],
          "scatter": [
           {
            "fillpattern": {
             "fillmode": "overlay",
             "size": 10,
             "solidity": 0.2
            },
            "type": "scatter"
           }
          ],
          "scatter3d": [
           {
            "line": {
             "colorbar": {
              "outlinewidth": 0,
              "ticks": ""
             }
            },
            "marker": {
             "colorbar": {
              "outlinewidth": 0,
              "ticks": ""
             }
            },
            "type": "scatter3d"
           }
          ],
          "scattercarpet": [
           {
            "marker": {
             "colorbar": {
              "outlinewidth": 0,
              "ticks": ""
             }
            },
            "type": "scattercarpet"
           }
          ],
          "scattergeo": [
           {
            "marker": {
             "colorbar": {
              "outlinewidth": 0,
              "ticks": ""
             }
            },
            "type": "scattergeo"
           }
          ],
          "scattergl": [
           {
            "marker": {
             "colorbar": {
              "outlinewidth": 0,
              "ticks": ""
             }
            },
            "type": "scattergl"
           }
          ],
          "scattermapbox": [
           {
            "marker": {
             "colorbar": {
              "outlinewidth": 0,
              "ticks": ""
             }
            },
            "type": "scattermapbox"
           }
          ],
          "scatterpolar": [
           {
            "marker": {
             "colorbar": {
              "outlinewidth": 0,
              "ticks": ""
             }
            },
            "type": "scatterpolar"
           }
          ],
          "scatterpolargl": [
           {
            "marker": {
             "colorbar": {
              "outlinewidth": 0,
              "ticks": ""
             }
            },
            "type": "scatterpolargl"
           }
          ],
          "scatterternary": [
           {
            "marker": {
             "colorbar": {
              "outlinewidth": 0,
              "ticks": ""
             }
            },
            "type": "scatterternary"
           }
          ],
          "surface": [
           {
            "colorbar": {
             "outlinewidth": 0,
             "ticks": ""
            },
            "colorscale": [
             [
              0,
              "#0d0887"
             ],
             [
              0.1111111111111111,
              "#46039f"
             ],
             [
              0.2222222222222222,
              "#7201a8"
             ],
             [
              0.3333333333333333,
              "#9c179e"
             ],
             [
              0.4444444444444444,
              "#bd3786"
             ],
             [
              0.5555555555555556,
              "#d8576b"
             ],
             [
              0.6666666666666666,
              "#ed7953"
             ],
             [
              0.7777777777777778,
              "#fb9f3a"
             ],
             [
              0.8888888888888888,
              "#fdca26"
             ],
             [
              1,
              "#f0f921"
             ]
            ],
            "type": "surface"
           }
          ],
          "table": [
           {
            "cells": {
             "fill": {
              "color": "#EBF0F8"
             },
             "line": {
              "color": "white"
             }
            },
            "header": {
             "fill": {
              "color": "#C8D4E3"
             },
             "line": {
              "color": "white"
             }
            },
            "type": "table"
           }
          ]
         },
         "layout": {
          "annotationdefaults": {
           "arrowcolor": "#2a3f5f",
           "arrowhead": 0,
           "arrowwidth": 1
          },
          "autotypenumbers": "strict",
          "coloraxis": {
           "colorbar": {
            "outlinewidth": 0,
            "ticks": ""
           }
          },
          "colorscale": {
           "diverging": [
            [
             0,
             "#8e0152"
            ],
            [
             0.1,
             "#c51b7d"
            ],
            [
             0.2,
             "#de77ae"
            ],
            [
             0.3,
             "#f1b6da"
            ],
            [
             0.4,
             "#fde0ef"
            ],
            [
             0.5,
             "#f7f7f7"
            ],
            [
             0.6,
             "#e6f5d0"
            ],
            [
             0.7,
             "#b8e186"
            ],
            [
             0.8,
             "#7fbc41"
            ],
            [
             0.9,
             "#4d9221"
            ],
            [
             1,
             "#276419"
            ]
           ],
           "sequential": [
            [
             0,
             "#0d0887"
            ],
            [
             0.1111111111111111,
             "#46039f"
            ],
            [
             0.2222222222222222,
             "#7201a8"
            ],
            [
             0.3333333333333333,
             "#9c179e"
            ],
            [
             0.4444444444444444,
             "#bd3786"
            ],
            [
             0.5555555555555556,
             "#d8576b"
            ],
            [
             0.6666666666666666,
             "#ed7953"
            ],
            [
             0.7777777777777778,
             "#fb9f3a"
            ],
            [
             0.8888888888888888,
             "#fdca26"
            ],
            [
             1,
             "#f0f921"
            ]
           ],
           "sequentialminus": [
            [
             0,
             "#0d0887"
            ],
            [
             0.1111111111111111,
             "#46039f"
            ],
            [
             0.2222222222222222,
             "#7201a8"
            ],
            [
             0.3333333333333333,
             "#9c179e"
            ],
            [
             0.4444444444444444,
             "#bd3786"
            ],
            [
             0.5555555555555556,
             "#d8576b"
            ],
            [
             0.6666666666666666,
             "#ed7953"
            ],
            [
             0.7777777777777778,
             "#fb9f3a"
            ],
            [
             0.8888888888888888,
             "#fdca26"
            ],
            [
             1,
             "#f0f921"
            ]
           ]
          },
          "colorway": [
           "#636efa",
           "#EF553B",
           "#00cc96",
           "#ab63fa",
           "#FFA15A",
           "#19d3f3",
           "#FF6692",
           "#B6E880",
           "#FF97FF",
           "#FECB52"
          ],
          "font": {
           "color": "#2a3f5f"
          },
          "geo": {
           "bgcolor": "white",
           "lakecolor": "white",
           "landcolor": "#E5ECF6",
           "showlakes": true,
           "showland": true,
           "subunitcolor": "white"
          },
          "hoverlabel": {
           "align": "left"
          },
          "hovermode": "closest",
          "mapbox": {
           "style": "light"
          },
          "paper_bgcolor": "white",
          "plot_bgcolor": "#E5ECF6",
          "polar": {
           "angularaxis": {
            "gridcolor": "white",
            "linecolor": "white",
            "ticks": ""
           },
           "bgcolor": "#E5ECF6",
           "radialaxis": {
            "gridcolor": "white",
            "linecolor": "white",
            "ticks": ""
           }
          },
          "scene": {
           "xaxis": {
            "backgroundcolor": "#E5ECF6",
            "gridcolor": "white",
            "gridwidth": 2,
            "linecolor": "white",
            "showbackground": true,
            "ticks": "",
            "zerolinecolor": "white"
           },
           "yaxis": {
            "backgroundcolor": "#E5ECF6",
            "gridcolor": "white",
            "gridwidth": 2,
            "linecolor": "white",
            "showbackground": true,
            "ticks": "",
            "zerolinecolor": "white"
           },
           "zaxis": {
            "backgroundcolor": "#E5ECF6",
            "gridcolor": "white",
            "gridwidth": 2,
            "linecolor": "white",
            "showbackground": true,
            "ticks": "",
            "zerolinecolor": "white"
           }
          },
          "shapedefaults": {
           "line": {
            "color": "#2a3f5f"
           }
          },
          "ternary": {
           "aaxis": {
            "gridcolor": "white",
            "linecolor": "white",
            "ticks": ""
           },
           "baxis": {
            "gridcolor": "white",
            "linecolor": "white",
            "ticks": ""
           },
           "bgcolor": "#E5ECF6",
           "caxis": {
            "gridcolor": "white",
            "linecolor": "white",
            "ticks": ""
           }
          },
          "title": {
           "x": 0.05
          },
          "xaxis": {
           "automargin": true,
           "gridcolor": "white",
           "linecolor": "white",
           "ticks": "",
           "title": {
            "standoff": 15
           },
           "zerolinecolor": "white",
           "zerolinewidth": 2
          },
          "yaxis": {
           "automargin": true,
           "gridcolor": "white",
           "linecolor": "white",
           "ticks": "",
           "title": {
            "standoff": 15
           },
           "zerolinecolor": "white",
           "zerolinewidth": 2
          }
         }
        },
        "title": {
         "text": "Histogram"
        },
        "xaxis": {
         "title": {
          "text": "predicted_confidence"
         }
        },
        "yaxis": {
         "title": {
          "text": "num_samples"
         }
        }
       }
      },
      "text/html": [
       "<div>                            <div id=\"ab95e538-1949-4a1f-9b79-d0f450fe1c91\" class=\"plotly-graph-div\" style=\"height:525px; width:100%;\"></div>            <script type=\"text/javascript\">                require([\"plotly\"], function(Plotly) {                    window.PLOTLYENV=window.PLOTLYENV || {};                                    if (document.getElementById(\"ab95e538-1949-4a1f-9b79-d0f450fe1c91\")) {                    Plotly.newPlot(                        \"ab95e538-1949-4a1f-9b79-d0f450fe1c91\",                        [{\"name\":\"confidence histogram\",\"opacity\":0.8,\"x\":[1.0,1.0,1.0,1.0,0.9999998807907104,1.0,0.9999997615814209,1.0,0.9999198913574219,1.0,1.0,1.0,1.0,1.0,1.0,1.0,1.0,1.0,0.9999402761459351,1.0,0.9999998807907104,1.0,1.0,1.0,1.0,1.0,1.0,1.0,1.0,1.0,1.0,1.0,1.0,1.0,1.0,1.0,0.9997395873069763,1.0,1.0,1.0,1.0,0.9999719858169556,1.0,0.9999998807907104,1.0,1.0,1.0,1.0,1.0,1.0,1.0,1.0,1.0,1.0,1.0,1.0,1.0,0.9999998807907104,1.0,1.0,1.0,1.0,0.9397268295288086,1.0,1.0,0.9999998807907104,1.0,1.0,1.0,1.0,1.0,1.0,1.0,1.0,1.0,1.0,1.0,1.0,1.0,1.0,1.0,1.0,1.0,1.0,1.0,1.0,1.0,1.0,1.0,0.9999995231628418,1.0,1.0,0.9999915361404419,1.0,1.0,0.9999971389770508,0.9999995231628418,1.0,1.0,1.0,1.0,1.0,1.0,1.0,0.9999998807907104,1.0,1.0,0.999998927116394,1.0,1.0,1.0,0.9999994039535522,1.0,1.0,1.0,0.9998096823692322,1.0,1.0,1.0,1.0,1.0,1.0,1.0,1.0,1.0,1.0,1.0,1.0,1.0,1.0,1.0,1.0,1.0,1.0,1.0,1.0,0.9999998807907104,1.0,1.0,0.9999994039535522,1.0,1.0,1.0,1.0,1.0,1.0,1.0,1.0,1.0,0.9999852180480957,1.0,0.9999998807907104,1.0,1.0,1.0,1.0,1.0,1.0,0.8458014726638794,1.0,0.9999938011169434,1.0,1.0,1.0,1.0,1.0,1.0,0.9999457597732544,1.0,1.0,1.0,1.0,1.0,1.0,1.0,0.9990850687026978,0.9999998807907104,1.0,1.0,1.0,1.0,1.0,1.0,1.0,0.9997208714485168,1.0,1.0,1.0,1.0,1.0,1.0,1.0,1.0,0.9989340901374817,1.0,1.0,1.0,1.0,1.0,1.0,1.0,1.0,1.0,0.9999997615814209,1.0,1.0,1.0,1.0,1.0,0.9998877048492432,1.0,1.0,1.0,1.0,0.9999964237213135,1.0,1.0,0.9999473094940186,1.0,1.0,1.0,1.0,1.0,1.0,1.0,1.0,1.0,1.0,1.0,1.0,1.0,1.0,1.0,1.0,1.0,1.0,1.0,1.0,1.0,1.0,1.0,0.9999996423721313,1.0,1.0,1.0,1.0,1.0,0.9984966516494751,1.0,1.0,1.0,0.9999992847442627,1.0,1.0,1.0,0.9999998807907104,1.0,0.9999901056289673,1.0,0.998855710029602,1.0,1.0,1.0,1.0,0.9999972581863403,1.0,0.9999822378158569,1.0,1.0,1.0,1.0,1.0,1.0,1.0,1.0,1.0,1.0,1.0,1.0,1.0,1.0,1.0,0.999982476234436,1.0,1.0,1.0,1.0,1.0,0.9999992847442627,1.0,0.9999644756317139,1.0,0.9999998807907104,1.0,1.0,1.0,1.0,0.9999995231628418,1.0,1.0,1.0,1.0,1.0,1.0,1.0,1.0,1.0,1.0,1.0,1.0,1.0,1.0,1.0,1.0,1.0,1.0,1.0,1.0,1.0,1.0,0.9876354336738586,0.9995471835136414,1.0,1.0,0.9999990463256836,1.0,0.986747145652771,1.0,1.0,1.0,1.0,1.0,1.0,1.0,1.0,1.0,0.9999995231628418,1.0,1.0,0.9999980926513672,0.7726479768753052,1.0,1.0,1.0,1.0,1.0,1.0,1.0,1.0,1.0,1.0,1.0,1.0,1.0,1.0,1.0,1.0,0.9999997615814209,1.0,0.9951092600822449,1.0,1.0,0.9999979734420776,1.0,1.0,1.0,0.9999997615814209,1.0,1.0,1.0,1.0,1.0,1.0,1.0,1.0,1.0,1.0,1.0,1.0,1.0,0.9999996423721313,0.979500412940979,1.0,1.0,1.0,1.0,1.0,1.0,1.0,1.0,1.0,1.0,1.0,1.0,0.9999996423721313,1.0,1.0,0.9999998807907104,1.0,1.0,1.0,1.0,1.0,1.0,1.0,1.0,1.0,1.0,1.0,1.0,1.0,0.9992460012435913,0.9999997615814209,1.0,1.0,0.9999995231628418,1.0,0.9999316930770874,1.0,1.0,0.9999951124191284,1.0,1.0,1.0,1.0,1.0,1.0,1.0,1.0,1.0,1.0,1.0,1.0,1.0,1.0,0.9993172883987427,1.0,1.0,1.0,1.0,1.0,1.0,1.0,0.9999951124191284,1.0,0.725072979927063,1.0,0.9992973804473877,0.9994962215423584,0.9975618124008179,0.999990701675415,1.0,1.0,1.0,1.0,1.0,0.9999878406524658,0.9999575614929199,1.0,1.0,0.9999880790710449,1.0,0.9999992847442627,1.0,0.9998934268951416,0.999988317489624,1.0,1.0,1.0,1.0,1.0,1.0,1.0,0.9999996423721313,1.0,1.0,1.0,1.0,0.9999997615814209,1.0,1.0,1.0,1.0,1.0,1.0,1.0,1.0,1.0,1.0,1.0,0.9989099502563477,1.0,0.9999991655349731,1.0,1.0,0.9686476588249207,1.0,0.999876856803894,1.0,0.9999996423721313,1.0,1.0,1.0,1.0,1.0,1.0,1.0,1.0,1.0,1.0,1.0,0.999988317489624,1.0,1.0,1.0,1.0,1.0,1.0,1.0,1.0,1.0,1.0,1.0,1.0,1.0,1.0,1.0,1.0,1.0,1.0,1.0,1.0,0.9999769926071167,1.0,1.0,1.0,1.0,1.0,1.0,1.0,1.0,1.0,1.0,0.9999992847442627,1.0,1.0,1.0,1.0,1.0,1.0,1.0,0.9999899864196777,0.9999983310699463,1.0,1.0,1.0,1.0,0.9945412278175354,1.0,1.0,1.0,1.0,1.0,1.0,1.0,1.0,1.0,1.0,1.0,1.0,1.0,0.9999525547027588,1.0,1.0,1.0,1.0,1.0,1.0,1.0,1.0,1.0,1.0,0.7698211669921875,0.7423111796379089,1.0,1.0,1.0,1.0,1.0,1.0,1.0,0.9999852180480957,1.0,0.999584972858429,1.0,1.0,1.0,0.9999932050704956,1.0,1.0,1.0,1.0,1.0,1.0,1.0,1.0,1.0,1.0,1.0,1.0,1.0,0.9999885559082031,1.0,1.0,1.0,1.0,1.0,1.0,1.0,0.9999872446060181,1.0,1.0,1.0,1.0,0.9999998807907104,0.7235392332077026,1.0,1.0,1.0,1.0,1.0,1.0,1.0,1.0,1.0,0.9999023675918579,1.0,1.0,1.0,1.0,1.0,1.0,1.0,1.0,1.0,0.99993896484375,0.7041370868682861,1.0,1.0,0.9999998807907104,1.0,1.0,1.0,1.0,1.0,0.9999995231628418,1.0,1.0,1.0,0.5884793996810913,1.0,1.0,1.0,1.0,1.0,1.0,0.9999980926513672,0.9999668598175049,1.0,1.0,1.0,1.0,1.0,1.0,0.9997530579566956,1.0,1.0,1.0,1.0,1.0,1.0,1.0,1.0,1.0,0.9999352693557739,0.7262465953826904,1.0,1.0,1.0,0.9999970197677612,1.0,0.9998797178268433,1.0,1.0,1.0,1.0,0.9999996423721313,1.0,1.0,1.0,1.0,1.0,1.0,1.0,1.0,1.0,1.0,0.9999996423721313,1.0,1.0,1.0,1.0,1.0,1.0,1.0,1.0,0.7916843295097351,0.9999998807907104,1.0,1.0,0.9999992847442627,1.0,1.0,0.9963700771331787,1.0,1.0,0.961192786693573,1.0,1.0,1.0,1.0,1.0,1.0,1.0,1.0,1.0,1.0,1.0,1.0,1.0,0.9984057545661926,1.0,1.0,1.0,1.0,1.0,1.0,1.0,1.0,1.0,1.0,1.0,1.0,1.0,1.0,1.0,1.0,1.0,1.0,1.0,0.9999992847442627,0.9998369216918945,1.0,1.0,1.0,1.0,1.0,1.0,1.0,1.0,1.0,1.0,1.0,1.0,0.9999997615814209,1.0,1.0,1.0,1.0,1.0,1.0,1.0,1.0,1.0,1.0,1.0,0.9999997615814209,1.0,1.0,0.9999898672103882,1.0,0.999997615814209,1.0,1.0,1.0,1.0,1.0,1.0,1.0,1.0,0.9999998807907104,1.0,1.0,1.0,1.0,1.0,1.0,1.0,1.0,0.9999964237213135,0.999890923500061,1.0,1.0,1.0,1.0,1.0,1.0,1.0,1.0,1.0,1.0,1.0,1.0,1.0,1.0,1.0,1.0,1.0,1.0,0.9999905824661255,1.0,1.0,1.0,0.9999998807907104,1.0,1.0,1.0,1.0,1.0,0.997574508190155,1.0,1.0,1.0,1.0,0.9999040365219116,1.0,0.9999998807907104,1.0,1.0,1.0,1.0,1.0,1.0,1.0,1.0,1.0,1.0,1.0,1.0,0.9999969005584717,1.0,1.0,1.0,1.0,1.0,1.0,1.0,1.0,1.0,1.0,0.9999997615814209,1.0,1.0,1.0,1.0,1.0,1.0,1.0,0.9999997615814209,1.0,1.0,0.9999992847442627,0.5151157975196838,0.9968012571334839,0.9999948740005493,1.0,1.0,1.0,1.0,1.0,1.0,1.0,1.0,1.0,1.0,0.9999998807907104,0.9999972581863403,1.0,1.0,1.0,0.9999996423721313,1.0,0.999245285987854,1.0,1.0,1.0,1.0,1.0,1.0,1.0,1.0,1.0,1.0,1.0,1.0,1.0,0.9999980926513672,1.0,0.9999998807907104,1.0,1.0,1.0,1.0,1.0,0.9999825954437256,1.0,1.0,1.0,1.0,1.0,1.0,1.0,1.0,1.0,1.0,1.0,0.9999998807907104,1.0,0.9190287590026855,1.0,1.0,1.0,1.0,1.0,1.0,1.0,0.9999983310699463,0.9547419548034668,1.0,1.0,1.0,1.0,1.0,1.0,1.0,1.0,0.9999867677688599,1.0,0.9997205138206482,1.0,1.0,1.0,0.9999970197677612,1.0,0.9999998807907104,0.9999998807907104,0.9999994039535522,1.0,1.0,0.9999936819076538,1.0,1.0,1.0,1.0,1.0,1.0,1.0,1.0,1.0,1.0,1.0,1.0,1.0,1.0,1.0,1.0,1.0,1.0,0.9999998807907104,1.0,1.0,1.0,0.9999803304672241,1.0,1.0,1.0,1.0,1.0,1.0,0.9999998807907104,1.0,0.9999996423721313,0.9999995231628418,1.0,1.0,1.0,0.9999992847442627,1.0,1.0,1.0,1.0,1.0,1.0,1.0,0.9999977350234985,1.0,1.0,1.0,1.0,1.0,1.0,0.5048245787620544,1.0,1.0,1.0,1.0,0.9999958276748657,1.0,1.0,1.0,1.0,1.0,0.9999890327453613,0.9937803149223328,1.0,1.0,1.0,1.0,1.0,0.5771808624267578,1.0,1.0,1.0,1.0,0.9999709129333496,0.9999998807907104,1.0,1.0,1.0,1.0,1.0,1.0,0.9817133545875549,1.0,1.0,1.0,1.0,1.0,1.0,1.0,1.0,1.0,0.9999985694885254,1.0,1.0,1.0,1.0,1.0,1.0,1.0,1.0,1.0,1.0,1.0,1.0,1.0,1.0,1.0,1.0,1.0,1.0,0.9999997615814209,1.0,1.0,1.0,1.0,1.0,1.0,1.0,1.0,0.9999998807907104,1.0,1.0,1.0,1.0,1.0,1.0,0.9999991655349731,1.0,1.0,1.0,1.0,1.0,1.0,1.0,1.0,1.0,1.0,0.9999967813491821,1.0,1.0,1.0,0.8581734895706177,1.0,1.0,1.0,1.0,1.0,1.0,0.9999998807907104,1.0,0.9999997615814209,0.9999974966049194,1.0,0.9999985694885254,1.0,1.0,1.0,0.997140645980835,1.0,1.0,1.0,1.0,0.9999998807907104,1.0,1.0,0.9999997615814209,1.0,0.9981163740158081,1.0,1.0,1.0,1.0,1.0,1.0,1.0,1.0,1.0,1.0,1.0,1.0,1.0,0.9999998807907104,0.9999938011169434,1.0,1.0,0.999998927116394,1.0,1.0,1.0,1.0,1.0,1.0,1.0,1.0,1.0,0.9999997615814209,1.0,1.0,0.9999979734420776,1.0,1.0,1.0,1.0,1.0,0.9999992847442627,1.0,1.0,0.9985087513923645,1.0,1.0,0.9999885559082031,0.981187105178833,1.0,1.0,1.0,1.0,1.0,1.0,1.0,1.0,0.9999997615814209,0.9998089671134949,1.0,1.0,1.0,1.0,1.0,1.0,1.0,0.9999997615814209,1.0,0.9999912977218628,1.0,1.0,1.0,1.0,1.0,1.0,0.9999927282333374,1.0,1.0,0.9999998807907104,1.0,1.0,1.0,0.9999904632568359,0.9999984502792358,1.0,0.9999997615814209,1.0,1.0,1.0,1.0,0.9993683695793152,1.0,0.990786075592041,1.0,1.0,1.0,1.0,1.0,0.7854979038238525,1.0,0.999992847442627,1.0,1.0,1.0,1.0,1.0,0.9999998807907104,1.0,0.9312824010848999,1.0,0.9999967813491821,1.0,1.0,0.9527212977409363,1.0,1.0,1.0,1.0,1.0,1.0,1.0,1.0,1.0,1.0,1.0,0.9999984502792358,0.8657851815223694,1.0,1.0,0.9999998807907104,1.0,1.0,1.0,1.0,1.0,1.0,1.0,1.0,1.0,1.0,0.9999270439147949,1.0,1.0,1.0,1.0,0.9999997615814209,1.0,1.0,1.0,1.0,1.0,1.0,1.0,1.0,1.0,0.9999887943267822,0.9999957084655762,1.0,0.999992847442627,1.0,1.0,1.0,0.9999963045120239,1.0,1.0,0.9887815117835999,1.0,1.0,1.0,1.0,1.0,1.0,1.0,1.0,1.0,1.0,0.9999904632568359,1.0,1.0,1.0,1.0,1.0,1.0,1.0,1.0,0.9352882504463196,1.0,1.0,1.0,1.0,0.9999986886978149,1.0,0.9999994039535522,1.0,0.9999998807907104,1.0,1.0,1.0,1.0,1.0,1.0,0.9999995231628418,1.0,0.9999954700469971,1.0,0.9999998807907104,1.0,1.0,1.0,1.0,1.0,1.0,0.9999996423721313,1.0,1.0,0.9999024868011475,1.0,1.0,1.0,1.0,1.0,1.0,1.0,0.9999998807907104,1.0,1.0,1.0,1.0,1.0,1.0,0.7798543572425842,1.0,1.0,1.0,0.9999233484268188,1.0,1.0,1.0,1.0,1.0,1.0,1.0,1.0,1.0,0.9998074173927307,1.0,1.0,1.0,1.0,1.0,1.0,1.0,1.0,1.0,1.0,1.0,1.0,1.0,1.0,0.987392246723175,0.9995692372322083,1.0,1.0,0.9999996423721313,1.0,1.0,1.0,1.0,1.0,0.999433696269989,1.0,1.0,1.0,1.0,1.0,1.0,1.0,0.9999997615814209,1.0,0.9999998807907104,0.5378478169441223,0.9946945309638977,1.0,1.0,1.0,1.0,1.0,1.0,1.0,0.9792569875717163,1.0,0.9981741905212402,1.0,0.9998618364334106,1.0,0.9999643564224243,1.0,1.0,1.0,0.9999973773956299,1.0,0.9999990463256836,0.9999910593032837,1.0,0.999998927116394,1.0,1.0,1.0,1.0,1.0,1.0,1.0,1.0,1.0,0.9999998807907104,1.0,1.0,1.0,1.0,1.0,1.0,1.0,1.0,1.0,1.0,0.8842467069625854,1.0,1.0,1.0,0.9996962547302246,0.9997902512550354,0.9999992847442627,1.0,1.0,0.9999998807907104,1.0,1.0,1.0,1.0,1.0,1.0,1.0,1.0,0.9999998807907104,1.0,1.0,1.0,1.0,0.9999998807907104,1.0,1.0,1.0,1.0,1.0,1.0,1.0,1.0,1.0,0.9999284744262695,1.0,1.0,1.0,0.9983192086219788,1.0,1.0,1.0,0.999990701675415,1.0,0.9999997615814209,1.0,1.0,0.9999982118606567,1.0,0.9999998807907104,0.9996923208236694,0.9998548030853271,1.0,1.0,1.0,1.0,1.0,1.0,1.0,1.0,1.0,1.0,0.9925111532211304,1.0,0.7813608646392822,1.0,1.0,1.0,1.0,0.9860911965370178,1.0,1.0,0.9999953508377075,1.0,1.0,1.0,1.0,1.0,1.0,1.0,1.0,1.0,1.0,1.0,1.0,1.0,1.0,1.0,1.0,1.0,1.0,0.9999836683273315,1.0,0.9999524354934692,1.0,0.8896510601043701,0.9999570846557617,1.0,1.0,1.0,1.0,0.9994977712631226,1.0,1.0,1.0,0.9999998807907104,1.0,0.9999998807907104,0.999992847442627,1.0,1.0,0.9999991655349731,0.9997853636741638,1.0,1.0,1.0,1.0,1.0,1.0,1.0,1.0,0.9999998807907104,1.0,1.0,1.0,1.0,0.9999979734420776,1.0,1.0,1.0,1.0,1.0,1.0,1.0,1.0,1.0,1.0,0.9999996423721313,1.0,1.0,1.0,1.0,0.9999988079071045,1.0,1.0,1.0,1.0,1.0,1.0,0.9999997615814209,1.0,1.0,1.0,0.9999901056289673,1.0,1.0,0.9999932050704956,1.0,1.0,1.0,0.9999997615814209,1.0,1.0,0.9666076898574829,1.0,1.0,1.0,1.0,0.9999998807907104,1.0,1.0,1.0,1.0,1.0,1.0,1.0,0.9989711046218872,1.0,1.0,1.0,1.0,1.0,1.0,0.9999988079071045,1.0,1.0,1.0,1.0,1.0,1.0,0.9999998807907104,1.0,1.0,1.0,1.0,1.0,0.9999991655349731,1.0,1.0,1.0,1.0,1.0,1.0,1.0,1.0,1.0,1.0,1.0,1.0,1.0,1.0,1.0,1.0,1.0,1.0,0.9999998807907104,1.0,1.0,1.0,1.0,1.0,1.0,1.0,0.9479466080665588,1.0,1.0,1.0,1.0,0.9846760630607605,0.999906063079834,1.0,1.0,1.0,1.0,1.0,1.0,0.9999995231628418,0.9992347955703735,1.0,0.9999997615814209,1.0,1.0,1.0,0.9995841383934021,1.0,1.0,1.0,1.0,1.0,1.0,1.0,0.9370763301849365,0.9999997615814209,1.0,1.0,1.0,1.0,1.0,0.9998660087585449,0.9999784231185913,1.0,1.0,1.0,1.0,0.9999990463256836,1.0,1.0,0.9998358488082886,1.0,1.0,1.0,1.0,1.0,1.0,1.0,1.0,1.0,1.0,1.0,0.9988870024681091,1.0,1.0,1.0,1.0,1.0,1.0,1.0,1.0,1.0,1.0,0.9999990463256836,1.0,1.0,1.0,1.0,1.0,0.9999998807907104,1.0,1.0,1.0,1.0,1.0,1.0,1.0,1.0,1.0,0.9999997615814209,1.0,1.0,1.0,1.0,1.0,1.0,1.0,1.0,0.999860405921936,0.9999998807907104,1.0,1.0,1.0,1.0,1.0,1.0,1.0,0.9999891519546509,1.0,1.0,1.0,1.0,1.0,1.0,0.9999998807907104,0.8106935620307922,1.0,1.0,1.0,1.0,1.0,1.0,1.0,1.0,1.0,1.0,1.0,1.0,1.0,1.0,1.0,1.0,1.0,0.9994059801101685,0.9992026686668396,1.0,1.0,1.0,1.0,1.0,1.0,1.0,1.0,1.0,1.0,1.0,1.0,0.9983645081520081,0.9999589920043945,1.0,1.0,1.0,1.0,0.9999812841415405,1.0,1.0,1.0,1.0,1.0,1.0,1.0,1.0,1.0,0.9999992847442627,1.0,1.0,1.0,1.0,0.9967254400253296,1.0,1.0,1.0,1.0,1.0,1.0,1.0,0.9999994039535522,1.0,1.0,1.0,1.0,1.0,1.0,1.0,1.0,1.0,1.0,1.0,1.0,1.0,1.0,1.0,1.0,0.9999840259552002,1.0,1.0,0.9906085729598999,1.0,1.0,1.0,1.0,1.0,1.0,0.9999998807907104,1.0,0.9999994039535522,1.0,1.0,0.9999998807907104,1.0,0.9999983310699463,1.0,0.9999997615814209,0.9999967813491821,1.0,1.0,1.0,1.0,1.0,1.0,1.0,0.9999998807907104,1.0,0.9999992847442627,0.999961256980896,0.999987006187439,0.990159809589386,1.0,0.9956923127174377,1.0,1.0,1.0,1.0,1.0,0.9995657801628113,1.0,0.9999998807907104,1.0,1.0,1.0,1.0,1.0,1.0,1.0,1.0,1.0,1.0,1.0,1.0,0.999592125415802,1.0,1.0,1.0,1.0,1.0,1.0,1.0,1.0,1.0,1.0,1.0,1.0,1.0,0.9999924898147583,1.0,0.99978107213974,0.9999731779098511,1.0,1.0,1.0,1.0,1.0,1.0,1.0,0.9999997615814209,1.0,1.0,0.9999648332595825,1.0,1.0,0.6340493559837341,0.9999618530273438,1.0,1.0,1.0,1.0,1.0,1.0,1.0,1.0,1.0,1.0,1.0,1.0,0.9999918937683105,1.0,1.0,1.0,0.9999998807907104,1.0,1.0,1.0,1.0,1.0,1.0,1.0,0.9999980926513672,0.789432168006897,1.0,1.0,1.0,1.0,0.6467691659927368,0.9999998807907104,0.9999998807907104,1.0,1.0,1.0,0.999970555305481,1.0,1.0,1.0,1.0,1.0,1.0,0.9999998807907104,1.0,1.0,1.0,1.0,1.0,1.0,1.0,1.0,1.0,1.0,1.0,1.0,1.0,1.0,1.0,1.0,1.0,0.8368015885353088,1.0,1.0,1.0,1.0,1.0,0.9999998807907104,0.9999991655349731,1.0,0.9999990463256836,0.9999967813491821,0.9999978542327881,1.0,1.0,1.0,1.0,1.0,0.9991512298583984,1.0,1.0,1.0,1.0,0.9998561143875122,1.0,1.0,0.9999936819076538,1.0,1.0,1.0,1.0,1.0,1.0,1.0,1.0,0.9947288632392883,0.9999949932098389,1.0,1.0,1.0,1.0,1.0,1.0,1.0,1.0,1.0,0.999998927116394,1.0,1.0,1.0,1.0,1.0,1.0,0.6031572818756104,1.0,1.0,1.0,1.0,1.0,1.0,1.0,1.0,1.0,1.0,1.0,1.0,1.0,1.0,1.0,1.0,1.0,1.0,1.0,0.9999977350234985,1.0,1.0,0.9660565257072449,1.0,1.0,1.0,1.0,0.9995875954627991,1.0,1.0,1.0,1.0,1.0,1.0,0.9999997615814209,1.0,1.0,1.0,1.0,0.9999997615814209,1.0,1.0,0.9999990463256836,1.0,1.0,1.0,1.0,0.999627947807312,1.0,1.0,1.0,1.0,0.9999998807907104,1.0,1.0,1.0,1.0,1.0,0.9989547729492188,0.9993577599525452,1.0,1.0,1.0,1.0,0.8313062191009521,1.0,1.0,1.0,1.0,1.0,1.0,1.0,1.0,1.0,1.0,1.0,0.9999970197677612,1.0,1.0,1.0,1.0,1.0,1.0,1.0,1.0,1.0,1.0,1.0,1.0,1.0,0.9992660880088806,1.0,1.0,1.0,1.0,1.0,1.0,1.0,0.9999998807907104,1.0,1.0,1.0,1.0,0.9999991655349731,0.9999992847442627,1.0,1.0,1.0,0.9999998807907104,1.0,1.0,0.942839503288269,1.0,1.0,0.9983471632003784,1.0,1.0,1.0,0.9989821314811707,1.0,1.0,1.0,1.0,1.0,0.9987597465515137,1.0,0.9986943602561951,1.0,1.0,1.0,1.0,1.0,1.0,1.0,1.0,1.0,1.0,1.0,1.0,0.9999994039535522,1.0,1.0,1.0,1.0,1.0,0.9999996423721313,1.0,1.0,1.0,1.0,1.0,1.0,1.0,1.0,0.9999998807907104,1.0,1.0,0.9999996423721313,1.0,1.0,1.0,1.0,1.0,1.0,1.0,1.0,1.0,1.0,1.0,1.0,1.0,1.0,1.0,1.0,0.999997615814209,1.0,1.0,1.0,1.0,1.0,1.0,1.0,1.0,1.0,1.0,1.0,1.0,0.9999868869781494,1.0,1.0,1.0,1.0,1.0,1.0,1.0,0.9998527765274048,1.0,1.0,1.0,1.0,1.0,1.0,1.0,1.0,1.0,0.9999997615814209,0.999990701675415,1.0,1.0,0.9993506073951721,1.0,1.0,1.0,1.0,1.0,1.0,1.0,1.0,1.0,0.9999998807907104,0.9999936819076538,0.999997615814209,0.9971690773963928,1.0,1.0,1.0,1.0,0.9884408712387085,1.0,1.0,1.0,0.9999815225601196,1.0,1.0,1.0,1.0,1.0,0.9977582693099976,1.0,1.0,1.0,1.0,1.0,0.9999997615814209,1.0,1.0,1.0,0.9999998807907104,1.0,1.0,1.0,1.0,1.0,1.0,1.0,1.0,1.0,1.0,0.9959080219268799,1.0,1.0,1.0,0.9999991655349731,1.0,1.0,1.0,1.0,1.0,1.0,1.0,1.0,1.0,0.9999669790267944,1.0,1.0,1.0,1.0,1.0,1.0,1.0,1.0,1.0,1.0,1.0,1.0,1.0,1.0,1.0,1.0,1.0,1.0,1.0,1.0,1.0,1.0,1.0,1.0,1.0,0.6685613393783569,0.9999998807907104,0.991124153137207,1.0,1.0,1.0,1.0,1.0,0.9999997615814209,1.0,1.0,1.0,1.0,0.9996564388275146,1.0,1.0,1.0,0.9999996423721313,0.9482606649398804,1.0,1.0,1.0,1.0,1.0,0.9999998807907104,1.0,0.999115526676178,1.0,1.0,1.0,1.0,1.0,1.0,1.0,1.0,1.0,0.9657928347587585,0.999789297580719,1.0,1.0,1.0,1.0,1.0,1.0,1.0,0.5226634740829468,1.0,1.0,0.9999473094940186,0.9999998807907104,1.0,1.0,1.0,0.9999996423721313,1.0,1.0,1.0,0.9996070265769958,1.0,1.0,1.0,1.0,1.0,1.0,1.0,1.0,1.0,1.0,0.9999755620956421,0.9999940395355225,1.0,1.0,0.9999961853027344,1.0,1.0,1.0,1.0,1.0,0.9964683055877686,1.0,1.0,1.0,1.0,1.0,1.0,0.9999991655349731,0.9996143579483032,1.0,1.0,1.0,0.9999998807907104,1.0,1.0,0.9911379218101501,0.9999983310699463,1.0,1.0,1.0,1.0,1.0,1.0,1.0,1.0,1.0,1.0,1.0,1.0,1.0,1.0,1.0,1.0,1.0,1.0,1.0,0.9999957084655762,1.0,1.0,1.0,1.0,0.999824583530426,1.0,0.9999992847442627,1.0,1.0,1.0,1.0,1.0,0.9746528267860413,1.0,1.0,1.0,1.0,1.0,1.0,1.0,1.0,1.0,1.0,1.0,1.0,1.0,1.0,1.0,1.0,1.0,0.9999922513961792,1.0,1.0,1.0,1.0,0.9999998807907104,1.0,1.0,1.0,1.0,1.0,1.0,1.0,0.9999825954437256,1.0,1.0,1.0,1.0,0.9998993873596191,0.9999997615814209,1.0,1.0,1.0,1.0,1.0,1.0,1.0,1.0,1.0,1.0,1.0,1.0,1.0,1.0,1.0,1.0,1.0,1.0,1.0,1.0,1.0,1.0,1.0,1.0,1.0,1.0,0.9999998807907104,1.0,1.0,1.0,1.0,1.0,1.0,1.0,1.0,1.0,0.9999988079071045,1.0,1.0,0.9999997615814209,0.9999998807907104,1.0,0.9999998807907104,0.999998927116394,0.9999991655349731,1.0,1.0,1.0,0.9977959394454956,1.0,1.0,1.0,1.0,1.0,1.0,1.0,1.0,1.0,1.0,1.0,1.0,1.0,0.9999958276748657,0.9999527931213379,0.9999853372573853,1.0,1.0,1.0,1.0,1.0,0.9999998807907104,1.0,1.0,0.9999998807907104,1.0,1.0,1.0,1.0,1.0,1.0,1.0,1.0,1.0,0.9999912977218628,0.9999996423721313,1.0,1.0,1.0,1.0,1.0,1.0,1.0,1.0,1.0,1.0,1.0,0.999761164188385,0.998346209526062,1.0,1.0,1.0,1.0,1.0,1.0,1.0,1.0,1.0,1.0,1.0,1.0,1.0,1.0,1.0,1.0,0.9996978044509888,1.0,1.0,1.0,1.0,1.0,0.9999959468841553,1.0,1.0,1.0,1.0,0.8335292339324951,1.0,1.0,1.0,1.0,1.0,1.0,1.0,1.0,0.9999734163284302,1.0,1.0,0.9999995231628418,0.9999992847442627,1.0,1.0,1.0,1.0,1.0,0.9999983310699463,1.0,1.0,1.0,1.0,1.0,1.0,1.0,0.9970881342887878,1.0,1.0,0.999935507774353,1.0,1.0,1.0,1.0,1.0,1.0,1.0,1.0,0.9999997615814209,1.0,1.0,1.0,1.0,1.0,1.0,1.0,1.0,1.0,1.0,1.0,1.0,1.0,1.0,0.9999973773956299,1.0,1.0,1.0,1.0,0.999998927116394,1.0,0.9264320731163025,1.0,1.0,1.0,1.0,1.0,1.0,1.0,1.0,1.0,1.0,1.0,1.0,1.0,1.0,0.9999994039535522,1.0,1.0,1.0,1.0,0.9999969005584717,1.0,0.9580236077308655,0.9999994039535522,1.0,1.0,1.0,1.0,0.9999995231628418,1.0,1.0,1.0,1.0,0.9999996423721313,1.0,1.0,1.0,1.0,0.9999998807907104,1.0,0.9998348951339722,1.0,1.0,1.0,0.999998927116394,1.0,1.0,1.0,1.0,0.999995231628418,0.9999996423721313,0.9916343688964844,1.0,1.0,1.0,1.0,1.0,1.0,0.9999923706054688,1.0,1.0,1.0,1.0,1.0,1.0,1.0,0.9999991655349731,1.0,1.0,1.0,1.0,1.0,1.0,1.0,1.0,1.0,1.0,1.0,1.0,1.0,1.0,1.0,1.0,1.0,1.0,1.0,1.0,1.0,1.0,1.0,1.0,0.9999998807907104,1.0,1.0,1.0,1.0,1.0,1.0,1.0,1.0,1.0,1.0,1.0,0.9994522929191589,1.0,1.0,1.0,0.9999992847442627,0.9999996423721313,1.0,1.0,1.0,1.0,1.0,0.9999997615814209,1.0,0.9999955892562866,1.0,1.0,1.0,1.0,1.0,1.0,1.0,1.0,1.0,1.0,1.0,1.0,1.0,0.9999758005142212,0.9999997615814209,1.0,1.0,0.9999996423721313,1.0,1.0,1.0,1.0,1.0,0.9999949932098389,1.0,1.0,0.9991422891616821,1.0,1.0,0.9999998807907104,1.0,1.0,1.0,1.0,1.0,1.0,1.0,1.0,1.0,1.0,1.0,1.0,1.0,1.0,1.0,1.0,1.0,1.0,1.0,1.0,1.0,1.0,1.0,1.0,0.9999977350234985,1.0,1.0,0.9999446868896484,1.0,0.9999189376831055,1.0,1.0,1.0,1.0,0.9999967813491821,1.0,1.0,1.0,1.0,1.0,1.0,1.0,1.0,1.0,1.0,1.0,1.0,1.0,0.9999938011169434,0.9999994039535522,1.0,1.0,1.0,1.0,0.9248772263526917,1.0,1.0,1.0,0.9999997615814209,1.0,0.9991098046302795,1.0,1.0,0.9999997615814209,1.0,1.0,1.0,1.0,1.0,1.0,1.0,0.9989373087882996,0.523296058177948,0.9999984502792358,1.0,1.0,1.0,0.9999979734420776,0.9928879141807556,1.0,1.0,1.0,1.0,1.0,1.0,0.9999997615814209,0.9991093277931213,1.0,1.0,1.0,1.0,1.0,0.9787499308586121,1.0,0.9999896287918091,1.0,1.0,1.0,1.0,0.9999998807907104,1.0,1.0,1.0,0.9924172163009644,1.0,0.9863157868385315,1.0,1.0,1.0,1.0,1.0,1.0,0.999998927116394,1.0,1.0,1.0,1.0,1.0,1.0,1.0,1.0,1.0,1.0,0.9999998807907104,1.0,1.0,1.0,1.0,0.9995840191841125,1.0,1.0,1.0,1.0,1.0,1.0,1.0,1.0,1.0,0.9997963309288025,1.0,1.0,1.0,1.0,1.0,1.0,0.9999998807907104,1.0,1.0,1.0,1.0,1.0,1.0,1.0,1.0,1.0,1.0,0.9652723670005798,1.0,1.0,1.0,1.0,1.0,1.0,0.9999977350234985,1.0,1.0,1.0,1.0,1.0,1.0,1.0,0.9999994039535522,0.9999997615814209,0.999998927116394,1.0,1.0,1.0,1.0,1.0,1.0,1.0,1.0,1.0,1.0,1.0,1.0,1.0,1.0,1.0,1.0,1.0,1.0,0.9999493360519409,0.8880934119224548,1.0,0.9995256662368774,1.0,1.0,0.9999997615814209,1.0,1.0,1.0,0.9999980926513672,1.0,1.0,1.0,0.991769552230835,1.0,1.0,1.0,1.0,1.0,1.0,1.0,1.0,1.0,1.0,1.0,1.0,0.9999997615814209,1.0,1.0,1.0,0.9999998807907104,1.0,1.0,1.0,1.0,1.0,1.0,1.0,1.0,1.0,0.9988137483596802,1.0,1.0,0.9999985694885254,1.0,1.0,1.0,1.0,1.0,0.9999849796295166,1.0,1.0,1.0,1.0,0.9999997615814209,1.0,1.0,1.0,1.0,1.0,1.0,1.0,1.0,1.0,1.0,1.0,1.0,1.0,1.0,1.0,0.9999997615814209,1.0,0.9999990463256836,1.0,1.0,1.0,1.0,1.0,1.0,1.0,1.0,1.0,1.0,1.0,1.0,1.0,1.0,1.0,0.9999998807907104,1.0,1.0,1.0,1.0,1.0,1.0,1.0,1.0,1.0,1.0,1.0,1.0,1.0,1.0,1.0,1.0,1.0,1.0,1.0,1.0,1.0,1.0,0.9999997615814209,0.9999998807907104,1.0,1.0,1.0,1.0,1.0,1.0,1.0,1.0,1.0,1.0,1.0,1.0,1.0,1.0,1.0,1.0,0.999974250793457,1.0,1.0,1.0,1.0,1.0,1.0,0.9999188184738159,1.0,1.0,1.0,1.0,1.0,1.0,0.9999998807907104,1.0,1.0,1.0,1.0,1.0,1.0,1.0,1.0,1.0,0.9985352754592896,1.0,1.0,1.0,1.0,0.9999943971633911,0.9999985694885254,1.0,1.0,1.0,1.0,1.0,0.9880870580673218,1.0,0.9999998807907104,1.0,1.0,1.0,1.0,1.0,1.0,1.0,1.0,0.9998822212219238,1.0,0.9999898672103882,0.9999998807907104,0.9999988079071045,1.0,1.0,1.0,1.0,1.0,1.0,1.0,1.0,1.0,0.9999446868896484,0.8254457116127014,1.0,1.0,1.0,1.0,1.0,1.0,1.0,1.0,1.0,1.0,0.999934196472168,1.0,1.0,1.0,1.0,1.0,1.0,1.0,1.0,1.0,1.0,1.0,1.0,1.0,1.0,1.0,1.0,1.0,0.9999988079071045,1.0,1.0,1.0,1.0,1.0,1.0,1.0,0.7401290535926819,0.9962887763977051,1.0,1.0,1.0,1.0,1.0,1.0,1.0,1.0,1.0,1.0,1.0,1.0,0.999998927116394,1.0,1.0,1.0,1.0,1.0,1.0,1.0,1.0,1.0,1.0,1.0,1.0,1.0,0.9999992847442627,1.0,1.0,1.0,1.0,1.0,1.0,1.0,1.0,1.0,1.0,1.0,0.9875227808952332,0.9999998807907104,0.999997615814209,0.9999997615814209,1.0,1.0,1.0,1.0,1.0,0.9902632236480713,1.0,1.0,1.0,1.0,0.9999985694885254,0.9997932314872742,1.0,1.0,1.0,1.0,1.0,1.0,1.0,1.0,1.0,1.0,1.0,1.0,1.0,1.0,1.0,1.0,1.0,0.9999790191650391,1.0,1.0,1.0,1.0,1.0,1.0,1.0,0.9992407560348511,1.0,1.0,1.0,1.0,1.0,0.953397274017334,0.9999891519546509,0.9999914169311523,1.0,1.0,1.0,1.0,1.0,1.0,0.8958775997161865,1.0,1.0,1.0,0.9998838901519775,1.0,1.0,1.0,1.0,1.0,1.0,1.0,1.0,1.0,1.0,1.0,1.0,1.0,1.0,1.0,1.0,0.999990701675415,1.0,1.0,1.0,1.0,1.0,1.0,0.9999974966049194,1.0,1.0,1.0,1.0,1.0,1.0,1.0,0.9999998807907104,1.0,0.9999998807907104,1.0,1.0,1.0,1.0,0.9999997615814209,1.0,1.0,0.9999986886978149,1.0,1.0,1.0,0.9999994039535522,1.0,1.0,0.9998689889907837,1.0,1.0,1.0,1.0,1.0,1.0,1.0,1.0,1.0,1.0,0.7989980578422546,1.0,1.0,0.9999896287918091,1.0,0.9999991655349731,1.0,1.0,1.0,0.9996280670166016,1.0,1.0,1.0,1.0,1.0,1.0,1.0,1.0,1.0,1.0,1.0,1.0,1.0,1.0,1.0,1.0,0.9999984502792358,0.9918144345283508,1.0,1.0,0.9999998807907104,1.0,1.0,1.0,1.0,1.0,1.0,1.0,1.0,1.0,1.0,1.0,0.9999953508377075,0.9999957084655762,1.0,1.0,1.0,1.0,1.0,1.0,1.0,1.0,1.0,1.0,1.0,0.9977128505706787,1.0,1.0,1.0,1.0,1.0,0.999998927116394,1.0,1.0,1.0,1.0,1.0,1.0,1.0,1.0,1.0,1.0,0.994907796382904,1.0,1.0,1.0,1.0,1.0,1.0,1.0,1.0,0.9999980926513672,1.0,1.0,1.0,0.9999994039535522,0.9782022833824158,1.0,1.0,1.0,1.0,1.0,0.9999978542327881,1.0,1.0,1.0,1.0,1.0,1.0,1.0,1.0,1.0,0.9999997615814209,1.0,1.0,1.0,1.0,1.0,1.0,1.0,0.9926552772521973,0.9243675470352173,1.0,1.0,1.0,1.0,1.0,1.0,1.0,1.0,1.0,1.0,1.0,1.0,1.0,1.0,0.9999130964279175,1.0,1.0,1.0,1.0,1.0,1.0,1.0,1.0,1.0,1.0,1.0,1.0,1.0,1.0,1.0,1.0,0.9999990463256836,0.9999881982803345,1.0,1.0,1.0,1.0,0.9995853304862976,1.0,0.9999991655349731,0.9999935626983643,0.9006569385528564,1.0,1.0,1.0,1.0,1.0,0.9999998807907104,1.0,1.0,1.0,1.0,1.0,1.0,1.0,1.0,1.0,1.0,1.0,1.0,1.0,1.0,1.0,1.0,1.0,1.0,0.8606875538825989,1.0,1.0,0.9999978542327881,1.0,1.0,1.0,1.0,1.0,1.0,1.0,1.0,1.0,1.0,0.9999996423721313,1.0,1.0,1.0,1.0,1.0,1.0,1.0,1.0,1.0,1.0,1.0,1.0,1.0,1.0,1.0,1.0,1.0,0.9999982118606567,1.0,1.0,1.0,0.8745662569999695,1.0,1.0,1.0,1.0,1.0,1.0,1.0,1.0,1.0,0.9999996423721313,1.0,1.0,1.0,1.0,1.0,1.0,1.0,1.0,0.994810938835144,1.0,1.0,1.0,1.0,1.0,1.0,0.9999754428863525,1.0,1.0,1.0,1.0,1.0,0.9999940395355225,1.0,1.0,1.0,1.0,1.0,1.0,1.0,0.9992613196372986,1.0,1.0,1.0,1.0,1.0,1.0,1.0,0.9999998807907104,1.0,1.0,1.0,1.0,1.0,0.9999966621398926,1.0,0.9999957084655762,1.0,1.0,0.9999836683273315,1.0,1.0,1.0,0.9999995231628418,0.9914303421974182,0.9977909326553345,1.0,1.0,0.9999992847442627,1.0,1.0,1.0,1.0,1.0,0.9998359680175781,1.0,1.0,1.0,1.0,1.0,1.0,1.0,1.0,1.0,0.999298095703125,1.0,1.0,1.0,1.0,0.9999998807907104,1.0,1.0,1.0,1.0,1.0,1.0,1.0,1.0,1.0,0.999998927116394,0.9570397138595581,1.0,1.0,0.9999998807907104,1.0,0.999997615814209,1.0,1.0,1.0,0.9999990463256836,0.9999992847442627,1.0,1.0,1.0,1.0,0.9999998807907104,0.99676513671875,1.0,0.9922993779182434,1.0,1.0,1.0,1.0,1.0,1.0,1.0,1.0,1.0,1.0,1.0,1.0,1.0,0.5285372138023376,1.0,0.9999966621398926,1.0,1.0,1.0,1.0,1.0,1.0,1.0,1.0,1.0,0.7912490963935852,1.0,0.7019617557525635,1.0,1.0,1.0,1.0,1.0,1.0,1.0,1.0,1.0,0.9999593496322632,1.0,1.0,1.0,1.0,1.0,1.0,1.0,1.0,1.0,1.0,1.0,1.0,0.9999935626983643,1.0,0.9999998807907104,1.0,1.0,1.0,1.0,1.0,1.0,1.0,1.0,1.0,1.0,1.0,1.0,1.0,1.0,1.0,1.0,0.9999867677688599,0.9999830722808838,1.0,0.9999977350234985,1.0,1.0,1.0,1.0,0.9999998807907104,1.0,1.0,0.9999998807907104,1.0,1.0,1.0,1.0,1.0,1.0,1.0,0.9999977350234985,1.0,0.9994800686836243,1.0,1.0,1.0,1.0,0.9999991655349731,1.0,0.9999998807907104,1.0,1.0,1.0,1.0,1.0,1.0,1.0,1.0,1.0,1.0,1.0,1.0,1.0,1.0,0.9999581575393677,1.0,1.0,1.0,1.0,1.0,1.0,1.0,1.0,0.999896764755249,1.0,1.0,1.0,0.5988537669181824,1.0,1.0,1.0,1.0,1.0,1.0,1.0,1.0,1.0,1.0,1.0,1.0,1.0,1.0,1.0,0.9999986886978149,1.0,1.0,1.0,0.47580668330192566,1.0,1.0,1.0,1.0,1.0,1.0,1.0,1.0,1.0,1.0,1.0,1.0,0.999962568283081,1.0,0.9956778883934021,1.0,0.9999973773956299,1.0,1.0,0.9999793767929077,1.0,1.0,1.0,0.9999986886978149,0.9798740744590759,1.0,1.0,1.0,1.0,1.0,1.0,1.0,1.0,1.0,1.0,1.0,1.0,1.0,1.0,1.0,1.0,0.9882609248161316,1.0,1.0,1.0,1.0,1.0,1.0,1.0,0.9999713897705078,1.0,1.0,1.0,1.0,1.0,1.0,1.0,1.0,0.8725652098655701,1.0,1.0,1.0,1.0,1.0,1.0,1.0,1.0,1.0,0.9999986886978149,1.0,1.0,1.0,1.0,1.0,1.0,1.0,1.0,1.0,1.0,1.0,0.9999698400497437,1.0,1.0,1.0,1.0,1.0,1.0,1.0,0.9999996423721313,1.0,0.9999982118606567,1.0,1.0,1.0,1.0,1.0,1.0,1.0,1.0,1.0,0.96900874376297,1.0,1.0,0.9998770952224731,0.9999980926513672,1.0,1.0,1.0,1.0,1.0,0.9999973773956299,1.0,1.0,1.0,1.0,1.0,1.0,1.0,1.0,1.0,0.9999125003814697,1.0,1.0,1.0,1.0,1.0,0.9978508949279785,1.0,1.0,1.0,1.0,1.0,1.0,1.0,1.0,1.0,0.9999096393585205,1.0,0.93881756067276,1.0,0.9999997615814209,1.0,1.0,1.0,0.9999998807907104,1.0,1.0,1.0,0.9863433837890625,1.0,1.0,0.9878338575363159,1.0,0.9999998807907104,1.0,1.0,1.0,0.999998927116394,1.0,1.0,1.0,1.0,1.0,1.0,1.0,1.0,0.9998114705085754,1.0,1.0,1.0,1.0,1.0,1.0,0.9983856678009033,1.0,1.0,1.0,1.0,0.9999998807907104,1.0,1.0,1.0,1.0,1.0,1.0,0.9999991655349731,1.0,1.0,1.0,1.0,1.0,1.0,1.0,1.0,1.0,1.0,0.9999998807907104,1.0,1.0,0.9917505383491516,1.0,1.0,1.0,1.0,1.0,1.0,1.0,1.0,1.0,1.0,1.0,1.0,1.0,1.0,1.0,1.0,1.0,1.0,1.0,0.9999986886978149,1.0,1.0,1.0,1.0,1.0,1.0,1.0,1.0,1.0,1.0,1.0,1.0,1.0,1.0,1.0,1.0,0.7742371559143066,1.0,1.0,1.0,1.0,1.0,1.0,1.0,1.0,1.0,1.0,0.9999986886978149,1.0,0.883663535118103,1.0,0.9999960660934448,1.0,1.0,1.0,0.9999995231628418,1.0,1.0,0.9999998807907104,1.0,1.0,1.0,1.0,1.0,1.0,1.0,0.9995321035385132,1.0,1.0,1.0,0.9999998807907104,1.0,0.9752804040908813,1.0,0.9518395662307739,1.0,1.0,1.0,0.9999804496765137,1.0,0.9999967813491821,1.0,1.0,1.0,0.9999988079071045,0.9999979734420776,1.0,1.0,1.0,0.9999998807907104,1.0,1.0,1.0,1.0,1.0,1.0,1.0,0.9836409687995911,1.0,1.0,1.0,1.0,1.0,1.0,1.0,0.9999960660934448,1.0,1.0,1.0,1.0,1.0,0.9999997615814209,1.0,1.0,1.0,1.0,1.0,1.0,1.0,1.0,1.0,0.8518603444099426,1.0,1.0,1.0,1.0,1.0,1.0,0.9999998807907104,0.9999535083770752,1.0,1.0,0.9999964237213135,1.0,1.0,1.0,1.0,1.0,0.9999547004699707,1.0,1.0,1.0,0.9999998807907104,1.0,0.9999792575836182,1.0,1.0,1.0,1.0,1.0,1.0,1.0,0.9999994039535522,1.0,0.9999997615814209,1.0,1.0,0.7884477376937866,1.0,1.0,1.0,1.0,0.9999974966049194,1.0,1.0,1.0,1.0,0.9948793649673462,0.9999996423721313,1.0,0.9999985694885254,1.0,0.9999998807907104,0.9999737739562988,1.0,0.9999933242797852,1.0,1.0,1.0,0.9999901056289673,1.0,0.9999998807907104,1.0,1.0,1.0,1.0,0.9999991655349731,0.9999982118606567,0.9999998807907104,1.0,1.0,1.0,1.0,1.0,1.0,1.0,1.0,1.0,0.9999963045120239,1.0,1.0,1.0,1.0,1.0,1.0,1.0,1.0,1.0,1.0,1.0,1.0,1.0,1.0,1.0,1.0,1.0,1.0,1.0,1.0,1.0,1.0,1.0,1.0,0.5886737108230591,1.0,1.0,1.0,1.0,1.0,1.0,1.0,1.0,0.9970830082893372,0.5468133091926575,1.0,1.0,1.0,1.0,1.0,1.0,1.0,0.9999995231628418,0.9987255930900574,1.0,1.0,1.0,1.0,0.9999979734420776,1.0,1.0,1.0,1.0,1.0,0.999518632888794,1.0,0.9999986886978149,1.0,0.9999995231628418,1.0,1.0,0.9999973773956299,1.0,1.0,1.0,1.0,1.0,1.0,1.0,1.0,1.0,1.0,1.0,1.0,1.0,0.9999990463256836,1.0,0.9999867677688599,1.0,0.9998202919960022,1.0,1.0,1.0,0.9999998807907104,1.0,1.0,1.0,1.0,1.0,1.0,1.0,1.0,1.0,1.0,1.0,1.0,1.0,1.0,1.0,0.9922818541526794,1.0,1.0,1.0,0.9999997615814209,1.0,1.0,1.0,1.0,0.9999997615814209,1.0,1.0,0.9999983310699463,1.0,0.9999997615814209,1.0,1.0,1.0,0.5592026114463806,1.0,0.9999998807907104,1.0,1.0,1.0,1.0,1.0,0.9999994039535522,1.0,0.9999997615814209,1.0,1.0,1.0,1.0,1.0,1.0,0.9999997615814209,1.0,1.0,1.0,1.0,1.0,1.0,1.0,1.0,1.0,1.0,1.0,1.0,1.0,1.0,1.0,1.0,0.9995934367179871,1.0,1.0,1.0,1.0,1.0,1.0,1.0,1.0,1.0,0.6664268374443054,0.9999889135360718,0.9999903440475464,1.0,1.0,1.0,0.9999998807907104,1.0,1.0,1.0,0.9963446259498596,1.0,0.9999998807907104,0.9984436631202698,1.0,1.0,1.0,0.867306113243103,0.9824894666671753,1.0,0.9966884255409241,1.0,1.0,1.0,1.0,1.0,1.0,1.0,0.9999997615814209,1.0,1.0,1.0,1.0,1.0,1.0,1.0,0.9999974966049194,1.0,1.0,1.0,1.0,1.0,1.0,1.0,1.0,1.0,1.0,0.9999998807907104,1.0,0.8427088856697083,1.0,1.0,1.0,1.0,1.0,1.0,0.9999998807907104,1.0,1.0,1.0,0.9999998807907104,0.9999338388442993,1.0,1.0,0.9998400211334229,1.0,1.0,1.0,1.0,0.9999992847442627,1.0,1.0,1.0,1.0,1.0,1.0,0.9999996423721313,1.0,1.0,1.0,0.9993513226509094,1.0,1.0,1.0,0.9990641474723816,1.0,1.0,1.0,0.9827324151992798,1.0,1.0,0.9942055344581604,0.9999990463256836,0.9999998807907104,1.0,1.0,1.0,1.0,1.0,1.0,1.0,1.0,1.0,1.0,1.0,1.0,1.0,1.0,1.0,1.0,0.9999992847442627,1.0,1.0,1.0,1.0,1.0,1.0,1.0,1.0,1.0,1.0,1.0,0.9998449087142944,1.0,1.0,1.0,1.0,1.0,1.0,1.0,1.0,1.0,0.9999992847442627,0.9991588592529297,1.0,1.0,1.0,1.0,1.0,1.0,1.0,1.0,1.0,1.0,1.0,1.0,0.9999998807907104,1.0,1.0,1.0,1.0,1.0,0.9990372657775879,1.0,0.9999951124191284,1.0,1.0,1.0,1.0,0.999998927116394,1.0,1.0,1.0,1.0,1.0,1.0,1.0,1.0,0.9999997615814209,1.0,1.0,1.0,1.0,1.0,1.0,1.0,1.0,1.0,1.0,1.0,1.0,1.0,1.0,1.0,0.9999873638153076,1.0,1.0,1.0,1.0,1.0,1.0,1.0,1.0,1.0,1.0,1.0,1.0,1.0,1.0,1.0,1.0,1.0,1.0,0.8151646852493286,1.0,1.0,1.0,1.0,1.0,1.0,1.0,1.0,0.9045814275741577,1.0,1.0,1.0,1.0,1.0,1.0,1.0,1.0,1.0,1.0,1.0,1.0,1.0,0.9644482731819153,1.0,1.0,1.0,1.0,1.0,1.0,0.9999971389770508,1.0,0.9999996423721313,0.9999996423721313,1.0,1.0,1.0,1.0,1.0,1.0,1.0,0.9835118651390076,1.0,1.0,1.0,1.0,1.0,1.0,0.9999998807907104,0.9998828172683716,0.9886817932128906,1.0,1.0,0.9999972581863403,0.9999935626983643,1.0,1.0,1.0,1.0,1.0,1.0,1.0,1.0,1.0,1.0,1.0,1.0,1.0,1.0,0.9998451471328735,1.0,0.9981606602668762,1.0,0.9999889135360718,0.9999998807907104,1.0,1.0,1.0,1.0,1.0,1.0,1.0,1.0,0.9999998807907104,1.0,1.0,1.0,1.0,1.0,1.0,1.0,1.0,1.0,0.9999994039535522,1.0,1.0,1.0,1.0,1.0,1.0,1.0,1.0,1.0,1.0,1.0,1.0,1.0,1.0,0.9999964237213135,1.0,1.0,1.0,1.0,1.0,1.0,1.0,1.0,0.9845055937767029,1.0,1.0,1.0,1.0,1.0,1.0,0.9999911785125732,0.9999986886978149,0.9999176263809204,1.0,1.0,1.0,1.0,1.0,1.0,0.9528842568397522,1.0,1.0,0.9999676942825317,1.0,1.0,1.0,1.0,1.0,1.0,1.0,1.0,1.0,1.0,0.9999922513961792,0.9992836117744446,0.9999936819076538,1.0,1.0,1.0,1.0,1.0,1.0,0.9999998807907104,1.0,1.0,1.0,1.0,0.9999998807907104,1.0,1.0,1.0,1.0,1.0,1.0,1.0,1.0,0.9998719692230225,1.0,1.0,1.0,1.0,1.0,1.0,1.0,1.0,1.0,1.0,0.9999998807907104,1.0,1.0,1.0,1.0,1.0,0.9999996423721313,1.0,0.9999631643295288,0.9999998807907104,1.0,1.0,1.0,1.0,1.0,0.9999679327011108,1.0,1.0,1.0,0.9997865557670593,1.0,1.0,1.0,1.0,1.0,1.0,1.0,1.0,1.0,0.9999998807907104,1.0,1.0,1.0,1.0,1.0,1.0,0.9999998807907104,1.0,1.0,1.0,0.999980092048645,1.0,1.0,1.0,1.0,1.0,1.0,1.0,1.0,1.0,1.0,1.0,1.0,0.9999998807907104,1.0,1.0,1.0,1.0,0.9999994039535522,1.0,1.0,1.0,1.0,1.0,1.0,1.0,1.0,1.0,1.0,1.0,0.9999969005584717,0.9999731779098511,1.0,1.0,1.0,1.0,1.0,1.0,1.0,1.0,0.9999990463256836,1.0,1.0,1.0,1.0,0.9999885559082031,1.0,1.0,1.0,1.0,1.0,1.0,1.0,1.0,1.0,0.9999966621398926,1.0,1.0,1.0,1.0,1.0,1.0,1.0,1.0,1.0,1.0,1.0,0.9998121857643127,1.0,1.0,1.0,1.0,1.0,1.0,1.0,1.0,1.0,1.0,1.0,1.0,1.0,1.0,0.9999998807907104,1.0,1.0,1.0,0.9996936321258545,1.0,1.0,1.0,0.9999998807907104,1.0,1.0,1.0,1.0,1.0,1.0,1.0,1.0,1.0,1.0,1.0,1.0,1.0,0.9999998807907104,1.0,1.0,1.0,1.0,1.0,1.0,1.0,1.0,1.0,1.0,1.0,1.0,1.0,1.0,1.0,1.0,1.0,1.0,1.0,1.0,1.0,1.0,1.0,1.0,1.0,1.0,1.0,1.0,1.0,1.0,0.9999991655349731,1.0,1.0,1.0,1.0,1.0,1.0,1.0,1.0,1.0,1.0,1.0,0.9999998807907104,1.0,1.0,1.0,1.0,1.0,1.0,1.0,1.0,1.0,0.9889897108078003,1.0,1.0,1.0,1.0,1.0,1.0,1.0,1.0,1.0,1.0,1.0,1.0,1.0,1.0,1.0,1.0,1.0,1.0,1.0,0.9998574256896973,1.0,1.0,1.0,1.0,1.0,1.0,1.0,1.0,1.0,1.0,1.0,1.0,1.0,1.0,1.0,1.0,1.0,1.0,1.0,1.0,1.0,1.0,1.0,1.0,1.0,1.0,1.0,1.0,1.0,1.0,1.0,1.0,1.0,1.0,1.0,1.0,1.0,1.0,0.9986129999160767,1.0,1.0,1.0,1.0,1.0,1.0,1.0,1.0,1.0,1.0,1.0,1.0,0.9999995231628418,1.0,1.0,1.0,1.0,1.0,1.0,1.0,1.0,1.0,1.0,1.0,0.9999994039535522,1.0,1.0,1.0,1.0,1.0,1.0,1.0,1.0,1.0,1.0,1.0,1.0,0.9984422326087952,1.0,1.0,1.0,1.0,1.0,1.0,1.0,0.9999085664749146,1.0,1.0,1.0,1.0,1.0,1.0,1.0,1.0,1.0,1.0,1.0,1.0,1.0,1.0,1.0,1.0,1.0,1.0,1.0,0.9999996423721313,0.9999997615814209,1.0,1.0,1.0,1.0,0.9999635219573975,1.0,0.8234668374061584,1.0,1.0,1.0,1.0,1.0,1.0,1.0,1.0,0.9999998807907104,1.0,1.0,0.9999604225158691,1.0,1.0,1.0,1.0,1.0,1.0,1.0,1.0,1.0,1.0,1.0,1.0,1.0,1.0,0.7487371563911438,1.0,1.0,1.0,1.0,1.0,1.0,1.0,1.0,1.0,1.0,1.0,1.0,1.0,1.0,1.0,0.9999960660934448,1.0,0.9999997615814209,1.0,1.0,1.0,1.0,1.0,1.0,1.0,1.0,1.0,1.0,1.0,1.0,1.0,0.9999998807907104,1.0,1.0,1.0,1.0,0.8469541072845459,1.0,1.0,0.9999994039535522,1.0,1.0,1.0,1.0,1.0,1.0,1.0,1.0,1.0,1.0,1.0,1.0,1.0,1.0,1.0,1.0,1.0,1.0,1.0,1.0,1.0,1.0,1.0,1.0,1.0,1.0,1.0,1.0,1.0,1.0,1.0,1.0,1.0,1.0,1.0,1.0,1.0,1.0,1.0,1.0,1.0,1.0,0.999998927116394,1.0,1.0,1.0,1.0,1.0,1.0,1.0,1.0,1.0,1.0,1.0,1.0,1.0,1.0,1.0,1.0,1.0,1.0,1.0,0.9160557985305786,1.0,1.0,1.0,1.0,1.0,1.0,1.0,1.0,1.0,1.0,1.0,1.0,1.0,1.0,1.0,1.0,1.0,1.0,1.0,1.0,1.0,1.0,1.0,1.0,1.0,1.0,1.0,1.0,1.0,1.0,1.0,1.0,1.0,1.0,1.0,1.0,1.0,1.0,1.0,1.0,1.0,1.0,1.0,1.0,1.0,1.0,1.0,1.0,1.0,1.0,1.0,1.0,1.0,1.0,1.0,1.0,1.0,1.0,1.0,1.0,1.0,1.0,0.9999972581863403,1.0,1.0,1.0,1.0,1.0,1.0,1.0,1.0,1.0,1.0,1.0,1.0,1.0,1.0,1.0,1.0,1.0,1.0,1.0,1.0,1.0,0.999998927116394,1.0,1.0,1.0,1.0,1.0,1.0,1.0,1.0,1.0,1.0,1.0,1.0,1.0,1.0,1.0,1.0,1.0,1.0,1.0,1.0,1.0,1.0,1.0,1.0,1.0,1.0,1.0,1.0,1.0,1.0,1.0,1.0,0.999984622001648,0.9999659061431885,1.0,1.0,1.0,1.0,1.0,1.0,0.8776343464851379,1.0,1.0,1.0,1.0,1.0,1.0,1.0,1.0,1.0,1.0,1.0,1.0,1.0,1.0,1.0,1.0,1.0,1.0,1.0,1.0,1.0,1.0,1.0,1.0,1.0,1.0,1.0,1.0,1.0,1.0,1.0,1.0,1.0,1.0,1.0,1.0,1.0,1.0,1.0,1.0,1.0,1.0,1.0,1.0,0.9980148077011108,1.0,1.0,1.0,1.0,1.0,1.0,1.0,1.0,1.0,1.0,1.0,1.0,1.0,1.0,1.0,1.0,1.0,1.0,1.0,1.0,1.0,1.0,0.9999995231628418,1.0,1.0,1.0,1.0,1.0,1.0,1.0,1.0,1.0,1.0,1.0,1.0,1.0,1.0,1.0,1.0,1.0,1.0,1.0,1.0,1.0,1.0,1.0,1.0,1.0,1.0,1.0,1.0,1.0,1.0,1.0,1.0,1.0,1.0,1.0,1.0,1.0,1.0,1.0,1.0,1.0,1.0,1.0,1.0,1.0,1.0,1.0,1.0,1.0,1.0,1.0,1.0,1.0,1.0,1.0,1.0,1.0,1.0,1.0,1.0,0.9999959468841553,1.0,1.0,1.0,1.0,1.0,1.0,0.9999914169311523,1.0,1.0,1.0,1.0,1.0,1.0,0.9999890327453613,1.0,1.0,1.0,1.0,1.0,1.0,1.0,1.0,1.0,1.0,1.0,1.0,1.0,1.0,1.0,1.0,1.0,1.0,1.0,1.0,1.0,0.9999996423721313,0.9982509016990662,1.0,1.0,0.9997766613960266,1.0,1.0,1.0,1.0,1.0,1.0,1.0,0.9992735981941223,1.0,1.0,1.0,1.0,0.9999996423721313,1.0,0.9999992847442627,0.999998927116394,0.9999630451202393,1.0,1.0,1.0,1.0,1.0,0.9999996423721313,1.0,1.0,1.0,0.999975323677063,0.9999951124191284,0.9999985694885254,1.0,1.0,1.0,1.0,1.0,1.0,1.0,1.0,1.0,1.0,1.0,1.0,1.0,1.0,1.0,1.0,1.0,1.0,1.0,1.0,0.9868258833885193,1.0,0.9999923706054688,1.0,1.0,1.0,1.0,1.0,1.0,1.0,1.0,1.0,1.0,1.0,1.0,1.0,1.0,1.0,1.0,1.0,1.0,1.0,1.0,1.0,1.0,1.0,1.0,1.0,1.0,1.0,1.0,1.0,1.0,1.0,1.0,1.0,1.0,1.0,1.0,1.0,1.0,1.0,1.0,1.0,1.0,1.0,1.0,1.0,1.0,1.0,1.0,1.0,1.0,1.0,1.0,0.9999972581863403,1.0,1.0,1.0,0.9999643564224243,0.9999302625656128,1.0,1.0,1.0,1.0,1.0,1.0,1.0,1.0,0.9993927478790283,1.0,1.0,1.0,0.7937885522842407,1.0,1.0,1.0,1.0,1.0,1.0,0.9999994039535522,0.9999164342880249,1.0,1.0,1.0,1.0,1.0,1.0,1.0,1.0,1.0,1.0,1.0,1.0,1.0,1.0,1.0,1.0,1.0,1.0,1.0,1.0,1.0,1.0,1.0,1.0,1.0,1.0,1.0,1.0,1.0,1.0,1.0,1.0,1.0,1.0,1.0,1.0,1.0,1.0,1.0,1.0,1.0,1.0,1.0,1.0,1.0,1.0,1.0,1.0,1.0,1.0,1.0,1.0,1.0,1.0,1.0,1.0,1.0,1.0,1.0,1.0,1.0,1.0,1.0,0.9994476437568665,1.0,1.0,1.0,1.0,1.0,0.9999901056289673,0.9999997615814209,1.0,1.0,1.0,1.0,1.0,1.0,1.0,1.0,1.0,1.0,1.0,1.0,1.0,0.9998968839645386,1.0,1.0,1.0,1.0,1.0,1.0,1.0,1.0,1.0,1.0,1.0,1.0,1.0,1.0,1.0,1.0,1.0,1.0,0.9999992847442627,1.0,1.0,1.0,1.0,1.0,1.0,1.0,1.0,1.0,1.0,1.0,1.0,1.0,1.0,1.0,1.0,1.0,1.0,1.0,1.0,1.0,1.0,1.0,0.9999984502792358,1.0,0.9999480247497559,1.0,1.0,1.0,1.0,1.0,1.0,1.0,1.0,1.0,1.0,1.0,1.0,1.0,1.0,1.0,1.0,1.0,1.0,1.0,1.0,1.0,1.0,1.0,1.0,1.0,1.0,1.0,1.0,0.9999998807907104,1.0,1.0,1.0,1.0,1.0,1.0,1.0,1.0,1.0,0.9999889135360718,1.0,1.0,1.0,1.0,1.0,1.0,1.0,1.0,1.0,0.9998754262924194,0.9999973773956299,1.0,0.9999997615814209,1.0,1.0,1.0,1.0,1.0,1.0,1.0,1.0,1.0,0.9999998807907104,0.9938234090805054,1.0,1.0,1.0,1.0,0.9994354844093323,1.0,1.0,1.0,1.0,0.9999998807907104,1.0,1.0,1.0,1.0,1.0,1.0,1.0,1.0,1.0,1.0,1.0,1.0,0.9999998807907104,0.9999996423721313,1.0,1.0,1.0,1.0,1.0,1.0,0.9999325275421143,0.9999700784683228,1.0,1.0,0.9999994039535522,1.0,1.0,1.0,1.0,1.0,1.0,1.0,1.0,1.0,1.0,1.0,0.9916150569915771,0.9999866485595703,1.0,1.0,1.0,1.0,1.0,0.9999997615814209,1.0,1.0,1.0,1.0,1.0,1.0,0.9887328147888184,1.0,1.0,1.0,1.0,1.0,1.0,1.0,1.0,0.9999991655349731,1.0,1.0,1.0,1.0,1.0,0.9999980926513672,1.0,0.9998732805252075,1.0,1.0,1.0,1.0,1.0,1.0,1.0,1.0,1.0,1.0,1.0,1.0,1.0,0.999853253364563,0.9999998807907104,1.0,1.0,1.0,1.0,1.0,1.0,1.0,1.0,1.0,1.0,1.0,1.0,1.0,1.0,1.0,1.0,1.0,1.0,1.0,1.0,1.0,1.0,1.0,1.0,1.0,1.0,0.9999998807907104,0.9999996423721313,1.0,0.9999998807907104,1.0,1.0,1.0,1.0,1.0,1.0,1.0,0.9999014139175415,1.0,1.0,1.0,1.0,1.0,1.0,1.0,1.0,1.0,0.9989702701568604,1.0,0.9999998807907104,1.0,1.0,1.0,1.0,1.0,1.0,1.0,0.9999982118606567,1.0,1.0,1.0,1.0,1.0,1.0,1.0,1.0,1.0,1.0,0.9999998807907104,1.0,1.0,1.0,1.0,1.0,1.0,1.0,1.0,1.0,1.0,1.0,1.0,1.0,1.0,1.0,1.0,1.0,1.0,1.0,1.0,1.0,1.0,1.0,1.0,1.0,1.0,1.0,1.0,1.0,1.0,1.0,1.0,1.0,1.0,1.0,1.0,1.0,1.0,1.0,1.0,1.0,1.0,1.0,1.0,0.9999955892562866,0.9999979734420776,1.0,1.0,1.0,1.0,1.0,1.0,1.0,0.998853325843811,1.0,0.9999995231628418,1.0,0.9999998807907104,1.0,0.9997621178627014,0.9888888001441956,1.0,1.0,1.0,1.0,1.0,1.0,1.0,1.0,1.0,1.0,1.0,1.0,1.0,1.0,1.0,1.0,1.0,1.0,1.0,1.0,1.0,1.0,1.0,1.0,1.0,1.0,1.0,1.0,1.0,1.0,1.0,1.0,1.0,1.0,1.0,1.0,1.0,1.0,1.0,1.0,1.0,1.0,1.0,1.0,1.0,1.0,1.0,1.0,1.0,1.0,1.0,1.0,1.0,1.0,1.0,1.0,1.0,1.0,1.0,1.0,1.0,1.0,1.0,1.0,1.0,1.0,1.0,1.0,1.0,0.9999998807907104,1.0,1.0,1.0,1.0,1.0,1.0,1.0,1.0,1.0,1.0,1.0,1.0,1.0,1.0,1.0,1.0,1.0,1.0,1.0,1.0,1.0,1.0,1.0,1.0,1.0,1.0,1.0,1.0,1.0,1.0,1.0,1.0,1.0,1.0,1.0,1.0,1.0,1.0,1.0,1.0,1.0,1.0,1.0,1.0,1.0,1.0,1.0,1.0,1.0,1.0,1.0,1.0,1.0,1.0,1.0,1.0,1.0,1.0,1.0,1.0,1.0,1.0,1.0,1.0,1.0,1.0,1.0,1.0,1.0,1.0,1.0,1.0,1.0,1.0,1.0,1.0,1.0,1.0,1.0,1.0,1.0,1.0,1.0,1.0,1.0,1.0,1.0,1.0,1.0,1.0,1.0,1.0,1.0,1.0,1.0,1.0,1.0,1.0,1.0,1.0,1.0,1.0,1.0,0.9999995231628418,1.0,1.0,1.0,1.0,1.0,1.0,1.0,1.0,1.0,1.0,1.0,1.0,1.0,1.0,1.0,1.0,1.0,1.0,1.0,1.0,1.0,1.0,1.0,1.0,1.0,1.0,1.0,1.0,1.0,0.999998927116394,1.0,1.0,1.0,1.0,1.0,1.0,1.0,1.0,1.0,1.0,1.0,1.0,1.0,1.0,1.0,1.0,1.0,1.0,1.0,1.0,0.9999992847442627,1.0,0.921909749507904,1.0,1.0,1.0,1.0,1.0,1.0,1.0,1.0,1.0,0.9994605183601379,1.0,1.0,1.0,1.0,1.0,1.0,1.0,1.0,1.0,1.0,1.0,1.0,1.0,1.0,1.0,0.9999967813491821,1.0,0.9999016523361206,1.0,1.0,1.0,1.0,1.0,1.0,1.0,1.0,1.0,1.0,1.0,1.0,1.0,1.0,1.0,1.0,1.0,1.0,1.0,1.0,1.0,1.0,1.0,1.0,1.0,1.0,1.0,1.0,1.0,1.0,1.0,0.9999998807907104,1.0,1.0,1.0,1.0,1.0,1.0,1.0,1.0,1.0,1.0,1.0,1.0,1.0,1.0,1.0,1.0,1.0,1.0,1.0,1.0,1.0,1.0,1.0,1.0,1.0,1.0,1.0,1.0,1.0,1.0,1.0,1.0,1.0,1.0,1.0,1.0,1.0,1.0,1.0,1.0,1.0,1.0,1.0,1.0,1.0,1.0,1.0,1.0,1.0,1.0,1.0,1.0,1.0,1.0,1.0,1.0,0.999992847442627,1.0,1.0,1.0,1.0,1.0,1.0,1.0,1.0,1.0,1.0,1.0,1.0,1.0,1.0,0.9609144330024719,1.0,1.0,1.0,1.0,1.0,0.9999972581863403,1.0,1.0,1.0,1.0,1.0,1.0,1.0,1.0,1.0,1.0,1.0,1.0,1.0,1.0,1.0,0.9999998807907104,0.9984756112098694,0.9999994039535522,1.0,0.9999958276748657,1.0,0.9984808564186096,0.9999583959579468,1.0,1.0,0.9999997615814209,1.0,1.0,1.0,1.0,0.9998520612716675,0.9999957084655762,0.5785461664199829,0.9997851252555847,1.0,0.999983549118042,0.9999833106994629,0.8014159798622131,0.9999864101409912,0.9924070239067078,1.0,1.0,1.0,1.0,1.0,1.0,1.0,1.0,1.0,1.0,1.0,1.0,1.0,0.9999998807907104,1.0,1.0,1.0,0.9999974966049194,0.9999728202819824,0.9932594895362854,0.9999270439147949,1.0,1.0,1.0,0.9956669807434082,1.0,0.9999992847442627,1.0,1.0,1.0,0.9999984502792358,1.0,1.0,1.0,1.0,1.0,1.0,1.0,1.0,0.9999998807907104,1.0,1.0,1.0,0.999993085861206,0.9999994039535522,1.0,0.8913105726242065,1.0,0.9999943971633911,0.9999996423721313,1.0,1.0,0.9992895126342773,0.9958135485649109,1.0,1.0,1.0,1.0,1.0,1.0,1.0,1.0,1.0,1.0,1.0,1.0,1.0,1.0,1.0,1.0,1.0,1.0,0.6569041609764099,1.0,1.0,1.0,1.0,1.0,1.0,1.0,1.0,1.0,1.0,0.9999840259552002,1.0,1.0,1.0,1.0,1.0,0.9999997615814209,1.0,1.0,1.0,1.0,1.0,1.0,1.0,1.0,1.0,1.0,1.0,1.0,1.0,1.0,1.0,1.0,1.0,1.0,1.0,1.0,1.0,1.0,1.0,1.0,1.0,1.0,1.0,1.0,1.0,1.0,1.0,1.0,1.0,1.0,1.0,1.0,1.0,1.0,1.0,1.0,1.0,1.0,1.0,1.0,1.0,1.0,1.0,1.0,1.0,1.0,1.0,1.0,0.9999997615814209,1.0,1.0,1.0,1.0,1.0,1.0,1.0,1.0,1.0,1.0,0.9999997615814209,1.0,1.0,1.0,1.0,1.0,1.0,1.0,1.0,1.0,1.0,1.0,1.0,1.0,1.0,1.0,1.0,0.9955573678016663,1.0,1.0,1.0,1.0,1.0,0.9248608350753784,1.0,1.0,1.0,1.0,1.0,1.0,1.0,1.0,1.0,1.0,1.0,1.0,1.0,1.0,1.0,1.0,1.0,1.0,1.0,0.9999998807907104,1.0,1.0,1.0,1.0,1.0,1.0,0.9999997615814209,0.5761879682540894,1.0,1.0,1.0,1.0,1.0,1.0,1.0,1.0,1.0,1.0,1.0,1.0,1.0,1.0,1.0,1.0,1.0,1.0,1.0,1.0,1.0,1.0,0.9999996423721313,0.9999954700469971,1.0,1.0,1.0,1.0,1.0,1.0,1.0,1.0,1.0,0.9999992847442627,1.0,1.0,1.0,1.0,1.0,1.0,1.0,1.0,1.0,1.0,1.0,1.0,1.0,1.0,1.0,1.0,1.0,1.0,1.0,1.0,1.0,1.0,0.9999998807907104,0.9999997615814209,1.0,1.0,1.0,1.0,1.0,0.9840787649154663,1.0,1.0,1.0,1.0,1.0,1.0,1.0,1.0,1.0,1.0,1.0,1.0,1.0,1.0,1.0,1.0,1.0,1.0,1.0,1.0,1.0,1.0,1.0,1.0,1.0,1.0,1.0,1.0,1.0,1.0,1.0,1.0,1.0,1.0,1.0,0.9999997615814209,1.0,1.0,1.0,1.0,1.0,1.0,1.0,1.0,1.0,1.0,0.9999082088470459,0.9999579191207886,1.0,1.0,1.0,1.0,1.0,1.0,1.0,1.0,1.0,1.0,1.0,1.0,1.0,1.0,0.9999998807907104,1.0,1.0,1.0,0.9999994039535522,1.0,1.0,1.0,1.0,0.9999974966049194,1.0,1.0,1.0,0.9999998807907104,1.0,1.0,0.9999773502349854,1.0,1.0,1.0,1.0,1.0,1.0,1.0,1.0,1.0,1.0,1.0,1.0,1.0,1.0,1.0,1.0,1.0,1.0,1.0,1.0,1.0,1.0,1.0,1.0,1.0,1.0,1.0,1.0,1.0,1.0,1.0,1.0,1.0,1.0,1.0,0.9999988079071045,1.0,1.0,1.0,1.0,1.0,1.0,1.0,1.0,1.0,1.0,1.0,1.0,1.0,1.0,1.0,1.0,1.0,1.0,1.0,1.0,1.0,1.0,1.0,1.0,1.0,1.0,1.0,1.0,1.0,1.0,1.0,1.0,1.0,1.0,1.0,1.0,1.0,1.0,1.0,1.0,1.0,1.0,1.0,1.0,1.0,1.0,1.0,1.0,1.0,1.0,1.0,1.0,1.0,1.0,1.0,1.0,1.0,1.0,1.0,1.0,0.9999997615814209,1.0,1.0,1.0,1.0,0.9999997615814209,1.0,0.9999998807907104,1.0,1.0,1.0,1.0,1.0,1.0,1.0,1.0,1.0,1.0,1.0,1.0,1.0,1.0,1.0,1.0,1.0,1.0,0.9994977712631226,1.0,1.0,1.0,1.0,1.0,1.0,1.0,1.0,1.0,1.0,1.0,1.0,1.0,1.0,1.0,1.0,1.0,1.0,1.0,1.0,1.0,1.0,1.0,1.0,1.0,1.0,1.0,1.0,1.0,1.0,1.0,1.0,1.0,1.0,1.0,1.0,1.0,1.0,1.0,0.9999992847442627,1.0,1.0,1.0,1.0,0.9999998807907104,1.0,1.0,1.0,1.0,1.0,1.0,1.0,1.0,1.0,1.0,1.0,1.0,1.0,1.0,1.0,1.0,1.0,1.0,1.0,1.0,1.0,1.0,1.0,1.0,1.0,1.0,0.9999986886978149,1.0,1.0,1.0,1.0,1.0,1.0,1.0,1.0,1.0,1.0,1.0,1.0,1.0,1.0,1.0,1.0,1.0,1.0,1.0,1.0,1.0,1.0,1.0,1.0,1.0,1.0,1.0,1.0,1.0,1.0,1.0,1.0,0.9999847412109375,1.0,1.0,1.0,1.0,1.0,1.0,1.0,1.0,1.0,1.0,1.0,1.0,1.0,1.0,1.0,1.0,1.0,1.0,1.0,1.0,1.0,1.0,1.0,1.0,0.9999980926513672,1.0,1.0,1.0,1.0,1.0,1.0,1.0,1.0,1.0,1.0,1.0,1.0,1.0,1.0,1.0,0.9999992847442627,1.0,1.0,1.0,1.0,1.0,1.0,1.0,1.0,1.0,1.0,1.0,1.0,0.9999980926513672,1.0,0.9999878406524658,1.0,1.0,1.0,1.0,1.0,0.5168142318725586,1.0,1.0,1.0,1.0,1.0,1.0,1.0,1.0,1.0,1.0,1.0,1.0,1.0,1.0,1.0,1.0,1.0,1.0,0.9999998807907104,1.0,1.0,1.0,1.0,0.9931841492652893,0.9999997615814209,1.0,1.0,1.0,1.0,1.0,1.0,1.0,1.0,1.0,1.0,1.0,1.0,1.0,1.0,1.0,1.0,1.0,0.9995284080505371,1.0,1.0,1.0,1.0,1.0,1.0,1.0,1.0,1.0,1.0,1.0,1.0,1.0,1.0,1.0,1.0,1.0,1.0,1.0,1.0,1.0,1.0,1.0,1.0,1.0,1.0,1.0,1.0,1.0,1.0,1.0,1.0,1.0,1.0,1.0,1.0,1.0,1.0,1.0,1.0,1.0,1.0,1.0,1.0,1.0,1.0,1.0,1.0,1.0,0.9999996423721313,1.0,1.0,1.0,1.0,1.0,1.0,1.0,1.0,1.0,1.0,1.0,1.0,1.0,1.0,1.0,1.0,1.0,1.0,1.0,1.0,1.0,1.0,1.0,1.0,1.0,1.0,1.0,1.0,1.0,1.0,1.0,1.0,1.0,1.0,1.0,1.0,1.0,1.0,1.0,1.0,1.0,1.0,1.0,1.0,1.0,1.0,1.0,1.0,1.0,1.0,1.0,1.0,1.0,1.0,1.0,1.0,1.0,1.0,1.0,1.0,1.0,1.0,1.0,1.0,1.0,1.0,1.0,1.0,1.0,0.999998927116394,1.0,0.9999998807907104,1.0,1.0,1.0,1.0,1.0,1.0,1.0,1.0,1.0,1.0,1.0,1.0,0.9999998807907104,1.0,1.0,1.0,1.0,1.0,1.0,0.980513870716095,1.0,1.0,1.0,1.0,1.0,1.0,1.0,1.0,1.0,1.0,1.0,0.9999986886978149,1.0,1.0,1.0,1.0,1.0,1.0,1.0,1.0,1.0,1.0,1.0,1.0,1.0,1.0,1.0,1.0,1.0,1.0,0.9999998807907104,1.0,0.999977707862854,1.0,1.0,1.0,1.0,1.0,1.0,0.9999442100524902,1.0,0.9999997615814209,1.0,1.0,1.0,1.0,1.0,1.0,1.0,0.9998397827148438,1.0,1.0,1.0,1.0,1.0,1.0,1.0,1.0,1.0,1.0,1.0,1.0,1.0,1.0,1.0,1.0,1.0,1.0,1.0,0.9999998807907104,0.9999641180038452,0.9991371035575867,1.0,1.0,0.9999974966049194,1.0,1.0,1.0,1.0,1.0,1.0,0.9999991655349731,1.0,1.0,1.0,1.0,1.0,1.0,1.0,1.0,0.9999996423721313,1.0,1.0,1.0,1.0,1.0,0.9999887943267822,1.0,1.0,1.0,1.0,1.0,1.0,0.9999970197677612,1.0,1.0,1.0,1.0,1.0,1.0,1.0,1.0,1.0,1.0,1.0,1.0,1.0,1.0,1.0,1.0,1.0,0.9999969005584717,1.0,1.0,1.0,1.0,1.0,1.0,1.0,1.0,1.0,1.0,1.0,1.0,1.0,1.0,1.0,1.0,1.0,1.0,1.0,1.0,1.0,1.0,1.0,1.0,1.0,1.0,1.0,1.0,1.0,1.0,1.0,1.0,1.0,1.0,0.9999996423721313,1.0,0.999996542930603,1.0,1.0,1.0,1.0,1.0,1.0,1.0,1.0,0.9999997615814209,1.0,1.0,1.0,1.0,0.9999959468841553,1.0,1.0,1.0,1.0,1.0,1.0,1.0,1.0,1.0,1.0,1.0,0.9999995231628418,1.0,1.0,1.0,1.0,1.0,1.0,1.0,1.0,1.0,1.0,1.0,1.0,1.0,1.0,1.0,1.0,1.0,1.0,1.0,0.9999947547912598,1.0,1.0,1.0,1.0,1.0,1.0,1.0,1.0,1.0,1.0,1.0,1.0,1.0,1.0,1.0,1.0,1.0,1.0,1.0,1.0,1.0,1.0,1.0,1.0,1.0,1.0,1.0,1.0,1.0,1.0,1.0,1.0,1.0,1.0,0.9999997615814209,1.0,1.0,1.0,1.0,1.0,1.0,1.0,1.0,1.0,1.0,1.0,1.0,1.0,1.0,1.0,1.0,1.0,1.0,1.0,1.0,1.0,1.0,1.0,1.0,1.0,1.0,1.0,1.0,1.0,1.0,0.9999992847442627,1.0,1.0,1.0,1.0,1.0,1.0,1.0,1.0,1.0,1.0,1.0,1.0,1.0,1.0,1.0,1.0,1.0,1.0,1.0,1.0,1.0,1.0,1.0,1.0,1.0,1.0,1.0,1.0,1.0,1.0,1.0,1.0,1.0,1.0,1.0,1.0,1.0,1.0,1.0,1.0,1.0,1.0,1.0,1.0,1.0,1.0,1.0,0.9999998807907104,1.0,1.0,1.0,1.0,1.0,1.0,1.0,1.0,1.0,1.0,1.0,1.0,1.0,1.0,0.9995735287666321,0.9999996423721313,1.0,1.0,1.0,1.0,1.0,1.0,1.0,1.0,1.0,1.0,1.0,1.0,1.0,1.0,1.0,1.0,1.0,1.0,1.0,1.0,1.0,1.0,1.0,1.0,1.0,1.0,1.0,1.0,1.0,1.0,1.0,1.0,1.0,1.0,1.0,0.9999997615814209,1.0,1.0,1.0,1.0,1.0,1.0,1.0,1.0,0.9999986886978149,1.0,1.0,1.0,1.0,1.0,1.0,1.0,1.0,1.0,1.0,1.0,1.0,1.0,1.0,1.0,1.0,1.0,1.0,0.9999983310699463,1.0,1.0,0.9999899864196777,1.0,1.0,1.0,1.0,1.0,1.0,1.0,1.0,1.0,1.0,1.0,1.0,1.0,1.0,1.0,1.0,1.0,1.0,1.0,0.9999814033508301,1.0,1.0,1.0,1.0,1.0,1.0,1.0,1.0,1.0,1.0,1.0,1.0,1.0,1.0,1.0,1.0,1.0,1.0,0.9997977614402771,1.0,1.0,0.9998835325241089,1.0,0.9999890327453613,1.0,0.9999998807907104,0.9999984502792358,1.0,1.0,0.9998409748077393,1.0,1.0,0.9999960660934448,0.9999997615814209,1.0,0.9999998807907104,1.0,1.0,1.0,1.0,1.0,1.0,1.0,1.0,1.0,1.0,1.0,1.0,0.9999998807907104,1.0,1.0,1.0,1.0,1.0,1.0,1.0,1.0,1.0,1.0,1.0,1.0,1.0,1.0,1.0,1.0,1.0,1.0,1.0,1.0,1.0,1.0,1.0,1.0,1.0,1.0,0.9999901056289673,0.9999971389770508,0.9999998807907104,1.0,1.0,1.0,1.0,1.0,1.0,1.0,1.0,1.0,1.0,0.9999986886978149,1.0,1.0,1.0,0.9999994039535522,1.0,0.9998730421066284,1.0,1.0,0.9928446412086487,1.0,1.0,1.0,1.0,1.0,1.0,0.9684134125709534,1.0,1.0,1.0,1.0,1.0,0.9999998807907104,1.0,1.0,1.0,1.0,1.0,1.0,1.0,1.0,1.0,1.0,0.9999997615814209,1.0,1.0,1.0,1.0,1.0,1.0,0.9999994039535522,1.0,1.0,0.9999997615814209,1.0,1.0,1.0,1.0,1.0,1.0,1.0,1.0,0.9999971389770508,1.0,1.0,1.0,1.0,1.0,1.0,0.9999440908432007,1.0,1.0,1.0,1.0,1.0,1.0,1.0,1.0,1.0,1.0,0.9999990463256836,1.0,1.0,1.0,1.0,1.0,1.0,1.0,1.0,0.9999927282333374,1.0,1.0,0.9999991655349731,1.0,1.0,1.0,1.0,1.0,1.0,1.0,1.0,1.0,1.0,1.0,1.0,1.0,1.0,1.0,1.0,1.0,1.0,1.0,1.0,1.0,0.9999998807907104,1.0,1.0,1.0,1.0,1.0,1.0,1.0,1.0,1.0,1.0,1.0,0.9999997615814209,1.0,1.0,1.0,1.0,1.0,1.0,1.0,1.0,1.0,1.0,1.0,1.0,1.0,1.0,1.0,1.0,1.0,1.0,1.0,1.0,1.0,1.0,1.0,1.0,1.0,1.0,1.0,1.0,1.0,1.0,0.9998602867126465,1.0,0.9948093891143799,1.0,1.0,1.0,0.9600194692611694,1.0,1.0,1.0,0.9999711513519287,1.0,0.9999963045120239,1.0,1.0,1.0,1.0,1.0,1.0,1.0,0.9999346733093262,1.0,0.9999994039535522,1.0,1.0,1.0,1.0,1.0,1.0,1.0,1.0,1.0,0.9999982118606567,0.9999980926513672,1.0,0.9999927282333374,0.9999996423721313,1.0,0.9999874830245972,1.0,1.0,1.0,1.0,0.9999474287033081,1.0,1.0,0.9999982118606567,0.9999644756317139,0.9999997615814209,1.0,1.0,0.9999688863754272,1.0,0.9999998807907104,1.0,1.0,1.0,1.0,1.0,1.0,1.0,1.0,1.0,1.0,1.0,1.0,1.0,1.0,1.0,0.9999854564666748,1.0,1.0,1.0,1.0,1.0,1.0,1.0,1.0,1.0,1.0,1.0,1.0,1.0,1.0,1.0,1.0,1.0,1.0,1.0,1.0,1.0,1.0,1.0,1.0,0.9999942779541016,1.0,1.0,1.0,1.0,1.0,1.0,0.999991774559021,1.0,1.0,1.0,1.0,0.9999988079071045,1.0,1.0,1.0,1.0,1.0,1.0,1.0,1.0,0.9998288154602051,1.0,1.0,1.0,1.0,1.0,1.0,1.0,1.0,1.0,1.0,1.0,1.0,1.0,1.0,1.0,1.0,1.0,1.0,1.0,1.0,1.0,1.0,1.0,1.0,1.0,1.0,1.0,1.0,1.0,1.0,1.0,1.0,1.0,1.0,1.0,1.0,1.0,1.0,1.0,1.0,1.0,1.0,1.0,1.0,1.0,1.0,1.0,1.0,1.0,1.0,1.0,1.0,1.0,0.9999983310699463,1.0,1.0,1.0,1.0,1.0,1.0,1.0,1.0,1.0,1.0,1.0,1.0,1.0,1.0,1.0,1.0,1.0,0.9999997615814209,1.0,1.0,1.0,1.0,1.0,1.0,1.0,1.0,0.9999990463256836,1.0,1.0,0.9999988079071045,1.0,1.0,1.0,1.0,1.0,1.0,1.0,1.0,1.0,1.0,1.0,1.0,1.0,1.0,0.9663987755775452,1.0,0.9999997615814209,1.0,1.0,0.9805410504341125,0.9999611377716064,1.0,1.0,1.0,0.9999996423721313,1.0,1.0,0.9999996423721313,1.0,1.0,1.0,1.0,1.0,1.0,1.0,1.0,1.0,1.0,1.0,1.0,1.0,1.0,1.0,1.0,1.0,1.0,1.0,1.0,1.0,1.0,1.0,0.9999908208847046,0.9999961853027344,1.0,1.0,1.0,0.9999998807907104,0.9999978542327881,1.0,1.0,1.0,0.9999997615814209,1.0,1.0,1.0,1.0,0.7501141428947449,0.9999973773956299,0.9999828338623047,1.0,1.0,1.0,1.0,1.0,1.0,1.0,1.0,1.0,1.0,1.0,0.9946594834327698,1.0,1.0,1.0,1.0,1.0,1.0,1.0,1.0,1.0,1.0,1.0,1.0,1.0,1.0,1.0,1.0,1.0,1.0,1.0,1.0,1.0,1.0,1.0,1.0,1.0,1.0,1.0,1.0,1.0,1.0,1.0,1.0,1.0,1.0,1.0,0.9999902248382568,0.9753814339637756,1.0,1.0,1.0,1.0,1.0,0.999984860420227,1.0,1.0,1.0,1.0,1.0,1.0,1.0,1.0,1.0,0.9999998807907104,1.0,1.0,1.0,1.0,0.998831570148468,1.0,1.0,1.0,1.0,1.0,1.0,1.0,1.0,1.0,1.0,0.943389892578125,1.0,1.0,1.0,0.9999969005584717,1.0,1.0,1.0,0.9999943971633911,1.0,1.0,1.0,1.0,1.0,1.0,1.0,1.0,1.0,1.0,1.0,1.0,1.0,1.0,1.0,1.0,1.0,1.0,1.0,1.0,1.0,1.0,0.9999998807907104,1.0,1.0,1.0,1.0,1.0,1.0,1.0,1.0,1.0,1.0,1.0,1.0,1.0,1.0,1.0,1.0,1.0,1.0,1.0,1.0,1.0,1.0,1.0,1.0,1.0,1.0,1.0,1.0,1.0,1.0,1.0,1.0,1.0,1.0,1.0,1.0,0.9999996423721313,1.0,1.0,1.0,1.0,1.0,1.0,1.0,1.0,1.0,0.9999990463256836,1.0,1.0,1.0,1.0,1.0,1.0,1.0,1.0,1.0,1.0,0.9999998807907104,1.0,1.0,1.0,1.0,1.0,1.0,1.0,1.0,1.0,1.0,0.9999996423721313,0.9999998807907104,1.0,1.0,1.0,1.0,1.0,1.0,1.0,1.0,1.0,0.9999996423721313,0.6527672410011292,0.999998927116394,1.0,1.0,1.0,1.0,1.0,0.8131445646286011,1.0,1.0,1.0,1.0,1.0,1.0,1.0,1.0,1.0,1.0,1.0,1.0,1.0,1.0,1.0,1.0,1.0,1.0,1.0,1.0,1.0,1.0,1.0,1.0,1.0,1.0,1.0,1.0,1.0,1.0,1.0,1.0,1.0,1.0,1.0,1.0,1.0,1.0,1.0,1.0,1.0,1.0,1.0,1.0,1.0,1.0,1.0,1.0,1.0,1.0,1.0,1.0,1.0,1.0,1.0,1.0,1.0,1.0,1.0,1.0,1.0,1.0,1.0,0.9999998807907104,1.0,1.0,1.0,1.0,1.0,1.0,1.0,1.0,1.0,1.0,1.0,1.0,1.0,1.0,1.0,1.0,1.0,1.0,1.0,1.0,1.0,1.0,1.0,1.0,1.0,1.0,1.0,1.0,1.0,1.0,1.0,1.0,1.0,1.0,1.0,1.0,1.0,1.0,1.0,1.0,1.0,1.0,1.0,1.0,1.0,1.0,1.0,1.0,1.0,1.0,1.0,1.0,1.0,1.0,1.0,1.0,1.0,1.0,1.0,1.0,1.0,1.0,1.0,1.0,1.0,1.0,1.0,1.0,1.0,1.0,1.0,1.0,1.0,1.0,1.0,1.0,1.0,1.0,1.0,1.0,1.0,1.0,1.0,1.0,1.0,1.0,1.0,1.0,1.0,1.0,1.0,1.0,1.0,1.0,1.0,1.0,1.0,1.0,1.0,1.0,1.0,1.0,1.0,1.0,1.0,1.0,1.0,1.0,1.0,1.0,1.0,1.0,1.0,1.0,1.0,1.0,1.0,1.0,1.0,1.0,1.0,1.0,1.0,1.0,1.0,1.0,1.0,1.0,1.0,1.0,1.0,1.0,1.0,1.0,1.0,0.9999998807907104,1.0,1.0,1.0,1.0,1.0,1.0,1.0,1.0,1.0,1.0,1.0,1.0,1.0,1.0,0.9999995231628418,1.0,1.0,1.0,1.0,1.0,1.0,1.0,1.0,1.0,1.0,1.0,1.0,1.0,1.0,1.0,1.0,1.0,1.0,1.0,1.0,1.0,1.0,1.0,1.0,1.0,1.0,1.0,1.0,1.0,1.0,1.0,1.0,1.0,1.0,1.0,1.0,1.0,1.0,1.0,1.0,1.0,1.0,1.0,1.0,1.0,1.0,1.0,1.0,1.0,1.0,1.0,1.0,1.0,1.0,1.0,1.0,1.0,1.0,1.0,1.0,1.0,1.0,1.0,0.9999983310699463,1.0,1.0,1.0,1.0,1.0,1.0,1.0,1.0,1.0,1.0,1.0,1.0,1.0,1.0,1.0,1.0,1.0,1.0,1.0,1.0,1.0,1.0,1.0,1.0,1.0,1.0,1.0,1.0,1.0,1.0,1.0,1.0,1.0,1.0,1.0,1.0,1.0,1.0,1.0,1.0,1.0,1.0,0.9999994039535522,1.0,1.0,1.0,1.0,1.0,1.0,1.0,1.0,1.0,1.0,1.0,1.0,1.0,1.0,1.0,1.0,1.0,1.0,1.0,1.0,1.0,1.0,1.0,1.0,1.0,1.0,1.0,1.0,1.0,1.0,1.0,1.0,0.999997615814209,1.0,1.0,1.0,1.0,1.0,1.0,1.0,1.0,1.0,1.0,1.0,1.0,1.0,1.0,1.0,1.0,1.0,1.0,1.0,1.0,1.0,1.0,1.0,1.0,1.0,1.0,1.0,1.0,1.0,1.0,1.0,1.0,1.0,1.0,1.0,1.0,1.0,1.0,1.0,1.0,1.0,1.0,1.0,1.0,1.0,1.0,1.0,1.0,1.0,1.0,1.0,1.0,1.0,1.0,1.0,1.0,1.0,1.0,1.0,1.0,1.0,1.0,1.0,1.0,1.0,1.0,1.0,1.0,1.0,1.0,1.0,1.0,1.0,1.0,1.0,1.0,1.0,1.0,1.0,1.0,0.9999998807907104,1.0,1.0,1.0,1.0,1.0,1.0,1.0,1.0,1.0,1.0,1.0,1.0,1.0,1.0,1.0,1.0,1.0,1.0,1.0,1.0,1.0,1.0,1.0,1.0,1.0,1.0,1.0,1.0,1.0,1.0,1.0,1.0,1.0,1.0,1.0,1.0,1.0,1.0,1.0,1.0,1.0,1.0,1.0,1.0,1.0,0.9998998641967773,1.0,1.0,0.9999996423721313,1.0,0.9999818801879883,0.9962913990020752,0.9995492100715637,1.0,1.0,1.0,1.0,1.0,1.0,1.0,1.0,0.9998102784156799,1.0,1.0,1.0,1.0,1.0,1.0,1.0,1.0,1.0,1.0,0.9999998807907104,1.0,1.0,1.0,0.9999998807907104,1.0,1.0,0.9999998807907104,1.0,1.0,1.0,1.0,1.0,1.0,1.0,0.9999934434890747,1.0,1.0,0.9999939203262329,1.0,1.0,1.0,1.0,1.0,1.0,1.0,1.0,1.0,1.0,1.0,1.0,1.0,1.0,0.9999998807907104,1.0,0.9998502731323242,1.0,1.0,1.0,1.0,1.0,1.0,1.0,1.0,1.0,1.0,1.0,1.0,1.0,1.0,1.0,1.0,1.0,1.0,1.0,1.0,1.0,1.0,1.0,1.0,1.0,1.0,1.0,1.0,1.0,1.0,1.0,1.0,1.0,1.0,1.0,1.0,1.0,1.0,0.9999169111251831,1.0,1.0,1.0,1.0,1.0,1.0,1.0,1.0,1.0,1.0,1.0,1.0,1.0,1.0,1.0,1.0,1.0,1.0,1.0,1.0,1.0,1.0,1.0,1.0,1.0,1.0,1.0,1.0,1.0,1.0,1.0,1.0,1.0,1.0,1.0,1.0,1.0,1.0,1.0,1.0,1.0,1.0,1.0,1.0,1.0,1.0,1.0,0.9344205260276794,1.0,1.0,1.0,1.0,1.0,1.0,1.0,1.0,1.0,1.0,1.0,1.0,1.0,1.0,1.0,1.0,1.0,1.0,1.0,1.0,1.0,1.0,1.0,1.0,1.0,1.0,1.0,1.0,1.0,1.0,1.0,1.0,1.0,1.0,1.0,1.0,1.0,1.0,1.0,1.0,1.0,1.0,1.0,1.0,1.0,1.0,1.0,1.0,1.0,1.0,1.0,1.0,1.0,1.0,1.0,0.9999995231628418,1.0,1.0,1.0,1.0,1.0,1.0,1.0,1.0,1.0,1.0,1.0,1.0,1.0,1.0,1.0,1.0,1.0,1.0,1.0,1.0,1.0,1.0,1.0,1.0,1.0,1.0,1.0,1.0,1.0,1.0,1.0,1.0,1.0,1.0,1.0,1.0,1.0,1.0,1.0,1.0,1.0,1.0,1.0,1.0,1.0,1.0,1.0,1.0,1.0,1.0,1.0,1.0,1.0,1.0,1.0,1.0,1.0,1.0,1.0,1.0,1.0,1.0,1.0,1.0,1.0,0.9999970197677612,1.0,1.0,1.0,1.0,1.0,1.0,1.0,1.0,1.0,1.0,1.0,1.0,1.0,1.0,1.0,1.0,1.0,1.0,1.0,1.0,1.0,1.0,1.0,1.0,1.0,1.0,1.0,1.0,1.0,1.0,1.0,1.0,1.0,1.0,1.0,0.9999983310699463,1.0,1.0,1.0,1.0,1.0,1.0,1.0,1.0,1.0,1.0,1.0,1.0,1.0,1.0,1.0,1.0,1.0,1.0,1.0,1.0,1.0,1.0,1.0,1.0,1.0,1.0,1.0,1.0,1.0,1.0,1.0,1.0,1.0,1.0,1.0,1.0,1.0,1.0,1.0,1.0,1.0,1.0,1.0,1.0,1.0,1.0,1.0,1.0,1.0,1.0,1.0,1.0,0.999786913394928,1.0,1.0,1.0,1.0,1.0,1.0,1.0,1.0,1.0,1.0,1.0,1.0,0.9999936819076538,1.0,1.0,0.999962568283081,1.0,1.0,1.0,1.0,1.0,1.0,1.0,1.0,1.0,1.0,1.0,1.0,1.0,1.0,1.0,1.0,1.0,1.0,1.0,1.0,1.0,1.0,1.0,1.0,1.0,1.0,1.0,0.9999994039535522,1.0,1.0,1.0,1.0,1.0,1.0,1.0,1.0,0.9999752044677734,0.9999423027038574,1.0,1.0,0.9999998807907104,1.0,1.0,1.0,1.0,1.0,1.0,0.9999830722808838,1.0,1.0,1.0,1.0,1.0,1.0,1.0,1.0,1.0,1.0,1.0,1.0,0.9999998807907104,1.0,1.0,1.0,1.0,1.0,1.0,1.0,1.0,1.0,0.9999998807907104,1.0,1.0,1.0,1.0,1.0,1.0,1.0,1.0,1.0,1.0,1.0,1.0,1.0,1.0,1.0,1.0,1.0,1.0,1.0,1.0,0.9999998807907104,1.0,1.0,1.0,1.0,1.0,1.0,1.0,1.0,1.0,1.0,1.0,1.0,1.0,1.0,0.9997194409370422,1.0,1.0,1.0,1.0,0.9999988079071045,1.0,1.0,1.0,0.9999986886978149,1.0,1.0,1.0,1.0,1.0,1.0,1.0,1.0,1.0,1.0,1.0,1.0,1.0,1.0,1.0,0.9999465942382812,1.0,1.0,1.0,1.0,1.0,1.0,1.0,1.0,1.0,1.0,1.0,1.0,0.9999035596847534,1.0,1.0,1.0,1.0,1.0,1.0,1.0,0.9999988079071045,1.0,0.9539478421211243,1.0,1.0,1.0,1.0,1.0,1.0,1.0,1.0,1.0,1.0,1.0,1.0,1.0,0.999998927116394,1.0,1.0,1.0,1.0,1.0,1.0,1.0,1.0,1.0,1.0,1.0,1.0,1.0,1.0,1.0,1.0,1.0,1.0,1.0,1.0,1.0,1.0,1.0,1.0,1.0,1.0,1.0,1.0,1.0,1.0,1.0,1.0,0.99642413854599,1.0,1.0,1.0,1.0,1.0,1.0,1.0,1.0,0.9998219609260559,1.0,1.0,0.9999992847442627,1.0,1.0,1.0,1.0,1.0,1.0,1.0,1.0,1.0,1.0,0.9999978542327881,1.0,1.0,0.9987348914146423,1.0,1.0,1.0,1.0,1.0,1.0,0.9604676365852356,1.0,1.0,0.9999995231628418,1.0,0.9999959468841553,1.0,1.0,0.9999998807907104,1.0,1.0,1.0,1.0,1.0,0.7702504396438599,1.0,1.0,0.9999997615814209,0.7057129740715027,1.0,1.0,0.9999991655349731,0.9977072477340698,0.9999315738677979,1.0,0.9999998807907104,1.0,1.0,1.0,1.0,1.0,1.0,1.0,0.9999982118606567,1.0,1.0,1.0,1.0,1.0,1.0,1.0,1.0,1.0,0.9999765157699585,0.517352283000946,1.0,1.0,1.0,1.0,0.999771773815155,1.0,1.0,0.9999979734420776,1.0,1.0,1.0,0.9999994039535522,0.9999953508377075,1.0,0.9883995056152344,1.0,1.0,1.0,1.0,1.0,1.0,0.9999868869781494,0.9999998807907104,1.0,1.0,1.0,1.0,0.9843618869781494,1.0,1.0,1.0,0.9999998807907104,1.0,0.9998514652252197,1.0,0.9999998807907104,1.0,1.0,1.0,1.0,1.0,1.0,1.0,1.0,1.0,0.9999997615814209,1.0,0.999998927116394,1.0,1.0,1.0,1.0,1.0,1.0,1.0,0.9999996423721313,1.0,1.0,1.0,1.0,1.0,1.0,1.0,1.0,0.9999992847442627,0.9999992847442627,1.0,1.0,0.9999727010726929,1.0,0.9992477893829346,0.9999831914901733,1.0,1.0,1.0,1.0,0.9999953508377075,1.0,1.0,1.0,1.0,1.0,1.0,1.0,1.0,1.0,1.0,1.0,1.0,1.0,0.9999959468841553,1.0,1.0,1.0,1.0,1.0,1.0,1.0,1.0,1.0,1.0,1.0,1.0,1.0,1.0,0.9986201524734497,1.0,1.0,1.0,1.0,1.0,1.0,1.0,1.0,0.9999998807907104,1.0,1.0,0.9961857199668884,1.0,1.0,1.0,1.0,1.0,1.0,1.0,1.0,1.0,0.6621673703193665,0.9999312162399292,1.0,1.0,1.0,1.0,1.0,1.0,1.0,1.0,1.0,1.0,1.0,1.0,1.0,1.0,0.9999998807907104,1.0,1.0,0.9999964237213135,1.0,1.0,1.0,1.0,1.0,1.0,1.0,1.0,1.0,1.0,1.0,1.0,1.0,1.0,1.0,1.0,0.9999953508377075,1.0,1.0,1.0,1.0,1.0,1.0,1.0,1.0,1.0,1.0,0.9221515655517578,1.0,1.0,1.0,1.0,1.0,1.0,1.0,1.0,1.0,1.0,0.9999303817749023,1.0,1.0,1.0,1.0,1.0,0.9960002303123474,1.0,0.9999988079071045,1.0,1.0,1.0,1.0,0.9999995231628418,0.9999998807907104,1.0,1.0,1.0,1.0,1.0,1.0,1.0,1.0,1.0,0.9999998807907104,1.0,1.0,1.0,1.0,0.9991118311882019,1.0,1.0,1.0,0.9999994039535522,0.9999798536300659,1.0,1.0,0.9999998807907104,0.9998661279678345,1.0,1.0,0.99989914894104,0.9999997615814209,1.0,1.0,1.0,1.0,1.0,1.0,1.0,1.0,1.0,1.0,1.0,0.9963537454605103,0.9956730008125305,0.9989055395126343,1.0,1.0,1.0,1.0,1.0,1.0,1.0,1.0,1.0,1.0,1.0,1.0,1.0,1.0,1.0,0.9999890327453613,1.0,1.0,1.0,1.0,1.0,1.0,1.0,1.0,1.0,1.0,1.0,1.0,1.0,1.0,1.0,1.0,1.0,0.9999997615814209,1.0,1.0,1.0,1.0,1.0,1.0,1.0,1.0,1.0,1.0,1.0,1.0,1.0,1.0,1.0,1.0,1.0,1.0,1.0,1.0,1.0,1.0,1.0,1.0,1.0,1.0,1.0,1.0,1.0,1.0,1.0,1.0,1.0,1.0,1.0,0.999998927116394,1.0,1.0,1.0,1.0,1.0,0.9997463822364807,1.0,1.0,1.0,1.0,1.0,1.0,1.0,0.9999998807907104,1.0,1.0,1.0,1.0,1.0,1.0,1.0,1.0,1.0],\"xbins\":{\"end\":1.0,\"size\":0.1,\"start\":0.0},\"type\":\"histogram\"},{\"line\":{\"color\":\"green\",\"dash\":\"dash\",\"width\":5},\"mode\":\"lines\",\"name\":\"avg conf: 0.998\",\"x\":[0.9976787574261426,0.9976787574261426],\"y\":[0,9928],\"type\":\"scatter\"},{\"line\":{\"color\":\"black\",\"dash\":\"solid\",\"width\":5},\"mode\":\"lines\",\"name\":\"avg acc: 0.9914\",\"x\":[0.9914,0.9914],\"y\":[0,9928],\"type\":\"scatter\"}],                        {\"template\":{\"data\":{\"histogram2dcontour\":[{\"type\":\"histogram2dcontour\",\"colorbar\":{\"outlinewidth\":0,\"ticks\":\"\"},\"colorscale\":[[0.0,\"#0d0887\"],[0.1111111111111111,\"#46039f\"],[0.2222222222222222,\"#7201a8\"],[0.3333333333333333,\"#9c179e\"],[0.4444444444444444,\"#bd3786\"],[0.5555555555555556,\"#d8576b\"],[0.6666666666666666,\"#ed7953\"],[0.7777777777777778,\"#fb9f3a\"],[0.8888888888888888,\"#fdca26\"],[1.0,\"#f0f921\"]]}],\"choropleth\":[{\"type\":\"choropleth\",\"colorbar\":{\"outlinewidth\":0,\"ticks\":\"\"}}],\"histogram2d\":[{\"type\":\"histogram2d\",\"colorbar\":{\"outlinewidth\":0,\"ticks\":\"\"},\"colorscale\":[[0.0,\"#0d0887\"],[0.1111111111111111,\"#46039f\"],[0.2222222222222222,\"#7201a8\"],[0.3333333333333333,\"#9c179e\"],[0.4444444444444444,\"#bd3786\"],[0.5555555555555556,\"#d8576b\"],[0.6666666666666666,\"#ed7953\"],[0.7777777777777778,\"#fb9f3a\"],[0.8888888888888888,\"#fdca26\"],[1.0,\"#f0f921\"]]}],\"heatmap\":[{\"type\":\"heatmap\",\"colorbar\":{\"outlinewidth\":0,\"ticks\":\"\"},\"colorscale\":[[0.0,\"#0d0887\"],[0.1111111111111111,\"#46039f\"],[0.2222222222222222,\"#7201a8\"],[0.3333333333333333,\"#9c179e\"],[0.4444444444444444,\"#bd3786\"],[0.5555555555555556,\"#d8576b\"],[0.6666666666666666,\"#ed7953\"],[0.7777777777777778,\"#fb9f3a\"],[0.8888888888888888,\"#fdca26\"],[1.0,\"#f0f921\"]]}],\"heatmapgl\":[{\"type\":\"heatmapgl\",\"colorbar\":{\"outlinewidth\":0,\"ticks\":\"\"},\"colorscale\":[[0.0,\"#0d0887\"],[0.1111111111111111,\"#46039f\"],[0.2222222222222222,\"#7201a8\"],[0.3333333333333333,\"#9c179e\"],[0.4444444444444444,\"#bd3786\"],[0.5555555555555556,\"#d8576b\"],[0.6666666666666666,\"#ed7953\"],[0.7777777777777778,\"#fb9f3a\"],[0.8888888888888888,\"#fdca26\"],[1.0,\"#f0f921\"]]}],\"contourcarpet\":[{\"type\":\"contourcarpet\",\"colorbar\":{\"outlinewidth\":0,\"ticks\":\"\"}}],\"contour\":[{\"type\":\"contour\",\"colorbar\":{\"outlinewidth\":0,\"ticks\":\"\"},\"colorscale\":[[0.0,\"#0d0887\"],[0.1111111111111111,\"#46039f\"],[0.2222222222222222,\"#7201a8\"],[0.3333333333333333,\"#9c179e\"],[0.4444444444444444,\"#bd3786\"],[0.5555555555555556,\"#d8576b\"],[0.6666666666666666,\"#ed7953\"],[0.7777777777777778,\"#fb9f3a\"],[0.8888888888888888,\"#fdca26\"],[1.0,\"#f0f921\"]]}],\"surface\":[{\"type\":\"surface\",\"colorbar\":{\"outlinewidth\":0,\"ticks\":\"\"},\"colorscale\":[[0.0,\"#0d0887\"],[0.1111111111111111,\"#46039f\"],[0.2222222222222222,\"#7201a8\"],[0.3333333333333333,\"#9c179e\"],[0.4444444444444444,\"#bd3786\"],[0.5555555555555556,\"#d8576b\"],[0.6666666666666666,\"#ed7953\"],[0.7777777777777778,\"#fb9f3a\"],[0.8888888888888888,\"#fdca26\"],[1.0,\"#f0f921\"]]}],\"mesh3d\":[{\"type\":\"mesh3d\",\"colorbar\":{\"outlinewidth\":0,\"ticks\":\"\"}}],\"scatter\":[{\"fillpattern\":{\"fillmode\":\"overlay\",\"size\":10,\"solidity\":0.2},\"type\":\"scatter\"}],\"parcoords\":[{\"type\":\"parcoords\",\"line\":{\"colorbar\":{\"outlinewidth\":0,\"ticks\":\"\"}}}],\"scatterpolargl\":[{\"type\":\"scatterpolargl\",\"marker\":{\"colorbar\":{\"outlinewidth\":0,\"ticks\":\"\"}}}],\"bar\":[{\"error_x\":{\"color\":\"#2a3f5f\"},\"error_y\":{\"color\":\"#2a3f5f\"},\"marker\":{\"line\":{\"color\":\"#E5ECF6\",\"width\":0.5},\"pattern\":{\"fillmode\":\"overlay\",\"size\":10,\"solidity\":0.2}},\"type\":\"bar\"}],\"scattergeo\":[{\"type\":\"scattergeo\",\"marker\":{\"colorbar\":{\"outlinewidth\":0,\"ticks\":\"\"}}}],\"scatterpolar\":[{\"type\":\"scatterpolar\",\"marker\":{\"colorbar\":{\"outlinewidth\":0,\"ticks\":\"\"}}}],\"histogram\":[{\"marker\":{\"pattern\":{\"fillmode\":\"overlay\",\"size\":10,\"solidity\":0.2}},\"type\":\"histogram\"}],\"scattergl\":[{\"type\":\"scattergl\",\"marker\":{\"colorbar\":{\"outlinewidth\":0,\"ticks\":\"\"}}}],\"scatter3d\":[{\"type\":\"scatter3d\",\"line\":{\"colorbar\":{\"outlinewidth\":0,\"ticks\":\"\"}},\"marker\":{\"colorbar\":{\"outlinewidth\":0,\"ticks\":\"\"}}}],\"scattermapbox\":[{\"type\":\"scattermapbox\",\"marker\":{\"colorbar\":{\"outlinewidth\":0,\"ticks\":\"\"}}}],\"scatterternary\":[{\"type\":\"scatterternary\",\"marker\":{\"colorbar\":{\"outlinewidth\":0,\"ticks\":\"\"}}}],\"scattercarpet\":[{\"type\":\"scattercarpet\",\"marker\":{\"colorbar\":{\"outlinewidth\":0,\"ticks\":\"\"}}}],\"carpet\":[{\"aaxis\":{\"endlinecolor\":\"#2a3f5f\",\"gridcolor\":\"white\",\"linecolor\":\"white\",\"minorgridcolor\":\"white\",\"startlinecolor\":\"#2a3f5f\"},\"baxis\":{\"endlinecolor\":\"#2a3f5f\",\"gridcolor\":\"white\",\"linecolor\":\"white\",\"minorgridcolor\":\"white\",\"startlinecolor\":\"#2a3f5f\"},\"type\":\"carpet\"}],\"table\":[{\"cells\":{\"fill\":{\"color\":\"#EBF0F8\"},\"line\":{\"color\":\"white\"}},\"header\":{\"fill\":{\"color\":\"#C8D4E3\"},\"line\":{\"color\":\"white\"}},\"type\":\"table\"}],\"barpolar\":[{\"marker\":{\"line\":{\"color\":\"#E5ECF6\",\"width\":0.5},\"pattern\":{\"fillmode\":\"overlay\",\"size\":10,\"solidity\":0.2}},\"type\":\"barpolar\"}],\"pie\":[{\"automargin\":true,\"type\":\"pie\"}]},\"layout\":{\"autotypenumbers\":\"strict\",\"colorway\":[\"#636efa\",\"#EF553B\",\"#00cc96\",\"#ab63fa\",\"#FFA15A\",\"#19d3f3\",\"#FF6692\",\"#B6E880\",\"#FF97FF\",\"#FECB52\"],\"font\":{\"color\":\"#2a3f5f\"},\"hovermode\":\"closest\",\"hoverlabel\":{\"align\":\"left\"},\"paper_bgcolor\":\"white\",\"plot_bgcolor\":\"#E5ECF6\",\"polar\":{\"bgcolor\":\"#E5ECF6\",\"angularaxis\":{\"gridcolor\":\"white\",\"linecolor\":\"white\",\"ticks\":\"\"},\"radialaxis\":{\"gridcolor\":\"white\",\"linecolor\":\"white\",\"ticks\":\"\"}},\"ternary\":{\"bgcolor\":\"#E5ECF6\",\"aaxis\":{\"gridcolor\":\"white\",\"linecolor\":\"white\",\"ticks\":\"\"},\"baxis\":{\"gridcolor\":\"white\",\"linecolor\":\"white\",\"ticks\":\"\"},\"caxis\":{\"gridcolor\":\"white\",\"linecolor\":\"white\",\"ticks\":\"\"}},\"coloraxis\":{\"colorbar\":{\"outlinewidth\":0,\"ticks\":\"\"}},\"colorscale\":{\"sequential\":[[0.0,\"#0d0887\"],[0.1111111111111111,\"#46039f\"],[0.2222222222222222,\"#7201a8\"],[0.3333333333333333,\"#9c179e\"],[0.4444444444444444,\"#bd3786\"],[0.5555555555555556,\"#d8576b\"],[0.6666666666666666,\"#ed7953\"],[0.7777777777777778,\"#fb9f3a\"],[0.8888888888888888,\"#fdca26\"],[1.0,\"#f0f921\"]],\"sequentialminus\":[[0.0,\"#0d0887\"],[0.1111111111111111,\"#46039f\"],[0.2222222222222222,\"#7201a8\"],[0.3333333333333333,\"#9c179e\"],[0.4444444444444444,\"#bd3786\"],[0.5555555555555556,\"#d8576b\"],[0.6666666666666666,\"#ed7953\"],[0.7777777777777778,\"#fb9f3a\"],[0.8888888888888888,\"#fdca26\"],[1.0,\"#f0f921\"]],\"diverging\":[[0,\"#8e0152\"],[0.1,\"#c51b7d\"],[0.2,\"#de77ae\"],[0.3,\"#f1b6da\"],[0.4,\"#fde0ef\"],[0.5,\"#f7f7f7\"],[0.6,\"#e6f5d0\"],[0.7,\"#b8e186\"],[0.8,\"#7fbc41\"],[0.9,\"#4d9221\"],[1,\"#276419\"]]},\"xaxis\":{\"gridcolor\":\"white\",\"linecolor\":\"white\",\"ticks\":\"\",\"title\":{\"standoff\":15},\"zerolinecolor\":\"white\",\"automargin\":true,\"zerolinewidth\":2},\"yaxis\":{\"gridcolor\":\"white\",\"linecolor\":\"white\",\"ticks\":\"\",\"title\":{\"standoff\":15},\"zerolinecolor\":\"white\",\"automargin\":true,\"zerolinewidth\":2},\"scene\":{\"xaxis\":{\"backgroundcolor\":\"#E5ECF6\",\"gridcolor\":\"white\",\"linecolor\":\"white\",\"showbackground\":true,\"ticks\":\"\",\"zerolinecolor\":\"white\",\"gridwidth\":2},\"yaxis\":{\"backgroundcolor\":\"#E5ECF6\",\"gridcolor\":\"white\",\"linecolor\":\"white\",\"showbackground\":true,\"ticks\":\"\",\"zerolinecolor\":\"white\",\"gridwidth\":2},\"zaxis\":{\"backgroundcolor\":\"#E5ECF6\",\"gridcolor\":\"white\",\"linecolor\":\"white\",\"showbackground\":true,\"ticks\":\"\",\"zerolinecolor\":\"white\",\"gridwidth\":2}},\"shapedefaults\":{\"line\":{\"color\":\"#2a3f5f\"}},\"annotationdefaults\":{\"arrowcolor\":\"#2a3f5f\",\"arrowhead\":0,\"arrowwidth\":1},\"geo\":{\"bgcolor\":\"white\",\"landcolor\":\"#E5ECF6\",\"subunitcolor\":\"white\",\"showland\":true,\"showlakes\":true,\"lakecolor\":\"white\"},\"title\":{\"x\":0.05},\"mapbox\":{\"style\":\"light\"}}},\"title\":{\"text\":\"Histogram\"},\"xaxis\":{\"title\":{\"text\":\"predicted_confidence\"}},\"yaxis\":{\"title\":{\"text\":\"num_samples\"}}},                        {\"responsive\": true}                    ).then(function(){\n",
       "                            \n",
       "var gd = document.getElementById('ab95e538-1949-4a1f-9b79-d0f450fe1c91');\n",
       "var x = new MutationObserver(function (mutations, observer) {{\n",
       "        var display = window.getComputedStyle(gd).display;\n",
       "        if (!display || display === 'none') {{\n",
       "            console.log([gd, 'removed!']);\n",
       "            Plotly.purge(gd);\n",
       "            observer.disconnect();\n",
       "        }}\n",
       "}});\n",
       "\n",
       "// Listen for the removal of the full notebook cells\n",
       "var notebookContainer = gd.closest('#notebook-container');\n",
       "if (notebookContainer) {{\n",
       "    x.observe(notebookContainer, {childList: true});\n",
       "}}\n",
       "\n",
       "// Listen for the clearing of the current output cell\n",
       "var outputEl = gd.closest('.output');\n",
       "if (outputEl) {{\n",
       "    x.observe(outputEl, {childList: true});\n",
       "}}\n",
       "\n",
       "                        })                };                });            </script>        </div>"
      ]
     },
     "metadata": {},
     "output_type": "display_data"
    }
   ],
   "source": [
    "import os\n",
    "plot_single_calibration_curves(scores,confidences,calib_curve_name=\"reliability_diagram\",hist_name=\"histogram\")"
   ]
  },
  {
   "cell_type": "code",
   "execution_count": 37,
   "id": "70c3155e",
   "metadata": {},
   "outputs": [],
   "source": [
    "    true_labels = test_labels\n",
    "    num_bins = 10\n",
    "    assert len(confidences) == len(pred_labels)\n",
    "    assert len(confidences) == len(true_labels)\n",
    "    assert num_bins > 0"
   ]
  },
  {
   "cell_type": "code",
   "execution_count": 38,
   "id": "9481500a",
   "metadata": {},
   "outputs": [],
   "source": [
    "    bin_size = 1.0 / num_bins\n",
    "    bins = np.linspace(0.0, 1.0, num_bins + 1)\n",
    "    indices = np.digitize(confidences, bins, right=True)"
   ]
  },
  {
   "cell_type": "code",
   "execution_count": 40,
   "id": "c16fbf56",
   "metadata": {},
   "outputs": [
    {
     "data": {
      "text/plain": [
       "(0.1, array([0. , 0.1, 0.2, 0.3, 0.4, 0.5, 0.6, 0.7, 0.8, 0.9, 1. ]))"
      ]
     },
     "execution_count": 40,
     "metadata": {},
     "output_type": "execute_result"
    }
   ],
   "source": [
    "bin_size, bins"
   ]
  },
  {
   "cell_type": "code",
   "execution_count": 47,
   "id": "118248b2",
   "metadata": {},
   "outputs": [
    {
     "data": {
      "text/plain": [
       "(array([10, 10, 10, 10, 10, 10, 10, 10, 10, 10, 10, 10, 10, 10, 10, 10, 10,\n",
       "        10,  6, 10], dtype=int64),\n",
       " array([1.        , 1.        , 1.        , 1.        , 0.9999087 ,\n",
       "        1.        , 0.9999982 , 1.        , 0.99884367, 0.999982  ,\n",
       "        1.        , 1.        , 0.9999963 , 1.        , 1.        ,\n",
       "        1.        , 1.        , 1.        , 0.56444937, 1.        ],\n",
       "       dtype=float32))"
      ]
     },
     "execution_count": 47,
     "metadata": {},
     "output_type": "execute_result"
    }
   ],
   "source": [
    "indices[0:20], confidences[0:20]"
   ]
  },
  {
   "cell_type": "code",
   "execution_count": 52,
   "id": "1528e39e",
   "metadata": {},
   "outputs": [],
   "source": [
    "b=5\n",
    "selected = np.where(indices == b + 1)[0]"
   ]
  },
  {
   "cell_type": "code",
   "execution_count": 53,
   "id": "be3c69d8",
   "metadata": {},
   "outputs": [
    {
     "data": {
      "text/plain": [
       "array([  18,  448,  726, 1033, 1299, 1393, 1681, 1717, 1982, 2720, 3005,\n",
       "       3060, 3129, 3225, 3236, 4007, 4699, 4860, 5331, 5600, 5634, 6651,\n",
       "       9015, 9158, 9642, 9839], dtype=int64)"
      ]
     },
     "execution_count": 53,
     "metadata": {},
     "output_type": "execute_result"
    }
   ],
   "source": [
    "selected"
   ]
  },
  {
   "cell_type": "code",
   "execution_count": 2,
   "id": "78f6afaa",
   "metadata": {},
   "outputs": [],
   "source": [
    "#! pip install uncertainty_toolbox"
   ]
  },
  {
   "cell_type": "code",
   "execution_count": 3,
   "id": "ee66ba1f",
   "metadata": {},
   "outputs": [],
   "source": [
    "import uncertainty_toolbox.viz as uvi"
   ]
  },
  {
   "cell_type": "code",
   "execution_count": 4,
   "id": "5a3072b0",
   "metadata": {},
   "outputs": [],
   "source": [
    "def compute_calibration(true_labels, pred_labels, confidences, num_bins=10):\n",
    "    \"\"\"Collects predictions into bins used to draw a reliability diagram.\n",
    "    function taken from : https://github.com/hollance/reliability-diagrams/blob/master/reliability_diagrams.py\n",
    "    Arguments:\n",
    "        true_labels: the true labels for the test examples\n",
    "        pred_labels: the predicted labels for the test examples\n",
    "        confidences: the predicted confidences for the test examples\n",
    "        num_bins: number of bins\n",
    "    The true_labels, pred_labels, confidences arguments must be NumPy arrays;\n",
    "    pred_labels and true_labels may contain numeric or string labels.\n",
    "    For a multi-class model, the predicted label and confidence should be those\n",
    "    of the highest scoring class.\n",
    "    Returns a dictionary containing the following NumPy arrays:\n",
    "        accuracies: the average accuracy for each bin\n",
    "        confidences: the average confidence for each bin\n",
    "        counts: the number of examples in each bin\n",
    "        bins: the confidence thresholds for each bin\n",
    "        avg_accuracy: the accuracy over the entire test set\n",
    "        avg_confidence: the average confidence over the entire test set\n",
    "        expected_calibration_error: a weighted average of all calibration gaps\n",
    "        max_calibration_error: the largest calibration gap across all bins\n",
    "    \"\"\"\n",
    "    assert len(confidences) == len(pred_labels)\n",
    "    assert len(confidences) == len(true_labels)\n",
    "    assert num_bins > 0\n",
    "\n",
    "    bin_size = 1.0 / num_bins\n",
    "    bins = np.linspace(0.0, 1.0, num_bins + 1)\n",
    "    indices = np.digitize(confidences, bins, right=True)\n",
    "\n",
    "    bin_accuracies = np.zeros(num_bins, dtype=np.float)\n",
    "    bin_confidences = np.zeros(num_bins, dtype=np.float)\n",
    "    bin_counts = np.zeros(num_bins, dtype=np.int)\n",
    "\n",
    "    for b in range(num_bins):\n",
    "        selected = np.where(indices == b + 1)[0]\n",
    "        if len(selected) > 0:\n",
    "            bin_accuracies[b] = np.mean(true_labels[selected] == pred_labels[selected])\n",
    "            bin_confidences[b] = np.mean(confidences[selected])\n",
    "            bin_counts[b] = len(selected)\n",
    "\n",
    "    avg_acc = np.sum(bin_accuracies * bin_counts) / np.sum(bin_counts)\n",
    "    avg_conf = np.sum(bin_confidences * bin_counts) / np.sum(bin_counts)\n",
    "\n",
    "    gaps = np.abs(bin_accuracies - bin_confidences)\n",
    "    ece = np.sum(gaps * bin_counts) / np.sum(bin_counts)\n",
    "    mce = np.max(gaps)\n",
    "\n",
    "    return {\n",
    "        \"accuracies\": bin_accuracies,\n",
    "        \"confidences\": bin_confidences,\n",
    "        \"counts\": bin_counts,\n",
    "        \"bins\": bins,\n",
    "        \"avg_accuracy\": avg_acc,\n",
    "        \"avg_confidence\": avg_conf,\n",
    "        \"expected_calibration_error\": ece,\n",
    "        \"max_calibration_error\": mce,\n",
    "    }"
   ]
  },
  {
   "cell_type": "code",
   "execution_count": 111,
   "id": "cee75b3c",
   "metadata": {},
   "outputs": [],
   "source": [
    "def plot_single_calibration_curves(scores,confidences,calib_curve_name=\"reliability_diagram\",hist_name=\"histogram\"):\n",
    "    fig_1 = go.Figure()\n",
    "    fig_2 = go.Figure()\n",
    "    \n",
    "    print(scores[\"confidences\"])\n",
    "    print(scores[\"accuracies\"])\n",
    "\n",
    "\n",
    "    fig1_trace1=go.Scattergl(x = [0,1], y = [0,1], name = 'perfectly_calibrated', mode = 'lines+markers')\n",
    "    fig1_trace2=go.Scattergl(x = scores[\"confidences\"], y = scores[\"accuracies\"], name = \"not calibrated\", mode = 'lines+markers')\n",
    "    fig_1.add_trace(fig1_trace1)\n",
    "\n",
    "    fig_1.add_trace(fig1_trace2)\n",
    "\n",
    "    fig_1.update_layout(\n",
    "            title=\"Calibration Curve\",\n",
    "            xaxis_title=\"Predicted_confidence\",\n",
    "            yaxis_title=\"Expected_accuracy\"\n",
    "        )        \n",
    "    #filename=os.path.join(exp_name,'{}.html'.format(calib_curve_name))\n",
    "    #plotly.offline.plot(fig_1, filename = filename)\n",
    "    fig_1.show()\n",
    "\n",
    "    bin_start=scores[\"bins\"][0]\n",
    "    bin_end=scores[\"bins\"][-1]\n",
    "    bin_width=0.1 #scores[\"bins\"][1]-scores[\"bins\"][0]\n",
    "    bin_prop={\"start\":bin_start,\"end\":bin_end,\"size\":bin_width}\n",
    "   \n",
    "    counts = scores[\"counts\"]\n",
    "    bins = scores[\"bins\"]\n",
    "\n",
    "    bin_size = 1.0 / len(counts)\n",
    "    positions = bins[:-1] + bin_size/2.0\n",
    "    #positions=np.array([0.1, 0.2, 0.3, 0.4, 0.5, 0.6, 0.7, 0.8, 0.9, 1.0])\n",
    "    fig2_trace1=go.Histogram(x=confidences,opacity=0.8,name='confidence histogram', nbinsx=10)  #xbins=bin_prop) #nbinsx=10)\n",
    "   \n",
    "    fig2_trace1 = go.Bar(x = positions,y = counts)\n",
    "    #fig = go.Figure(data=data)\n",
    "    fig_2.add_trace(fig2_trace1)\n",
    "\n",
    "    fig2_trace2=go.Scatter(x=[scores[\"avg_confidence\"],scores[\"avg_confidence\"]], y=[0,max(scores['counts'])+2], \n",
    "                             mode='lines', \n",
    "                             line=dict(color='green', width=5, dash='dash'),\n",
    "                             name='avg conf: {}'.format(np.round(scores[\"avg_confidence\"],3)))\n",
    "    fig2_trace3=go.Scatter(x=[scores[\"avg_accuracy\"],scores[\"avg_accuracy\"]], y=[0,max(scores['counts'])+2], \n",
    "                             mode='lines', \n",
    "                             line=dict(color='black', width=5, dash='solid'),\n",
    "                             name='avg acc: {}'.format(scores[\"avg_accuracy\"]))\n",
    "    fig_2.add_trace(fig2_trace2)\n",
    "    fig_2.add_trace(fig2_trace3)\n",
    "\n",
    "    fig_2.update_layout(title=\"Histogram\",xaxis_title=\"predicted_confidence\",yaxis_title=\"num_samples\",)\n",
    "\n",
    "    #filename2=os.path.join(exp_name,'{}.html'.format(hist_name))\n",
    "    #plotly.offline.plot(fig_2, filename = filename2)\n",
    "    fig_2.show()"
   ]
  },
  {
   "cell_type": "code",
   "execution_count": 108,
   "id": "c22faa0d",
   "metadata": {},
   "outputs": [
    {
     "data": {
      "text/plain": [
       "array([0.05, 0.15, 0.25, 0.35, 0.45, 0.55, 0.65, 0.75, 0.85, 0.95])"
      ]
     },
     "execution_count": 108,
     "metadata": {},
     "output_type": "execute_result"
    }
   ],
   "source": [
    "positions=np.array([0.05, 0.15, 0.25, 0.35, 0.45, 0.55, 0.65, 0.75, 0.85, 0.95])\n",
    "positions=np.array([0.1, 0.2, 0.3, 0.4, 0.5, 0.6, 0.7, 0.8, 0.9, 1.0])"
   ]
  },
  {
   "cell_type": "code",
   "execution_count": 112,
   "id": "69e401e8",
   "metadata": {},
   "outputs": [
    {
     "name": "stdout",
     "output_type": "stream",
     "text": [
      "[0.         0.         0.         0.         0.47580668 0.54877436\n",
      " 0.64885032 0.75892317 0.85337895 0.99966729]\n",
      "[0.         0.         0.         0.         0.         0.4375\n",
      " 0.5        0.56521739 0.46153846 0.99516422]\n"
     ]
    },
    {
     "data": {
      "application/vnd.plotly.v1+json": {
       "config": {
        "plotlyServerURL": "https://plot.ly"
       },
       "data": [
        {
         "mode": "lines+markers",
         "name": "perfectly_calibrated",
         "type": "scattergl",
         "x": [
          0,
          1
         ],
         "y": [
          0,
          1
         ]
        },
        {
         "mode": "lines+markers",
         "name": "not calibrated",
         "type": "scattergl",
         "x": [
          0,
          0,
          0,
          0,
          0.47580668330192566,
          0.5487743616104126,
          0.6488503217697144,
          0.7589231729507446,
          0.85337895154953,
          0.9996672868728638
         ],
         "y": [
          0,
          0,
          0,
          0,
          0,
          0.4375,
          0.5,
          0.5652173913043478,
          0.46153846153846156,
          0.9951642151924239
         ]
        }
       ],
       "layout": {
        "template": {
         "data": {
          "bar": [
           {
            "error_x": {
             "color": "#2a3f5f"
            },
            "error_y": {
             "color": "#2a3f5f"
            },
            "marker": {
             "line": {
              "color": "#E5ECF6",
              "width": 0.5
             },
             "pattern": {
              "fillmode": "overlay",
              "size": 10,
              "solidity": 0.2
             }
            },
            "type": "bar"
           }
          ],
          "barpolar": [
           {
            "marker": {
             "line": {
              "color": "#E5ECF6",
              "width": 0.5
             },
             "pattern": {
              "fillmode": "overlay",
              "size": 10,
              "solidity": 0.2
             }
            },
            "type": "barpolar"
           }
          ],
          "carpet": [
           {
            "aaxis": {
             "endlinecolor": "#2a3f5f",
             "gridcolor": "white",
             "linecolor": "white",
             "minorgridcolor": "white",
             "startlinecolor": "#2a3f5f"
            },
            "baxis": {
             "endlinecolor": "#2a3f5f",
             "gridcolor": "white",
             "linecolor": "white",
             "minorgridcolor": "white",
             "startlinecolor": "#2a3f5f"
            },
            "type": "carpet"
           }
          ],
          "choropleth": [
           {
            "colorbar": {
             "outlinewidth": 0,
             "ticks": ""
            },
            "type": "choropleth"
           }
          ],
          "contour": [
           {
            "colorbar": {
             "outlinewidth": 0,
             "ticks": ""
            },
            "colorscale": [
             [
              0,
              "#0d0887"
             ],
             [
              0.1111111111111111,
              "#46039f"
             ],
             [
              0.2222222222222222,
              "#7201a8"
             ],
             [
              0.3333333333333333,
              "#9c179e"
             ],
             [
              0.4444444444444444,
              "#bd3786"
             ],
             [
              0.5555555555555556,
              "#d8576b"
             ],
             [
              0.6666666666666666,
              "#ed7953"
             ],
             [
              0.7777777777777778,
              "#fb9f3a"
             ],
             [
              0.8888888888888888,
              "#fdca26"
             ],
             [
              1,
              "#f0f921"
             ]
            ],
            "type": "contour"
           }
          ],
          "contourcarpet": [
           {
            "colorbar": {
             "outlinewidth": 0,
             "ticks": ""
            },
            "type": "contourcarpet"
           }
          ],
          "heatmap": [
           {
            "colorbar": {
             "outlinewidth": 0,
             "ticks": ""
            },
            "colorscale": [
             [
              0,
              "#0d0887"
             ],
             [
              0.1111111111111111,
              "#46039f"
             ],
             [
              0.2222222222222222,
              "#7201a8"
             ],
             [
              0.3333333333333333,
              "#9c179e"
             ],
             [
              0.4444444444444444,
              "#bd3786"
             ],
             [
              0.5555555555555556,
              "#d8576b"
             ],
             [
              0.6666666666666666,
              "#ed7953"
             ],
             [
              0.7777777777777778,
              "#fb9f3a"
             ],
             [
              0.8888888888888888,
              "#fdca26"
             ],
             [
              1,
              "#f0f921"
             ]
            ],
            "type": "heatmap"
           }
          ],
          "heatmapgl": [
           {
            "colorbar": {
             "outlinewidth": 0,
             "ticks": ""
            },
            "colorscale": [
             [
              0,
              "#0d0887"
             ],
             [
              0.1111111111111111,
              "#46039f"
             ],
             [
              0.2222222222222222,
              "#7201a8"
             ],
             [
              0.3333333333333333,
              "#9c179e"
             ],
             [
              0.4444444444444444,
              "#bd3786"
             ],
             [
              0.5555555555555556,
              "#d8576b"
             ],
             [
              0.6666666666666666,
              "#ed7953"
             ],
             [
              0.7777777777777778,
              "#fb9f3a"
             ],
             [
              0.8888888888888888,
              "#fdca26"
             ],
             [
              1,
              "#f0f921"
             ]
            ],
            "type": "heatmapgl"
           }
          ],
          "histogram": [
           {
            "marker": {
             "pattern": {
              "fillmode": "overlay",
              "size": 10,
              "solidity": 0.2
             }
            },
            "type": "histogram"
           }
          ],
          "histogram2d": [
           {
            "colorbar": {
             "outlinewidth": 0,
             "ticks": ""
            },
            "colorscale": [
             [
              0,
              "#0d0887"
             ],
             [
              0.1111111111111111,
              "#46039f"
             ],
             [
              0.2222222222222222,
              "#7201a8"
             ],
             [
              0.3333333333333333,
              "#9c179e"
             ],
             [
              0.4444444444444444,
              "#bd3786"
             ],
             [
              0.5555555555555556,
              "#d8576b"
             ],
             [
              0.6666666666666666,
              "#ed7953"
             ],
             [
              0.7777777777777778,
              "#fb9f3a"
             ],
             [
              0.8888888888888888,
              "#fdca26"
             ],
             [
              1,
              "#f0f921"
             ]
            ],
            "type": "histogram2d"
           }
          ],
          "histogram2dcontour": [
           {
            "colorbar": {
             "outlinewidth": 0,
             "ticks": ""
            },
            "colorscale": [
             [
              0,
              "#0d0887"
             ],
             [
              0.1111111111111111,
              "#46039f"
             ],
             [
              0.2222222222222222,
              "#7201a8"
             ],
             [
              0.3333333333333333,
              "#9c179e"
             ],
             [
              0.4444444444444444,
              "#bd3786"
             ],
             [
              0.5555555555555556,
              "#d8576b"
             ],
             [
              0.6666666666666666,
              "#ed7953"
             ],
             [
              0.7777777777777778,
              "#fb9f3a"
             ],
             [
              0.8888888888888888,
              "#fdca26"
             ],
             [
              1,
              "#f0f921"
             ]
            ],
            "type": "histogram2dcontour"
           }
          ],
          "mesh3d": [
           {
            "colorbar": {
             "outlinewidth": 0,
             "ticks": ""
            },
            "type": "mesh3d"
           }
          ],
          "parcoords": [
           {
            "line": {
             "colorbar": {
              "outlinewidth": 0,
              "ticks": ""
             }
            },
            "type": "parcoords"
           }
          ],
          "pie": [
           {
            "automargin": true,
            "type": "pie"
           }
          ],
          "scatter": [
           {
            "fillpattern": {
             "fillmode": "overlay",
             "size": 10,
             "solidity": 0.2
            },
            "type": "scatter"
           }
          ],
          "scatter3d": [
           {
            "line": {
             "colorbar": {
              "outlinewidth": 0,
              "ticks": ""
             }
            },
            "marker": {
             "colorbar": {
              "outlinewidth": 0,
              "ticks": ""
             }
            },
            "type": "scatter3d"
           }
          ],
          "scattercarpet": [
           {
            "marker": {
             "colorbar": {
              "outlinewidth": 0,
              "ticks": ""
             }
            },
            "type": "scattercarpet"
           }
          ],
          "scattergeo": [
           {
            "marker": {
             "colorbar": {
              "outlinewidth": 0,
              "ticks": ""
             }
            },
            "type": "scattergeo"
           }
          ],
          "scattergl": [
           {
            "marker": {
             "colorbar": {
              "outlinewidth": 0,
              "ticks": ""
             }
            },
            "type": "scattergl"
           }
          ],
          "scattermapbox": [
           {
            "marker": {
             "colorbar": {
              "outlinewidth": 0,
              "ticks": ""
             }
            },
            "type": "scattermapbox"
           }
          ],
          "scatterpolar": [
           {
            "marker": {
             "colorbar": {
              "outlinewidth": 0,
              "ticks": ""
             }
            },
            "type": "scatterpolar"
           }
          ],
          "scatterpolargl": [
           {
            "marker": {
             "colorbar": {
              "outlinewidth": 0,
              "ticks": ""
             }
            },
            "type": "scatterpolargl"
           }
          ],
          "scatterternary": [
           {
            "marker": {
             "colorbar": {
              "outlinewidth": 0,
              "ticks": ""
             }
            },
            "type": "scatterternary"
           }
          ],
          "surface": [
           {
            "colorbar": {
             "outlinewidth": 0,
             "ticks": ""
            },
            "colorscale": [
             [
              0,
              "#0d0887"
             ],
             [
              0.1111111111111111,
              "#46039f"
             ],
             [
              0.2222222222222222,
              "#7201a8"
             ],
             [
              0.3333333333333333,
              "#9c179e"
             ],
             [
              0.4444444444444444,
              "#bd3786"
             ],
             [
              0.5555555555555556,
              "#d8576b"
             ],
             [
              0.6666666666666666,
              "#ed7953"
             ],
             [
              0.7777777777777778,
              "#fb9f3a"
             ],
             [
              0.8888888888888888,
              "#fdca26"
             ],
             [
              1,
              "#f0f921"
             ]
            ],
            "type": "surface"
           }
          ],
          "table": [
           {
            "cells": {
             "fill": {
              "color": "#EBF0F8"
             },
             "line": {
              "color": "white"
             }
            },
            "header": {
             "fill": {
              "color": "#C8D4E3"
             },
             "line": {
              "color": "white"
             }
            },
            "type": "table"
           }
          ]
         },
         "layout": {
          "annotationdefaults": {
           "arrowcolor": "#2a3f5f",
           "arrowhead": 0,
           "arrowwidth": 1
          },
          "autotypenumbers": "strict",
          "coloraxis": {
           "colorbar": {
            "outlinewidth": 0,
            "ticks": ""
           }
          },
          "colorscale": {
           "diverging": [
            [
             0,
             "#8e0152"
            ],
            [
             0.1,
             "#c51b7d"
            ],
            [
             0.2,
             "#de77ae"
            ],
            [
             0.3,
             "#f1b6da"
            ],
            [
             0.4,
             "#fde0ef"
            ],
            [
             0.5,
             "#f7f7f7"
            ],
            [
             0.6,
             "#e6f5d0"
            ],
            [
             0.7,
             "#b8e186"
            ],
            [
             0.8,
             "#7fbc41"
            ],
            [
             0.9,
             "#4d9221"
            ],
            [
             1,
             "#276419"
            ]
           ],
           "sequential": [
            [
             0,
             "#0d0887"
            ],
            [
             0.1111111111111111,
             "#46039f"
            ],
            [
             0.2222222222222222,
             "#7201a8"
            ],
            [
             0.3333333333333333,
             "#9c179e"
            ],
            [
             0.4444444444444444,
             "#bd3786"
            ],
            [
             0.5555555555555556,
             "#d8576b"
            ],
            [
             0.6666666666666666,
             "#ed7953"
            ],
            [
             0.7777777777777778,
             "#fb9f3a"
            ],
            [
             0.8888888888888888,
             "#fdca26"
            ],
            [
             1,
             "#f0f921"
            ]
           ],
           "sequentialminus": [
            [
             0,
             "#0d0887"
            ],
            [
             0.1111111111111111,
             "#46039f"
            ],
            [
             0.2222222222222222,
             "#7201a8"
            ],
            [
             0.3333333333333333,
             "#9c179e"
            ],
            [
             0.4444444444444444,
             "#bd3786"
            ],
            [
             0.5555555555555556,
             "#d8576b"
            ],
            [
             0.6666666666666666,
             "#ed7953"
            ],
            [
             0.7777777777777778,
             "#fb9f3a"
            ],
            [
             0.8888888888888888,
             "#fdca26"
            ],
            [
             1,
             "#f0f921"
            ]
           ]
          },
          "colorway": [
           "#636efa",
           "#EF553B",
           "#00cc96",
           "#ab63fa",
           "#FFA15A",
           "#19d3f3",
           "#FF6692",
           "#B6E880",
           "#FF97FF",
           "#FECB52"
          ],
          "font": {
           "color": "#2a3f5f"
          },
          "geo": {
           "bgcolor": "white",
           "lakecolor": "white",
           "landcolor": "#E5ECF6",
           "showlakes": true,
           "showland": true,
           "subunitcolor": "white"
          },
          "hoverlabel": {
           "align": "left"
          },
          "hovermode": "closest",
          "mapbox": {
           "style": "light"
          },
          "paper_bgcolor": "white",
          "plot_bgcolor": "#E5ECF6",
          "polar": {
           "angularaxis": {
            "gridcolor": "white",
            "linecolor": "white",
            "ticks": ""
           },
           "bgcolor": "#E5ECF6",
           "radialaxis": {
            "gridcolor": "white",
            "linecolor": "white",
            "ticks": ""
           }
          },
          "scene": {
           "xaxis": {
            "backgroundcolor": "#E5ECF6",
            "gridcolor": "white",
            "gridwidth": 2,
            "linecolor": "white",
            "showbackground": true,
            "ticks": "",
            "zerolinecolor": "white"
           },
           "yaxis": {
            "backgroundcolor": "#E5ECF6",
            "gridcolor": "white",
            "gridwidth": 2,
            "linecolor": "white",
            "showbackground": true,
            "ticks": "",
            "zerolinecolor": "white"
           },
           "zaxis": {
            "backgroundcolor": "#E5ECF6",
            "gridcolor": "white",
            "gridwidth": 2,
            "linecolor": "white",
            "showbackground": true,
            "ticks": "",
            "zerolinecolor": "white"
           }
          },
          "shapedefaults": {
           "line": {
            "color": "#2a3f5f"
           }
          },
          "ternary": {
           "aaxis": {
            "gridcolor": "white",
            "linecolor": "white",
            "ticks": ""
           },
           "baxis": {
            "gridcolor": "white",
            "linecolor": "white",
            "ticks": ""
           },
           "bgcolor": "#E5ECF6",
           "caxis": {
            "gridcolor": "white",
            "linecolor": "white",
            "ticks": ""
           }
          },
          "title": {
           "x": 0.05
          },
          "xaxis": {
           "automargin": true,
           "gridcolor": "white",
           "linecolor": "white",
           "ticks": "",
           "title": {
            "standoff": 15
           },
           "zerolinecolor": "white",
           "zerolinewidth": 2
          },
          "yaxis": {
           "automargin": true,
           "gridcolor": "white",
           "linecolor": "white",
           "ticks": "",
           "title": {
            "standoff": 15
           },
           "zerolinecolor": "white",
           "zerolinewidth": 2
          }
         }
        },
        "title": {
         "text": "Calibration Curve"
        },
        "xaxis": {
         "title": {
          "text": "Predicted_confidence"
         }
        },
        "yaxis": {
         "title": {
          "text": "Expected_accuracy"
         }
        }
       }
      },
      "text/html": [
       "<div>                            <div id=\"8bf6ae2a-1423-436b-a64f-a60916356fc0\" class=\"plotly-graph-div\" style=\"height:525px; width:100%;\"></div>            <script type=\"text/javascript\">                require([\"plotly\"], function(Plotly) {                    window.PLOTLYENV=window.PLOTLYENV || {};                                    if (document.getElementById(\"8bf6ae2a-1423-436b-a64f-a60916356fc0\")) {                    Plotly.newPlot(                        \"8bf6ae2a-1423-436b-a64f-a60916356fc0\",                        [{\"mode\":\"lines+markers\",\"name\":\"perfectly_calibrated\",\"x\":[0,1],\"y\":[0,1],\"type\":\"scattergl\"},{\"mode\":\"lines+markers\",\"name\":\"not calibrated\",\"x\":[0.0,0.0,0.0,0.0,0.47580668330192566,0.5487743616104126,0.6488503217697144,0.7589231729507446,0.85337895154953,0.9996672868728638],\"y\":[0.0,0.0,0.0,0.0,0.0,0.4375,0.5,0.5652173913043478,0.46153846153846156,0.9951642151924239],\"type\":\"scattergl\"}],                        {\"template\":{\"data\":{\"histogram2dcontour\":[{\"type\":\"histogram2dcontour\",\"colorbar\":{\"outlinewidth\":0,\"ticks\":\"\"},\"colorscale\":[[0.0,\"#0d0887\"],[0.1111111111111111,\"#46039f\"],[0.2222222222222222,\"#7201a8\"],[0.3333333333333333,\"#9c179e\"],[0.4444444444444444,\"#bd3786\"],[0.5555555555555556,\"#d8576b\"],[0.6666666666666666,\"#ed7953\"],[0.7777777777777778,\"#fb9f3a\"],[0.8888888888888888,\"#fdca26\"],[1.0,\"#f0f921\"]]}],\"choropleth\":[{\"type\":\"choropleth\",\"colorbar\":{\"outlinewidth\":0,\"ticks\":\"\"}}],\"histogram2d\":[{\"type\":\"histogram2d\",\"colorbar\":{\"outlinewidth\":0,\"ticks\":\"\"},\"colorscale\":[[0.0,\"#0d0887\"],[0.1111111111111111,\"#46039f\"],[0.2222222222222222,\"#7201a8\"],[0.3333333333333333,\"#9c179e\"],[0.4444444444444444,\"#bd3786\"],[0.5555555555555556,\"#d8576b\"],[0.6666666666666666,\"#ed7953\"],[0.7777777777777778,\"#fb9f3a\"],[0.8888888888888888,\"#fdca26\"],[1.0,\"#f0f921\"]]}],\"heatmap\":[{\"type\":\"heatmap\",\"colorbar\":{\"outlinewidth\":0,\"ticks\":\"\"},\"colorscale\":[[0.0,\"#0d0887\"],[0.1111111111111111,\"#46039f\"],[0.2222222222222222,\"#7201a8\"],[0.3333333333333333,\"#9c179e\"],[0.4444444444444444,\"#bd3786\"],[0.5555555555555556,\"#d8576b\"],[0.6666666666666666,\"#ed7953\"],[0.7777777777777778,\"#fb9f3a\"],[0.8888888888888888,\"#fdca26\"],[1.0,\"#f0f921\"]]}],\"heatmapgl\":[{\"type\":\"heatmapgl\",\"colorbar\":{\"outlinewidth\":0,\"ticks\":\"\"},\"colorscale\":[[0.0,\"#0d0887\"],[0.1111111111111111,\"#46039f\"],[0.2222222222222222,\"#7201a8\"],[0.3333333333333333,\"#9c179e\"],[0.4444444444444444,\"#bd3786\"],[0.5555555555555556,\"#d8576b\"],[0.6666666666666666,\"#ed7953\"],[0.7777777777777778,\"#fb9f3a\"],[0.8888888888888888,\"#fdca26\"],[1.0,\"#f0f921\"]]}],\"contourcarpet\":[{\"type\":\"contourcarpet\",\"colorbar\":{\"outlinewidth\":0,\"ticks\":\"\"}}],\"contour\":[{\"type\":\"contour\",\"colorbar\":{\"outlinewidth\":0,\"ticks\":\"\"},\"colorscale\":[[0.0,\"#0d0887\"],[0.1111111111111111,\"#46039f\"],[0.2222222222222222,\"#7201a8\"],[0.3333333333333333,\"#9c179e\"],[0.4444444444444444,\"#bd3786\"],[0.5555555555555556,\"#d8576b\"],[0.6666666666666666,\"#ed7953\"],[0.7777777777777778,\"#fb9f3a\"],[0.8888888888888888,\"#fdca26\"],[1.0,\"#f0f921\"]]}],\"surface\":[{\"type\":\"surface\",\"colorbar\":{\"outlinewidth\":0,\"ticks\":\"\"},\"colorscale\":[[0.0,\"#0d0887\"],[0.1111111111111111,\"#46039f\"],[0.2222222222222222,\"#7201a8\"],[0.3333333333333333,\"#9c179e\"],[0.4444444444444444,\"#bd3786\"],[0.5555555555555556,\"#d8576b\"],[0.6666666666666666,\"#ed7953\"],[0.7777777777777778,\"#fb9f3a\"],[0.8888888888888888,\"#fdca26\"],[1.0,\"#f0f921\"]]}],\"mesh3d\":[{\"type\":\"mesh3d\",\"colorbar\":{\"outlinewidth\":0,\"ticks\":\"\"}}],\"scatter\":[{\"fillpattern\":{\"fillmode\":\"overlay\",\"size\":10,\"solidity\":0.2},\"type\":\"scatter\"}],\"parcoords\":[{\"type\":\"parcoords\",\"line\":{\"colorbar\":{\"outlinewidth\":0,\"ticks\":\"\"}}}],\"scatterpolargl\":[{\"type\":\"scatterpolargl\",\"marker\":{\"colorbar\":{\"outlinewidth\":0,\"ticks\":\"\"}}}],\"bar\":[{\"error_x\":{\"color\":\"#2a3f5f\"},\"error_y\":{\"color\":\"#2a3f5f\"},\"marker\":{\"line\":{\"color\":\"#E5ECF6\",\"width\":0.5},\"pattern\":{\"fillmode\":\"overlay\",\"size\":10,\"solidity\":0.2}},\"type\":\"bar\"}],\"scattergeo\":[{\"type\":\"scattergeo\",\"marker\":{\"colorbar\":{\"outlinewidth\":0,\"ticks\":\"\"}}}],\"scatterpolar\":[{\"type\":\"scatterpolar\",\"marker\":{\"colorbar\":{\"outlinewidth\":0,\"ticks\":\"\"}}}],\"histogram\":[{\"marker\":{\"pattern\":{\"fillmode\":\"overlay\",\"size\":10,\"solidity\":0.2}},\"type\":\"histogram\"}],\"scattergl\":[{\"type\":\"scattergl\",\"marker\":{\"colorbar\":{\"outlinewidth\":0,\"ticks\":\"\"}}}],\"scatter3d\":[{\"type\":\"scatter3d\",\"line\":{\"colorbar\":{\"outlinewidth\":0,\"ticks\":\"\"}},\"marker\":{\"colorbar\":{\"outlinewidth\":0,\"ticks\":\"\"}}}],\"scattermapbox\":[{\"type\":\"scattermapbox\",\"marker\":{\"colorbar\":{\"outlinewidth\":0,\"ticks\":\"\"}}}],\"scatterternary\":[{\"type\":\"scatterternary\",\"marker\":{\"colorbar\":{\"outlinewidth\":0,\"ticks\":\"\"}}}],\"scattercarpet\":[{\"type\":\"scattercarpet\",\"marker\":{\"colorbar\":{\"outlinewidth\":0,\"ticks\":\"\"}}}],\"carpet\":[{\"aaxis\":{\"endlinecolor\":\"#2a3f5f\",\"gridcolor\":\"white\",\"linecolor\":\"white\",\"minorgridcolor\":\"white\",\"startlinecolor\":\"#2a3f5f\"},\"baxis\":{\"endlinecolor\":\"#2a3f5f\",\"gridcolor\":\"white\",\"linecolor\":\"white\",\"minorgridcolor\":\"white\",\"startlinecolor\":\"#2a3f5f\"},\"type\":\"carpet\"}],\"table\":[{\"cells\":{\"fill\":{\"color\":\"#EBF0F8\"},\"line\":{\"color\":\"white\"}},\"header\":{\"fill\":{\"color\":\"#C8D4E3\"},\"line\":{\"color\":\"white\"}},\"type\":\"table\"}],\"barpolar\":[{\"marker\":{\"line\":{\"color\":\"#E5ECF6\",\"width\":0.5},\"pattern\":{\"fillmode\":\"overlay\",\"size\":10,\"solidity\":0.2}},\"type\":\"barpolar\"}],\"pie\":[{\"automargin\":true,\"type\":\"pie\"}]},\"layout\":{\"autotypenumbers\":\"strict\",\"colorway\":[\"#636efa\",\"#EF553B\",\"#00cc96\",\"#ab63fa\",\"#FFA15A\",\"#19d3f3\",\"#FF6692\",\"#B6E880\",\"#FF97FF\",\"#FECB52\"],\"font\":{\"color\":\"#2a3f5f\"},\"hovermode\":\"closest\",\"hoverlabel\":{\"align\":\"left\"},\"paper_bgcolor\":\"white\",\"plot_bgcolor\":\"#E5ECF6\",\"polar\":{\"bgcolor\":\"#E5ECF6\",\"angularaxis\":{\"gridcolor\":\"white\",\"linecolor\":\"white\",\"ticks\":\"\"},\"radialaxis\":{\"gridcolor\":\"white\",\"linecolor\":\"white\",\"ticks\":\"\"}},\"ternary\":{\"bgcolor\":\"#E5ECF6\",\"aaxis\":{\"gridcolor\":\"white\",\"linecolor\":\"white\",\"ticks\":\"\"},\"baxis\":{\"gridcolor\":\"white\",\"linecolor\":\"white\",\"ticks\":\"\"},\"caxis\":{\"gridcolor\":\"white\",\"linecolor\":\"white\",\"ticks\":\"\"}},\"coloraxis\":{\"colorbar\":{\"outlinewidth\":0,\"ticks\":\"\"}},\"colorscale\":{\"sequential\":[[0.0,\"#0d0887\"],[0.1111111111111111,\"#46039f\"],[0.2222222222222222,\"#7201a8\"],[0.3333333333333333,\"#9c179e\"],[0.4444444444444444,\"#bd3786\"],[0.5555555555555556,\"#d8576b\"],[0.6666666666666666,\"#ed7953\"],[0.7777777777777778,\"#fb9f3a\"],[0.8888888888888888,\"#fdca26\"],[1.0,\"#f0f921\"]],\"sequentialminus\":[[0.0,\"#0d0887\"],[0.1111111111111111,\"#46039f\"],[0.2222222222222222,\"#7201a8\"],[0.3333333333333333,\"#9c179e\"],[0.4444444444444444,\"#bd3786\"],[0.5555555555555556,\"#d8576b\"],[0.6666666666666666,\"#ed7953\"],[0.7777777777777778,\"#fb9f3a\"],[0.8888888888888888,\"#fdca26\"],[1.0,\"#f0f921\"]],\"diverging\":[[0,\"#8e0152\"],[0.1,\"#c51b7d\"],[0.2,\"#de77ae\"],[0.3,\"#f1b6da\"],[0.4,\"#fde0ef\"],[0.5,\"#f7f7f7\"],[0.6,\"#e6f5d0\"],[0.7,\"#b8e186\"],[0.8,\"#7fbc41\"],[0.9,\"#4d9221\"],[1,\"#276419\"]]},\"xaxis\":{\"gridcolor\":\"white\",\"linecolor\":\"white\",\"ticks\":\"\",\"title\":{\"standoff\":15},\"zerolinecolor\":\"white\",\"automargin\":true,\"zerolinewidth\":2},\"yaxis\":{\"gridcolor\":\"white\",\"linecolor\":\"white\",\"ticks\":\"\",\"title\":{\"standoff\":15},\"zerolinecolor\":\"white\",\"automargin\":true,\"zerolinewidth\":2},\"scene\":{\"xaxis\":{\"backgroundcolor\":\"#E5ECF6\",\"gridcolor\":\"white\",\"linecolor\":\"white\",\"showbackground\":true,\"ticks\":\"\",\"zerolinecolor\":\"white\",\"gridwidth\":2},\"yaxis\":{\"backgroundcolor\":\"#E5ECF6\",\"gridcolor\":\"white\",\"linecolor\":\"white\",\"showbackground\":true,\"ticks\":\"\",\"zerolinecolor\":\"white\",\"gridwidth\":2},\"zaxis\":{\"backgroundcolor\":\"#E5ECF6\",\"gridcolor\":\"white\",\"linecolor\":\"white\",\"showbackground\":true,\"ticks\":\"\",\"zerolinecolor\":\"white\",\"gridwidth\":2}},\"shapedefaults\":{\"line\":{\"color\":\"#2a3f5f\"}},\"annotationdefaults\":{\"arrowcolor\":\"#2a3f5f\",\"arrowhead\":0,\"arrowwidth\":1},\"geo\":{\"bgcolor\":\"white\",\"landcolor\":\"#E5ECF6\",\"subunitcolor\":\"white\",\"showland\":true,\"showlakes\":true,\"lakecolor\":\"white\"},\"title\":{\"x\":0.05},\"mapbox\":{\"style\":\"light\"}}},\"title\":{\"text\":\"Calibration Curve\"},\"xaxis\":{\"title\":{\"text\":\"Predicted_confidence\"}},\"yaxis\":{\"title\":{\"text\":\"Expected_accuracy\"}}},                        {\"responsive\": true}                    ).then(function(){\n",
       "                            \n",
       "var gd = document.getElementById('8bf6ae2a-1423-436b-a64f-a60916356fc0');\n",
       "var x = new MutationObserver(function (mutations, observer) {{\n",
       "        var display = window.getComputedStyle(gd).display;\n",
       "        if (!display || display === 'none') {{\n",
       "            console.log([gd, 'removed!']);\n",
       "            Plotly.purge(gd);\n",
       "            observer.disconnect();\n",
       "        }}\n",
       "}});\n",
       "\n",
       "// Listen for the removal of the full notebook cells\n",
       "var notebookContainer = gd.closest('#notebook-container');\n",
       "if (notebookContainer) {{\n",
       "    x.observe(notebookContainer, {childList: true});\n",
       "}}\n",
       "\n",
       "// Listen for the clearing of the current output cell\n",
       "var outputEl = gd.closest('.output');\n",
       "if (outputEl) {{\n",
       "    x.observe(outputEl, {childList: true});\n",
       "}}\n",
       "\n",
       "                        })                };                });            </script>        </div>"
      ]
     },
     "metadata": {},
     "output_type": "display_data"
    },
    {
     "data": {
      "application/vnd.plotly.v1+json": {
       "config": {
        "plotlyServerURL": "https://plot.ly"
       },
       "data": [
        {
         "type": "bar",
         "x": [
          0.05,
          0.15000000000000002,
          0.25,
          0.35000000000000003,
          0.45,
          0.55,
          0.6500000000000001,
          0.7500000000000001,
          0.8500000000000001,
          0.9500000000000001
         ],
         "y": [
          0,
          0,
          0,
          0,
          1,
          16,
          8,
          23,
          26,
          9926
         ]
        },
        {
         "line": {
          "color": "green",
          "dash": "dash",
          "width": 5
         },
         "mode": "lines",
         "name": "avg conf: 0.998",
         "type": "scatter",
         "x": [
          0.9976787574261426,
          0.9976787574261426
         ],
         "y": [
          0,
          9928
         ]
        },
        {
         "line": {
          "color": "black",
          "dash": "solid",
          "width": 5
         },
         "mode": "lines",
         "name": "avg acc: 0.9914",
         "type": "scatter",
         "x": [
          0.9914,
          0.9914
         ],
         "y": [
          0,
          9928
         ]
        }
       ],
       "layout": {
        "template": {
         "data": {
          "bar": [
           {
            "error_x": {
             "color": "#2a3f5f"
            },
            "error_y": {
             "color": "#2a3f5f"
            },
            "marker": {
             "line": {
              "color": "#E5ECF6",
              "width": 0.5
             },
             "pattern": {
              "fillmode": "overlay",
              "size": 10,
              "solidity": 0.2
             }
            },
            "type": "bar"
           }
          ],
          "barpolar": [
           {
            "marker": {
             "line": {
              "color": "#E5ECF6",
              "width": 0.5
             },
             "pattern": {
              "fillmode": "overlay",
              "size": 10,
              "solidity": 0.2
             }
            },
            "type": "barpolar"
           }
          ],
          "carpet": [
           {
            "aaxis": {
             "endlinecolor": "#2a3f5f",
             "gridcolor": "white",
             "linecolor": "white",
             "minorgridcolor": "white",
             "startlinecolor": "#2a3f5f"
            },
            "baxis": {
             "endlinecolor": "#2a3f5f",
             "gridcolor": "white",
             "linecolor": "white",
             "minorgridcolor": "white",
             "startlinecolor": "#2a3f5f"
            },
            "type": "carpet"
           }
          ],
          "choropleth": [
           {
            "colorbar": {
             "outlinewidth": 0,
             "ticks": ""
            },
            "type": "choropleth"
           }
          ],
          "contour": [
           {
            "colorbar": {
             "outlinewidth": 0,
             "ticks": ""
            },
            "colorscale": [
             [
              0,
              "#0d0887"
             ],
             [
              0.1111111111111111,
              "#46039f"
             ],
             [
              0.2222222222222222,
              "#7201a8"
             ],
             [
              0.3333333333333333,
              "#9c179e"
             ],
             [
              0.4444444444444444,
              "#bd3786"
             ],
             [
              0.5555555555555556,
              "#d8576b"
             ],
             [
              0.6666666666666666,
              "#ed7953"
             ],
             [
              0.7777777777777778,
              "#fb9f3a"
             ],
             [
              0.8888888888888888,
              "#fdca26"
             ],
             [
              1,
              "#f0f921"
             ]
            ],
            "type": "contour"
           }
          ],
          "contourcarpet": [
           {
            "colorbar": {
             "outlinewidth": 0,
             "ticks": ""
            },
            "type": "contourcarpet"
           }
          ],
          "heatmap": [
           {
            "colorbar": {
             "outlinewidth": 0,
             "ticks": ""
            },
            "colorscale": [
             [
              0,
              "#0d0887"
             ],
             [
              0.1111111111111111,
              "#46039f"
             ],
             [
              0.2222222222222222,
              "#7201a8"
             ],
             [
              0.3333333333333333,
              "#9c179e"
             ],
             [
              0.4444444444444444,
              "#bd3786"
             ],
             [
              0.5555555555555556,
              "#d8576b"
             ],
             [
              0.6666666666666666,
              "#ed7953"
             ],
             [
              0.7777777777777778,
              "#fb9f3a"
             ],
             [
              0.8888888888888888,
              "#fdca26"
             ],
             [
              1,
              "#f0f921"
             ]
            ],
            "type": "heatmap"
           }
          ],
          "heatmapgl": [
           {
            "colorbar": {
             "outlinewidth": 0,
             "ticks": ""
            },
            "colorscale": [
             [
              0,
              "#0d0887"
             ],
             [
              0.1111111111111111,
              "#46039f"
             ],
             [
              0.2222222222222222,
              "#7201a8"
             ],
             [
              0.3333333333333333,
              "#9c179e"
             ],
             [
              0.4444444444444444,
              "#bd3786"
             ],
             [
              0.5555555555555556,
              "#d8576b"
             ],
             [
              0.6666666666666666,
              "#ed7953"
             ],
             [
              0.7777777777777778,
              "#fb9f3a"
             ],
             [
              0.8888888888888888,
              "#fdca26"
             ],
             [
              1,
              "#f0f921"
             ]
            ],
            "type": "heatmapgl"
           }
          ],
          "histogram": [
           {
            "marker": {
             "pattern": {
              "fillmode": "overlay",
              "size": 10,
              "solidity": 0.2
             }
            },
            "type": "histogram"
           }
          ],
          "histogram2d": [
           {
            "colorbar": {
             "outlinewidth": 0,
             "ticks": ""
            },
            "colorscale": [
             [
              0,
              "#0d0887"
             ],
             [
              0.1111111111111111,
              "#46039f"
             ],
             [
              0.2222222222222222,
              "#7201a8"
             ],
             [
              0.3333333333333333,
              "#9c179e"
             ],
             [
              0.4444444444444444,
              "#bd3786"
             ],
             [
              0.5555555555555556,
              "#d8576b"
             ],
             [
              0.6666666666666666,
              "#ed7953"
             ],
             [
              0.7777777777777778,
              "#fb9f3a"
             ],
             [
              0.8888888888888888,
              "#fdca26"
             ],
             [
              1,
              "#f0f921"
             ]
            ],
            "type": "histogram2d"
           }
          ],
          "histogram2dcontour": [
           {
            "colorbar": {
             "outlinewidth": 0,
             "ticks": ""
            },
            "colorscale": [
             [
              0,
              "#0d0887"
             ],
             [
              0.1111111111111111,
              "#46039f"
             ],
             [
              0.2222222222222222,
              "#7201a8"
             ],
             [
              0.3333333333333333,
              "#9c179e"
             ],
             [
              0.4444444444444444,
              "#bd3786"
             ],
             [
              0.5555555555555556,
              "#d8576b"
             ],
             [
              0.6666666666666666,
              "#ed7953"
             ],
             [
              0.7777777777777778,
              "#fb9f3a"
             ],
             [
              0.8888888888888888,
              "#fdca26"
             ],
             [
              1,
              "#f0f921"
             ]
            ],
            "type": "histogram2dcontour"
           }
          ],
          "mesh3d": [
           {
            "colorbar": {
             "outlinewidth": 0,
             "ticks": ""
            },
            "type": "mesh3d"
           }
          ],
          "parcoords": [
           {
            "line": {
             "colorbar": {
              "outlinewidth": 0,
              "ticks": ""
             }
            },
            "type": "parcoords"
           }
          ],
          "pie": [
           {
            "automargin": true,
            "type": "pie"
           }
          ],
          "scatter": [
           {
            "fillpattern": {
             "fillmode": "overlay",
             "size": 10,
             "solidity": 0.2
            },
            "type": "scatter"
           }
          ],
          "scatter3d": [
           {
            "line": {
             "colorbar": {
              "outlinewidth": 0,
              "ticks": ""
             }
            },
            "marker": {
             "colorbar": {
              "outlinewidth": 0,
              "ticks": ""
             }
            },
            "type": "scatter3d"
           }
          ],
          "scattercarpet": [
           {
            "marker": {
             "colorbar": {
              "outlinewidth": 0,
              "ticks": ""
             }
            },
            "type": "scattercarpet"
           }
          ],
          "scattergeo": [
           {
            "marker": {
             "colorbar": {
              "outlinewidth": 0,
              "ticks": ""
             }
            },
            "type": "scattergeo"
           }
          ],
          "scattergl": [
           {
            "marker": {
             "colorbar": {
              "outlinewidth": 0,
              "ticks": ""
             }
            },
            "type": "scattergl"
           }
          ],
          "scattermapbox": [
           {
            "marker": {
             "colorbar": {
              "outlinewidth": 0,
              "ticks": ""
             }
            },
            "type": "scattermapbox"
           }
          ],
          "scatterpolar": [
           {
            "marker": {
             "colorbar": {
              "outlinewidth": 0,
              "ticks": ""
             }
            },
            "type": "scatterpolar"
           }
          ],
          "scatterpolargl": [
           {
            "marker": {
             "colorbar": {
              "outlinewidth": 0,
              "ticks": ""
             }
            },
            "type": "scatterpolargl"
           }
          ],
          "scatterternary": [
           {
            "marker": {
             "colorbar": {
              "outlinewidth": 0,
              "ticks": ""
             }
            },
            "type": "scatterternary"
           }
          ],
          "surface": [
           {
            "colorbar": {
             "outlinewidth": 0,
             "ticks": ""
            },
            "colorscale": [
             [
              0,
              "#0d0887"
             ],
             [
              0.1111111111111111,
              "#46039f"
             ],
             [
              0.2222222222222222,
              "#7201a8"
             ],
             [
              0.3333333333333333,
              "#9c179e"
             ],
             [
              0.4444444444444444,
              "#bd3786"
             ],
             [
              0.5555555555555556,
              "#d8576b"
             ],
             [
              0.6666666666666666,
              "#ed7953"
             ],
             [
              0.7777777777777778,
              "#fb9f3a"
             ],
             [
              0.8888888888888888,
              "#fdca26"
             ],
             [
              1,
              "#f0f921"
             ]
            ],
            "type": "surface"
           }
          ],
          "table": [
           {
            "cells": {
             "fill": {
              "color": "#EBF0F8"
             },
             "line": {
              "color": "white"
             }
            },
            "header": {
             "fill": {
              "color": "#C8D4E3"
             },
             "line": {
              "color": "white"
             }
            },
            "type": "table"
           }
          ]
         },
         "layout": {
          "annotationdefaults": {
           "arrowcolor": "#2a3f5f",
           "arrowhead": 0,
           "arrowwidth": 1
          },
          "autotypenumbers": "strict",
          "coloraxis": {
           "colorbar": {
            "outlinewidth": 0,
            "ticks": ""
           }
          },
          "colorscale": {
           "diverging": [
            [
             0,
             "#8e0152"
            ],
            [
             0.1,
             "#c51b7d"
            ],
            [
             0.2,
             "#de77ae"
            ],
            [
             0.3,
             "#f1b6da"
            ],
            [
             0.4,
             "#fde0ef"
            ],
            [
             0.5,
             "#f7f7f7"
            ],
            [
             0.6,
             "#e6f5d0"
            ],
            [
             0.7,
             "#b8e186"
            ],
            [
             0.8,
             "#7fbc41"
            ],
            [
             0.9,
             "#4d9221"
            ],
            [
             1,
             "#276419"
            ]
           ],
           "sequential": [
            [
             0,
             "#0d0887"
            ],
            [
             0.1111111111111111,
             "#46039f"
            ],
            [
             0.2222222222222222,
             "#7201a8"
            ],
            [
             0.3333333333333333,
             "#9c179e"
            ],
            [
             0.4444444444444444,
             "#bd3786"
            ],
            [
             0.5555555555555556,
             "#d8576b"
            ],
            [
             0.6666666666666666,
             "#ed7953"
            ],
            [
             0.7777777777777778,
             "#fb9f3a"
            ],
            [
             0.8888888888888888,
             "#fdca26"
            ],
            [
             1,
             "#f0f921"
            ]
           ],
           "sequentialminus": [
            [
             0,
             "#0d0887"
            ],
            [
             0.1111111111111111,
             "#46039f"
            ],
            [
             0.2222222222222222,
             "#7201a8"
            ],
            [
             0.3333333333333333,
             "#9c179e"
            ],
            [
             0.4444444444444444,
             "#bd3786"
            ],
            [
             0.5555555555555556,
             "#d8576b"
            ],
            [
             0.6666666666666666,
             "#ed7953"
            ],
            [
             0.7777777777777778,
             "#fb9f3a"
            ],
            [
             0.8888888888888888,
             "#fdca26"
            ],
            [
             1,
             "#f0f921"
            ]
           ]
          },
          "colorway": [
           "#636efa",
           "#EF553B",
           "#00cc96",
           "#ab63fa",
           "#FFA15A",
           "#19d3f3",
           "#FF6692",
           "#B6E880",
           "#FF97FF",
           "#FECB52"
          ],
          "font": {
           "color": "#2a3f5f"
          },
          "geo": {
           "bgcolor": "white",
           "lakecolor": "white",
           "landcolor": "#E5ECF6",
           "showlakes": true,
           "showland": true,
           "subunitcolor": "white"
          },
          "hoverlabel": {
           "align": "left"
          },
          "hovermode": "closest",
          "mapbox": {
           "style": "light"
          },
          "paper_bgcolor": "white",
          "plot_bgcolor": "#E5ECF6",
          "polar": {
           "angularaxis": {
            "gridcolor": "white",
            "linecolor": "white",
            "ticks": ""
           },
           "bgcolor": "#E5ECF6",
           "radialaxis": {
            "gridcolor": "white",
            "linecolor": "white",
            "ticks": ""
           }
          },
          "scene": {
           "xaxis": {
            "backgroundcolor": "#E5ECF6",
            "gridcolor": "white",
            "gridwidth": 2,
            "linecolor": "white",
            "showbackground": true,
            "ticks": "",
            "zerolinecolor": "white"
           },
           "yaxis": {
            "backgroundcolor": "#E5ECF6",
            "gridcolor": "white",
            "gridwidth": 2,
            "linecolor": "white",
            "showbackground": true,
            "ticks": "",
            "zerolinecolor": "white"
           },
           "zaxis": {
            "backgroundcolor": "#E5ECF6",
            "gridcolor": "white",
            "gridwidth": 2,
            "linecolor": "white",
            "showbackground": true,
            "ticks": "",
            "zerolinecolor": "white"
           }
          },
          "shapedefaults": {
           "line": {
            "color": "#2a3f5f"
           }
          },
          "ternary": {
           "aaxis": {
            "gridcolor": "white",
            "linecolor": "white",
            "ticks": ""
           },
           "baxis": {
            "gridcolor": "white",
            "linecolor": "white",
            "ticks": ""
           },
           "bgcolor": "#E5ECF6",
           "caxis": {
            "gridcolor": "white",
            "linecolor": "white",
            "ticks": ""
           }
          },
          "title": {
           "x": 0.05
          },
          "xaxis": {
           "automargin": true,
           "gridcolor": "white",
           "linecolor": "white",
           "ticks": "",
           "title": {
            "standoff": 15
           },
           "zerolinecolor": "white",
           "zerolinewidth": 2
          },
          "yaxis": {
           "automargin": true,
           "gridcolor": "white",
           "linecolor": "white",
           "ticks": "",
           "title": {
            "standoff": 15
           },
           "zerolinecolor": "white",
           "zerolinewidth": 2
          }
         }
        },
        "title": {
         "text": "Histogram"
        },
        "xaxis": {
         "title": {
          "text": "predicted_confidence"
         }
        },
        "yaxis": {
         "title": {
          "text": "num_samples"
         }
        }
       }
      },
      "text/html": [
       "<div>                            <div id=\"ead0e7af-d601-40a7-aa36-f4fa288e840e\" class=\"plotly-graph-div\" style=\"height:525px; width:100%;\"></div>            <script type=\"text/javascript\">                require([\"plotly\"], function(Plotly) {                    window.PLOTLYENV=window.PLOTLYENV || {};                                    if (document.getElementById(\"ead0e7af-d601-40a7-aa36-f4fa288e840e\")) {                    Plotly.newPlot(                        \"ead0e7af-d601-40a7-aa36-f4fa288e840e\",                        [{\"x\":[0.05,0.15000000000000002,0.25,0.35000000000000003,0.45,0.55,0.6500000000000001,0.7500000000000001,0.8500000000000001,0.9500000000000001],\"y\":[0,0,0,0,1,16,8,23,26,9926],\"type\":\"bar\"},{\"line\":{\"color\":\"green\",\"dash\":\"dash\",\"width\":5},\"mode\":\"lines\",\"name\":\"avg conf: 0.998\",\"x\":[0.9976787574261426,0.9976787574261426],\"y\":[0,9928],\"type\":\"scatter\"},{\"line\":{\"color\":\"black\",\"dash\":\"solid\",\"width\":5},\"mode\":\"lines\",\"name\":\"avg acc: 0.9914\",\"x\":[0.9914,0.9914],\"y\":[0,9928],\"type\":\"scatter\"}],                        {\"template\":{\"data\":{\"histogram2dcontour\":[{\"type\":\"histogram2dcontour\",\"colorbar\":{\"outlinewidth\":0,\"ticks\":\"\"},\"colorscale\":[[0.0,\"#0d0887\"],[0.1111111111111111,\"#46039f\"],[0.2222222222222222,\"#7201a8\"],[0.3333333333333333,\"#9c179e\"],[0.4444444444444444,\"#bd3786\"],[0.5555555555555556,\"#d8576b\"],[0.6666666666666666,\"#ed7953\"],[0.7777777777777778,\"#fb9f3a\"],[0.8888888888888888,\"#fdca26\"],[1.0,\"#f0f921\"]]}],\"choropleth\":[{\"type\":\"choropleth\",\"colorbar\":{\"outlinewidth\":0,\"ticks\":\"\"}}],\"histogram2d\":[{\"type\":\"histogram2d\",\"colorbar\":{\"outlinewidth\":0,\"ticks\":\"\"},\"colorscale\":[[0.0,\"#0d0887\"],[0.1111111111111111,\"#46039f\"],[0.2222222222222222,\"#7201a8\"],[0.3333333333333333,\"#9c179e\"],[0.4444444444444444,\"#bd3786\"],[0.5555555555555556,\"#d8576b\"],[0.6666666666666666,\"#ed7953\"],[0.7777777777777778,\"#fb9f3a\"],[0.8888888888888888,\"#fdca26\"],[1.0,\"#f0f921\"]]}],\"heatmap\":[{\"type\":\"heatmap\",\"colorbar\":{\"outlinewidth\":0,\"ticks\":\"\"},\"colorscale\":[[0.0,\"#0d0887\"],[0.1111111111111111,\"#46039f\"],[0.2222222222222222,\"#7201a8\"],[0.3333333333333333,\"#9c179e\"],[0.4444444444444444,\"#bd3786\"],[0.5555555555555556,\"#d8576b\"],[0.6666666666666666,\"#ed7953\"],[0.7777777777777778,\"#fb9f3a\"],[0.8888888888888888,\"#fdca26\"],[1.0,\"#f0f921\"]]}],\"heatmapgl\":[{\"type\":\"heatmapgl\",\"colorbar\":{\"outlinewidth\":0,\"ticks\":\"\"},\"colorscale\":[[0.0,\"#0d0887\"],[0.1111111111111111,\"#46039f\"],[0.2222222222222222,\"#7201a8\"],[0.3333333333333333,\"#9c179e\"],[0.4444444444444444,\"#bd3786\"],[0.5555555555555556,\"#d8576b\"],[0.6666666666666666,\"#ed7953\"],[0.7777777777777778,\"#fb9f3a\"],[0.8888888888888888,\"#fdca26\"],[1.0,\"#f0f921\"]]}],\"contourcarpet\":[{\"type\":\"contourcarpet\",\"colorbar\":{\"outlinewidth\":0,\"ticks\":\"\"}}],\"contour\":[{\"type\":\"contour\",\"colorbar\":{\"outlinewidth\":0,\"ticks\":\"\"},\"colorscale\":[[0.0,\"#0d0887\"],[0.1111111111111111,\"#46039f\"],[0.2222222222222222,\"#7201a8\"],[0.3333333333333333,\"#9c179e\"],[0.4444444444444444,\"#bd3786\"],[0.5555555555555556,\"#d8576b\"],[0.6666666666666666,\"#ed7953\"],[0.7777777777777778,\"#fb9f3a\"],[0.8888888888888888,\"#fdca26\"],[1.0,\"#f0f921\"]]}],\"surface\":[{\"type\":\"surface\",\"colorbar\":{\"outlinewidth\":0,\"ticks\":\"\"},\"colorscale\":[[0.0,\"#0d0887\"],[0.1111111111111111,\"#46039f\"],[0.2222222222222222,\"#7201a8\"],[0.3333333333333333,\"#9c179e\"],[0.4444444444444444,\"#bd3786\"],[0.5555555555555556,\"#d8576b\"],[0.6666666666666666,\"#ed7953\"],[0.7777777777777778,\"#fb9f3a\"],[0.8888888888888888,\"#fdca26\"],[1.0,\"#f0f921\"]]}],\"mesh3d\":[{\"type\":\"mesh3d\",\"colorbar\":{\"outlinewidth\":0,\"ticks\":\"\"}}],\"scatter\":[{\"fillpattern\":{\"fillmode\":\"overlay\",\"size\":10,\"solidity\":0.2},\"type\":\"scatter\"}],\"parcoords\":[{\"type\":\"parcoords\",\"line\":{\"colorbar\":{\"outlinewidth\":0,\"ticks\":\"\"}}}],\"scatterpolargl\":[{\"type\":\"scatterpolargl\",\"marker\":{\"colorbar\":{\"outlinewidth\":0,\"ticks\":\"\"}}}],\"bar\":[{\"error_x\":{\"color\":\"#2a3f5f\"},\"error_y\":{\"color\":\"#2a3f5f\"},\"marker\":{\"line\":{\"color\":\"#E5ECF6\",\"width\":0.5},\"pattern\":{\"fillmode\":\"overlay\",\"size\":10,\"solidity\":0.2}},\"type\":\"bar\"}],\"scattergeo\":[{\"type\":\"scattergeo\",\"marker\":{\"colorbar\":{\"outlinewidth\":0,\"ticks\":\"\"}}}],\"scatterpolar\":[{\"type\":\"scatterpolar\",\"marker\":{\"colorbar\":{\"outlinewidth\":0,\"ticks\":\"\"}}}],\"histogram\":[{\"marker\":{\"pattern\":{\"fillmode\":\"overlay\",\"size\":10,\"solidity\":0.2}},\"type\":\"histogram\"}],\"scattergl\":[{\"type\":\"scattergl\",\"marker\":{\"colorbar\":{\"outlinewidth\":0,\"ticks\":\"\"}}}],\"scatter3d\":[{\"type\":\"scatter3d\",\"line\":{\"colorbar\":{\"outlinewidth\":0,\"ticks\":\"\"}},\"marker\":{\"colorbar\":{\"outlinewidth\":0,\"ticks\":\"\"}}}],\"scattermapbox\":[{\"type\":\"scattermapbox\",\"marker\":{\"colorbar\":{\"outlinewidth\":0,\"ticks\":\"\"}}}],\"scatterternary\":[{\"type\":\"scatterternary\",\"marker\":{\"colorbar\":{\"outlinewidth\":0,\"ticks\":\"\"}}}],\"scattercarpet\":[{\"type\":\"scattercarpet\",\"marker\":{\"colorbar\":{\"outlinewidth\":0,\"ticks\":\"\"}}}],\"carpet\":[{\"aaxis\":{\"endlinecolor\":\"#2a3f5f\",\"gridcolor\":\"white\",\"linecolor\":\"white\",\"minorgridcolor\":\"white\",\"startlinecolor\":\"#2a3f5f\"},\"baxis\":{\"endlinecolor\":\"#2a3f5f\",\"gridcolor\":\"white\",\"linecolor\":\"white\",\"minorgridcolor\":\"white\",\"startlinecolor\":\"#2a3f5f\"},\"type\":\"carpet\"}],\"table\":[{\"cells\":{\"fill\":{\"color\":\"#EBF0F8\"},\"line\":{\"color\":\"white\"}},\"header\":{\"fill\":{\"color\":\"#C8D4E3\"},\"line\":{\"color\":\"white\"}},\"type\":\"table\"}],\"barpolar\":[{\"marker\":{\"line\":{\"color\":\"#E5ECF6\",\"width\":0.5},\"pattern\":{\"fillmode\":\"overlay\",\"size\":10,\"solidity\":0.2}},\"type\":\"barpolar\"}],\"pie\":[{\"automargin\":true,\"type\":\"pie\"}]},\"layout\":{\"autotypenumbers\":\"strict\",\"colorway\":[\"#636efa\",\"#EF553B\",\"#00cc96\",\"#ab63fa\",\"#FFA15A\",\"#19d3f3\",\"#FF6692\",\"#B6E880\",\"#FF97FF\",\"#FECB52\"],\"font\":{\"color\":\"#2a3f5f\"},\"hovermode\":\"closest\",\"hoverlabel\":{\"align\":\"left\"},\"paper_bgcolor\":\"white\",\"plot_bgcolor\":\"#E5ECF6\",\"polar\":{\"bgcolor\":\"#E5ECF6\",\"angularaxis\":{\"gridcolor\":\"white\",\"linecolor\":\"white\",\"ticks\":\"\"},\"radialaxis\":{\"gridcolor\":\"white\",\"linecolor\":\"white\",\"ticks\":\"\"}},\"ternary\":{\"bgcolor\":\"#E5ECF6\",\"aaxis\":{\"gridcolor\":\"white\",\"linecolor\":\"white\",\"ticks\":\"\"},\"baxis\":{\"gridcolor\":\"white\",\"linecolor\":\"white\",\"ticks\":\"\"},\"caxis\":{\"gridcolor\":\"white\",\"linecolor\":\"white\",\"ticks\":\"\"}},\"coloraxis\":{\"colorbar\":{\"outlinewidth\":0,\"ticks\":\"\"}},\"colorscale\":{\"sequential\":[[0.0,\"#0d0887\"],[0.1111111111111111,\"#46039f\"],[0.2222222222222222,\"#7201a8\"],[0.3333333333333333,\"#9c179e\"],[0.4444444444444444,\"#bd3786\"],[0.5555555555555556,\"#d8576b\"],[0.6666666666666666,\"#ed7953\"],[0.7777777777777778,\"#fb9f3a\"],[0.8888888888888888,\"#fdca26\"],[1.0,\"#f0f921\"]],\"sequentialminus\":[[0.0,\"#0d0887\"],[0.1111111111111111,\"#46039f\"],[0.2222222222222222,\"#7201a8\"],[0.3333333333333333,\"#9c179e\"],[0.4444444444444444,\"#bd3786\"],[0.5555555555555556,\"#d8576b\"],[0.6666666666666666,\"#ed7953\"],[0.7777777777777778,\"#fb9f3a\"],[0.8888888888888888,\"#fdca26\"],[1.0,\"#f0f921\"]],\"diverging\":[[0,\"#8e0152\"],[0.1,\"#c51b7d\"],[0.2,\"#de77ae\"],[0.3,\"#f1b6da\"],[0.4,\"#fde0ef\"],[0.5,\"#f7f7f7\"],[0.6,\"#e6f5d0\"],[0.7,\"#b8e186\"],[0.8,\"#7fbc41\"],[0.9,\"#4d9221\"],[1,\"#276419\"]]},\"xaxis\":{\"gridcolor\":\"white\",\"linecolor\":\"white\",\"ticks\":\"\",\"title\":{\"standoff\":15},\"zerolinecolor\":\"white\",\"automargin\":true,\"zerolinewidth\":2},\"yaxis\":{\"gridcolor\":\"white\",\"linecolor\":\"white\",\"ticks\":\"\",\"title\":{\"standoff\":15},\"zerolinecolor\":\"white\",\"automargin\":true,\"zerolinewidth\":2},\"scene\":{\"xaxis\":{\"backgroundcolor\":\"#E5ECF6\",\"gridcolor\":\"white\",\"linecolor\":\"white\",\"showbackground\":true,\"ticks\":\"\",\"zerolinecolor\":\"white\",\"gridwidth\":2},\"yaxis\":{\"backgroundcolor\":\"#E5ECF6\",\"gridcolor\":\"white\",\"linecolor\":\"white\",\"showbackground\":true,\"ticks\":\"\",\"zerolinecolor\":\"white\",\"gridwidth\":2},\"zaxis\":{\"backgroundcolor\":\"#E5ECF6\",\"gridcolor\":\"white\",\"linecolor\":\"white\",\"showbackground\":true,\"ticks\":\"\",\"zerolinecolor\":\"white\",\"gridwidth\":2}},\"shapedefaults\":{\"line\":{\"color\":\"#2a3f5f\"}},\"annotationdefaults\":{\"arrowcolor\":\"#2a3f5f\",\"arrowhead\":0,\"arrowwidth\":1},\"geo\":{\"bgcolor\":\"white\",\"landcolor\":\"#E5ECF6\",\"subunitcolor\":\"white\",\"showland\":true,\"showlakes\":true,\"lakecolor\":\"white\"},\"title\":{\"x\":0.05},\"mapbox\":{\"style\":\"light\"}}},\"title\":{\"text\":\"Histogram\"},\"xaxis\":{\"title\":{\"text\":\"predicted_confidence\"}},\"yaxis\":{\"title\":{\"text\":\"num_samples\"}}},                        {\"responsive\": true}                    ).then(function(){\n",
       "                            \n",
       "var gd = document.getElementById('ead0e7af-d601-40a7-aa36-f4fa288e840e');\n",
       "var x = new MutationObserver(function (mutations, observer) {{\n",
       "        var display = window.getComputedStyle(gd).display;\n",
       "        if (!display || display === 'none') {{\n",
       "            console.log([gd, 'removed!']);\n",
       "            Plotly.purge(gd);\n",
       "            observer.disconnect();\n",
       "        }}\n",
       "}});\n",
       "\n",
       "// Listen for the removal of the full notebook cells\n",
       "var notebookContainer = gd.closest('#notebook-container');\n",
       "if (notebookContainer) {{\n",
       "    x.observe(notebookContainer, {childList: true});\n",
       "}}\n",
       "\n",
       "// Listen for the clearing of the current output cell\n",
       "var outputEl = gd.closest('.output');\n",
       "if (outputEl) {{\n",
       "    x.observe(outputEl, {childList: true});\n",
       "}}\n",
       "\n",
       "                        })                };                });            </script>        </div>"
      ]
     },
     "metadata": {},
     "output_type": "display_data"
    }
   ],
   "source": [
    "plot_single_calibration_curves(scores,confidences,calib_curve_name=\"reliability_diagram\",hist_name=\"histogram\")"
   ]
  },
  {
   "cell_type": "code",
   "execution_count": 83,
   "id": "464fad7b",
   "metadata": {},
   "outputs": [
    {
     "data": {
      "text/plain": [
       "0.09000000000000001"
      ]
     },
     "execution_count": 83,
     "metadata": {},
     "output_type": "execute_result"
    }
   ],
   "source": [
    "bin_size*0.9"
   ]
  },
  {
   "cell_type": "code",
   "execution_count": 88,
   "id": "44116da3",
   "metadata": {},
   "outputs": [
    {
     "data": {
      "text/plain": [
       "{'accuracies': array([0.        , 0.        , 0.        , 0.        , 0.        ,\n",
       "        0.4375    , 0.5       , 0.56521739, 0.46153846, 0.99516422]),\n",
       " 'confidences': array([0.        , 0.        , 0.        , 0.        , 0.47580668,\n",
       "        0.54877436, 0.64885032, 0.75892317, 0.85337895, 0.99966729]),\n",
       " 'counts': array([   0,    0,    0,    0,    1,   16,    8,   23,   26, 9926]),\n",
       " 'bins': array([0. , 0.1, 0.2, 0.3, 0.4, 0.5, 0.6, 0.7, 0.8, 0.9, 1. ]),\n",
       " 'avg_accuracy': 0.9914,\n",
       " 'avg_confidence': 0.9976787574261426,\n",
       " 'expected_calibration_error': 0.006278757426142701,\n",
       " 'max_calibration_error': 0.47580668330192566}"
      ]
     },
     "execution_count": 88,
     "metadata": {},
     "output_type": "execute_result"
    }
   ],
   "source": [
    "scores"
   ]
  },
  {
   "cell_type": "code",
   "execution_count": 89,
   "id": "971dbb0f",
   "metadata": {},
   "outputs": [
    {
     "data": {
      "text/plain": [
       "array([0.05, 0.15, 0.25, 0.35, 0.45, 0.55, 0.65, 0.75, 0.85, 0.95])"
      ]
     },
     "execution_count": 89,
     "metadata": {},
     "output_type": "execute_result"
    }
   ],
   "source": [
    "positions"
   ]
  },
  {
   "cell_type": "code",
   "execution_count": 93,
   "id": "e0320830",
   "metadata": {},
   "outputs": [],
   "source": [
    "import matplotlib.pyplot as plt"
   ]
  },
  {
   "cell_type": "code",
   "execution_count": 95,
   "id": "03c11652",
   "metadata": {},
   "outputs": [
    {
     "data": {
      "image/png": "[encoded data removed]",
      "text/plain": [
       "<Figure size 640x480 with 1 Axes>"
      ]
     },
     "metadata": {},
     "output_type": "display_data"
    }
   ],
   "source": [
    "    counts = scores[\"counts\"]\n",
    "    bins = scores[\"bins\"]\n",
    "\n",
    "    bin_size = 1.0 / len(counts)\n",
    "    positions = bins[:-1] + bin_size/2.0\n",
    "\n",
    "    fig = plt.bar(positions, counts,width=bin_size * 0.9)\n",
    "    #fig.show()"
   ]
  },
  {
   "cell_type": "code",
   "execution_count": 97,
   "id": "ea9d1f50",
   "metadata": {},
   "outputs": [
    {
     "data": {
      "application/vnd.plotly.v1+json": {
       "config": {
        "plotlyServerURL": "https://plot.ly"
       },
       "data": [
        {
         "alignmentgroup": "True",
         "hovertemplate": "x=%{x}<br>index=%{y}<extra></extra>",
         "legendgroup": "",
         "marker": {
          "color": "#636efa",
          "pattern": {
           "shape": ""
          }
         },
         "name": "",
         "offsetgroup": "",
         "orientation": "h",
         "showlegend": false,
         "textposition": "auto",
         "type": "bar",
         "x": [
          0,
          0,
          0,
          0,
          1,
          16,
          8,
          23,
          26,
          9926
         ],
         "xaxis": "x",
         "y": [
          0,
          1,
          2,
          3,
          4,
          5,
          6,
          7,
          8,
          9
         ],
         "yaxis": "y"
        }
       ],
       "layout": {
        "barmode": "relative",
        "legend": {
         "tracegroupgap": 0
        },
        "margin": {
         "t": 60
        },
        "template": {
         "data": {
          "bar": [
           {
            "error_x": {
             "color": "#2a3f5f"
            },
            "error_y": {
             "color": "#2a3f5f"
            },
            "marker": {
             "line": {
              "color": "#E5ECF6",
              "width": 0.5
             },
             "pattern": {
              "fillmode": "overlay",
              "size": 10,
              "solidity": 0.2
             }
            },
            "type": "bar"
           }
          ],
          "barpolar": [
           {
            "marker": {
             "line": {
              "color": "#E5ECF6",
              "width": 0.5
             },
             "pattern": {
              "fillmode": "overlay",
              "size": 10,
              "solidity": 0.2
             }
            },
            "type": "barpolar"
           }
          ],
          "carpet": [
           {
            "aaxis": {
             "endlinecolor": "#2a3f5f",
             "gridcolor": "white",
             "linecolor": "white",
             "minorgridcolor": "white",
             "startlinecolor": "#2a3f5f"
            },
            "baxis": {
             "endlinecolor": "#2a3f5f",
             "gridcolor": "white",
             "linecolor": "white",
             "minorgridcolor": "white",
             "startlinecolor": "#2a3f5f"
            },
            "type": "carpet"
           }
          ],
          "choropleth": [
           {
            "colorbar": {
             "outlinewidth": 0,
             "ticks": ""
            },
            "type": "choropleth"
           }
          ],
          "contour": [
           {
            "colorbar": {
             "outlinewidth": 0,
             "ticks": ""
            },
            "colorscale": [
             [
              0,
              "#0d0887"
             ],
             [
              0.1111111111111111,
              "#46039f"
             ],
             [
              0.2222222222222222,
              "#7201a8"
             ],
             [
              0.3333333333333333,
              "#9c179e"
             ],
             [
              0.4444444444444444,
              "#bd3786"
             ],
             [
              0.5555555555555556,
              "#d8576b"
             ],
             [
              0.6666666666666666,
              "#ed7953"
             ],
             [
              0.7777777777777778,
              "#fb9f3a"
             ],
             [
              0.8888888888888888,
              "#fdca26"
             ],
             [
              1,
              "#f0f921"
             ]
            ],
            "type": "contour"
           }
          ],
          "contourcarpet": [
           {
            "colorbar": {
             "outlinewidth": 0,
             "ticks": ""
            },
            "type": "contourcarpet"
           }
          ],
          "heatmap": [
           {
            "colorbar": {
             "outlinewidth": 0,
             "ticks": ""
            },
            "colorscale": [
             [
              0,
              "#0d0887"
             ],
             [
              0.1111111111111111,
              "#46039f"
             ],
             [
              0.2222222222222222,
              "#7201a8"
             ],
             [
              0.3333333333333333,
              "#9c179e"
             ],
             [
              0.4444444444444444,
              "#bd3786"
             ],
             [
              0.5555555555555556,
              "#d8576b"
             ],
             [
              0.6666666666666666,
              "#ed7953"
             ],
             [
              0.7777777777777778,
              "#fb9f3a"
             ],
             [
              0.8888888888888888,
              "#fdca26"
             ],
             [
              1,
              "#f0f921"
             ]
            ],
            "type": "heatmap"
           }
          ],
          "heatmapgl": [
           {
            "colorbar": {
             "outlinewidth": 0,
             "ticks": ""
            },
            "colorscale": [
             [
              0,
              "#0d0887"
             ],
             [
              0.1111111111111111,
              "#46039f"
             ],
             [
              0.2222222222222222,
              "#7201a8"
             ],
             [
              0.3333333333333333,
              "#9c179e"
             ],
             [
              0.4444444444444444,
              "#bd3786"
             ],
             [
              0.5555555555555556,
              "#d8576b"
             ],
             [
              0.6666666666666666,
              "#ed7953"
             ],
             [
              0.7777777777777778,
              "#fb9f3a"
             ],
             [
              0.8888888888888888,
              "#fdca26"
             ],
             [
              1,
              "#f0f921"
             ]
            ],
            "type": "heatmapgl"
           }
          ],
          "histogram": [
           {
            "marker": {
             "pattern": {
              "fillmode": "overlay",
              "size": 10,
              "solidity": 0.2
             }
            },
            "type": "histogram"
           }
          ],
          "histogram2d": [
           {
            "colorbar": {
             "outlinewidth": 0,
             "ticks": ""
            },
            "colorscale": [
             [
              0,
              "#0d0887"
             ],
             [
              0.1111111111111111,
              "#46039f"
             ],
             [
              0.2222222222222222,
              "#7201a8"
             ],
             [
              0.3333333333333333,
              "#9c179e"
             ],
             [
              0.4444444444444444,
              "#bd3786"
             ],
             [
              0.5555555555555556,
              "#d8576b"
             ],
             [
              0.6666666666666666,
              "#ed7953"
             ],
             [
              0.7777777777777778,
              "#fb9f3a"
             ],
             [
              0.8888888888888888,
              "#fdca26"
             ],
             [
              1,
              "#f0f921"
             ]
            ],
            "type": "histogram2d"
           }
          ],
          "histogram2dcontour": [
           {
            "colorbar": {
             "outlinewidth": 0,
             "ticks": ""
            },
            "colorscale": [
             [
              0,
              "#0d0887"
             ],
             [
              0.1111111111111111,
              "#46039f"
             ],
             [
              0.2222222222222222,
              "#7201a8"
             ],
             [
              0.3333333333333333,
              "#9c179e"
             ],
             [
              0.4444444444444444,
              "#bd3786"
             ],
             [
              0.5555555555555556,
              "#d8576b"
             ],
             [
              0.6666666666666666,
              "#ed7953"
             ],
             [
              0.7777777777777778,
              "#fb9f3a"
             ],
             [
              0.8888888888888888,
              "#fdca26"
             ],
             [
              1,
              "#f0f921"
             ]
            ],
            "type": "histogram2dcontour"
           }
          ],
          "mesh3d": [
           {
            "colorbar": {
             "outlinewidth": 0,
             "ticks": ""
            },
            "type": "mesh3d"
           }
          ],
          "parcoords": [
           {
            "line": {
             "colorbar": {
              "outlinewidth": 0,
              "ticks": ""
             }
            },
            "type": "parcoords"
           }
          ],
          "pie": [
           {
            "automargin": true,
            "type": "pie"
           }
          ],
          "scatter": [
           {
            "fillpattern": {
             "fillmode": "overlay",
             "size": 10,
             "solidity": 0.2
            },
            "type": "scatter"
           }
          ],
          "scatter3d": [
           {
            "line": {
             "colorbar": {
              "outlinewidth": 0,
              "ticks": ""
             }
            },
            "marker": {
             "colorbar": {
              "outlinewidth": 0,
              "ticks": ""
             }
            },
            "type": "scatter3d"
           }
          ],
          "scattercarpet": [
           {
            "marker": {
             "colorbar": {
              "outlinewidth": 0,
              "ticks": ""
             }
            },
            "type": "scattercarpet"
           }
          ],
          "scattergeo": [
           {
            "marker": {
             "colorbar": {
              "outlinewidth": 0,
              "ticks": ""
             }
            },
            "type": "scattergeo"
           }
          ],
          "scattergl": [
           {
            "marker": {
             "colorbar": {
              "outlinewidth": 0,
              "ticks": ""
             }
            },
            "type": "scattergl"
           }
          ],
          "scattermapbox": [
           {
            "marker": {
             "colorbar": {
              "outlinewidth": 0,
              "ticks": ""
             }
            },
            "type": "scattermapbox"
           }
          ],
          "scatterpolar": [
           {
            "marker": {
             "colorbar": {
              "outlinewidth": 0,
              "ticks": ""
             }
            },
            "type": "scatterpolar"
           }
          ],
          "scatterpolargl": [
           {
            "marker": {
             "colorbar": {
              "outlinewidth": 0,
              "ticks": ""
             }
            },
            "type": "scatterpolargl"
           }
          ],
          "scatterternary": [
           {
            "marker": {
             "colorbar": {
              "outlinewidth": 0,
              "ticks": ""
             }
            },
            "type": "scatterternary"
           }
          ],
          "surface": [
           {
            "colorbar": {
             "outlinewidth": 0,
             "ticks": ""
            },
            "colorscale": [
             [
              0,
              "#0d0887"
             ],
             [
              0.1111111111111111,
              "#46039f"
             ],
             [
              0.2222222222222222,
              "#7201a8"
             ],
             [
              0.3333333333333333,
              "#9c179e"
             ],
             [
              0.4444444444444444,
              "#bd3786"
             ],
             [
              0.5555555555555556,
              "#d8576b"
             ],
             [
              0.6666666666666666,
              "#ed7953"
             ],
             [
              0.7777777777777778,
              "#fb9f3a"
             ],
             [
              0.8888888888888888,
              "#fdca26"
             ],
             [
              1,
              "#f0f921"
             ]
            ],
            "type": "surface"
           }
          ],
          "table": [
           {
            "cells": {
             "fill": {
              "color": "#EBF0F8"
             },
             "line": {
              "color": "white"
             }
            },
            "header": {
             "fill": {
              "color": "#C8D4E3"
             },
             "line": {
              "color": "white"
             }
            },
            "type": "table"
           }
          ]
         },
         "layout": {
          "annotationdefaults": {
           "arrowcolor": "#2a3f5f",
           "arrowhead": 0,
           "arrowwidth": 1
          },
          "autotypenumbers": "strict",
          "coloraxis": {
           "colorbar": {
            "outlinewidth": 0,
            "ticks": ""
           }
          },
          "colorscale": {
           "diverging": [
            [
             0,
             "#8e0152"
            ],
            [
             0.1,
             "#c51b7d"
            ],
            [
             0.2,
             "#de77ae"
            ],
            [
             0.3,
             "#f1b6da"
            ],
            [
             0.4,
             "#fde0ef"
            ],
            [
             0.5,
             "#f7f7f7"
            ],
            [
             0.6,
             "#e6f5d0"
            ],
            [
             0.7,
             "#b8e186"
            ],
            [
             0.8,
             "#7fbc41"
            ],
            [
             0.9,
             "#4d9221"
            ],
            [
             1,
             "#276419"
            ]
           ],
           "sequential": [
            [
             0,
             "#0d0887"
            ],
            [
             0.1111111111111111,
             "#46039f"
            ],
            [
             0.2222222222222222,
             "#7201a8"
            ],
            [
             0.3333333333333333,
             "#9c179e"
            ],
            [
             0.4444444444444444,
             "#bd3786"
            ],
            [
             0.5555555555555556,
             "#d8576b"
            ],
            [
             0.6666666666666666,
             "#ed7953"
            ],
            [
             0.7777777777777778,
             "#fb9f3a"
            ],
            [
             0.8888888888888888,
             "#fdca26"
            ],
            [
             1,
             "#f0f921"
            ]
           ],
           "sequentialminus": [
            [
             0,
             "#0d0887"
            ],
            [
             0.1111111111111111,
             "#46039f"
            ],
            [
             0.2222222222222222,
             "#7201a8"
            ],
            [
             0.3333333333333333,
             "#9c179e"
            ],
            [
             0.4444444444444444,
             "#bd3786"
            ],
            [
             0.5555555555555556,
             "#d8576b"
            ],
            [
             0.6666666666666666,
             "#ed7953"
            ],
            [
             0.7777777777777778,
             "#fb9f3a"
            ],
            [
             0.8888888888888888,
             "#fdca26"
            ],
            [
             1,
             "#f0f921"
            ]
           ]
          },
          "colorway": [
           "#636efa",
           "#EF553B",
           "#00cc96",
           "#ab63fa",
           "#FFA15A",
           "#19d3f3",
           "#FF6692",
           "#B6E880",
           "#FF97FF",
           "#FECB52"
          ],
          "font": {
           "color": "#2a3f5f"
          },
          "geo": {
           "bgcolor": "white",
           "lakecolor": "white",
           "landcolor": "#E5ECF6",
           "showlakes": true,
           "showland": true,
           "subunitcolor": "white"
          },
          "hoverlabel": {
           "align": "left"
          },
          "hovermode": "closest",
          "mapbox": {
           "style": "light"
          },
          "paper_bgcolor": "white",
          "plot_bgcolor": "#E5ECF6",
          "polar": {
           "angularaxis": {
            "gridcolor": "white",
            "linecolor": "white",
            "ticks": ""
           },
           "bgcolor": "#E5ECF6",
           "radialaxis": {
            "gridcolor": "white",
            "linecolor": "white",
            "ticks": ""
           }
          },
          "scene": {
           "xaxis": {
            "backgroundcolor": "#E5ECF6",
            "gridcolor": "white",
            "gridwidth": 2,
            "linecolor": "white",
            "showbackground": true,
            "ticks": "",
            "zerolinecolor": "white"
           },
           "yaxis": {
            "backgroundcolor": "#E5ECF6",
            "gridcolor": "white",
            "gridwidth": 2,
            "linecolor": "white",
            "showbackground": true,
            "ticks": "",
            "zerolinecolor": "white"
           },
           "zaxis": {
            "backgroundcolor": "#E5ECF6",
            "gridcolor": "white",
            "gridwidth": 2,
            "linecolor": "white",
            "showbackground": true,
            "ticks": "",
            "zerolinecolor": "white"
           }
          },
          "shapedefaults": {
           "line": {
            "color": "#2a3f5f"
           }
          },
          "ternary": {
           "aaxis": {
            "gridcolor": "white",
            "linecolor": "white",
            "ticks": ""
           },
           "baxis": {
            "gridcolor": "white",
            "linecolor": "white",
            "ticks": ""
           },
           "bgcolor": "#E5ECF6",
           "caxis": {
            "gridcolor": "white",
            "linecolor": "white",
            "ticks": ""
           }
          },
          "title": {
           "x": 0.05
          },
          "xaxis": {
           "automargin": true,
           "gridcolor": "white",
           "linecolor": "white",
           "ticks": "",
           "title": {
            "standoff": 15
           },
           "zerolinecolor": "white",
           "zerolinewidth": 2
          },
          "yaxis": {
           "automargin": true,
           "gridcolor": "white",
           "linecolor": "white",
           "ticks": "",
           "title": {
            "standoff": 15
           },
           "zerolinecolor": "white",
           "zerolinewidth": 2
          }
         }
        },
        "xaxis": {
         "anchor": "y",
         "domain": [
          0,
          1
         ],
         "title": {
          "text": "x"
         }
        },
        "yaxis": {
         "anchor": "x",
         "domain": [
          0,
          1
         ],
         "title": {
          "text": "index"
         }
        }
       }
      },
      "text/html": [
       "<div>                            <div id=\"c9cec1fa-3fd0-44ca-9671-f3692049ae69\" class=\"plotly-graph-div\" style=\"height:525px; width:100%;\"></div>            <script type=\"text/javascript\">                require([\"plotly\"], function(Plotly) {                    window.PLOTLYENV=window.PLOTLYENV || {};                                    if (document.getElementById(\"c9cec1fa-3fd0-44ca-9671-f3692049ae69\")) {                    Plotly.newPlot(                        \"c9cec1fa-3fd0-44ca-9671-f3692049ae69\",                        [{\"alignmentgroup\":\"True\",\"hovertemplate\":\"x=%{x}<br>index=%{y}<extra></extra>\",\"legendgroup\":\"\",\"marker\":{\"color\":\"#636efa\",\"pattern\":{\"shape\":\"\"}},\"name\":\"\",\"offsetgroup\":\"\",\"orientation\":\"h\",\"showlegend\":false,\"textposition\":\"auto\",\"x\":[0,0,0,0,1,16,8,23,26,9926],\"xaxis\":\"x\",\"y\":[0,1,2,3,4,5,6,7,8,9],\"yaxis\":\"y\",\"type\":\"bar\"}],                        {\"template\":{\"data\":{\"histogram2dcontour\":[{\"type\":\"histogram2dcontour\",\"colorbar\":{\"outlinewidth\":0,\"ticks\":\"\"},\"colorscale\":[[0.0,\"#0d0887\"],[0.1111111111111111,\"#46039f\"],[0.2222222222222222,\"#7201a8\"],[0.3333333333333333,\"#9c179e\"],[0.4444444444444444,\"#bd3786\"],[0.5555555555555556,\"#d8576b\"],[0.6666666666666666,\"#ed7953\"],[0.7777777777777778,\"#fb9f3a\"],[0.8888888888888888,\"#fdca26\"],[1.0,\"#f0f921\"]]}],\"choropleth\":[{\"type\":\"choropleth\",\"colorbar\":{\"outlinewidth\":0,\"ticks\":\"\"}}],\"histogram2d\":[{\"type\":\"histogram2d\",\"colorbar\":{\"outlinewidth\":0,\"ticks\":\"\"},\"colorscale\":[[0.0,\"#0d0887\"],[0.1111111111111111,\"#46039f\"],[0.2222222222222222,\"#7201a8\"],[0.3333333333333333,\"#9c179e\"],[0.4444444444444444,\"#bd3786\"],[0.5555555555555556,\"#d8576b\"],[0.6666666666666666,\"#ed7953\"],[0.7777777777777778,\"#fb9f3a\"],[0.8888888888888888,\"#fdca26\"],[1.0,\"#f0f921\"]]}],\"heatmap\":[{\"type\":\"heatmap\",\"colorbar\":{\"outlinewidth\":0,\"ticks\":\"\"},\"colorscale\":[[0.0,\"#0d0887\"],[0.1111111111111111,\"#46039f\"],[0.2222222222222222,\"#7201a8\"],[0.3333333333333333,\"#9c179e\"],[0.4444444444444444,\"#bd3786\"],[0.5555555555555556,\"#d8576b\"],[0.6666666666666666,\"#ed7953\"],[0.7777777777777778,\"#fb9f3a\"],[0.8888888888888888,\"#fdca26\"],[1.0,\"#f0f921\"]]}],\"heatmapgl\":[{\"type\":\"heatmapgl\",\"colorbar\":{\"outlinewidth\":0,\"ticks\":\"\"},\"colorscale\":[[0.0,\"#0d0887\"],[0.1111111111111111,\"#46039f\"],[0.2222222222222222,\"#7201a8\"],[0.3333333333333333,\"#9c179e\"],[0.4444444444444444,\"#bd3786\"],[0.5555555555555556,\"#d8576b\"],[0.6666666666666666,\"#ed7953\"],[0.7777777777777778,\"#fb9f3a\"],[0.8888888888888888,\"#fdca26\"],[1.0,\"#f0f921\"]]}],\"contourcarpet\":[{\"type\":\"contourcarpet\",\"colorbar\":{\"outlinewidth\":0,\"ticks\":\"\"}}],\"contour\":[{\"type\":\"contour\",\"colorbar\":{\"outlinewidth\":0,\"ticks\":\"\"},\"colorscale\":[[0.0,\"#0d0887\"],[0.1111111111111111,\"#46039f\"],[0.2222222222222222,\"#7201a8\"],[0.3333333333333333,\"#9c179e\"],[0.4444444444444444,\"#bd3786\"],[0.5555555555555556,\"#d8576b\"],[0.6666666666666666,\"#ed7953\"],[0.7777777777777778,\"#fb9f3a\"],[0.8888888888888888,\"#fdca26\"],[1.0,\"#f0f921\"]]}],\"surface\":[{\"type\":\"surface\",\"colorbar\":{\"outlinewidth\":0,\"ticks\":\"\"},\"colorscale\":[[0.0,\"#0d0887\"],[0.1111111111111111,\"#46039f\"],[0.2222222222222222,\"#7201a8\"],[0.3333333333333333,\"#9c179e\"],[0.4444444444444444,\"#bd3786\"],[0.5555555555555556,\"#d8576b\"],[0.6666666666666666,\"#ed7953\"],[0.7777777777777778,\"#fb9f3a\"],[0.8888888888888888,\"#fdca26\"],[1.0,\"#f0f921\"]]}],\"mesh3d\":[{\"type\":\"mesh3d\",\"colorbar\":{\"outlinewidth\":0,\"ticks\":\"\"}}],\"scatter\":[{\"fillpattern\":{\"fillmode\":\"overlay\",\"size\":10,\"solidity\":0.2},\"type\":\"scatter\"}],\"parcoords\":[{\"type\":\"parcoords\",\"line\":{\"colorbar\":{\"outlinewidth\":0,\"ticks\":\"\"}}}],\"scatterpolargl\":[{\"type\":\"scatterpolargl\",\"marker\":{\"colorbar\":{\"outlinewidth\":0,\"ticks\":\"\"}}}],\"bar\":[{\"error_x\":{\"color\":\"#2a3f5f\"},\"error_y\":{\"color\":\"#2a3f5f\"},\"marker\":{\"line\":{\"color\":\"#E5ECF6\",\"width\":0.5},\"pattern\":{\"fillmode\":\"overlay\",\"size\":10,\"solidity\":0.2}},\"type\":\"bar\"}],\"scattergeo\":[{\"type\":\"scattergeo\",\"marker\":{\"colorbar\":{\"outlinewidth\":0,\"ticks\":\"\"}}}],\"scatterpolar\":[{\"type\":\"scatterpolar\",\"marker\":{\"colorbar\":{\"outlinewidth\":0,\"ticks\":\"\"}}}],\"histogram\":[{\"marker\":{\"pattern\":{\"fillmode\":\"overlay\",\"size\":10,\"solidity\":0.2}},\"type\":\"histogram\"}],\"scattergl\":[{\"type\":\"scattergl\",\"marker\":{\"colorbar\":{\"outlinewidth\":0,\"ticks\":\"\"}}}],\"scatter3d\":[{\"type\":\"scatter3d\",\"line\":{\"colorbar\":{\"outlinewidth\":0,\"ticks\":\"\"}},\"marker\":{\"colorbar\":{\"outlinewidth\":0,\"ticks\":\"\"}}}],\"scattermapbox\":[{\"type\":\"scattermapbox\",\"marker\":{\"colorbar\":{\"outlinewidth\":0,\"ticks\":\"\"}}}],\"scatterternary\":[{\"type\":\"scatterternary\",\"marker\":{\"colorbar\":{\"outlinewidth\":0,\"ticks\":\"\"}}}],\"scattercarpet\":[{\"type\":\"scattercarpet\",\"marker\":{\"colorbar\":{\"outlinewidth\":0,\"ticks\":\"\"}}}],\"carpet\":[{\"aaxis\":{\"endlinecolor\":\"#2a3f5f\",\"gridcolor\":\"white\",\"linecolor\":\"white\",\"minorgridcolor\":\"white\",\"startlinecolor\":\"#2a3f5f\"},\"baxis\":{\"endlinecolor\":\"#2a3f5f\",\"gridcolor\":\"white\",\"linecolor\":\"white\",\"minorgridcolor\":\"white\",\"startlinecolor\":\"#2a3f5f\"},\"type\":\"carpet\"}],\"table\":[{\"cells\":{\"fill\":{\"color\":\"#EBF0F8\"},\"line\":{\"color\":\"white\"}},\"header\":{\"fill\":{\"color\":\"#C8D4E3\"},\"line\":{\"color\":\"white\"}},\"type\":\"table\"}],\"barpolar\":[{\"marker\":{\"line\":{\"color\":\"#E5ECF6\",\"width\":0.5},\"pattern\":{\"fillmode\":\"overlay\",\"size\":10,\"solidity\":0.2}},\"type\":\"barpolar\"}],\"pie\":[{\"automargin\":true,\"type\":\"pie\"}]},\"layout\":{\"autotypenumbers\":\"strict\",\"colorway\":[\"#636efa\",\"#EF553B\",\"#00cc96\",\"#ab63fa\",\"#FFA15A\",\"#19d3f3\",\"#FF6692\",\"#B6E880\",\"#FF97FF\",\"#FECB52\"],\"font\":{\"color\":\"#2a3f5f\"},\"hovermode\":\"closest\",\"hoverlabel\":{\"align\":\"left\"},\"paper_bgcolor\":\"white\",\"plot_bgcolor\":\"#E5ECF6\",\"polar\":{\"bgcolor\":\"#E5ECF6\",\"angularaxis\":{\"gridcolor\":\"white\",\"linecolor\":\"white\",\"ticks\":\"\"},\"radialaxis\":{\"gridcolor\":\"white\",\"linecolor\":\"white\",\"ticks\":\"\"}},\"ternary\":{\"bgcolor\":\"#E5ECF6\",\"aaxis\":{\"gridcolor\":\"white\",\"linecolor\":\"white\",\"ticks\":\"\"},\"baxis\":{\"gridcolor\":\"white\",\"linecolor\":\"white\",\"ticks\":\"\"},\"caxis\":{\"gridcolor\":\"white\",\"linecolor\":\"white\",\"ticks\":\"\"}},\"coloraxis\":{\"colorbar\":{\"outlinewidth\":0,\"ticks\":\"\"}},\"colorscale\":{\"sequential\":[[0.0,\"#0d0887\"],[0.1111111111111111,\"#46039f\"],[0.2222222222222222,\"#7201a8\"],[0.3333333333333333,\"#9c179e\"],[0.4444444444444444,\"#bd3786\"],[0.5555555555555556,\"#d8576b\"],[0.6666666666666666,\"#ed7953\"],[0.7777777777777778,\"#fb9f3a\"],[0.8888888888888888,\"#fdca26\"],[1.0,\"#f0f921\"]],\"sequentialminus\":[[0.0,\"#0d0887\"],[0.1111111111111111,\"#46039f\"],[0.2222222222222222,\"#7201a8\"],[0.3333333333333333,\"#9c179e\"],[0.4444444444444444,\"#bd3786\"],[0.5555555555555556,\"#d8576b\"],[0.6666666666666666,\"#ed7953\"],[0.7777777777777778,\"#fb9f3a\"],[0.8888888888888888,\"#fdca26\"],[1.0,\"#f0f921\"]],\"diverging\":[[0,\"#8e0152\"],[0.1,\"#c51b7d\"],[0.2,\"#de77ae\"],[0.3,\"#f1b6da\"],[0.4,\"#fde0ef\"],[0.5,\"#f7f7f7\"],[0.6,\"#e6f5d0\"],[0.7,\"#b8e186\"],[0.8,\"#7fbc41\"],[0.9,\"#4d9221\"],[1,\"#276419\"]]},\"xaxis\":{\"gridcolor\":\"white\",\"linecolor\":\"white\",\"ticks\":\"\",\"title\":{\"standoff\":15},\"zerolinecolor\":\"white\",\"automargin\":true,\"zerolinewidth\":2},\"yaxis\":{\"gridcolor\":\"white\",\"linecolor\":\"white\",\"ticks\":\"\",\"title\":{\"standoff\":15},\"zerolinecolor\":\"white\",\"automargin\":true,\"zerolinewidth\":2},\"scene\":{\"xaxis\":{\"backgroundcolor\":\"#E5ECF6\",\"gridcolor\":\"white\",\"linecolor\":\"white\",\"showbackground\":true,\"ticks\":\"\",\"zerolinecolor\":\"white\",\"gridwidth\":2},\"yaxis\":{\"backgroundcolor\":\"#E5ECF6\",\"gridcolor\":\"white\",\"linecolor\":\"white\",\"showbackground\":true,\"ticks\":\"\",\"zerolinecolor\":\"white\",\"gridwidth\":2},\"zaxis\":{\"backgroundcolor\":\"#E5ECF6\",\"gridcolor\":\"white\",\"linecolor\":\"white\",\"showbackground\":true,\"ticks\":\"\",\"zerolinecolor\":\"white\",\"gridwidth\":2}},\"shapedefaults\":{\"line\":{\"color\":\"#2a3f5f\"}},\"annotationdefaults\":{\"arrowcolor\":\"#2a3f5f\",\"arrowhead\":0,\"arrowwidth\":1},\"geo\":{\"bgcolor\":\"white\",\"landcolor\":\"#E5ECF6\",\"subunitcolor\":\"white\",\"showland\":true,\"showlakes\":true,\"lakecolor\":\"white\"},\"title\":{\"x\":0.05},\"mapbox\":{\"style\":\"light\"}}},\"xaxis\":{\"anchor\":\"y\",\"domain\":[0.0,1.0],\"title\":{\"text\":\"x\"}},\"yaxis\":{\"anchor\":\"x\",\"domain\":[0.0,1.0],\"title\":{\"text\":\"index\"}},\"legend\":{\"tracegroupgap\":0},\"margin\":{\"t\":60},\"barmode\":\"relative\"},                        {\"responsive\": true}                    ).then(function(){\n",
       "                            \n",
       "var gd = document.getElementById('c9cec1fa-3fd0-44ca-9671-f3692049ae69');\n",
       "var x = new MutationObserver(function (mutations, observer) {{\n",
       "        var display = window.getComputedStyle(gd).display;\n",
       "        if (!display || display === 'none') {{\n",
       "            console.log([gd, 'removed!']);\n",
       "            Plotly.purge(gd);\n",
       "            observer.disconnect();\n",
       "        }}\n",
       "}});\n",
       "\n",
       "// Listen for the removal of the full notebook cells\n",
       "var notebookContainer = gd.closest('#notebook-container');\n",
       "if (notebookContainer) {{\n",
       "    x.observe(notebookContainer, {childList: true});\n",
       "}}\n",
       "\n",
       "// Listen for the clearing of the current output cell\n",
       "var outputEl = gd.closest('.output');\n",
       "if (outputEl) {{\n",
       "    x.observe(outputEl, {childList: true});\n",
       "}}\n",
       "\n",
       "                        })                };                });            </script>        </div>"
      ]
     },
     "metadata": {},
     "output_type": "display_data"
    }
   ],
   "source": [
    "    fig = px.bar(positions, counts) #,width=bin_size * 0.9)\n",
    "    fig.show()"
   ]
  },
  {
   "cell_type": "code",
   "execution_count": 99,
   "id": "4d32554a",
   "metadata": {},
   "outputs": [
    {
     "data": {
      "application/vnd.plotly.v1+json": {
       "config": {
        "plotlyServerURL": "https://plot.ly"
       },
       "data": [
        {
         "type": "bar",
         "x": [
          0.05,
          0.15000000000000002,
          0.25,
          0.35000000000000003,
          0.45,
          0.55,
          0.6500000000000001,
          0.7500000000000001,
          0.8500000000000001,
          0.9500000000000001
         ],
         "y": [
          0,
          0,
          0,
          0,
          1,
          16,
          8,
          23,
          26,
          9926
         ]
        }
       ],
       "layout": {
        "template": {
         "data": {
          "bar": [
           {
            "error_x": {
             "color": "#2a3f5f"
            },
            "error_y": {
             "color": "#2a3f5f"
            },
            "marker": {
             "line": {
              "color": "#E5ECF6",
              "width": 0.5
             },
             "pattern": {
              "fillmode": "overlay",
              "size": 10,
              "solidity": 0.2
             }
            },
            "type": "bar"
           }
          ],
          "barpolar": [
           {
            "marker": {
             "line": {
              "color": "#E5ECF6",
              "width": 0.5
             },
             "pattern": {
              "fillmode": "overlay",
              "size": 10,
              "solidity": 0.2
             }
            },
            "type": "barpolar"
           }
          ],
          "carpet": [
           {
            "aaxis": {
             "endlinecolor": "#2a3f5f",
             "gridcolor": "white",
             "linecolor": "white",
             "minorgridcolor": "white",
             "startlinecolor": "#2a3f5f"
            },
            "baxis": {
             "endlinecolor": "#2a3f5f",
             "gridcolor": "white",
             "linecolor": "white",
             "minorgridcolor": "white",
             "startlinecolor": "#2a3f5f"
            },
            "type": "carpet"
           }
          ],
          "choropleth": [
           {
            "colorbar": {
             "outlinewidth": 0,
             "ticks": ""
            },
            "type": "choropleth"
           }
          ],
          "contour": [
           {
            "colorbar": {
             "outlinewidth": 0,
             "ticks": ""
            },
            "colorscale": [
             [
              0,
              "#0d0887"
             ],
             [
              0.1111111111111111,
              "#46039f"
             ],
             [
              0.2222222222222222,
              "#7201a8"
             ],
             [
              0.3333333333333333,
              "#9c179e"
             ],
             [
              0.4444444444444444,
              "#bd3786"
             ],
             [
              0.5555555555555556,
              "#d8576b"
             ],
             [
              0.6666666666666666,
              "#ed7953"
             ],
             [
              0.7777777777777778,
              "#fb9f3a"
             ],
             [
              0.8888888888888888,
              "#fdca26"
             ],
             [
              1,
              "#f0f921"
             ]
            ],
            "type": "contour"
           }
          ],
          "contourcarpet": [
           {
            "colorbar": {
             "outlinewidth": 0,
             "ticks": ""
            },
            "type": "contourcarpet"
           }
          ],
          "heatmap": [
           {
            "colorbar": {
             "outlinewidth": 0,
             "ticks": ""
            },
            "colorscale": [
             [
              0,
              "#0d0887"
             ],
             [
              0.1111111111111111,
              "#46039f"
             ],
             [
              0.2222222222222222,
              "#7201a8"
             ],
             [
              0.3333333333333333,
              "#9c179e"
             ],
             [
              0.4444444444444444,
              "#bd3786"
             ],
             [
              0.5555555555555556,
              "#d8576b"
             ],
             [
              0.6666666666666666,
              "#ed7953"
             ],
             [
              0.7777777777777778,
              "#fb9f3a"
             ],
             [
              0.8888888888888888,
              "#fdca26"
             ],
             [
              1,
              "#f0f921"
             ]
            ],
            "type": "heatmap"
           }
          ],
          "heatmapgl": [
           {
            "colorbar": {
             "outlinewidth": 0,
             "ticks": ""
            },
            "colorscale": [
             [
              0,
              "#0d0887"
             ],
             [
              0.1111111111111111,
              "#46039f"
             ],
             [
              0.2222222222222222,
              "#7201a8"
             ],
             [
              0.3333333333333333,
              "#9c179e"
             ],
             [
              0.4444444444444444,
              "#bd3786"
             ],
             [
              0.5555555555555556,
              "#d8576b"
             ],
             [
              0.6666666666666666,
              "#ed7953"
             ],
             [
              0.7777777777777778,
              "#fb9f3a"
             ],
             [
              0.8888888888888888,
              "#fdca26"
             ],
             [
              1,
              "#f0f921"
             ]
            ],
            "type": "heatmapgl"
           }
          ],
          "histogram": [
           {
            "marker": {
             "pattern": {
              "fillmode": "overlay",
              "size": 10,
              "solidity": 0.2
             }
            },
            "type": "histogram"
           }
          ],
          "histogram2d": [
           {
            "colorbar": {
             "outlinewidth": 0,
             "ticks": ""
            },
            "colorscale": [
             [
              0,
              "#0d0887"
             ],
             [
              0.1111111111111111,
              "#46039f"
             ],
             [
              0.2222222222222222,
              "#7201a8"
             ],
             [
              0.3333333333333333,
              "#9c179e"
             ],
             [
              0.4444444444444444,
              "#bd3786"
             ],
             [
              0.5555555555555556,
              "#d8576b"
             ],
             [
              0.6666666666666666,
              "#ed7953"
             ],
             [
              0.7777777777777778,
              "#fb9f3a"
             ],
             [
              0.8888888888888888,
              "#fdca26"
             ],
             [
              1,
              "#f0f921"
             ]
            ],
            "type": "histogram2d"
           }
          ],
          "histogram2dcontour": [
           {
            "colorbar": {
             "outlinewidth": 0,
             "ticks": ""
            },
            "colorscale": [
             [
              0,
              "#0d0887"
             ],
             [
              0.1111111111111111,
              "#46039f"
             ],
             [
              0.2222222222222222,
              "#7201a8"
             ],
             [
              0.3333333333333333,
              "#9c179e"
             ],
             [
              0.4444444444444444,
              "#bd3786"
             ],
             [
              0.5555555555555556,
              "#d8576b"
             ],
             [
              0.6666666666666666,
              "#ed7953"
             ],
             [
              0.7777777777777778,
              "#fb9f3a"
             ],
             [
              0.8888888888888888,
              "#fdca26"
             ],
             [
              1,
              "#f0f921"
             ]
            ],
            "type": "histogram2dcontour"
           }
          ],
          "mesh3d": [
           {
            "colorbar": {
             "outlinewidth": 0,
             "ticks": ""
            },
            "type": "mesh3d"
           }
          ],
          "parcoords": [
           {
            "line": {
             "colorbar": {
              "outlinewidth": 0,
              "ticks": ""
             }
            },
            "type": "parcoords"
           }
          ],
          "pie": [
           {
            "automargin": true,
            "type": "pie"
           }
          ],
          "scatter": [
           {
            "fillpattern": {
             "fillmode": "overlay",
             "size": 10,
             "solidity": 0.2
            },
            "type": "scatter"
           }
          ],
          "scatter3d": [
           {
            "line": {
             "colorbar": {
              "outlinewidth": 0,
              "ticks": ""
             }
            },
            "marker": {
             "colorbar": {
              "outlinewidth": 0,
              "ticks": ""
             }
            },
            "type": "scatter3d"
           }
          ],
          "scattercarpet": [
           {
            "marker": {
             "colorbar": {
              "outlinewidth": 0,
              "ticks": ""
             }
            },
            "type": "scattercarpet"
           }
          ],
          "scattergeo": [
           {
            "marker": {
             "colorbar": {
              "outlinewidth": 0,
              "ticks": ""
             }
            },
            "type": "scattergeo"
           }
          ],
          "scattergl": [
           {
            "marker": {
             "colorbar": {
              "outlinewidth": 0,
              "ticks": ""
             }
            },
            "type": "scattergl"
           }
          ],
          "scattermapbox": [
           {
            "marker": {
             "colorbar": {
              "outlinewidth": 0,
              "ticks": ""
             }
            },
            "type": "scattermapbox"
           }
          ],
          "scatterpolar": [
           {
            "marker": {
             "colorbar": {
              "outlinewidth": 0,
              "ticks": ""
             }
            },
            "type": "scatterpolar"
           }
          ],
          "scatterpolargl": [
           {
            "marker": {
             "colorbar": {
              "outlinewidth": 0,
              "ticks": ""
             }
            },
            "type": "scatterpolargl"
           }
          ],
          "scatterternary": [
           {
            "marker": {
             "colorbar": {
              "outlinewidth": 0,
              "ticks": ""
             }
            },
            "type": "scatterternary"
           }
          ],
          "surface": [
           {
            "colorbar": {
             "outlinewidth": 0,
             "ticks": ""
            },
            "colorscale": [
             [
              0,
              "#0d0887"
             ],
             [
              0.1111111111111111,
              "#46039f"
             ],
             [
              0.2222222222222222,
              "#7201a8"
             ],
             [
              0.3333333333333333,
              "#9c179e"
             ],
             [
              0.4444444444444444,
              "#bd3786"
             ],
             [
              0.5555555555555556,
              "#d8576b"
             ],
             [
              0.6666666666666666,
              "#ed7953"
             ],
             [
              0.7777777777777778,
              "#fb9f3a"
             ],
             [
              0.8888888888888888,
              "#fdca26"
             ],
             [
              1,
              "#f0f921"
             ]
            ],
            "type": "surface"
           }
          ],
          "table": [
           {
            "cells": {
             "fill": {
              "color": "#EBF0F8"
             },
             "line": {
              "color": "white"
             }
            },
            "header": {
             "fill": {
              "color": "#C8D4E3"
             },
             "line": {
              "color": "white"
             }
            },
            "type": "table"
           }
          ]
         },
         "layout": {
          "annotationdefaults": {
           "arrowcolor": "#2a3f5f",
           "arrowhead": 0,
           "arrowwidth": 1
          },
          "autotypenumbers": "strict",
          "coloraxis": {
           "colorbar": {
            "outlinewidth": 0,
            "ticks": ""
           }
          },
          "colorscale": {
           "diverging": [
            [
             0,
             "#8e0152"
            ],
            [
             0.1,
             "#c51b7d"
            ],
            [
             0.2,
             "#de77ae"
            ],
            [
             0.3,
             "#f1b6da"
            ],
            [
             0.4,
             "#fde0ef"
            ],
            [
             0.5,
             "#f7f7f7"
            ],
            [
             0.6,
             "#e6f5d0"
            ],
            [
             0.7,
             "#b8e186"
            ],
            [
             0.8,
             "#7fbc41"
            ],
            [
             0.9,
             "#4d9221"
            ],
            [
             1,
             "#276419"
            ]
           ],
           "sequential": [
            [
             0,
             "#0d0887"
            ],
            [
             0.1111111111111111,
             "#46039f"
            ],
            [
             0.2222222222222222,
             "#7201a8"
            ],
            [
             0.3333333333333333,
             "#9c179e"
            ],
            [
             0.4444444444444444,
             "#bd3786"
            ],
            [
             0.5555555555555556,
             "#d8576b"
            ],
            [
             0.6666666666666666,
             "#ed7953"
            ],
            [
             0.7777777777777778,
             "#fb9f3a"
            ],
            [
             0.8888888888888888,
             "#fdca26"
            ],
            [
             1,
             "#f0f921"
            ]
           ],
           "sequentialminus": [
            [
             0,
             "#0d0887"
            ],
            [
             0.1111111111111111,
             "#46039f"
            ],
            [
             0.2222222222222222,
             "#7201a8"
            ],
            [
             0.3333333333333333,
             "#9c179e"
            ],
            [
             0.4444444444444444,
             "#bd3786"
            ],
            [
             0.5555555555555556,
             "#d8576b"
            ],
            [
             0.6666666666666666,
             "#ed7953"
            ],
            [
             0.7777777777777778,
             "#fb9f3a"
            ],
            [
             0.8888888888888888,
             "#fdca26"
            ],
            [
             1,
             "#f0f921"
            ]
           ]
          },
          "colorway": [
           "#636efa",
           "#EF553B",
           "#00cc96",
           "#ab63fa",
           "#FFA15A",
           "#19d3f3",
           "#FF6692",
           "#B6E880",
           "#FF97FF",
           "#FECB52"
          ],
          "font": {
           "color": "#2a3f5f"
          },
          "geo": {
           "bgcolor": "white",
           "lakecolor": "white",
           "landcolor": "#E5ECF6",
           "showlakes": true,
           "showland": true,
           "subunitcolor": "white"
          },
          "hoverlabel": {
           "align": "left"
          },
          "hovermode": "closest",
          "mapbox": {
           "style": "light"
          },
          "paper_bgcolor": "white",
          "plot_bgcolor": "#E5ECF6",
          "polar": {
           "angularaxis": {
            "gridcolor": "white",
            "linecolor": "white",
            "ticks": ""
           },
           "bgcolor": "#E5ECF6",
           "radialaxis": {
            "gridcolor": "white",
            "linecolor": "white",
            "ticks": ""
           }
          },
          "scene": {
           "xaxis": {
            "backgroundcolor": "#E5ECF6",
            "gridcolor": "white",
            "gridwidth": 2,
            "linecolor": "white",
            "showbackground": true,
            "ticks": "",
            "zerolinecolor": "white"
           },
           "yaxis": {
            "backgroundcolor": "#E5ECF6",
            "gridcolor": "white",
            "gridwidth": 2,
            "linecolor": "white",
            "showbackground": true,
            "ticks": "",
            "zerolinecolor": "white"
           },
           "zaxis": {
            "backgroundcolor": "#E5ECF6",
            "gridcolor": "white",
            "gridwidth": 2,
            "linecolor": "white",
            "showbackground": true,
            "ticks": "",
            "zerolinecolor": "white"
           }
          },
          "shapedefaults": {
           "line": {
            "color": "#2a3f5f"
           }
          },
          "ternary": {
           "aaxis": {
            "gridcolor": "white",
            "linecolor": "white",
            "ticks": ""
           },
           "baxis": {
            "gridcolor": "white",
            "linecolor": "white",
            "ticks": ""
           },
           "bgcolor": "#E5ECF6",
           "caxis": {
            "gridcolor": "white",
            "linecolor": "white",
            "ticks": ""
           }
          },
          "title": {
           "x": 0.05
          },
          "xaxis": {
           "automargin": true,
           "gridcolor": "white",
           "linecolor": "white",
           "ticks": "",
           "title": {
            "standoff": 15
           },
           "zerolinecolor": "white",
           "zerolinewidth": 2
          },
          "yaxis": {
           "automargin": true,
           "gridcolor": "white",
           "linecolor": "white",
           "ticks": "",
           "title": {
            "standoff": 15
           },
           "zerolinecolor": "white",
           "zerolinewidth": 2
          }
         }
        }
       }
      },
      "text/html": [
       "<div>                            <div id=\"f599fc06-b17c-46fc-b0f5-0cbc969252d6\" class=\"plotly-graph-div\" style=\"height:525px; width:100%;\"></div>            <script type=\"text/javascript\">                require([\"plotly\"], function(Plotly) {                    window.PLOTLYENV=window.PLOTLYENV || {};                                    if (document.getElementById(\"f599fc06-b17c-46fc-b0f5-0cbc969252d6\")) {                    Plotly.newPlot(                        \"f599fc06-b17c-46fc-b0f5-0cbc969252d6\",                        [{\"x\":[0.05,0.15000000000000002,0.25,0.35000000000000003,0.45,0.55,0.6500000000000001,0.7500000000000001,0.8500000000000001,0.9500000000000001],\"y\":[0,0,0,0,1,16,8,23,26,9926],\"type\":\"bar\"}],                        {\"template\":{\"data\":{\"histogram2dcontour\":[{\"type\":\"histogram2dcontour\",\"colorbar\":{\"outlinewidth\":0,\"ticks\":\"\"},\"colorscale\":[[0.0,\"#0d0887\"],[0.1111111111111111,\"#46039f\"],[0.2222222222222222,\"#7201a8\"],[0.3333333333333333,\"#9c179e\"],[0.4444444444444444,\"#bd3786\"],[0.5555555555555556,\"#d8576b\"],[0.6666666666666666,\"#ed7953\"],[0.7777777777777778,\"#fb9f3a\"],[0.8888888888888888,\"#fdca26\"],[1.0,\"#f0f921\"]]}],\"choropleth\":[{\"type\":\"choropleth\",\"colorbar\":{\"outlinewidth\":0,\"ticks\":\"\"}}],\"histogram2d\":[{\"type\":\"histogram2d\",\"colorbar\":{\"outlinewidth\":0,\"ticks\":\"\"},\"colorscale\":[[0.0,\"#0d0887\"],[0.1111111111111111,\"#46039f\"],[0.2222222222222222,\"#7201a8\"],[0.3333333333333333,\"#9c179e\"],[0.4444444444444444,\"#bd3786\"],[0.5555555555555556,\"#d8576b\"],[0.6666666666666666,\"#ed7953\"],[0.7777777777777778,\"#fb9f3a\"],[0.8888888888888888,\"#fdca26\"],[1.0,\"#f0f921\"]]}],\"heatmap\":[{\"type\":\"heatmap\",\"colorbar\":{\"outlinewidth\":0,\"ticks\":\"\"},\"colorscale\":[[0.0,\"#0d0887\"],[0.1111111111111111,\"#46039f\"],[0.2222222222222222,\"#7201a8\"],[0.3333333333333333,\"#9c179e\"],[0.4444444444444444,\"#bd3786\"],[0.5555555555555556,\"#d8576b\"],[0.6666666666666666,\"#ed7953\"],[0.7777777777777778,\"#fb9f3a\"],[0.8888888888888888,\"#fdca26\"],[1.0,\"#f0f921\"]]}],\"heatmapgl\":[{\"type\":\"heatmapgl\",\"colorbar\":{\"outlinewidth\":0,\"ticks\":\"\"},\"colorscale\":[[0.0,\"#0d0887\"],[0.1111111111111111,\"#46039f\"],[0.2222222222222222,\"#7201a8\"],[0.3333333333333333,\"#9c179e\"],[0.4444444444444444,\"#bd3786\"],[0.5555555555555556,\"#d8576b\"],[0.6666666666666666,\"#ed7953\"],[0.7777777777777778,\"#fb9f3a\"],[0.8888888888888888,\"#fdca26\"],[1.0,\"#f0f921\"]]}],\"contourcarpet\":[{\"type\":\"contourcarpet\",\"colorbar\":{\"outlinewidth\":0,\"ticks\":\"\"}}],\"contour\":[{\"type\":\"contour\",\"colorbar\":{\"outlinewidth\":0,\"ticks\":\"\"},\"colorscale\":[[0.0,\"#0d0887\"],[0.1111111111111111,\"#46039f\"],[0.2222222222222222,\"#7201a8\"],[0.3333333333333333,\"#9c179e\"],[0.4444444444444444,\"#bd3786\"],[0.5555555555555556,\"#d8576b\"],[0.6666666666666666,\"#ed7953\"],[0.7777777777777778,\"#fb9f3a\"],[0.8888888888888888,\"#fdca26\"],[1.0,\"#f0f921\"]]}],\"surface\":[{\"type\":\"surface\",\"colorbar\":{\"outlinewidth\":0,\"ticks\":\"\"},\"colorscale\":[[0.0,\"#0d0887\"],[0.1111111111111111,\"#46039f\"],[0.2222222222222222,\"#7201a8\"],[0.3333333333333333,\"#9c179e\"],[0.4444444444444444,\"#bd3786\"],[0.5555555555555556,\"#d8576b\"],[0.6666666666666666,\"#ed7953\"],[0.7777777777777778,\"#fb9f3a\"],[0.8888888888888888,\"#fdca26\"],[1.0,\"#f0f921\"]]}],\"mesh3d\":[{\"type\":\"mesh3d\",\"colorbar\":{\"outlinewidth\":0,\"ticks\":\"\"}}],\"scatter\":[{\"fillpattern\":{\"fillmode\":\"overlay\",\"size\":10,\"solidity\":0.2},\"type\":\"scatter\"}],\"parcoords\":[{\"type\":\"parcoords\",\"line\":{\"colorbar\":{\"outlinewidth\":0,\"ticks\":\"\"}}}],\"scatterpolargl\":[{\"type\":\"scatterpolargl\",\"marker\":{\"colorbar\":{\"outlinewidth\":0,\"ticks\":\"\"}}}],\"bar\":[{\"error_x\":{\"color\":\"#2a3f5f\"},\"error_y\":{\"color\":\"#2a3f5f\"},\"marker\":{\"line\":{\"color\":\"#E5ECF6\",\"width\":0.5},\"pattern\":{\"fillmode\":\"overlay\",\"size\":10,\"solidity\":0.2}},\"type\":\"bar\"}],\"scattergeo\":[{\"type\":\"scattergeo\",\"marker\":{\"colorbar\":{\"outlinewidth\":0,\"ticks\":\"\"}}}],\"scatterpolar\":[{\"type\":\"scatterpolar\",\"marker\":{\"colorbar\":{\"outlinewidth\":0,\"ticks\":\"\"}}}],\"histogram\":[{\"marker\":{\"pattern\":{\"fillmode\":\"overlay\",\"size\":10,\"solidity\":0.2}},\"type\":\"histogram\"}],\"scattergl\":[{\"type\":\"scattergl\",\"marker\":{\"colorbar\":{\"outlinewidth\":0,\"ticks\":\"\"}}}],\"scatter3d\":[{\"type\":\"scatter3d\",\"line\":{\"colorbar\":{\"outlinewidth\":0,\"ticks\":\"\"}},\"marker\":{\"colorbar\":{\"outlinewidth\":0,\"ticks\":\"\"}}}],\"scattermapbox\":[{\"type\":\"scattermapbox\",\"marker\":{\"colorbar\":{\"outlinewidth\":0,\"ticks\":\"\"}}}],\"scatterternary\":[{\"type\":\"scatterternary\",\"marker\":{\"colorbar\":{\"outlinewidth\":0,\"ticks\":\"\"}}}],\"scattercarpet\":[{\"type\":\"scattercarpet\",\"marker\":{\"colorbar\":{\"outlinewidth\":0,\"ticks\":\"\"}}}],\"carpet\":[{\"aaxis\":{\"endlinecolor\":\"#2a3f5f\",\"gridcolor\":\"white\",\"linecolor\":\"white\",\"minorgridcolor\":\"white\",\"startlinecolor\":\"#2a3f5f\"},\"baxis\":{\"endlinecolor\":\"#2a3f5f\",\"gridcolor\":\"white\",\"linecolor\":\"white\",\"minorgridcolor\":\"white\",\"startlinecolor\":\"#2a3f5f\"},\"type\":\"carpet\"}],\"table\":[{\"cells\":{\"fill\":{\"color\":\"#EBF0F8\"},\"line\":{\"color\":\"white\"}},\"header\":{\"fill\":{\"color\":\"#C8D4E3\"},\"line\":{\"color\":\"white\"}},\"type\":\"table\"}],\"barpolar\":[{\"marker\":{\"line\":{\"color\":\"#E5ECF6\",\"width\":0.5},\"pattern\":{\"fillmode\":\"overlay\",\"size\":10,\"solidity\":0.2}},\"type\":\"barpolar\"}],\"pie\":[{\"automargin\":true,\"type\":\"pie\"}]},\"layout\":{\"autotypenumbers\":\"strict\",\"colorway\":[\"#636efa\",\"#EF553B\",\"#00cc96\",\"#ab63fa\",\"#FFA15A\",\"#19d3f3\",\"#FF6692\",\"#B6E880\",\"#FF97FF\",\"#FECB52\"],\"font\":{\"color\":\"#2a3f5f\"},\"hovermode\":\"closest\",\"hoverlabel\":{\"align\":\"left\"},\"paper_bgcolor\":\"white\",\"plot_bgcolor\":\"#E5ECF6\",\"polar\":{\"bgcolor\":\"#E5ECF6\",\"angularaxis\":{\"gridcolor\":\"white\",\"linecolor\":\"white\",\"ticks\":\"\"},\"radialaxis\":{\"gridcolor\":\"white\",\"linecolor\":\"white\",\"ticks\":\"\"}},\"ternary\":{\"bgcolor\":\"#E5ECF6\",\"aaxis\":{\"gridcolor\":\"white\",\"linecolor\":\"white\",\"ticks\":\"\"},\"baxis\":{\"gridcolor\":\"white\",\"linecolor\":\"white\",\"ticks\":\"\"},\"caxis\":{\"gridcolor\":\"white\",\"linecolor\":\"white\",\"ticks\":\"\"}},\"coloraxis\":{\"colorbar\":{\"outlinewidth\":0,\"ticks\":\"\"}},\"colorscale\":{\"sequential\":[[0.0,\"#0d0887\"],[0.1111111111111111,\"#46039f\"],[0.2222222222222222,\"#7201a8\"],[0.3333333333333333,\"#9c179e\"],[0.4444444444444444,\"#bd3786\"],[0.5555555555555556,\"#d8576b\"],[0.6666666666666666,\"#ed7953\"],[0.7777777777777778,\"#fb9f3a\"],[0.8888888888888888,\"#fdca26\"],[1.0,\"#f0f921\"]],\"sequentialminus\":[[0.0,\"#0d0887\"],[0.1111111111111111,\"#46039f\"],[0.2222222222222222,\"#7201a8\"],[0.3333333333333333,\"#9c179e\"],[0.4444444444444444,\"#bd3786\"],[0.5555555555555556,\"#d8576b\"],[0.6666666666666666,\"#ed7953\"],[0.7777777777777778,\"#fb9f3a\"],[0.8888888888888888,\"#fdca26\"],[1.0,\"#f0f921\"]],\"diverging\":[[0,\"#8e0152\"],[0.1,\"#c51b7d\"],[0.2,\"#de77ae\"],[0.3,\"#f1b6da\"],[0.4,\"#fde0ef\"],[0.5,\"#f7f7f7\"],[0.6,\"#e6f5d0\"],[0.7,\"#b8e186\"],[0.8,\"#7fbc41\"],[0.9,\"#4d9221\"],[1,\"#276419\"]]},\"xaxis\":{\"gridcolor\":\"white\",\"linecolor\":\"white\",\"ticks\":\"\",\"title\":{\"standoff\":15},\"zerolinecolor\":\"white\",\"automargin\":true,\"zerolinewidth\":2},\"yaxis\":{\"gridcolor\":\"white\",\"linecolor\":\"white\",\"ticks\":\"\",\"title\":{\"standoff\":15},\"zerolinecolor\":\"white\",\"automargin\":true,\"zerolinewidth\":2},\"scene\":{\"xaxis\":{\"backgroundcolor\":\"#E5ECF6\",\"gridcolor\":\"white\",\"linecolor\":\"white\",\"showbackground\":true,\"ticks\":\"\",\"zerolinecolor\":\"white\",\"gridwidth\":2},\"yaxis\":{\"backgroundcolor\":\"#E5ECF6\",\"gridcolor\":\"white\",\"linecolor\":\"white\",\"showbackground\":true,\"ticks\":\"\",\"zerolinecolor\":\"white\",\"gridwidth\":2},\"zaxis\":{\"backgroundcolor\":\"#E5ECF6\",\"gridcolor\":\"white\",\"linecolor\":\"white\",\"showbackground\":true,\"ticks\":\"\",\"zerolinecolor\":\"white\",\"gridwidth\":2}},\"shapedefaults\":{\"line\":{\"color\":\"#2a3f5f\"}},\"annotationdefaults\":{\"arrowcolor\":\"#2a3f5f\",\"arrowhead\":0,\"arrowwidth\":1},\"geo\":{\"bgcolor\":\"white\",\"landcolor\":\"#E5ECF6\",\"subunitcolor\":\"white\",\"showland\":true,\"showlakes\":true,\"lakecolor\":\"white\"},\"title\":{\"x\":0.05},\"mapbox\":{\"style\":\"light\"}}}},                        {\"responsive\": true}                    ).then(function(){\n",
       "                            \n",
       "var gd = document.getElementById('f599fc06-b17c-46fc-b0f5-0cbc969252d6');\n",
       "var x = new MutationObserver(function (mutations, observer) {{\n",
       "        var display = window.getComputedStyle(gd).display;\n",
       "        if (!display || display === 'none') {{\n",
       "            console.log([gd, 'removed!']);\n",
       "            Plotly.purge(gd);\n",
       "            observer.disconnect();\n",
       "        }}\n",
       "}});\n",
       "\n",
       "// Listen for the removal of the full notebook cells\n",
       "var notebookContainer = gd.closest('#notebook-container');\n",
       "if (notebookContainer) {{\n",
       "    x.observe(notebookContainer, {childList: true});\n",
       "}}\n",
       "\n",
       "// Listen for the clearing of the current output cell\n",
       "var outputEl = gd.closest('.output');\n",
       "if (outputEl) {{\n",
       "    x.observe(outputEl, {childList: true});\n",
       "}}\n",
       "\n",
       "                        })                };                });            </script>        </div>"
      ]
     },
     "metadata": {},
     "output_type": "display_data"
    }
   ],
   "source": [
    "import plotly.graph_objs as go\n",
    "#langs = ['C', 'C++', 'Java', 'Python', 'PHP']\n",
    "#students = [23,17,35,29,12]\n",
    "data = [go.Bar(\n",
    "   x = positions,\n",
    "   y = counts\n",
    ")]\n",
    "fig = go.Figure(data=data)\n",
    "#iplot(fig)\n",
    "fig.show()"
   ]
  },
  {
   "cell_type": "code",
   "execution_count": 80,
   "id": "9de660aa",
   "metadata": {},
   "outputs": [
    {
     "ename": "ValueError",
     "evalue": "All arguments should have the same length. The length of argument `y` is 11, whereas the length of  previously-processed arguments ['x'] is 10",
     "output_type": "error",
     "traceback": [
      "\u001b[1;31m---------------------------------------------------------------------------\u001b[0m",
      "\u001b[1;31mValueError\u001b[0m                                Traceback (most recent call last)",
      "\u001b[1;32m~\\AppData\\Local\\Temp\\ipykernel_8228\\2521696998.py\u001b[0m in \u001b[0;36m<cell line: 1>\u001b[1;34m()\u001b[0m\n\u001b[1;32m----> 1\u001b[1;33m \u001b[0mfig\u001b[0m \u001b[1;33m=\u001b[0m \u001b[0mpx\u001b[0m\u001b[1;33m.\u001b[0m\u001b[0mbar\u001b[0m\u001b[1;33m(\u001b[0m\u001b[0mscores\u001b[0m\u001b[1;33m[\u001b[0m\u001b[1;34m\"bins\"\u001b[0m\u001b[1;33m]\u001b[0m\u001b[1;33m,\u001b[0m \u001b[0mscores\u001b[0m\u001b[1;33m[\u001b[0m\u001b[1;34m\"counts\"\u001b[0m\u001b[1;33m]\u001b[0m\u001b[1;33m)\u001b[0m\u001b[1;33m\u001b[0m\u001b[1;33m\u001b[0m\u001b[0m\n\u001b[0m",
      "\u001b[1;32m~\\Anaconda3\\envs\\uncertainty\\lib\\site-packages\\plotly\\express\\_chart_types.py\u001b[0m in \u001b[0;36mbar\u001b[1;34m(data_frame, x, y, color, pattern_shape, facet_row, facet_col, facet_col_wrap, facet_row_spacing, facet_col_spacing, hover_name, hover_data, custom_data, text, base, error_x, error_x_minus, error_y, error_y_minus, animation_frame, animation_group, category_orders, labels, color_discrete_sequence, color_discrete_map, color_continuous_scale, pattern_shape_sequence, pattern_shape_map, range_color, color_continuous_midpoint, opacity, orientation, barmode, log_x, log_y, range_x, range_y, text_auto, title, template, width, height)\u001b[0m\n\u001b[0;32m    371\u001b[0m     \u001b[0mmark\u001b[0m\u001b[1;33m.\u001b[0m\u001b[1;33m\u001b[0m\u001b[1;33m\u001b[0m\u001b[0m\n\u001b[0;32m    372\u001b[0m     \"\"\"\n\u001b[1;32m--> 373\u001b[1;33m     return make_figure(\n\u001b[0m\u001b[0;32m    374\u001b[0m         \u001b[0margs\u001b[0m\u001b[1;33m=\u001b[0m\u001b[0mlocals\u001b[0m\u001b[1;33m(\u001b[0m\u001b[1;33m)\u001b[0m\u001b[1;33m,\u001b[0m\u001b[1;33m\u001b[0m\u001b[1;33m\u001b[0m\u001b[0m\n\u001b[0;32m    375\u001b[0m         \u001b[0mconstructor\u001b[0m\u001b[1;33m=\u001b[0m\u001b[0mgo\u001b[0m\u001b[1;33m.\u001b[0m\u001b[0mBar\u001b[0m\u001b[1;33m,\u001b[0m\u001b[1;33m\u001b[0m\u001b[1;33m\u001b[0m\u001b[0m\n",
      "\u001b[1;32m~\\Anaconda3\\envs\\uncertainty\\lib\\site-packages\\plotly\\express\\_core.py\u001b[0m in \u001b[0;36mmake_figure\u001b[1;34m(args, constructor, trace_patch, layout_patch)\u001b[0m\n\u001b[0;32m   1988\u001b[0m     \u001b[0mapply_default_cascade\u001b[0m\u001b[1;33m(\u001b[0m\u001b[0margs\u001b[0m\u001b[1;33m)\u001b[0m\u001b[1;33m\u001b[0m\u001b[1;33m\u001b[0m\u001b[0m\n\u001b[0;32m   1989\u001b[0m \u001b[1;33m\u001b[0m\u001b[0m\n\u001b[1;32m-> 1990\u001b[1;33m     \u001b[0margs\u001b[0m \u001b[1;33m=\u001b[0m \u001b[0mbuild_dataframe\u001b[0m\u001b[1;33m(\u001b[0m\u001b[0margs\u001b[0m\u001b[1;33m,\u001b[0m \u001b[0mconstructor\u001b[0m\u001b[1;33m)\u001b[0m\u001b[1;33m\u001b[0m\u001b[1;33m\u001b[0m\u001b[0m\n\u001b[0m\u001b[0;32m   1991\u001b[0m     \u001b[1;32mif\u001b[0m \u001b[0mconstructor\u001b[0m \u001b[1;32min\u001b[0m \u001b[1;33m[\u001b[0m\u001b[0mgo\u001b[0m\u001b[1;33m.\u001b[0m\u001b[0mTreemap\u001b[0m\u001b[1;33m,\u001b[0m \u001b[0mgo\u001b[0m\u001b[1;33m.\u001b[0m\u001b[0mSunburst\u001b[0m\u001b[1;33m,\u001b[0m \u001b[0mgo\u001b[0m\u001b[1;33m.\u001b[0m\u001b[0mIcicle\u001b[0m\u001b[1;33m]\u001b[0m \u001b[1;32mand\u001b[0m \u001b[0margs\u001b[0m\u001b[1;33m[\u001b[0m\u001b[1;34m\"path\"\u001b[0m\u001b[1;33m]\u001b[0m \u001b[1;32mis\u001b[0m \u001b[1;32mnot\u001b[0m \u001b[1;32mNone\u001b[0m\u001b[1;33m:\u001b[0m\u001b[1;33m\u001b[0m\u001b[1;33m\u001b[0m\u001b[0m\n\u001b[0;32m   1992\u001b[0m         \u001b[0margs\u001b[0m \u001b[1;33m=\u001b[0m \u001b[0mprocess_dataframe_hierarchy\u001b[0m\u001b[1;33m(\u001b[0m\u001b[0margs\u001b[0m\u001b[1;33m)\u001b[0m\u001b[1;33m\u001b[0m\u001b[1;33m\u001b[0m\u001b[0m\n",
      "\u001b[1;32m~\\Anaconda3\\envs\\uncertainty\\lib\\site-packages\\plotly\\express\\_core.py\u001b[0m in \u001b[0;36mbuild_dataframe\u001b[1;34m(args, constructor)\u001b[0m\n\u001b[0;32m   1403\u001b[0m     \u001b[1;31m# now that things have been prepped, we do the systematic rewriting of `args`\u001b[0m\u001b[1;33m\u001b[0m\u001b[1;33m\u001b[0m\u001b[0m\n\u001b[0;32m   1404\u001b[0m \u001b[1;33m\u001b[0m\u001b[0m\n\u001b[1;32m-> 1405\u001b[1;33m     df_output, wide_id_vars = process_args_into_dataframe(\n\u001b[0m\u001b[0;32m   1406\u001b[0m         \u001b[0margs\u001b[0m\u001b[1;33m,\u001b[0m \u001b[0mwide_mode\u001b[0m\u001b[1;33m,\u001b[0m \u001b[0mvar_name\u001b[0m\u001b[1;33m,\u001b[0m \u001b[0mvalue_name\u001b[0m\u001b[1;33m\u001b[0m\u001b[1;33m\u001b[0m\u001b[0m\n\u001b[0;32m   1407\u001b[0m     )\n",
      "\u001b[1;32m~\\Anaconda3\\envs\\uncertainty\\lib\\site-packages\\plotly\\express\\_core.py\u001b[0m in \u001b[0;36mprocess_args_into_dataframe\u001b[1;34m(args, wide_mode, var_name, value_name)\u001b[0m\n\u001b[0;32m   1243\u001b[0m \u001b[1;33m\u001b[0m\u001b[0m\n\u001b[0;32m   1244\u001b[0m                 \u001b[1;32mif\u001b[0m \u001b[0mlength\u001b[0m \u001b[1;32mand\u001b[0m \u001b[0mlen\u001b[0m\u001b[1;33m(\u001b[0m\u001b[0margument\u001b[0m\u001b[1;33m)\u001b[0m \u001b[1;33m!=\u001b[0m \u001b[0mlength\u001b[0m\u001b[1;33m:\u001b[0m\u001b[1;33m\u001b[0m\u001b[1;33m\u001b[0m\u001b[0m\n\u001b[1;32m-> 1245\u001b[1;33m                     raise ValueError(\n\u001b[0m\u001b[0;32m   1246\u001b[0m                         \u001b[1;34m\"All arguments should have the same length. \"\u001b[0m\u001b[1;33m\u001b[0m\u001b[1;33m\u001b[0m\u001b[0m\n\u001b[0;32m   1247\u001b[0m                         \u001b[1;34m\"The length of argument `%s` is %d, whereas the \"\u001b[0m\u001b[1;33m\u001b[0m\u001b[1;33m\u001b[0m\u001b[0m\n",
      "\u001b[1;31mValueError\u001b[0m: All arguments should have the same length. The length of argument `y` is 11, whereas the length of  previously-processed arguments ['x'] is 10"
     ]
    }
   ],
   "source": [
    "#fig = px.bar(scores[\"bins\"], scores[\"counts\"])"
   ]
  },
  {
   "cell_type": "code",
   "execution_count": 33,
   "id": "ab796550",
   "metadata": {},
   "outputs": [
    {
     "ename": "TypeError",
     "evalue": "'NoneType' object is not subscriptable",
     "output_type": "error",
     "traceback": [
      "\u001b[1;31m---------------------------------------------------------------------------\u001b[0m",
      "\u001b[1;31mTypeError\u001b[0m                                 Traceback (most recent call last)",
      "\u001b[1;32m~\\AppData\\Local\\Temp\\ipykernel_8228\\1679796268.py\u001b[0m in \u001b[0;36m<cell line: 1>\u001b[1;34m()\u001b[0m\n\u001b[1;32m----> 1\u001b[1;33m \u001b[0mscores\u001b[0m \u001b[1;33m=\u001b[0m \u001b[0mplot_single_calibration_curves\u001b[0m\u001b[1;33m(\u001b[0m\u001b[0mscores\u001b[0m\u001b[1;33m,\u001b[0m\u001b[0mconfidences\u001b[0m\u001b[1;33m,\u001b[0m\u001b[0mcalib_curve_name\u001b[0m\u001b[1;33m=\u001b[0m\u001b[1;34m\"reliability_diagram\"\u001b[0m\u001b[1;33m,\u001b[0m\u001b[0mhist_name\u001b[0m\u001b[1;33m=\u001b[0m\u001b[1;34m\"histogram\"\u001b[0m\u001b[1;33m)\u001b[0m\u001b[1;33m\u001b[0m\u001b[1;33m\u001b[0m\u001b[0m\n\u001b[0m",
      "\u001b[1;32m~\\AppData\\Local\\Temp\\ipykernel_8228\\116152552.py\u001b[0m in \u001b[0;36mplot_single_calibration_curves\u001b[1;34m(scores, confidences, calib_curve_name, hist_name)\u001b[0m\n\u001b[0;32m      3\u001b[0m     \u001b[0mfig_2\u001b[0m \u001b[1;33m=\u001b[0m \u001b[0mgo\u001b[0m\u001b[1;33m.\u001b[0m\u001b[0mFigure\u001b[0m\u001b[1;33m(\u001b[0m\u001b[1;33m)\u001b[0m\u001b[1;33m\u001b[0m\u001b[1;33m\u001b[0m\u001b[0m\n\u001b[0;32m      4\u001b[0m \u001b[1;33m\u001b[0m\u001b[0m\n\u001b[1;32m----> 5\u001b[1;33m     \u001b[0mprint\u001b[0m\u001b[1;33m(\u001b[0m\u001b[0mscores\u001b[0m\u001b[1;33m[\u001b[0m\u001b[1;34m\"confidences\"\u001b[0m\u001b[1;33m]\u001b[0m\u001b[1;33m)\u001b[0m\u001b[1;33m\u001b[0m\u001b[1;33m\u001b[0m\u001b[0m\n\u001b[0m\u001b[0;32m      6\u001b[0m     \u001b[0mprint\u001b[0m\u001b[1;33m(\u001b[0m\u001b[0mscores\u001b[0m\u001b[1;33m[\u001b[0m\u001b[1;34m\"accuracies\"\u001b[0m\u001b[1;33m]\u001b[0m\u001b[1;33m)\u001b[0m\u001b[1;33m\u001b[0m\u001b[1;33m\u001b[0m\u001b[0m\n\u001b[0;32m      7\u001b[0m \u001b[1;33m\u001b[0m\u001b[0m\n",
      "\u001b[1;31mTypeError\u001b[0m: 'NoneType' object is not subscriptable"
     ]
    }
   ],
   "source": [
    "scores = plot_single_calibration_curves(scores,confidences,calib_curve_name=\"reliability_diagram\",hist_name=\"histogram\")"
   ]
  },
  {
   "cell_type": "code",
   "execution_count": 34,
   "id": "319569ca",
   "metadata": {},
   "outputs": [],
   "source": [
    "scores"
   ]
  },
  {
   "cell_type": "code",
   "execution_count": null,
   "id": "9d722234",
   "metadata": {},
   "outputs": [],
   "source": [
    "    bin_start=scores[\"bins\"][0]\n",
    "    bin_end=scores[\"bins\"][-1]+0.1\n",
    "    bin_width=0.1 #scores[\"bins\"][1]-scores[\"bins\"][0]\n",
    "    bin_prop={\"start\":bin_start,\"end\":bin_end,\"size\":bin_width}"
   ]
  }
 ],
 "metadata": {
  "kernelspec": {
   "display_name": "Python 3 (ipykernel)",
   "language": "python",
   "name": "python3"
  },
  "language_info": {
   "codemirror_mode": {
    "name": "ipython",
    "version": 3
   },
   "file_extension": ".py",
   "mimetype": "text/x-python",
   "name": "python",
   "nbconvert_exporter": "python",
   "pygments_lexer": "ipython3",
   "version": "3.9.6"
  }
 },
 "nbformat": 4,
 "nbformat_minor": 5
}
