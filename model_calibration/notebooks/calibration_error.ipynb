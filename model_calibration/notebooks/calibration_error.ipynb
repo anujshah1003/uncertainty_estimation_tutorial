{
 "cells": [
  {
   "cell_type": "code",
   "execution_count": 1,
   "id": "952510ac-fb56-4888-bff4-b76bef445959",
   "metadata": {},
   "outputs": [],
   "source": [
    "import numpy as np\n",
    "import tensorflow as tf\n",
    "import uncertainty_metrics.tensorflow as umtf\n",
    "import uncertainty_metrics.numpy as umnp\n",
    "import tensorflow_probability as tfp"
   ]
  },
  {
   "cell_type": "code",
   "execution_count": 2,
   "id": "35df6430-d0c6-486e-a161-94aed85fb67c",
   "metadata": {},
   "outputs": [],
   "source": [
    "pred_prob = np.array([0.7,0.67,0.23,0.19,0.9,0.97,0.54,0.77,0.15,0.3,0.85,0.69,0.34,0.45,0.53])\n",
    "pred_prob2= np.array([[0.3,0.7],[0.3,0.67],[0.77,0.23],[0.81,0.19],[0.1,0.9],[0.03,0.97],[0.46,0.54],[0.23,0.77],[0.85,0.15],[0.7,0.3],[0.15,0.85],[0.31,0.69],[0.64,0.34],[0.55,0.45],[0.47,0.53]])\n",
    "\n",
    "pred_class = np.array([1,1,0,0,1,1,1,1,0,0,1,1,0,0,1])\n",
    "true_class = np.array([1,0,1,0,1,0,0,0,1,0,1,1,0,1,1])"
   ]
  },
  {
   "cell_type": "code",
   "execution_count": 4,
   "id": "c1f43c9a-24ce-49f8-947c-72eb862ebabd",
   "metadata": {},
   "outputs": [
    {
     "data": {
      "text/plain": [
       "array([0.66666667, 0.5       , 0.4       , 0.4       , 0.66666667,\n",
       "       0.66666667, 0.5       , 0.66666667, 0.4       , 0.4       ,\n",
       "       0.66666667, 0.66666667, 0.4       , 0.5       , 0.5       ])"
      ]
     },
     "execution_count": 4,
     "metadata": {},
     "output_type": "execute_result"
    }
   ],
   "source": [
    "pred_prob_cl = np.array([0.66666667, 0.5, 0.4, 0.4, 0.66666667,0.66666667, 0.5, 0.66666667, 0.4, 0.4 ,\n",
    "       0.66666667, 0.66666667, 0.4, 0.5, 0.5])\n",
    "pred_prob_cl"
   ]
  },
  {
   "cell_type": "code",
   "execution_count": 5,
   "id": "78b35f35-627d-47ab-a6bd-a2af709324ac",
   "metadata": {},
   "outputs": [
    {
     "name": "stdout",
     "output_type": "stream",
     "text": [
      "0.19733333333333344 1.3333333548359862e-09\n"
     ]
    }
   ],
   "source": [
    "# this takes the multiclass format of taking the max probability\n",
    "# ece1 = umtf.ExpectedCalibrationError(true_class, pred_prob, num_bins=5)\n",
    "ece2 = umnp.ece(true_class, pred_prob, num_bins=5)\n",
    "ece2_cl = umnp.ece(true_class, pred_prob_cl, num_bins=5)\n",
    "\n",
    "print(ece2,ece2_cl)\n"
   ]
  },
  {
   "cell_type": "code",
   "execution_count": 174,
   "id": "92ddb960-fe26-4cd7-b4d1-49a82a972eba",
   "metadata": {},
   "outputs": [],
   "source": [
    "#https://towardsdatascience.com/expected-calibration-error-ece-a-step-by-step-visual-explanation-with-python-code-c3e9aa12937d\n",
    "def expected_calibration_error(samples, true_labels, M=3,binary=True):\n",
    "    # uniform binning approach with M number of bins\n",
    "    bin_boundaries = np.linspace(0, 1, M + 1)\n",
    "    bin_lowers = bin_boundaries[:-1]\n",
    "    bin_uppers = bin_boundaries[1:]\n",
    "\n",
    "   # # keep confidences / predicted \"probabilities\" as they are\n",
    "   #  confidences = samples\n",
    "\n",
    "    if binary:\n",
    "        # keep confidences / predicted \"probabilities\" as they are\n",
    "        confidences = samples\n",
    "        # get binary predictions from confidences\n",
    "        predicted_label = (samples>0.5).astype(float)\n",
    "    else:                                          \n",
    "        # get max probability per sample i                 \n",
    "        confidences = np.max(samples, axis=1)               \n",
    "        # get predictions from confidences (positional in this case)\n",
    "        predicted_label = np.argmax(samples, axis=1).astype(float)\n",
    "\n",
    "    # get a boolean list of correct/false predictions\n",
    "    accuracies = predicted_label==true_labels\n",
    "\n",
    "    ece = np.zeros(1)\n",
    "    for bin_lower, bin_upper in zip(bin_lowers, bin_uppers):\n",
    "        # determine if sample is in bin m (between bin lower & upper)\n",
    "        in_bin = np.logical_and(confidences >= bin_lower.item(), confidences < bin_upper.item())\n",
    "        # can calculate the empirical probability of a sample falling into bin m: (|Bm|/n)\n",
    "        prop_in_bin = in_bin.astype(float).mean()\n",
    "\n",
    "        if prop_in_bin.item() > 0:\n",
    "            # get the accuracy of bin m: acc(Bm)\n",
    "            accuracy_in_bin = accuracies[in_bin].astype(float).mean()\n",
    "            # get the average confidence of bin m: conf(Bm)\n",
    "            avg_confidence_in_bin = confidences[in_bin].mean()\n",
    "            # calculate |acc(Bm) - conf(Bm)| * (|Bm|/n) for bin m and add to the total ECE\n",
    "            ece += np.abs(avg_confidence_in_bin - accuracy_in_bin) * prop_in_bin\n",
    "    return ece"
   ]
  },
  {
   "cell_type": "code",
   "execution_count": 128,
   "id": "f827e2e3-837e-47e6-9310-49e0752dc46a",
   "metadata": {},
   "outputs": [
    {
     "data": {
      "text/plain": [
       "array([0.25733333])"
      ]
     },
     "execution_count": 128,
     "metadata": {},
     "output_type": "execute_result"
    }
   ],
   "source": [
    "expected_calibration_error(pred_prob,true_class,5)"
   ]
  },
  {
   "cell_type": "code",
   "execution_count": 129,
   "id": "845c9824-2356-4bd7-b288-9458eede8052",
   "metadata": {},
   "outputs": [
    {
     "data": {
      "text/plain": [
       "array([0.196])"
      ]
     },
     "execution_count": 129,
     "metadata": {},
     "output_type": "execute_result"
    }
   ],
   "source": [
    "\n",
    "expected_calibration_error(pred_prob2,true_class,5,False)"
   ]
  },
  {
   "cell_type": "code",
   "execution_count": 134,
   "id": "652a0255-656f-44fa-9afc-6bace5de5e81",
   "metadata": {},
   "outputs": [],
   "source": [
    "# ece=tfp.stats.expected_calibration_error(\n",
    "#     num_bins=5, logits=pred_prob, labels_true=true_class, labels_predicted=pred_class, name=None\n",
    "# )"
   ]
  },
  {
   "cell_type": "markdown",
   "id": "03c1a297-734e-42d5-b6ac-83431cf64495",
   "metadata": {},
   "source": [
    "### Multiclass"
   ]
  },
  {
   "cell_type": "code",
   "execution_count": 185,
   "id": "4dee0f1d-5e6a-4e7b-9103-779ed0df5327",
   "metadata": {},
   "outputs": [],
   "source": [
    "pred_prob_mult = np.array([[0.7,0.2,0.1],[0.1,0.67,0.23],[0.82,0.13,0.05],[0.82,0.03,0.15],\n",
    "                           [0.05,0.05,0.9],[0.97,0.01,0.02],[0.3,0.54,0.16],[0.2,0.77,0.03],\n",
    "                           [0.15,0.1,0.75],[0.6,0.1,0.3],[0.05,0.85,0.1],[0.25,0.06,0.69],\n",
    "                           [0.4,0.34,0.26],[0.42,0.45,0.13],[0.3,0.17,0.53]],np.float32)\n",
    "true_class = np.array([1,0,1,2,1,0,1,2,2,0,1,2,0,1,0])\n",
    "pred_class = np.array([0,1,0,0,2,0,1,1,2,0,1,2,0,1,2])"
   ]
  },
  {
   "cell_type": "code",
   "execution_count": 186,
   "id": "fa6d68aa-e5f7-46c7-a530-689b8b2a4f3e",
   "metadata": {},
   "outputs": [
    {
     "name": "stdout",
     "output_type": "stream",
     "text": [
      "0.3080000023047129\n"
     ]
    }
   ],
   "source": [
    "ece2 = umnp.ece(true_class, pred_prob_mult, num_bins=5)\n",
    "print(ece2)\n"
   ]
  },
  {
   "cell_type": "code",
   "execution_count": 175,
   "id": "2ceab6b0-99ce-4b0f-89d0-420459f30914",
   "metadata": {},
   "outputs": [
    {
     "data": {
      "text/plain": [
       "array([0.308])"
      ]
     },
     "execution_count": 175,
     "metadata": {},
     "output_type": "execute_result"
    }
   ],
   "source": [
    "expected_calibration_error(pred_prob_mult,true_class,5,False)"
   ]
  },
  {
   "cell_type": "code",
   "execution_count": 159,
   "id": "647a25cf-34b5-4e7f-a9ee-136f5aa5545c",
   "metadata": {},
   "outputs": [],
   "source": [
    "    binary=False\n",
    "    bin_boundaries = np.linspace(0, 1, 5 + 1)\n",
    "    bin_lowers = bin_boundaries[:-1]\n",
    "    bin_uppers = bin_boundaries[1:]\n",
    "\n",
    "   # # keep confidences / predicted \"probabilities\" as they are\n",
    "   #  confidences = samples\n",
    "\n",
    "    if binary:\n",
    "        # keep confidences / predicted \"probabilities\" as they are\n",
    "        confidences = pred_prob_mult\n",
    "        # get binary predictions from confidences\n",
    "        predicted_label = (pred_prob_mult>0.5).astype(float)\n",
    "    else:                                          \n",
    "        # get max probability per sample i                 \n",
    "        confidences = np.max(pred_prob_mult, axis=1)               \n",
    "        # get predictions from confidences (positional in this case)\n",
    "        predicted_label = np.argmax(pred_prob_mult, axis=1).astype(float)\n",
    "\n",
    "    # get a boolean list of correct/false predictions\n",
    "    accuracies = predicted_label==true_class\n"
   ]
  },
  {
   "cell_type": "code",
   "execution_count": 160,
   "id": "70cf0c73-b828-45d5-860b-b8bb57a4152a",
   "metadata": {},
   "outputs": [
    {
     "data": {
      "text/plain": [
       "array([0., 1., 0., 0., 2., 0., 1., 1., 2., 0., 1., 2., 0., 1., 2.])"
      ]
     },
     "execution_count": 160,
     "metadata": {},
     "output_type": "execute_result"
    }
   ],
   "source": [
    "predicted_label"
   ]
  },
  {
   "cell_type": "code",
   "execution_count": 161,
   "id": "4dc57b92-64a0-499c-a14c-88ba4ad45979",
   "metadata": {},
   "outputs": [
    {
     "data": {
      "text/plain": [
       "array([0, 1, 0, 0, 2, 0, 1, 1, 2, 0, 1, 2, 0, 1, 2])"
      ]
     },
     "execution_count": 161,
     "metadata": {},
     "output_type": "execute_result"
    }
   ],
   "source": [
    "pred_class"
   ]
  },
  {
   "cell_type": "code",
   "execution_count": 162,
   "id": "9dee0489-e2a5-4d05-8d14-66628f4dee66",
   "metadata": {},
   "outputs": [
    {
     "data": {
      "text/plain": [
       "array([0.7 , 0.67, 0.82, 0.82, 0.9 , 0.97, 0.54, 0.77, 0.75, 0.6 , 0.85,\n",
       "       0.69, 0.4 , 0.45, 0.53], dtype=float32)"
      ]
     },
     "execution_count": 162,
     "metadata": {},
     "output_type": "execute_result"
    }
   ],
   "source": [
    "confidences"
   ]
  },
  {
   "cell_type": "code",
   "execution_count": 176,
   "id": "7e826072-b571-41bd-b4bd-d07f5a076b4a",
   "metadata": {},
   "outputs": [
    {
     "name": "stdout",
     "output_type": "stream",
     "text": [
      "[False False False False False False False False False False False False\n",
      " False False False] 0.0\n",
      "[False False False False False False False False False False False False\n",
      " False False False] 0.0\n",
      "[False False False False False False  True False False False False False\n",
      "  True  True  True] 0.26666666666666666\n",
      "conf 0.07199999491373697\n",
      "[ True  True False False False False False  True  True  True False  True\n",
      " False False False] 0.4\n",
      "conf 0.07866666316986085\n",
      "[False False  True  True  True  True False False False False  True False\n",
      " False False False] 0.3333333333333333\n",
      "conf 0.1573333462079366\n"
     ]
    }
   ],
   "source": [
    "    ece = np.zeros(1)\n",
    "    for bin_lower, bin_upper in zip(bin_lowers, bin_uppers):\n",
    "        # determine if sample is in bin m (between bin lower & upper)\n",
    "        in_bin = np.logical_and(confidences >= bin_lower.item(), confidences < bin_upper.item())\n",
    "        # can calculate the empirical probability of a sample falling into bin m: (|Bm|/n)\n",
    "        prop_in_bin = in_bin.astype(float).mean()\n",
    "        print(in_bin,prop_in_bin)\n",
    "\n",
    "        if prop_in_bin.item() > 0:\n",
    "            # get the accuracy of bin m: acc(Bm)\n",
    "            accuracy_in_bin = accuracies[in_bin].astype(float).mean()\n",
    "            # get the average confidence of bin m: conf(Bm)\n",
    "            avg_confidence_in_bin = confidences[in_bin].mean()\n",
    "            # calculate |acc(Bm) - conf(Bm)| * (|Bm|/n) for bin m and add to the total ECE\n",
    "            print(\"conf\",np.abs(avg_confidence_in_bin - accuracy_in_bin) * prop_in_bin)\n",
    "            ece += np.abs(avg_confidence_in_bin - accuracy_in_bin) * prop_in_bin"
   ]
  },
  {
   "cell_type": "code",
   "execution_count": 164,
   "id": "096830ed-343a-460a-8e78-86cbd2a93ff7",
   "metadata": {},
   "outputs": [
    {
     "data": {
      "text/plain": [
       "array([0.36133332])"
      ]
     },
     "execution_count": 164,
     "metadata": {},
     "output_type": "execute_result"
    }
   ],
   "source": [
    "ece"
   ]
  },
  {
   "cell_type": "code",
   "execution_count": 165,
   "id": "e8359155-e108-4758-880e-d6430a7e0499",
   "metadata": {},
   "outputs": [
    {
     "data": {
      "text/plain": [
       "(array([0. , 0.2, 0.4, 0.6, 0.8]), array([0.2, 0.4, 0.6, 0.8, 1. ]))"
      ]
     },
     "execution_count": 165,
     "metadata": {},
     "output_type": "execute_result"
    }
   ],
   "source": [
    "bin_lowers, bin_uppers"
   ]
  },
  {
   "cell_type": "code",
   "execution_count": 170,
   "id": "85567dc5-6776-4122-9977-a62aeded473e",
   "metadata": {},
   "outputs": [],
   "source": [
    "  b = np.linspace(start=0, stop=1.0, num=6)\n",
    "  bins = np.digitize(confidences, bins=b, right=True)"
   ]
  },
  {
   "cell_type": "code",
   "execution_count": 171,
   "id": "f89dbf59-956d-45cf-a7f8-9cb882c63a0f",
   "metadata": {},
   "outputs": [
    {
     "data": {
      "text/plain": [
       "array([0. , 0.2, 0.4, 0.6, 0.8, 1. ])"
      ]
     },
     "execution_count": 171,
     "metadata": {},
     "output_type": "execute_result"
    }
   ],
   "source": [
    "b"
   ]
  },
  {
   "cell_type": "code",
   "execution_count": 172,
   "id": "71d63776-64f3-43ca-93a1-744b4fb526ef",
   "metadata": {},
   "outputs": [
    {
     "data": {
      "text/plain": [
       "array([4, 4, 5, 5, 5, 5, 3, 4, 4, 4, 5, 4, 3, 3, 3], dtype=int64)"
      ]
     },
     "execution_count": 172,
     "metadata": {},
     "output_type": "execute_result"
    }
   ],
   "source": [
    "bins"
   ]
  },
  {
   "cell_type": "code",
   "execution_count": 173,
   "id": "24bc5290-3e42-44d1-b902-264fb950f1ee",
   "metadata": {},
   "outputs": [
    {
     "data": {
      "text/plain": [
       "array([0.7 , 0.67, 0.82, 0.82, 0.9 , 0.97, 0.54, 0.77, 0.75, 0.6 , 0.85,\n",
       "       0.69, 0.4 , 0.45, 0.53], dtype=float32)"
      ]
     },
     "execution_count": 173,
     "metadata": {},
     "output_type": "execute_result"
    }
   ],
   "source": [
    "confidences\n"
   ]
  },
  {
   "cell_type": "markdown",
   "id": "ba8e7183-7f08-4ceb-88f0-cfc764e24612",
   "metadata": {},
   "source": [
    "## SCE"
   ]
  },
  {
   "cell_type": "code",
   "execution_count": 207,
   "id": "cdf34b67-c5a3-482d-bc26-0a0ccde9d64e",
   "metadata": {},
   "outputs": [],
   "source": [
    "pred_prob_mult_1 = np.array([[0.7,0.2,0.1],[0.1,0.67,0.23],[0.82,0.13,0.05],[0.82,0.03,0.15],\\\n",
    "                         [0.05,0.05,0.9],[0.97,0.01,0.02],[0.3,0.54,0.16],[0.2,0.77,0.03],\\\n",
    "                         [0.15,0.1,0.75],[0.6,0.1,0.3],[0.05,0.85,0.1],[0.25,0.06, 0.69],\\\n",
    "                         [0.4,0.34,0.26],[0.42,0.45,0.13],[0.3,0.17,0.53]],np.float64)\n",
    "\n",
    "pred_prob_mult_2 = np.array([[0.7,0.2,0.1],[0.1,0.67,0.23],[0.82,0.13,0.05],[0.82,0.03,0.15],\n",
    "                           [0.05,0.05,0.9],[0.97,0.01,0.02],[0.3,0.54,0.16],[0.2,0.77,0.03],\n",
    "                           [0.15,0.1,0.75],[0.6,0.1,0.3],[0.05,0.85,0.1],[0.25,0.06,0.69],\n",
    "                           [0.4,0.34,0.26],[0.42,0.45,0.13],[0.3,0.17,0.53]],np.float32)\n",
    "\n",
    "pred_prob_mult_3 = np.array([[0.7,0.2,0.1],[0.1,0.67,0.23],[0.82,0.13,0.05],[0.82,0.03,0.15],\n",
    "                           [0.05,0.05,0.9],[0.97,0.01,0.02],[0.3,0.54,0.16],[0.2,0.77,0.03],\n",
    "                           [0.15,0.1,0.75],[0.6,0.1,0.3],[0.05,0.85,0.1],[0.25,0.06,0.69],\n",
    "                           [0.4,0.34,0.26],[0.42,0.45,0.13],[0.3,0.17,0.53]])\n"
   ]
  },
  {
   "cell_type": "code",
   "execution_count": 204,
   "id": "290b62ec-58df-4b04-80a5-e7ec2da2594b",
   "metadata": {},
   "outputs": [],
   "source": [
    "\n",
    "true_class = np.array([1,0,1,2,1,0,1,2,2,0,1,2,0,1,0])\n",
    "pred_class = np.array([0,1,0,0,2,0,1,1,2,0,1,2,0,1,2])"
   ]
  },
  {
   "cell_type": "code",
   "execution_count": 208,
   "id": "ccbef395-0775-49ef-8d62-7fe1089e4748",
   "metadata": {},
   "outputs": [
    {
     "name": "stdout",
     "output_type": "stream",
     "text": [
      "0.3613333333333333 0.3080000023047129 0.3613333333333333\n"
     ]
    }
   ],
   "source": [
    "ece1 = umnp.ece(true_class, pred_prob_mult_1, num_bins=5)\n",
    "ece2 = umnp.ece(true_class, pred_prob_mult_2, num_bins=5)\n",
    "ece3 = umnp.ece(true_class, pred_prob_mult_3, num_bins=5)\n",
    "\n",
    "print(ece1,ece2,ece3)\n"
   ]
  },
  {
   "cell_type": "code",
   "execution_count": 201,
   "id": "f79b6506-345a-4351-96ed-cd3b5db6c5f1",
   "metadata": {},
   "outputs": [
    {
     "data": {
      "text/plain": [
       "array([0.36133333])"
      ]
     },
     "execution_count": 201,
     "metadata": {},
     "output_type": "execute_result"
    }
   ],
   "source": [
    "expected_calibration_error(pred_prob_mult,true_class,5,False)"
   ]
  },
  {
   "cell_type": "code",
   "execution_count": 219,
   "id": "4f97e1be-094d-468b-afb8-0278b45f74b1",
   "metadata": {},
   "outputs": [
    {
     "data": {
      "text/plain": [
       "0.24977777703768678"
      ]
     },
     "execution_count": 219,
     "metadata": {},
     "output_type": "execute_result"
    }
   ],
   "source": [
    "umnp.sce(true_class, pred_prob_mult_2, num_bins=5)"
   ]
  },
  {
   "cell_type": "code",
   "execution_count": 221,
   "id": "c86f32cc-45f7-44b4-a710-306cc5966b37",
   "metadata": {},
   "outputs": [
    {
     "data": {
      "text/plain": [
       "0.26755555555555555"
      ]
     },
     "execution_count": 221,
     "metadata": {},
     "output_type": "execute_result"
    }
   ],
   "source": [
    "umnp.sce(true_class, pred_prob_mult_1, num_bins=5)"
   ]
  },
  {
   "cell_type": "code",
   "execution_count": 222,
   "id": "c06fc9df-3411-4abb-ad7f-9d2229f1aa82",
   "metadata": {},
   "outputs": [
    {
     "data": {
      "text/plain": [
       "0.2773333333333334"
      ]
     },
     "execution_count": 222,
     "metadata": {},
     "output_type": "execute_result"
    }
   ],
   "source": [
    "umnp.ace(true_class, pred_prob_mult_1, num_bins=5)"
   ]
  },
  {
   "cell_type": "code",
   "execution_count": 220,
   "id": "1c522e4c-f8ed-42e6-b671-46eb4a26f2d5",
   "metadata": {},
   "outputs": [
    {
     "ename": "AttributeError",
     "evalue": "module 'uncertainty_metrics.tensorflow' has no attribute 'sce'",
     "output_type": "error",
     "traceback": [
      "\u001b[1;31m---------------------------------------------------------------------------\u001b[0m",
      "\u001b[1;31mAttributeError\u001b[0m                            Traceback (most recent call last)",
      "Cell \u001b[1;32mIn[220], line 1\u001b[0m\n\u001b[1;32m----> 1\u001b[0m \u001b[43mumtf\u001b[49m\u001b[38;5;241;43m.\u001b[39;49m\u001b[43msce\u001b[49m(true_class, pred_prob_mult_1, num_bins\u001b[38;5;241m=\u001b[39m\u001b[38;5;241m5\u001b[39m)\n",
      "\u001b[1;31mAttributeError\u001b[0m: module 'uncertainty_metrics.tensorflow' has no attribute 'sce'"
     ]
    }
   ],
   "source": [
    "umtf.sce(true_class, pred_prob_mult_1, num_bins=5)"
   ]
  },
  {
   "cell_type": "code",
   "execution_count": 223,
   "id": "124f9ab5-54fe-4792-8463-4f8e8c6880f6",
   "metadata": {},
   "outputs": [],
   "source": [
    "\n",
    "def get_adaptive_bins(predictions, num_bins):\n",
    "  \"\"\"Returns upper edges for binning an equal number of datapoints per bin.\"\"\"\n",
    "  if np.size(predictions) == 0:\n",
    "    return np.linspace(0, 1, num_bins+1)[:-1]\n",
    "\n",
    "  edge_indices = np.linspace(0, len(predictions), num_bins, endpoint=False)\n",
    "\n",
    "  # Round into integers for indexing. If num_bins does not evenly divide\n",
    "  # len(predictions), this means that bin sizes will alternate between SIZE and\n",
    "  # SIZE+1.\n",
    "  edge_indices = np.round(edge_indices).astype(int)\n",
    "\n",
    "  # If there are many more bins than data points, some indices will be\n",
    "  # out-of-bounds by one. Set them to be within bounds:\n",
    "  edge_indices = np.minimum(edge_indices, len(predictions) - 1)\n",
    "\n",
    "  # Obtain the edge values:\n",
    "  edges = np.sort(predictions)[edge_indices]\n",
    "\n",
    "  # Following the convention of numpy.digitize, we do not include the leftmost\n",
    "  # edge (i.e. return the upper bin edges):\n",
    "  return edges[1:]"
   ]
  },
  {
   "cell_type": "code",
   "execution_count": 283,
   "id": "9669da2e-3dbb-4043-b99c-7c56876ab0b2",
   "metadata": {},
   "outputs": [
    {
     "data": {
      "text/plain": [
       "array([0.3 , 0.53, 0.69, 0.85])"
      ]
     },
     "execution_count": 283,
     "metadata": {},
     "output_type": "execute_result"
    }
   ],
   "source": [
    "  edge_indices = np.linspace(0, len(predictions), 5, endpoint=False)\n",
    "\n",
    "  # Round into integers for indexing. If num_bins does not evenly divide\n",
    "  # len(predictions), this means that bin sizes will alternate between SIZE and\n",
    "  # SIZE+1.\n",
    "  edge_indices = np.round(edge_indices).astype(int)\n",
    "\n",
    "  # If there are many more bins than data points, some indices will be\n",
    "  # out-of-bounds by one. Set them to be within bounds:\n",
    "  edge_indices = np.minimum(edge_indices, len(predictions) - 1)\n",
    "\n",
    "  # Obtain the edge values:\n",
    "  edges = np.sort(predictions)[edge_indices]\n",
    "\n",
    "  # Following the convention of numpy.digitize, we do not include the leftmost\n",
    "  # edge (i.e. return the upper bin edges):\n",
    "  # return edges[1:]\n",
    "edges[1:]"
   ]
  },
  {
   "cell_type": "code",
   "execution_count": 280,
   "id": "f6caea16-42bc-468e-a211-c14dbe4f0f7b",
   "metadata": {},
   "outputs": [
    {
     "data": {
      "text/plain": [
       "array([ 0,  3,  6,  9, 12])"
      ]
     },
     "execution_count": 280,
     "metadata": {},
     "output_type": "execute_result"
    }
   ],
   "source": [
    "  edge_indices = np.linspace(0, len(predictions), num_bins, endpoint=False)\n",
    "\n",
    "  # Round into integers for indexing. If num_bins does not evenly divide\n",
    "  # len(predictions), this means that bin sizes will alternate between SIZE and\n",
    "  # SIZE+1.\n",
    "  edge_indices = np.round(edge_indices).astype(int)\n",
    "\n",
    "  # If there are many more bins than data points, some indices will be\n",
    "  # out-of-bounds by one. Set them to be within bounds:\n",
    "  edge_indices = np.minimum(edge_indices, len(predictions) - 1)\n",
    "edge_indices"
   ]
  },
  {
   "cell_type": "code",
   "execution_count": 224,
   "id": "963e49e9-ceaf-4cf0-a9ec-2a2618f79c5c",
   "metadata": {},
   "outputs": [
    {
     "data": {
      "text/plain": [
       "array([0.7 , 0.67, 0.23, 0.19, 0.9 , 0.97, 0.54, 0.77, 0.15, 0.3 , 0.85,\n",
       "       0.69, 0.34, 0.45, 0.53])"
      ]
     },
     "execution_count": 224,
     "metadata": {},
     "output_type": "execute_result"
    }
   ],
   "source": [
    "pred_prob"
   ]
  },
  {
   "cell_type": "code",
   "execution_count": 227,
   "id": "03ff141c-658b-4830-b4cb-ebd0b679cd16",
   "metadata": {},
   "outputs": [
    {
     "data": {
      "text/plain": [
       "array([[0.19, 0.81],\n",
       "       [0.46, 0.54],\n",
       "       [0.3 , 0.7 ],\n",
       "       [0.34, 0.64]])"
      ]
     },
     "execution_count": 227,
     "metadata": {},
     "output_type": "execute_result"
    }
   ],
   "source": [
    "bin_upper_bounds = get_adaptive_bins(pred_prob2, 5)\n",
    "bin_upper_bounds\n"
   ]
  },
  {
   "cell_type": "code",
   "execution_count": 228,
   "id": "04cda0c7-1d26-4a49-a125-de59c3f8a8c9",
   "metadata": {},
   "outputs": [
    {
     "data": {
      "text/plain": [
       "array([0.3 , 0.53, 0.69, 0.85])"
      ]
     },
     "execution_count": 228,
     "metadata": {},
     "output_type": "execute_result"
    }
   ],
   "source": [
    "bin_upper_bounds = get_adaptive_bins(pred_prob, 5)\n",
    "bin_upper_bounds"
   ]
  },
  {
   "cell_type": "code",
   "execution_count": 229,
   "id": "2cfe9a47-d66a-4b1e-a567-05df172566b5",
   "metadata": {},
   "outputs": [],
   "source": [
    "predictions=pred_prob\n",
    "num_bins=5"
   ]
  },
  {
   "cell_type": "code",
   "execution_count": 230,
   "id": "2bbb8167-93a2-44eb-91e8-597a119514d3",
   "metadata": {},
   "outputs": [],
   "source": [
    "  if np.size(predictions) == 0:\n",
    "    print(np.linspace(0, 1, num_bins+1)[:-1])"
   ]
  },
  {
   "cell_type": "code",
   "execution_count": 244,
   "id": "b737b5b3-e17f-4b0f-8133-9b10bcd4e329",
   "metadata": {},
   "outputs": [
    {
     "data": {
      "text/plain": [
       "array([ 0.,  3.,  6.,  9., 12.])"
      ]
     },
     "execution_count": 244,
     "metadata": {},
     "output_type": "execute_result"
    }
   ],
   "source": [
    "edge_indices = np.linspace(0, len(predictions), 5, endpoint=False)\n",
    "edge_indices"
   ]
  },
  {
   "cell_type": "code",
   "execution_count": 245,
   "id": "352f06f9-3475-4dd7-b634-6b998ef07c07",
   "metadata": {},
   "outputs": [
    {
     "data": {
      "text/plain": [
       "array([ 0,  3,  6,  9, 12])"
      ]
     },
     "execution_count": 245,
     "metadata": {},
     "output_type": "execute_result"
    }
   ],
   "source": [
    "  # Round into integers for indexing. If num_bins does not evenly divide\n",
    "  # len(predictions), this means that bin sizes will alternate between SIZE and\n",
    "  # SIZE+1.\n",
    "edge_indices = np.round(edge_indices).astype(int)\n",
    "edge_indices"
   ]
  },
  {
   "cell_type": "code",
   "execution_count": 240,
   "id": "cb12b0fc-680d-4534-b9de-c0499fd5f19d",
   "metadata": {},
   "outputs": [
    {
     "data": {
      "text/plain": [
       "2.5"
      ]
     },
     "execution_count": 240,
     "metadata": {},
     "output_type": "execute_result"
    }
   ],
   "source": [
    "15/6"
   ]
  },
  {
   "cell_type": "code",
   "execution_count": 246,
   "id": "60256827-81f2-4766-aefb-a0a8e151a17d",
   "metadata": {},
   "outputs": [
    {
     "data": {
      "text/plain": [
       "array([ 0,  3,  6,  9, 12])"
      ]
     },
     "execution_count": 246,
     "metadata": {},
     "output_type": "execute_result"
    }
   ],
   "source": [
    "  # If there are many more bins than data points, some indices will be\n",
    "  # out-of-bounds by one. Set them to be within bounds:\n",
    "  edge_indices = np.minimum(edge_indices, len(predictions) - 1)\n",
    "edge_indices"
   ]
  },
  {
   "cell_type": "code",
   "execution_count": 247,
   "id": "24375eaa-774b-4289-a46b-7426ebdbc756",
   "metadata": {},
   "outputs": [
    {
     "data": {
      "text/plain": [
       "array([0.15, 0.3 , 0.53, 0.69, 0.85])"
      ]
     },
     "execution_count": 247,
     "metadata": {},
     "output_type": "execute_result"
    }
   ],
   "source": [
    "  # Obtain the edge values:\n",
    "  edges = np.sort(predictions)[edge_indices]\n",
    "edges"
   ]
  },
  {
   "cell_type": "code",
   "execution_count": 248,
   "id": "0b4b9870-6a6a-4e9f-b7c8-8cc290cb2187",
   "metadata": {},
   "outputs": [
    {
     "data": {
      "text/plain": [
       "array([0.15, 0.19, 0.23, 0.3 , 0.34, 0.45, 0.53, 0.54, 0.67, 0.69, 0.7 ,\n",
       "       0.77, 0.85, 0.9 , 0.97])"
      ]
     },
     "execution_count": 248,
     "metadata": {},
     "output_type": "execute_result"
    }
   ],
   "source": [
    "np.sort(predictions)"
   ]
  },
  {
   "cell_type": "code",
   "execution_count": 253,
   "id": "f181c152-8ff0-44f5-8ae4-1822b1fbe7ee",
   "metadata": {},
   "outputs": [
    {
     "data": {
      "text/plain": [
       "array([0.3 , 0.53, 0.69, 0.85])"
      ]
     },
     "execution_count": 253,
     "metadata": {},
     "output_type": "execute_result"
    }
   ],
   "source": [
    "edges[1:]"
   ]
  },
  {
   "cell_type": "code",
   "execution_count": null,
   "id": "49418ef7-c1c0-43f5-a72d-8513444689b7",
   "metadata": {},
   "outputs": [],
   "source": [
    "b1=0 to 0.3\n",
    "b2=0.3 to 0.53\n",
    "b3=0.53 to 0.69\n",
    "b4=0.69 to 0.85\n",
    "b5=0.85 to 1"
   ]
  },
  {
   "cell_type": "code",
   "execution_count": 272,
   "id": "db9a3964-35c3-48c8-934d-c21c654aca00",
   "metadata": {},
   "outputs": [],
   "source": [
    "edges=np.array([0.3 , 0.53, 0.69, 0.85,1])"
   ]
  },
  {
   "cell_type": "code",
   "execution_count": 273,
   "id": "6ddbb601-047d-4b6e-8750-299630182a7e",
   "metadata": {},
   "outputs": [
    {
     "data": {
      "text/plain": [
       "array([3, 2, 0, 0, 4, 4, 2, 3, 0, 1, 4, 3, 1, 1, 2], dtype=int64)"
      ]
     },
     "execution_count": 273,
     "metadata": {},
     "output_type": "execute_result"
    }
   ],
   "source": [
    "bin_indices = np.digitize(predictions, edges)\n",
    "bin_indices"
   ]
  },
  {
   "cell_type": "code",
   "execution_count": 257,
   "id": "6e02107a-8b83-4899-a029-ba31cf2e1583",
   "metadata": {},
   "outputs": [
    {
     "data": {
      "text/plain": [
       "array([0.2, 0.4, 0.6, 0.8, 1. ])"
      ]
     },
     "execution_count": 257,
     "metadata": {},
     "output_type": "execute_result"
    }
   ],
   "source": [
    "      bin_upper_bounds = np.histogram_bin_edges(\n",
    "          [], bins=num_bins, range=(0.0, 1.0))[1:]\n",
    "bin_upper_bounds"
   ]
  },
  {
   "cell_type": "code",
   "execution_count": 259,
   "id": "f7615258-8987-4577-84c3-f85a5240f289",
   "metadata": {},
   "outputs": [
    {
     "data": {
      "text/plain": [
       "array([0.7 , 0.67, 0.23, 0.19, 0.9 , 0.97, 0.54, 0.77, 0.15, 0.3 , 0.85,\n",
       "       0.69, 0.34, 0.45, 0.53])"
      ]
     },
     "execution_count": 259,
     "metadata": {},
     "output_type": "execute_result"
    }
   ],
   "source": [
    "predictions"
   ]
  },
  {
   "cell_type": "code",
   "execution_count": 258,
   "id": "08db8eda-d8be-4319-b1a9-505ced84c1ac",
   "metadata": {},
   "outputs": [
    {
     "data": {
      "text/plain": [
       "array([3, 3, 1, 0, 4, 4, 2, 3, 0, 1, 4, 3, 1, 2, 2], dtype=int64)"
      ]
     },
     "execution_count": 258,
     "metadata": {},
     "output_type": "execute_result"
    }
   ],
   "source": [
    "bin_indices = np.digitize(predictions,bin_upper_bounds)\n",
    "bin_indices"
   ]
  },
  {
   "cell_type": "code",
   "execution_count": 291,
   "id": "b5c3cdda-9ac7-40ce-8030-d494858b3760",
   "metadata": {},
   "outputs": [
    {
     "data": {
      "text/plain": [
       "array([0.15, 0.3 , 0.53, 0.69, 0.85, 1.  ])"
      ]
     },
     "execution_count": 291,
     "metadata": {},
     "output_type": "execute_result"
    }
   ],
   "source": [
    "edges = np.append(edges,np.array([1.]))\n",
    "edges"
   ]
  },
  {
   "cell_type": "code",
   "execution_count": 2,
   "id": "eb30b5cb-f034-4ee0-a1f8-b9f04bead6a2",
   "metadata": {},
   "outputs": [],
   "source": [
    "def get_bin_upper_bound(predictions,num_bins,binning_scheme=\"even\"):\n",
    "    if binning_scheme==\"even\":\n",
    "        bin_upper_bounds = np.histogram_bin_edges([], bins=num_bins, range=(0.0, 1.0))[1:]\n",
    "    elif binning_scheme==\"adaptive\":\n",
    "        edge_indices = np.linspace(0, len(predictions), num_bins, endpoint=False)\n",
    "        # Round into integers for indexing. If num_bins does not evenly divide\n",
    "        # len(predictions), this means that bin sizes will alternate between SIZE and\n",
    "        # SIZE+1.\n",
    "        edge_indices = np.round(edge_indices).astype(int)\n",
    "    \n",
    "        # If there are many more bins than data points, some indices will be\n",
    "        # out-of-bounds by one. Set them to be within bounds:\n",
    "        edge_indices = np.minimum(edge_indices, len(predictions) - 1)\n",
    "    \n",
    "        # Obtain the edge values:\n",
    "        edges = np.sort(predictions)[edge_indices]\n",
    "\n",
    "        # add the 1. to the upper bound\n",
    "        edges = np.append(edges,np.array([1.]))\n",
    "\n",
    "        # Following the convention of numpy.digitize, we do not include the leftmost\n",
    "        # edge (i.e. return the upper bin edges):\n",
    "        bin_upper_bounds=edges[1:]\n",
    "        \n",
    "            \n",
    "    return bin_upper_bounds"
   ]
  },
  {
   "cell_type": "code",
   "execution_count": null,
   "id": "009c39aa-82ff-49d1-b673-6841c1ab1979",
   "metadata": {},
   "outputs": [],
   "source": [
    "bin_upper_bound_ece = "
   ]
  },
  {
   "cell_type": "code",
   "execution_count": 266,
   "id": "1960db94-70d9-4c09-bab8-d9505e0f80ae",
   "metadata": {},
   "outputs": [
    {
     "data": {
      "text/plain": [
       "array([0.2, 0.4, 0.6, 0.8, 1. ])"
      ]
     },
     "execution_count": 266,
     "metadata": {},
     "output_type": "execute_result"
    }
   ],
   "source": [
    "bb=np.linspace(0, 1, num_bins+1)[1:]\n",
    "bb"
   ]
  },
  {
   "cell_type": "code",
   "execution_count": 267,
   "id": "f7d36a8e-7278-43a7-9696-82eca8e36d4b",
   "metadata": {},
   "outputs": [
    {
     "data": {
      "text/plain": [
       "array([3, 3, 1, 0, 4, 4, 2, 3, 0, 1, 4, 3, 1, 2, 2], dtype=int64)"
      ]
     },
     "execution_count": 267,
     "metadata": {},
     "output_type": "execute_result"
    }
   ],
   "source": [
    "bin_indices = np.digitize(predictions,bb)\n",
    "bin_indices"
   ]
  },
  {
   "cell_type": "code",
   "execution_count": null,
   "id": "da883f8b-2a9a-4ed3-8b0f-f240f246c19b",
   "metadata": {},
   "outputs": [],
   "source": [
    "array([3, 3, 1, 0, 4, 4, 2, 3, 0, 1, 4, 3, 1, 2, 2], dtype=int64)\n"
   ]
  },
  {
   "cell_type": "code",
   "execution_count": 294,
   "id": "e358c0ab-aa21-47f3-9611-10c317ed7b50",
   "metadata": {},
   "outputs": [],
   "source": [
    "b = np.linspace(start=0, stop=1.0, num=5)\n",
    "b = np.quantile(predictions, b)\n",
    "b = np.unique(b)\n",
    "num_bins = len(b)"
   ]
  },
  {
   "cell_type": "code",
   "execution_count": 295,
   "id": "22834ecf-6fbd-4960-b00f-1624da57d4a8",
   "metadata": {},
   "outputs": [
    {
     "data": {
      "text/plain": [
       "5"
      ]
     },
     "execution_count": 295,
     "metadata": {},
     "output_type": "execute_result"
    }
   ],
   "source": [
    "num_bins"
   ]
  },
  {
   "cell_type": "code",
   "execution_count": 296,
   "id": "a919cb5b-b976-4dbd-82f4-7b7935665429",
   "metadata": {},
   "outputs": [
    {
     "data": {
      "text/plain": [
       "array([0.  , 0.25, 0.5 , 0.75, 1.  ])"
      ]
     },
     "execution_count": 296,
     "metadata": {},
     "output_type": "execute_result"
    }
   ],
   "source": [
    "b = np.linspace(start=0, stop=1.0, num=5)\n",
    "b"
   ]
  },
  {
   "cell_type": "code",
   "execution_count": 297,
   "id": "855daecd-995c-48ee-9693-b0f384417b5b",
   "metadata": {},
   "outputs": [
    {
     "data": {
      "text/plain": [
       "array([0.15 , 0.32 , 0.54 , 0.735, 0.97 ])"
      ]
     },
     "execution_count": 297,
     "metadata": {},
     "output_type": "execute_result"
    }
   ],
   "source": [
    "b = np.quantile(predictions, b)\n",
    "b"
   ]
  },
  {
   "cell_type": "code",
   "execution_count": 299,
   "id": "2cf4c9fa-df88-41a6-a909-b2463ef6fe78",
   "metadata": {},
   "outputs": [
    {
     "data": {
      "text/plain": [
       "array([0.15, 0.19, 0.23, 0.3 , 0.34, 0.45, 0.53, 0.54, 0.67, 0.69, 0.7 ,\n",
       "       0.77, 0.85, 0.9 , 0.97])"
      ]
     },
     "execution_count": 299,
     "metadata": {},
     "output_type": "execute_result"
    }
   ],
   "source": [
    "np.sort(predictions)"
   ]
  },
  {
   "cell_type": "code",
   "execution_count": 300,
   "id": "e92a9b31-83a2-4584-9ed6-e488e7285b82",
   "metadata": {},
   "outputs": [
    {
     "data": {
      "text/plain": [
       "array([0.15 , 0.32 , 0.54 , 0.735, 0.97 ])"
      ]
     },
     "execution_count": 300,
     "metadata": {},
     "output_type": "execute_result"
    }
   ],
   "source": [
    "b = np.unique(b)\n",
    "b"
   ]
  },
  {
   "cell_type": "code",
   "execution_count": 305,
   "id": "b912cebc-de81-4141-b092-9240e13f9a65",
   "metadata": {},
   "outputs": [
    {
     "data": {
      "text/plain": [
       "array([0.7 , 0.67, 0.77, 0.81, 0.9 , 0.97, 0.54, 0.77, 0.85, 0.7 , 0.85,\n",
       "       0.69, 0.66, 0.55, 0.53])"
      ]
     },
     "execution_count": 305,
     "metadata": {},
     "output_type": "execute_result"
    }
   ],
   "source": [
    "pred_prob_ace = np.array([0.7,0.67,0.77,0.81,0.9,0.97,0.54,0.77,0.85,0.7,0.85,0.69,0.66,0.55,0.53])\n",
    "pred_prob_ace"
   ]
  },
  {
   "cell_type": "code",
   "execution_count": 306,
   "id": "82061d8e-d690-450a-a519-9aee48b7eb14",
   "metadata": {},
   "outputs": [],
   "source": [
    "true_class = np.array([1,0,1,0,1,0,0,0,1,0,1,1,0,1,1])"
   ]
  },
  {
   "cell_type": "code",
   "execution_count": 328,
   "id": "699d723c-b36f-41e7-b3f7-f6e9d15efb35",
   "metadata": {},
   "outputs": [
    {
     "data": {
      "text/plain": [
       "0.3266666656980913"
      ]
     },
     "execution_count": 328,
     "metadata": {},
     "output_type": "execute_result"
    }
   ],
   "source": [
    "umnp.ace(true_class, pred_prob_mult_2, num_bins=5)"
   ]
  },
  {
   "cell_type": "code",
   "execution_count": 329,
   "id": "83454d15-18ef-43b7-a8b8-c726e298aad3",
   "metadata": {},
   "outputs": [
    {
     "data": {
      "text/plain": [
       "0.3177777777777778"
      ]
     },
     "execution_count": 329,
     "metadata": {},
     "output_type": "execute_result"
    }
   ],
   "source": [
    "umnp.sce(true_class, pred_prob_mult, num_bins=5)"
   ]
  },
  {
   "cell_type": "code",
   "execution_count": 326,
   "id": "8bd5830a-0a67-448c-90d8-6970041a299a",
   "metadata": {},
   "outputs": [
    {
     "data": {
      "text/plain": [
       "0.30800000230471297"
      ]
     },
     "execution_count": 326,
     "metadata": {},
     "output_type": "execute_result"
    }
   ],
   "source": [
    "umnp.ece(true_class, pred_prob_mult_2, num_bins=5)"
   ]
  },
  {
   "cell_type": "code",
   "execution_count": 320,
   "id": "5989651e-94ad-429b-8ad9-8a94ad5fd19d",
   "metadata": {},
   "outputs": [
    {
     "data": {
      "text/plain": [
       "array([0.7 , 0.67, 0.23, 0.19, 0.9 , 0.97, 0.54, 0.77, 0.15, 0.3 , 0.85,\n",
       "       0.69, 0.34, 0.45, 0.53])"
      ]
     },
     "execution_count": 320,
     "metadata": {},
     "output_type": "execute_result"
    }
   ],
   "source": [
    "pred_prob"
   ]
  },
  {
   "cell_type": "code",
   "execution_count": 321,
   "id": "9cb90746-fb23-470d-88f8-42f8b7924b38",
   "metadata": {},
   "outputs": [
    {
     "data": {
      "text/plain": [
       "array([1, 0, 1, 0, 1, 0, 0, 0, 1, 0, 1, 1, 0, 1, 1])"
      ]
     },
     "execution_count": 321,
     "metadata": {},
     "output_type": "execute_result"
    }
   ],
   "source": [
    "true_class"
   ]
  },
  {
   "cell_type": "code",
   "execution_count": 330,
   "id": "7b124352-ba46-485a-b22a-59c023b768bd",
   "metadata": {},
   "outputs": [
    {
     "data": {
      "text/plain": [
       "array([0.53, 0.54, 0.55, 0.66, 0.67, 0.69, 0.7 , 0.7 , 0.77, 0.77, 0.81,\n",
       "       0.85, 0.85, 0.9 , 0.97])"
      ]
     },
     "execution_count": 330,
     "metadata": {},
     "output_type": "execute_result"
    }
   ],
   "source": [
    "pred_prob_ace = np.array([0.7,0.67,0.77,0.81,0.9,0.97,0.54,0.77,0.85,0.7,0.85,0.69,0.66,0.55,0.53])\n",
    "np.sort(pred_prob_ece)"
   ]
  },
  {
   "cell_type": "code",
   "execution_count": 332,
   "id": "14fe1d7d-860a-47b4-987e-4b3ddc1dc86a",
   "metadata": {},
   "outputs": [
    {
     "data": {
      "text/plain": [
       "array([0.66, 0.7 , 0.77, 0.85, 1.  ])"
      ]
     },
     "execution_count": 332,
     "metadata": {},
     "output_type": "execute_result"
    }
   ],
   "source": [
    "bin_upper_bounds=get_bin_upper_bound(pred_prob_ace,num_bins,binning_scheme=\"adaptive\")\n",
    "bin_upper_bounds"
   ]
  },
  {
   "cell_type": "code",
   "execution_count": 334,
   "id": "51e85bae-bd95-4576-9024-8b3d8f2b4745",
   "metadata": {},
   "outputs": [
    {
     "data": {
      "text/plain": [
       "array([0.53 , 0.665, 0.7  , 0.83 , 0.97 ])"
      ]
     },
     "execution_count": 334,
     "metadata": {},
     "output_type": "execute_result"
    }
   ],
   "source": [
    "b = np.linspace(start=0, stop=1.0, num=5)\n",
    "b = np.quantile(pred_prob_ace, b)\n",
    "b"
   ]
  },
  {
   "cell_type": "code",
   "execution_count": 5,
   "id": "b6cfedf6-f18f-46fb-b005-7a4042faa574",
   "metadata": {},
   "outputs": [
    {
     "data": {
      "text/plain": [
       "array([0.4 , 0.5 , 0.5 , 0.75, 1.  ])"
      ]
     },
     "execution_count": 5,
     "metadata": {},
     "output_type": "execute_result"
    }
   ],
   "source": [
    "pred_prob_cl = np.array([0.5 , 0.4 , 0.5 , 0.5 , 0.75, 0.75, 0.4 , 0.5 , 0.75, 0.5 , 0.75,\n",
    "       0.5, 0.4, 0.4, 0.4 ])\n",
    "bin_upper_bounds=get_bin_upper_bound(pred_prob_cl,5,binning_scheme=\"adaptive\")\n",
    "bin_upper_bounds"
   ]
  },
  {
   "cell_type": "code",
   "execution_count": 6,
   "id": "1db059b6-8216-4fd2-b359-64e8c68b7e3a",
   "metadata": {},
   "outputs": [
    {
     "data": {
      "text/plain": [
       "array([0.4 , 0.4 , 0.4 , 0.4 , 0.4 , 0.5 , 0.5 , 0.5 , 0.5 , 0.5 , 0.5 ,\n",
       "       0.75, 0.75, 0.75, 0.75])"
      ]
     },
     "execution_count": 6,
     "metadata": {},
     "output_type": "execute_result"
    }
   ],
   "source": [
    "np.sort(pred_prob_cl)"
   ]
  },
  {
   "cell_type": "code",
   "execution_count": null,
   "id": "54fef95c-c428-42dd-bb90-f085a5f03e08",
   "metadata": {},
   "outputs": [],
   "source": []
  }
 ],
 "metadata": {
  "kernelspec": {
   "display_name": "Python 3 (ipykernel)",
   "language": "python",
   "name": "python3"
  },
  "language_info": {
   "codemirror_mode": {
    "name": "ipython",
    "version": 3
   },
   "file_extension": ".py",
   "mimetype": "text/x-python",
   "name": "python",
   "nbconvert_exporter": "python",
   "pygments_lexer": "ipython3",
   "version": "3.9.6"
  }
 },
 "nbformat": 4,
 "nbformat_minor": 5
}
