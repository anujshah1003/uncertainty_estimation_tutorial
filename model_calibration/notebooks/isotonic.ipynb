{
 "cells": [
  {
   "cell_type": "code",
   "execution_count": 1,
   "id": "dc7e3ecb-3625-4f9a-9ef9-ff8beb2fef30",
   "metadata": {},
   "outputs": [],
   "source": [
    "import numpy as np\n",
    "import tensorflow as tf\n",
    "import uncertainty_metrics.tensorflow as umtf\n",
    "import uncertainty_metrics.numpy as umnp\n",
    "import tensorflow_probability as tfp"
   ]
  },
  {
   "cell_type": "code",
   "execution_count": 2,
   "id": "a403a9ba-a68e-4dc2-88ad-52f762a2b35a",
   "metadata": {},
   "outputs": [],
   "source": [
    "pred_prob = np.array([0.7,0.67,0.23,0.19,0.9,0.97,0.54,0.77,0.15,0.3,0.85,0.69,0.34,0.45,0.53])\n",
    "# pred_prob = np.array([0.7,0.67,0.77,0.81,0.9,0.97,0.54,0.77,0.85,0.7,0.85,0.69,0.66,0.55,0.53])\n",
    "# pred_prob = np.array([0.7,0.67,0.82,0.82,0.9,0.97,0.54,0.77,0.75,0.6,0.85,0.69,0.4,0.45,0.53])\n",
    "# true_class = np.array([1,0,1,2,1,0,1,2,2,0,1,2,0,1,0])\n",
    "\n",
    "true_class = np.array([1,0,1,0,1,0,0,0,1,0,1,1,0,1,1])"
   ]
  },
  {
   "cell_type": "code",
   "execution_count": 3,
   "id": "4d2addd9-ea27-49b9-b23b-94c3133a2bfa",
   "metadata": {},
   "outputs": [
    {
     "data": {
      "text/plain": [
       "array([0.15, 0.19, 0.23, 0.3 , 0.34, 0.45, 0.53, 0.54, 0.67, 0.69, 0.7 ,\n",
       "       0.77, 0.85, 0.9 , 0.97])"
      ]
     },
     "execution_count": 3,
     "metadata": {},
     "output_type": "execute_result"
    }
   ],
   "source": [
    "pred_prob_sort = np.sort(pred_prob)\n",
    "pred_prob_sort"
   ]
  },
  {
   "cell_type": "code",
   "execution_count": 4,
   "id": "c6b1c17c-887c-415d-9ea7-01cbc74b5d88",
   "metadata": {},
   "outputs": [
    {
     "data": {
      "text/plain": [
       "array([1, 0, 1, 0, 0, 1, 1, 0, 0, 1, 1, 0, 1, 1, 0])"
      ]
     },
     "execution_count": 4,
     "metadata": {},
     "output_type": "execute_result"
    }
   ],
   "source": [
    "true_class_sort = np.array([1,0,1,0,0,1,1,0,0,1,1,0,1,1,0])\n",
    "true_class_sort"
   ]
  },
  {
   "cell_type": "code",
   "execution_count": 5,
   "id": "bd431da1-8197-4ecf-bfe6-98e4d2bcf529",
   "metadata": {},
   "outputs": [],
   "source": [
    "from sklearn.isotonic import IsotonicRegression\n",
    "ir = IsotonicRegression() # create an instance of the IsotonicRegression class\n",
    "# Fit isotonic regression model\n",
    "ir.fit(pred_prob, true_class) # fit the model\n",
    "# y_ir = ir.fit_transform(pred_prob, true_class) # fit the model and transform the data\n",
    "pred_prob_cl = ir.transform(pred_prob) # transform the data"
   ]
  },
  {
   "cell_type": "code",
   "execution_count": 6,
   "id": "93efe710-1e0f-4308-adad-5e516c9d9066",
   "metadata": {},
   "outputs": [
    {
     "data": {
      "text/plain": [
       "array([0.66666667, 0.5       , 0.4       , 0.4       , 0.66666667,\n",
       "       0.66666667, 0.5       , 0.66666667, 0.4       , 0.4       ,\n",
       "       0.66666667, 0.66666667, 0.4       , 0.5       , 0.5       ])"
      ]
     },
     "execution_count": 6,
     "metadata": {},
     "output_type": "execute_result"
    }
   ],
   "source": [
    "pred_prob_cl"
   ]
  },
  {
   "cell_type": "code",
   "execution_count": 7,
   "id": "6403258d-4a01-44df-a7e2-6f0761248895",
   "metadata": {},
   "outputs": [
    {
     "data": {
      "text/plain": [
       "array([0.7 , 0.67, 0.23, 0.19, 0.9 , 0.97, 0.54, 0.77, 0.15, 0.3 , 0.85,\n",
       "       0.69, 0.34, 0.45, 0.53])"
      ]
     },
     "execution_count": 7,
     "metadata": {},
     "output_type": "execute_result"
    }
   ],
   "source": [
    "pred_prob"
   ]
  },
  {
   "cell_type": "markdown",
   "id": "7438a28e-732d-474f-9993-52569b525311",
   "metadata": {},
   "source": [
    "### Isotonic Regression Optimization:\n",
    "\n",
    "The goal of isotonic regression is to find a piecewise constant monotonic function that best fits the data points while preserving the order of the original values. The optimization process typically involves the following steps:\n",
    "\n",
    "Sorting: First, sort the original predicted probabilities in ascending order:\n",
    "\n",
    "[0.1, 0.3, 0.4, 0.6, 0.7, 0.8, 0.9, 0.95, 0.98, 0.99]\n",
    "\n",
    "Initialization: Start with an initial piecewise constant function that is non-decreasing. This function is often initialized as a simple linear function, like taking the average of the first two data points:\n",
    "\n",
    "\n",
    "[0.2, 0.2, 0.4, 0.4, 0.4, 0.4, 0.4, 0.4, 0.4, 0.4]\n",
    "\n",
    "Optimization: The optimization process aims to adjust the values of the piecewise constant function to minimize a cost function, such as the mean squared error (MSE) between the ground truth and the calibrated probabilities.\n",
    "\n",
    "Starting with the initialized function, the algorithm iteratively makes adjustments to the function's values to improve its fit to the data while maintaining monotonicity.\n",
    "It moves through the data points, identifying regions where the function needs to increase or stay constant to better match the data.\n",
    "The optimization stops when the function converges to a solution that minimizes the cost function.\n",
    "Here's how the isotonic function might evolve during optimization in our example:\n",
    "\n",
    "Initial Function:\n",
    "\n",
    "[0.2, 0.2, 0.4, 0.4, 0.4, 0.4, 0.4, 0.4, 0.4, 0.4]\n",
    "\n",
    "After Optimization (simplified for illustration):\n",
    "\n",
    "[0.15, 0.25, 0.35, 0.5, 0.65, 0.75, 0.85, 0.9, 0.95, 0.975]\n",
    "\n",
    "Use in Inference: During inference, when you receive new predicted probabilities from your model, you can apply this calibrated isotonic function to adjust the probabilities before making predictions."
   ]
  },
  {
   "cell_type": "code",
   "execution_count": null,
   "id": "b4f91b3c-7e57-40e6-bbbb-c6a198dfc00f",
   "metadata": {},
   "outputs": [],
   "source": []
  }
 ],
 "metadata": {
  "kernelspec": {
   "display_name": "Python 3 (ipykernel)",
   "language": "python",
   "name": "python3"
  },
  "language_info": {
   "codemirror_mode": {
    "name": "ipython",
    "version": 3
   },
   "file_extension": ".py",
   "mimetype": "text/x-python",
   "name": "python",
   "nbconvert_exporter": "python",
   "pygments_lexer": "ipython3",
   "version": "3.9.6"
  }
 },
 "nbformat": 4,
 "nbformat_minor": 5
}
